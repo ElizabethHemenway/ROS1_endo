{
 "cells": [
  {
   "cell_type": "markdown",
   "id": "8e78860d-08bf-4acf-b547-b64ac0a3101c",
   "metadata": {
    "jp-MarkdownHeadingCollapsed": true,
    "tags": []
   },
   "source": [
    "# ROS1 endosperm paper python figure generation and some data filtering/dataframe manipulation for publication."
   ]
  },
  {
   "cell_type": "markdown",
   "id": "e4dbbc70-4d52-411e-a73d-6b18e9497a8d",
   "metadata": {
    "tags": []
   },
   "source": [
    "## Last edited: 11/03/2024"
   ]
  },
  {
   "cell_type": "markdown",
   "id": "2d8232ef-c3f9-47b9-afba-d48b7fadf1fb",
   "metadata": {
    "jp-MarkdownHeadingCollapsed": true,
    "tags": []
   },
   "source": [
    "# Setup"
   ]
  },
  {
   "cell_type": "code",
   "execution_count": null,
   "id": "11368300-0ca9-475e-9d0b-a5e6382edf13",
   "metadata": {
    "tags": []
   },
   "outputs": [],
   "source": [
    "import glob\n",
    "import pandas as pd\n",
    "import numpy as np\n",
    "import seaborn as sns\n",
    "import matplotlib.lines as mlines\n",
    "import matplotlib.pyplot as plt\n",
    "from scipy import stats\n",
    "from matplotlib import rcParams\n",
    "from matplotlib.lines import Line2D\n",
    "from matplotlib.patches import Patch\n",
    "import textwrap\n"
   ]
  },
  {
   "cell_type": "code",
   "execution_count": null,
   "id": "67296096-dd0d-495b-8032-77ca1fff0ab3",
   "metadata": {
    "tags": []
   },
   "outputs": [],
   "source": [
    "bed_columns = ['chr','start','end']\n",
    "tab=\"\\t\"\n",
    "plt.rcParams[\"font.family\"] = \"Arial\""
   ]
  },
  {
   "cell_type": "code",
   "execution_count": null,
   "id": "90181d41-0117-4efb-9117-686b64985061",
   "metadata": {
    "tags": []
   },
   "outputs": [],
   "source": [
    "path=\"/lab/solexa_gehring/elizabeth/ros1_endo_code_and_underlying_data/\"\n",
    "dmrpath=path+\"DSS/DMRs/\"\n",
    "figurepath=path+\"python_figures/\"\n"
   ]
  },
  {
   "cell_type": "code",
   "execution_count": null,
   "id": "0ee79499-0b9e-4eda-bf20-54c0541f5910",
   "metadata": {
    "tags": []
   },
   "outputs": [],
   "source": [
    "r7it=\"$\\it{ros1}$\"+\"-\"+\"$\\it{7}$\"\n",
    "r3it=\"$\\it{ros1}$\"+\"-\"+\"$\\it{3}$\"\n",
    "r1it=\"$\\it{ros1}$\"+\"-\"+\"$\\it{1}$\"\n",
    "\n",
    "rddit=\"$\\it{rdd}$\""
   ]
  },
  {
   "cell_type": "markdown",
   "id": "9fa05a07-9594-4576-9519-a0f03e663d25",
   "metadata": {
    "jp-MarkdownHeadingCollapsed": true,
    "tags": []
   },
   "source": [
    "# Data (leaf exWs Chr2):"
   ]
  },
  {
   "cell_type": "code",
   "execution_count": null,
   "id": "527a13ff-b3b6-4cf8-8c95-cd34983bb810",
   "metadata": {
    "tags": []
   },
   "outputs": [],
   "source": [
    "#CG DMRs\n",
    "r3l_CG = pd.read_csv(dmrpath+'r3_v_wt_leaf_CG.DMRs.txt', header =0, sep = tab)\n",
    "r3l_CG_o = pd.read_csv(dmrpath+'r3_v_wt_leaf_CG.DMRs.hypo.bed', header =None, sep = tab, names=bed_columns )\n",
    "r3l_CG_r = pd.read_csv(dmrpath+'r3_v_wt_leaf_CG.DMRs.hyper.bed', header =None, sep = tab, names=bed_columns )\n",
    "\n",
    "r7l_CG = pd.read_csv(dmrpath+'r7_v_wt_leaf_CG.DMRs.txt', header =0, sep = tab)\n",
    "r7l_CG_o = pd.read_csv(dmrpath+'r7_v_wt_leaf_CG.DMRs.hypo.bed', header =None, sep = tab, names=bed_columns )\n",
    "r7l_CG_r = pd.read_csv(dmrpath+'r7_v_wt_leaf_CG.DMRs.hyper.bed', header =None, sep = tab, names=bed_columns )\n",
    "\n",
    "\n",
    "#CHG DMRs\n",
    "r3l_CHG = pd.read_csv(dmrpath+'r3_v_wt_leaf_CHG.DMRs.txt', header =0, sep = tab)\n",
    "r3l_CHG_o = pd.read_csv(dmrpath+'r3_v_wt_leaf_CHG.DMRs.hypo.bed', header =None, sep = tab, names=bed_columns )\n",
    "r3l_CHG_r = pd.read_csv(dmrpath+'r3_v_wt_leaf_CHG.DMRs.hyper.bed', header =None, sep = tab, names=bed_columns )\n",
    "\n",
    "r7l_CHG = pd.read_csv(dmrpath+'r7_v_wt_leaf_CHG.DMRs.txt', header =0, sep = tab)\n",
    "r7l_CHG_o = pd.read_csv(dmrpath+'r7_v_wt_leaf_CHG.DMRs.hypo.bed', header =None, sep = tab, names=bed_columns )\n",
    "r7l_CHG_r = pd.read_csv(dmrpath+'r7_v_wt_leaf_CHG.DMRs.hyper.bed', header =None, sep = tab, names=bed_columns )\n",
    "\n",
    "#CHH DMRs\n",
    "r3l_CHH = pd.read_csv(dmrpath+'r3_v_wt_leaf_CHH.DMRs.txt', header =0, sep = tab)\n",
    "r3l_CHH_o = pd.read_csv(dmrpath+'r3_v_wt_leaf_CHH.DMRs.hypo.bed', header =None, sep = tab, names=bed_columns )\n",
    "r3l_CHH_r = pd.read_csv(dmrpath+'r3_v_wt_leaf_CHH.DMRs.hyper.bed', header =None, sep = tab, names=bed_columns )\n",
    "\n",
    "r7l_CHH = pd.read_csv(dmrpath+'r7_v_wt_leaf_CHH.DMRs.txt', header =0, sep = tab)\n",
    "r7l_CHH_o = pd.read_csv(dmrpath+'r7_v_wt_leaf_CHH.DMRs.hypo.bed', header =None, sep = tab, names=bed_columns )\n",
    "r7l_CHH_r = pd.read_csv(dmrpath+'r7_v_wt_leaf_CHH.DMRs.hyper.bed', header =None, sep = tab, names=bed_columns )\n",
    "\n"
   ]
  },
  {
   "cell_type": "markdown",
   "id": "28d9306f-ef07-4733-bafa-3628445c303f",
   "metadata": {
    "jp-MarkdownHeadingCollapsed": true,
    "tags": []
   },
   "source": [
    "# Data (endo exWs Chr2):"
   ]
  },
  {
   "cell_type": "code",
   "execution_count": null,
   "id": "91d11125-42bf-45b1-9172-7977ca77f3ce",
   "metadata": {
    "tags": []
   },
   "outputs": [],
   "source": [
    "#CG DMRs\n",
    "r3_CG = pd.read_csv(dmrpath+'r3_v_wt_CG.DMRs.txt', header =0, sep = tab)\n",
    "r3_CG_o = pd.read_csv(dmrpath+'r3_v_wt_CG.DMRs.hypo.bed', header =None, sep = tab, names=bed_columns )\n",
    "r3_CG_r = pd.read_csv(dmrpath+'r3_v_wt_CG.DMRs.hyper.bed', header =None, sep = tab, names=bed_columns )\n",
    "\n",
    "r7_CG = pd.read_csv(dmrpath+'r7_v_wt_CG.DMRs.txt', header =0, sep = tab)\n",
    "r7_CG_o = pd.read_csv(dmrpath+'r7_v_wt_CG.DMRs.hypo.bed', header =None, sep = tab, names=bed_columns )\n",
    "r7_CG_r = pd.read_csv(dmrpath+'r7_v_wt_CG.DMRs.hyper.bed', header =None, sep = tab, names=bed_columns )\n",
    "\n",
    "\n",
    "#CHG DMRs\n",
    "r3_CHG = pd.read_csv(dmrpath+'r3_v_wt_CHG.DMRs.txt', header =0, sep = tab)\n",
    "r3_CHG_o = pd.read_csv(dmrpath+'r3_v_wt_CHG.DMRs.hypo.bed', header =None, sep = tab, names=bed_columns )\n",
    "r3_CHG_r = pd.read_csv(dmrpath+'r3_v_wt_CHG.DMRs.hyper.bed', header =None, sep = tab, names=bed_columns )\n",
    "\n",
    "r7_CHG = pd.read_csv(dmrpath+'r7_v_wt_CHG.DMRs.txt', header =0, sep = tab)\n",
    "r7_CHG_o = pd.read_csv(dmrpath+'r7_v_wt_CHG.DMRs.hypo.bed', header =None, sep = tab, names=bed_columns )\n",
    "r7_CHG_r = pd.read_csv(dmrpath+'r7_v_wt_CHG.DMRs.hyper.bed', header =None, sep = tab, names=bed_columns )\n",
    "\n",
    "#CHH DMRs\n",
    "r3_CHH = pd.read_csv(dmrpath+'r3_v_wt_CHH.DMRs.txt', header =0, sep = tab)\n",
    "r3_CHH_o = pd.read_csv(dmrpath+'r3_v_wt_CHH.DMRs.hypo.bed', header =None, sep = tab, names=bed_columns )\n",
    "r3_CHH_r = pd.read_csv(dmrpath+'r3_v_wt_CHH.DMRs.hyper.bed', header =None, sep = tab, names=bed_columns )\n",
    "\n",
    "r7_CHH = pd.read_csv(dmrpath+'r7_v_wt_CHH.DMRs.txt', header =0, sep = tab)\n",
    "r7_CHH_o = pd.read_csv(dmrpath+'r7_v_wt_CHH.DMRs.hypo.bed', header =None, sep = tab, names=bed_columns )\n",
    "r7_CHH_r = pd.read_csv(dmrpath+'r7_v_wt_CHH.DMRs.hyper.bed', header =None, sep = tab, names=bed_columns )\n"
   ]
  },
  {
   "cell_type": "markdown",
   "id": "3903926d-66dd-415a-a506-9ac42aff4692",
   "metadata": {
    "jp-MarkdownHeadingCollapsed": true,
    "tags": []
   },
   "source": [
    "# Data (endo exWs Chr2Chr3):"
   ]
  },
  {
   "cell_type": "code",
   "execution_count": null,
   "id": "79510ca1-6516-4304-bd1b-6ab28b324e7c",
   "metadata": {
    "tags": []
   },
   "outputs": [],
   "source": [
    "#CG DMRs\n",
    "rdd_CG = pd.read_csv(dmrpath+'rdd_v_wt_CG.DMRs.txt', header =0, sep = tab)\n",
    "rdd_CG_o = pd.read_csv(dmrpath+'rdd_v_wt_CG.DMRs.hypo.bed', header =None, sep = tab, names=bed_columns )\n",
    "rdd_CG_r = pd.read_csv(dmrpath+'rdd_v_wt_CG.DMRs.hyper.bed', header =None, sep = tab, names=bed_columns )\n",
    "\n",
    "#CHG DMRs\n",
    "rdd_CHG = pd.read_csv(dmrpath+'rdd_v_wt_CHG.DMRs.txt', header =0, sep = tab)\n",
    "rdd_CHG_o = pd.read_csv(dmrpath+'rdd_v_wt_CHG.DMRs.hypo.bed', header =None, sep = tab, names=bed_columns )\n",
    "rdd_CHG_r = pd.read_csv(dmrpath+'rdd_v_wt_CHG.DMRs.hyper.bed', header =None, sep = tab, names=bed_columns )\n",
    "\n",
    "rdd_CHH = pd.read_csv(dmrpath+'rdd_v_wt_CHH.DMRs.txt', header =0, sep = tab)\n",
    "rdd_CHH_o = pd.read_csv(dmrpath+'rdd_v_wt_CHH.DMRs.hypo.bed', header =None, sep = tab, names=bed_columns )\n",
    "rdd_CHH_r = pd.read_csv(dmrpath+'rdd_v_wt_CHH.DMRs.hyper.bed', header =None, sep = tab, names=bed_columns )\n"
   ]
  },
  {
   "cell_type": "markdown",
   "id": "f8b94c51-4260-4efc-ade4-59f30eaa382c",
   "metadata": {
    "jp-MarkdownHeadingCollapsed": true,
    "tags": []
   },
   "source": [
    "# plotting DMR functions:"
   ]
  },
  {
   "cell_type": "code",
   "execution_count": null,
   "id": "400cd634-4d93-4d02-8696-954b499f50f0",
   "metadata": {
    "tags": []
   },
   "outputs": [],
   "source": [
    "#length of DMRs in bp\n",
    "def get_total_length (df):\n",
    "    total_length = sum(abs(df['end']-df['start']))\n",
    "    return(total_length)\n"
   ]
  },
  {
   "cell_type": "code",
   "execution_count": null,
   "id": "874338b2-2da4-4d42-9fa2-fb2fe6f08205",
   "metadata": {
    "tags": []
   },
   "outputs": [],
   "source": [
    "###Final version for barplotting DMRs###\n",
    "def plot_all_DMRs (CG, CHG, CHH, x_ticks, y_label, limit):\n",
    "    #style\n",
    "    sns.set_style('white')\n",
    "    plt.figure(figsize=(10, 10))\n",
    "    plt.grid(axis='y')\n",
    "    \n",
    "    # width of the bars\n",
    "    barWidth = 0.3\n",
    "\n",
    "    # The x position of bars\n",
    "    r1 = np.arange(len(CG))\n",
    "    r2 = [x + barWidth for x in r1]\n",
    "    r3 = [x + barWidth for x in r2]\n",
    "    \n",
    "    CGc = '#0072B2'\n",
    "    CHGc='#E69F00'\n",
    "    CHHc='#009E73'\n",
    "\n",
    "    # Create CG bars\n",
    "    plt.bar(r1, CG, width = barWidth, color = CGc, edgecolor = 'black', capsize=7, label='CG')\n",
    " \n",
    "    # Create CHG bars\n",
    "    plt.bar(r2, CHG, width = barWidth, color = CHGc, edgecolor = 'black', capsize=7, label='CHG')\n",
    "    \n",
    "    #Create CHH bars\n",
    "    plt.bar(r3, CHH, width = barWidth, color = CHHc, edgecolor = 'black', capsize=7, label='CHH')\n",
    "\n",
    "    # general layout\n",
    "    plt.xticks([r + barWidth for r in range(len(CHG))], x_ticks, fontsize=30)#, rotation=45)\n",
    "    plt.yticks(fontsize=30)\n",
    "    plt.ylabel(y_label, fontsize=30)\n",
    "    plt.legend(loc='upper right', fontsize=30)\n",
    "    plt.ylim(0, limit)\n",
    "    plt.tight_layout()\n"
   ]
  },
  {
   "cell_type": "code",
   "execution_count": null,
   "id": "94740249-ef0d-4512-940a-4d642ab90978",
   "metadata": {
    "tags": []
   },
   "outputs": [],
   "source": [
    "#stacked barplot of features near regions of interest\n",
    "def feature_barplot(genotypes_list, feat_count_dict, x_ticks, limit):\n",
    "    #style\n",
    "    sns.set_style('white')\n",
    "    \n",
    "    genotypes = genotypes_list\n",
    "    feat_counts = feat_count_dict\n",
    "    width = 0.6\n",
    "    \n",
    "    fig, ax = plt.subplots()\n",
    "    bottom = np.zeros(2)\n",
    "    ax.grid(axis='y')\n",
    "    Colors=[\"#FF6700\", \"#8EA604\", \"#531CB3\", \"#C9C9C9\"]\n",
    "    \n",
    "    for boolean, feat_count in feat_counts.items():\n",
    "        if boolean==\"no feature\":\n",
    "            c=Colors[0]\n",
    "        if boolean==\"gene only\":\n",
    "            c=Colors[1]\n",
    "        if boolean==\"TE fragment only\":\n",
    "            c=Colors[3]\n",
    "        if boolean==\"gene and TE fragment\":\n",
    "            c=Colors[2]\n",
    "        p = ax.bar(genotypes, feat_count, width, label=boolean, bottom=bottom, color=c)\n",
    "        bottom += feat_count\n",
    "        \n",
    "    # general layout\n",
    "    ax.tick_params(axis='both', labelsize=17)\n",
    "    ax.set_ylabel(\"number of regions\", fontsize=20)\n",
    "    ax.legend(loc='upper right', title=\"Within 1kb of feature:\", fontsize=15, title_fontsize=15)\n",
    "    ax.set_ylim(0, limit)\n",
    "    \n",
    "    plt.tight_layout()\n"
   ]
  },
  {
   "cell_type": "markdown",
   "id": "478eb6db-cba4-4744-a9d3-84f991a3ffd5",
   "metadata": {
    "jp-MarkdownHeadingCollapsed": true,
    "tags": [],
    "toc-hr-collapsed": true
   },
   "source": [
    "# plotting leaf DMRs"
   ]
  },
  {
   "cell_type": "code",
   "execution_count": null,
   "id": "362c261c-e393-40f4-a4a2-d292723da5e0",
   "metadata": {
    "tags": []
   },
   "outputs": [],
   "source": [
    "#leaf sample names\n",
    "samples = [r7it+\" vs Col-0 leaf\", r3it+\" vs Col-0 leaf\"]\n"
   ]
  },
  {
   "cell_type": "code",
   "execution_count": null,
   "id": "08af672b-4858-4840-9629-0202a490ceae",
   "metadata": {
    "tags": []
   },
   "outputs": [],
   "source": [
    "#leaf DMR length\n",
    "CG_hyper = [len(r7l_CG_r), len(r3l_CG_r)]\n",
    "CG_hypo = [len(r7l_CG_o), len(r3l_CG_o)]\n",
    "\n",
    "CHG_hyper = [len(r7l_CHG_r), len(r3l_CHG_r)]\n",
    "CHG_hypo = [len(r7l_CHG_o), len(r3l_CHG_o)]\n",
    "\n",
    "CHH_hyper = [len(r7l_CHH_r), len(r3l_CHH_r)]\n",
    "CHH_hypo = [len(r7l_CHH_o), len(r3l_CHH_o)]\n",
    "\n"
   ]
  },
  {
   "cell_type": "code",
   "execution_count": null,
   "id": "e73c66fc-203a-4fa0-b132-0d3f0277c928",
   "metadata": {
    "tags": []
   },
   "outputs": [],
   "source": [
    "#leaf DMR length in bp/1000 to get total kb\n",
    "CG_hyper_lenkb = [get_total_length(r7l_CG_r)/1000, get_total_length(r3l_CG_r)/1000]\n",
    "CG_hypo_lenkb = [get_total_length(r7l_CG_o)/1000, get_total_length(r3l_CG_o)/1000]\n",
    "\n",
    "CHG_hyper_lenkb = [get_total_length(r7l_CHG_r)/1000, get_total_length(r3l_CHG_r)/1000]\n",
    "CHG_hypo_lenkb = [get_total_length(r7l_CHG_o)/1000, get_total_length(r3l_CHG_o)/1000]\n",
    "\n",
    "CHH_hyper_lenkb = [get_total_length(r7l_CHH_r)/1000, get_total_length(r3l_CHH_r)/1000]\n",
    "CHH_hypo_lenkb = [get_total_length(r7l_CHH_o)/1000, get_total_length(r3l_CHH_o)/1000]\n"
   ]
  },
  {
   "cell_type": "markdown",
   "id": "73815545-29c3-4fa6-9880-6aa9fe0daf70",
   "metadata": {
    "tags": []
   },
   "source": [
    "## Figures: Number of DMRs"
   ]
  },
  {
   "cell_type": "code",
   "execution_count": null,
   "id": "a6307b29-e2be-4add-9686-005991052019",
   "metadata": {
    "tags": []
   },
   "outputs": [],
   "source": [
    "plot_all_DMRs (CG_hyper, CHG_hyper, CHH_hyper, samples, 'number of hyper-DMRs', 2000)\n",
    "plt.savefig(figurepath+'leaf_hyper_DMRs.pdf', dpi=350)\n"
   ]
  },
  {
   "cell_type": "code",
   "execution_count": null,
   "id": "aeaf5e99-197f-407a-8d0c-08387b8150d9",
   "metadata": {
    "tags": []
   },
   "outputs": [],
   "source": [
    "plot_all_DMRs (CG_hypo, CHG_hypo, CHH_hypo, samples, 'number of hypo-DMRs', 2000)\n",
    "plt.savefig(figurepath+'leaf_hypo_DMRs.pdf', dpi=350)\n"
   ]
  },
  {
   "cell_type": "markdown",
   "id": "56da7d18-c924-40ff-9b33-804c1635268f",
   "metadata": {
    "tags": []
   },
   "source": [
    "## Figures: total length in DMRs"
   ]
  },
  {
   "cell_type": "code",
   "execution_count": null,
   "id": "7929e258-978c-4b86-b860-2a31232fcb7f",
   "metadata": {
    "tags": []
   },
   "outputs": [],
   "source": [
    "plot_all_DMRs (CG_hyper_lenkb, CHG_hyper_lenkb, CHH_hyper_lenkb, samples, 'total length in hyper-DMRs (kb)', 310)\n",
    "plt.savefig(figurepath+'leaf_hyperlen_DMRs.pdf', dpi=350)"
   ]
  },
  {
   "cell_type": "code",
   "execution_count": null,
   "id": "4f146a41-c886-4a91-b4ef-681587b53092",
   "metadata": {
    "tags": []
   },
   "outputs": [],
   "source": [
    "plot_all_DMRs (CG_hypo_lenkb, CHG_hypo_lenkb, CHH_hypo_lenkb, samples, 'total length in hypo-DMRs (kb)', 310)\n",
    "plt.savefig(figurepath+'leaf_hypolen_DMRs.pdf', dpi=350)\n"
   ]
  },
  {
   "cell_type": "markdown",
   "id": "cf2b9b1a-3ab4-4bad-b88e-6035244aa41e",
   "metadata": {
    "jp-MarkdownHeadingCollapsed": true,
    "tags": []
   },
   "source": [
    "## Figure: fraction of DMRs near gene, TE, both"
   ]
  },
  {
   "cell_type": "code",
   "execution_count": null,
   "id": "df236aba-60c4-4c1d-a470-ed78c8304296",
   "metadata": {
    "tags": []
   },
   "outputs": [],
   "source": [
    "# features near dmr outputs\n",
    "windowcol=['chr','start','end','feature','score','strand','dmr_chr','dmr_start','dmr_end']\n",
    "featurepath=dmrpath+\"whatsnearby_outputs/\"\n"
   ]
  },
  {
   "cell_type": "code",
   "execution_count": null,
   "id": "bccb9336-b288-4214-814d-ac1da26ebd20",
   "metadata": {
    "tags": []
   },
   "outputs": [],
   "source": [
    "# function to get variables that are counts of individual regions of each catagory\n",
    "def get_feat_count(alldmr, genedmr, tefragdmr):\n",
    "    features=genedmr.merge(tefragdmr, how=\"outer\", on=['dmr_chr','dmr_start','dmr_end'], suffixes=['_gene','_TE'], indicator=True)\n",
    "    featuresdrop=features.drop_duplicates(subset=['dmr_chr','dmr_start','dmr_end'])\n",
    "    geneonly=featuresdrop['_merge'].value_counts()['left_only']\n",
    "    teonly=featuresdrop['_merge'].value_counts()['right_only']\n",
    "    both=featuresdrop['_merge'].value_counts()['both']\n",
    "    \n",
    "    neither=len(alldmr)-(geneonly+teonly+both)\n",
    "    \n",
    "    return neither, geneonly, teonly, both"
   ]
  },
  {
   "cell_type": "code",
   "execution_count": null,
   "id": "f2fb2cb4-eb6f-4ad2-bfea-180c87ffe51d",
   "metadata": {
    "tags": []
   },
   "outputs": [],
   "source": [
    "#features near leaf DMRs\n",
    "r3l_allc=pd.read_csv(dmrpath+\"r3_v_wt_leaf_allC_hyper_allC.merge.bed\", sep=tab, header=None, names=bed_columns)\n",
    "r3l_genes1kb=pd.read_csv(featurepath+\"genes_1kb_r3leaf_hyper.bed\", sep=tab, header=None, names=windowcol)\n",
    "r3l_TEfrag1kb=pd.read_csv(featurepath+\"TE_fragments_1kb_r3leaf_hyper.bed\", sep=tab, header=None, names=windowcol)\n",
    "r3l_TEmerge1kb=pd.read_csv(featurepath+\"TEmerge_1kb_r3leaf_hyper.bed\", sep=tab, header=None, names=windowcol)\n",
    "\n",
    "r7l_allc=pd.read_csv(dmrpath+\"r7_v_wt_leaf_allC_hyper_allC.merge.bed\", sep=tab, header=None, names=bed_columns)\n",
    "r7l_genes1kb=pd.read_csv(featurepath+\"genes_1kb_r7leaf_hyper.bed\", sep=tab, header=None, names=windowcol)\n",
    "r7l_TEfrag1kb=pd.read_csv(featurepath+\"TE_fragments_1kb_r7leaf_hyper.bed\", sep=tab, header=None, names=windowcol)\n",
    "r7l_TEmerge1kb=pd.read_csv(featurepath+\"TEmerge_1kb_r7leaf_hyper.bed\", sep=tab, header=None, names=windowcol)\n"
   ]
  },
  {
   "cell_type": "code",
   "execution_count": null,
   "id": "9d142dbd-6adc-4968-b41d-24cb25e252e0",
   "metadata": {
    "tags": []
   },
   "outputs": [],
   "source": [
    "r3l_neither, r3l_geneonly, r3l_teonly, r3l_both=get_feat_count(r3l_allc, r3l_genes1kb, r3l_TEfrag1kb)\n",
    "r7l_neither, r7l_geneonly, r7l_teonly, r7l_both=get_feat_count(r7l_allc, r7l_genes1kb, r7l_TEfrag1kb)"
   ]
  },
  {
   "cell_type": "code",
   "execution_count": null,
   "id": "dc09f7d7-e80c-42de-8851-42fe7aa57418",
   "metadata": {
    "tags": []
   },
   "outputs": [],
   "source": [
    "feature_barplot((r3it+\" leaf targets\", r7it+\" leaf targets\"), {\n",
    "    \"no feature\": np.array([len(r3l_allc)-(r3l_geneonly+r3l_teonly+r3l_both), len(r7l_allc)-(r7l_geneonly+r7l_teonly+r7l_both)]),\n",
    "    \"gene only\": np.array([r3l_geneonly, r7l_geneonly]),\n",
    "    \"TE fragment only\": np.array([r3l_teonly, r7l_teonly]),\n",
    "    \"gene and TE fragment\": np.array([r3l_both, r7l_both])\n",
    "}, \"number of DMRs\", limit=2200)\n",
    "plt.savefig(figurepath+'leaf_allDMRs_features1kb.pdf', dpi=350)"
   ]
  },
  {
   "cell_type": "markdown",
   "id": "5a3b8d87-0ca9-402f-8d1d-9b76030e4524",
   "metadata": {
    "jp-MarkdownHeadingCollapsed": true,
    "tags": [],
    "toc-hr-collapsed": true
   },
   "source": [
    "# plotting endo DMRs"
   ]
  },
  {
   "cell_type": "code",
   "execution_count": null,
   "id": "dc1b760f-3438-4cd5-a59c-0365f55312c6",
   "metadata": {
    "tags": []
   },
   "outputs": [],
   "source": [
    "# total length of endo DMRs\n",
    "CG_hyper = [len(r7_CG_r), len(r3_CG_r), len(rdd_CG_r)]\n",
    "CG_hypo = [len(r7_CG_o), len(r3_CG_o), len(rdd_CG_o)]\n",
    "\n",
    "CHG_hyper = [len(r7_CHG_r), len(r3_CHG_r), len(rdd_CHG_r)]\n",
    "CHG_hypo = [len(r7_CHG_o), len(r3_CHG_o), len(rdd_CHG_o)]\n",
    "\n",
    "CHH_hyper = [len(r7_CHH_r), len(r3_CHH_r), len(rdd_CHH_r)]\n",
    "CHH_hypo = [len(r7_CHH_o), len(r3_CHH_o), len(rdd_CHH_o)]"
   ]
  },
  {
   "cell_type": "code",
   "execution_count": null,
   "id": "f905fe9b-12bc-46ca-acc9-93fabdbfa0f2",
   "metadata": {
    "tags": []
   },
   "outputs": [],
   "source": [
    "#endo DMR length in bp/1000 to get total kb\n",
    "CG_hyper_lenkb = [get_total_length(r7_CG_r)/1000, get_total_length(r3_CG_r)/1000, get_total_length(rdd_CG_r)/1000]\n",
    "CG_hypo_lenkb = [get_total_length(r7_CG_o)/1000, get_total_length(r3_CG_o)/1000, get_total_length(rdd_CG_o)/1000]\n",
    "\n",
    "CHG_hyper_lenkb = [get_total_length(r7_CHG_r)/1000, get_total_length(r3_CHG_r)/1000, get_total_length(rdd_CHG_r)/1000]\n",
    "CHG_hypo_lenkb = [get_total_length(r7_CHG_o)/1000, get_total_length(r3_CHG_o)/1000, get_total_length(rdd_CHG_o)/1000]\n",
    "\n",
    "CHH_hyper_lenkb = [get_total_length(r7_CHH_r)/1000, get_total_length(r3_CHH_r)/1000, get_total_length(rdd_CHH_r)/1000]\n",
    "CHH_hypo_lenkb = [get_total_length(r7_CHH_o)/1000, get_total_length(r3_CHH_o)/1000, get_total_length(rdd_CHH_o)/1000]\n"
   ]
  },
  {
   "cell_type": "code",
   "execution_count": null,
   "id": "8b3d954b-d9f8-4e92-ba8b-e8434a4e06dd",
   "metadata": {
    "tags": []
   },
   "outputs": [],
   "source": [
    "#endo sample names\n",
    "samples = [r7it+\" vs Col-0 endo\", r3it+\" vs Col-0 endo\", rddit+\" vs Col-0 endo\"]\n",
    "samplesmainfig = [r7it+\" vs Col-0\", r3it+\" vs Col-0\", rddit+\" vs Col-0\"]\n"
   ]
  },
  {
   "cell_type": "markdown",
   "id": "47637199-bfb8-4cac-a5f9-14328f18296f",
   "metadata": {
    "tags": []
   },
   "source": [
    "## Figures: Number of DMRs"
   ]
  },
  {
   "cell_type": "code",
   "execution_count": null,
   "id": "7e0d8194-35bd-45a4-b958-989909459c53",
   "metadata": {
    "tags": []
   },
   "outputs": [],
   "source": [
    "samplesjustr3 = [r3it+\" > Col-0\", r3it+\" < Col-0\"]\n",
    "CG_hyper = [len(r3_CG_r), len(r3_CG_o)]\n",
    "CG_hypo = [len(r3_CG_o)]\n",
    "\n",
    "CHG_hyper = [len(r3_CHG_r), len(r3_CHG_o)]\n",
    "CHG_hypo = [len(r3_CHG_o)]\n",
    "\n",
    "CHH_hyper = [len(r3_CHH_r), len(r3_CHH_o)]\n",
    "CHH_hypo = [len(r3_CHH_o)]\n",
    "plot_all_DMRs (CG_hyper, CHG_hyper, CHH_hyper, samplesjustr3, 'number of regions', 1050)\n",
    "plt.savefig(figurepath+'Just_r3_endo_hyper_DMRs.png', dpi=350)\n"
   ]
  },
  {
   "cell_type": "code",
   "execution_count": null,
   "id": "b9aef803-d787-4c62-af51-a2d7d2de63be",
   "metadata": {
    "tags": []
   },
   "outputs": [],
   "source": [
    "plot_all_DMRs (CG_hyper, CHG_hyper, CHH_hyper, samples, 'number of hyper-DMRs', 1050)\n",
    "plt.savefig(figurepath+'endo_hyper_DMRs.pdf', dpi=350)\n"
   ]
  },
  {
   "cell_type": "code",
   "execution_count": null,
   "id": "cf9664d1-41f0-4bce-90a0-7ab7534360cd",
   "metadata": {
    "tags": []
   },
   "outputs": [],
   "source": [
    "plot_all_DMRs (CG_hypo, CHG_hypo, CHH_hypo, samples, 'number of hypo-DMRs', 1050)\n",
    "plt.savefig(figurepath+'endo_hypo_DMRs.pdf', dpi=350)\n"
   ]
  },
  {
   "cell_type": "markdown",
   "id": "a1c04aa2-facf-4b33-84b8-7fb79e661580",
   "metadata": {
    "tags": []
   },
   "source": [
    "## Figures: total length in DMRs"
   ]
  },
  {
   "cell_type": "code",
   "execution_count": null,
   "id": "ca563708-6440-4ded-91fa-f84d1a2ca36d",
   "metadata": {
    "tags": []
   },
   "outputs": [],
   "source": [
    "plot_all_DMRs (CG_hyper_lenkb, CHG_hyper_lenkb, CHH_hyper_lenkb, samplesmainfig, 'total length in hyper-DMRs (kb)', 145)\n",
    "plt.savefig(figurepath+'endo_hyperlen_DMRs.pdf', dpi=350)\n"
   ]
  },
  {
   "cell_type": "code",
   "execution_count": null,
   "id": "bc8d4967-b111-48b9-a013-efba31a82e3c",
   "metadata": {
    "tags": []
   },
   "outputs": [],
   "source": [
    "plot_all_DMRs (CG_hypo_lenkb, CHG_hypo_lenkb, CHH_hypo_lenkb, samplesmainfig, 'total length in hypo-DMRs (kb)', 145)\n",
    "plt.savefig(figurepath+'endo_hypolen_DMRs.pdf', dpi=350)\n"
   ]
  },
  {
   "cell_type": "code",
   "execution_count": null,
   "id": "15ba95b8-489a-49bc-b8d8-2f517390007d",
   "metadata": {
    "tags": []
   },
   "outputs": [],
   "source": [
    "#features near endo DMRs\n",
    "r3_allc=pd.read_csv(dmrpath+\"r3_v_wt_allC_hyper_allC.merge.bed\", sep=tab, header=None, names=bed_columns)\n",
    "r3_genes1kb=pd.read_csv(featurepath+\"genes_1kb_r3_hyper.bed\", sep=tab, header=None, names=windowcol)\n",
    "r3_TEfrag1kb=pd.read_csv(featurepath+\"TE_fragments_1kb_r3_hyper.bed\", sep=tab, header=None, names=windowcol)\n",
    "r3_TEmerge1kb=pd.read_csv(featurepath+\"TEmerge_1kb_r3_hyper.bed\", sep=tab, header=None, names=windowcol)\n",
    "\n",
    "r7_allc=pd.read_csv(dmrpath+\"r7_v_wt_allC_hyper_allC.merge.bed\", sep=tab, header=None, names=bed_columns)\n",
    "r7_genes1kb=pd.read_csv(featurepath+\"genes_1kb_r7_hyper.bed\", sep=tab, header=None, names=windowcol)\n",
    "r7_TEfrag1kb=pd.read_csv(featurepath+\"TE_fragments_1kb_r7_hyper.bed\", sep=tab, header=None, names=windowcol)\n",
    "r7_TEmerge1kb=pd.read_csv(featurepath+\"TEmerge_1kb_r7_hyper.bed\", sep=tab, header=None, names=windowcol)\n",
    "r3_TEfrag1kb"
   ]
  },
  {
   "cell_type": "code",
   "execution_count": null,
   "id": "9a12262d-1cd8-49ab-83c3-fd0408dd1bce",
   "metadata": {
    "tags": []
   },
   "outputs": [],
   "source": [
    "r3_neither, r3_geneonly, r3_teonly, r3_both=get_feat_count(r3_allc, r3_genes1kb, r3_TEfrag1kb)\n",
    "r7_neither, r7_geneonly, r7_teonly, r7_both=get_feat_count(r7_allc, r7_genes1kb, r7_TEfrag1kb)\n"
   ]
  },
  {
   "cell_type": "code",
   "execution_count": null,
   "id": "ee8e058d-99f4-46e7-bc89-4616b6421ab6",
   "metadata": {
    "tags": []
   },
   "outputs": [],
   "source": [
    "r3_TEfrag1kb.drop_duplicates([\"dmr_chr\",\"dmr_start\",\"dmr_end\"])"
   ]
  },
  {
   "cell_type": "code",
   "execution_count": null,
   "id": "bb79fd8f-89d3-4b56-9008-a2fe3ba0897a",
   "metadata": {
    "tags": []
   },
   "outputs": [],
   "source": [
    "feature_barplot((r3it+\" targets\", r7it+\" targets\"), {\n",
    "    \"no feature\": np.array([len(r3_allc)-(r3_geneonly+r3_teonly+r3_both), len(r7_allc)-(r7_geneonly+r7_teonly+r7_both)]),\n",
    "    \"gene only\": np.array([r3_geneonly, r7_geneonly]),\n",
    "    \"TE fragment only\": np.array([r3_teonly, r7_teonly]),\n",
    "    \"gene and TE fragment\": np.array([r3_both, r7_both])\n",
    "}, \"number of DMRs\", limit=1401)\n",
    "plt.savefig(figurepath+'endo_allDMRs_features1kb.pdf', dpi=350)"
   ]
  },
  {
   "cell_type": "markdown",
   "id": "6f7276c7-aea1-4731-9f78-cac647aad705",
   "metadata": {
    "jp-MarkdownHeadingCollapsed": true,
    "tags": [],
    "toc-hr-collapsed": true
   },
   "source": [
    "# Supp figure: DMR length histograms"
   ]
  },
  {
   "cell_type": "code",
   "execution_count": null,
   "id": "24e80384-24a9-40f0-bd1a-fcdf112a833d",
   "metadata": {
    "tags": []
   },
   "outputs": [],
   "source": [
    "def length_histogram(df, title, context):\n",
    "    CGc='#0072B2'\n",
    "    CHGc='#E69F00'\n",
    "    CHHc='#009E73'\n",
    "\n",
    "    if context=='CG':\n",
    "        color=CGc\n",
    "    if context=='CHG':\n",
    "        color=CHGc\n",
    "    if context=='CHH':\n",
    "        color=CHHc\n",
    "        \n",
    "    df['length']=df['end']-df['start']\n",
    "    \n",
    "    plt=sns.histplot(data=df, x=\"length\", binwidth=50, color=color)\n",
    "    plt.set_title(title,fontname=\"Arial\", fontsize=18)\n",
    "    plt.tick_params(axis='both', which='major', labelsize=16)\n",
    "    plt.set_xlabel('length', fontname=\"Arial\", fontsize=16);\n",
    "    plt.set_ylabel('count', fontname=\"Arial\", fontsize=16);\n",
    "\n",
    "    \n",
    "    return plt"
   ]
  },
  {
   "cell_type": "code",
   "execution_count": null,
   "id": "340b44b0-1742-4382-8dd8-4afab15c5bd0",
   "metadata": {
    "tags": []
   },
   "outputs": [],
   "source": [
    "\n",
    "length_histogram(r3l_CG_r, r3it+\" leaf CG hyper DMR length\", \"CG\")\n",
    "plt.savefig(figurepath+'r3leaf_CGr_histplot.png', dpi=350)\n"
   ]
  },
  {
   "cell_type": "code",
   "execution_count": null,
   "id": "696984d1-68a1-4fa3-b77b-70b7f58da606",
   "metadata": {
    "tags": []
   },
   "outputs": [],
   "source": [
    "length_histogram(r3l_CHG_r, r3it+\" leaf CHG hyper DMR length\", \"CHG\")\n",
    "plt.savefig(figurepath+'r3leaf_CHGr_histplot.png', dpi=350)"
   ]
  },
  {
   "cell_type": "code",
   "execution_count": null,
   "id": "f3d11107-54ec-4705-9f6f-67e0363ad05f",
   "metadata": {
    "tags": []
   },
   "outputs": [],
   "source": [
    "\n",
    "length_histogram(r3l_CHH_r, r3it+\" leaf CHH hyper DMR length\", \"CHH\")\n",
    "plt.savefig(figurepath+'r3leaf_CHHr_histplot.png', dpi=350)"
   ]
  },
  {
   "cell_type": "code",
   "execution_count": null,
   "id": "9eb41606-9d9f-43a8-ac7f-c0ac78e8f6d6",
   "metadata": {
    "tags": []
   },
   "outputs": [],
   "source": [
    "\n",
    "\n",
    "length_histogram(r7l_CG_r, r7it+\" leaf CG hyper DMR length\", \"CG\")\n",
    "plt.savefig(figurepath+'r7leaf_CGr_histplot.png', dpi=350)\n"
   ]
  },
  {
   "cell_type": "code",
   "execution_count": null,
   "id": "bc039729-e811-4605-95e4-ae77eb86c6e9",
   "metadata": {
    "tags": []
   },
   "outputs": [],
   "source": [
    "length_histogram(r7l_CHG_r, r7it+\" leaf CHG hyper DMR length\", \"CHG\")\n",
    "plt.savefig(figurepath+'r7leaf_CHGr_histplot.png', dpi=350)"
   ]
  },
  {
   "cell_type": "code",
   "execution_count": null,
   "id": "3f136627-0506-45f5-b69b-48ad9ad55ef0",
   "metadata": {
    "tags": []
   },
   "outputs": [],
   "source": [
    "length_histogram(r7l_CHH_r, r7it+\" leaf CHH hyper DMR length\", \"CHH\")\n",
    "plt.savefig(figurepath+'r7leaf_CHHr_histplot.png', dpi=350)"
   ]
  },
  {
   "cell_type": "code",
   "execution_count": null,
   "id": "f57014f4-35cd-4bb4-afc6-8a8ccaaa182d",
   "metadata": {
    "tags": []
   },
   "outputs": [],
   "source": [
    "length_histogram(r3_CG_r, r3it+\" endo CG hyper DMR length\", \"CG\")\n",
    "plt.savefig(figurepath+'r3endo_CGr_histplot.png', dpi=350)"
   ]
  },
  {
   "cell_type": "code",
   "execution_count": null,
   "id": "5544c69f-fd91-4d56-bee2-2c7497bef0bd",
   "metadata": {
    "tags": []
   },
   "outputs": [],
   "source": [
    "length_histogram(r3_CHG_r, r3it+\" endo CHG hyper DMR length\", \"CHG\")\n",
    "plt.savefig(figurepath+'r3endo_CHGr_histplot.png', dpi=350)"
   ]
  },
  {
   "cell_type": "code",
   "execution_count": null,
   "id": "77ebe38b-088b-4c47-bfc3-ea772f721c17",
   "metadata": {
    "tags": []
   },
   "outputs": [],
   "source": [
    "length_histogram(r3_CHH_r, r3it+\" endo CHH hyper DMR length\", \"CHH\")\n",
    "plt.savefig(figurepath+'r3endo_CHHr_histplot.png', dpi=350)\n"
   ]
  },
  {
   "cell_type": "code",
   "execution_count": null,
   "id": "1feadf29-35fa-40ca-9fa4-d95d1facd9fe",
   "metadata": {
    "tags": []
   },
   "outputs": [],
   "source": [
    "length_histogram(r7_CG_r, r7it+\" endo CG hyper DMR length\", \"CG\")\n",
    "plt.savefig(figurepath+'r7endo_CGr_histplot.png', dpi=350)\n"
   ]
  },
  {
   "cell_type": "code",
   "execution_count": null,
   "id": "08eb40a6-064a-4c89-95ca-2d04bd1368a7",
   "metadata": {
    "tags": []
   },
   "outputs": [],
   "source": [
    "length_histogram(r7_CHG_r, r7it+\" endo CHG hyper DMR length\", \"CHG\")\n",
    "plt.savefig(figurepath+'r7endo_CHGr_histplot.png', dpi=350)\n"
   ]
  },
  {
   "cell_type": "code",
   "execution_count": null,
   "id": "1035c4ba-6648-40c7-85bd-05e9a0fdc97a",
   "metadata": {
    "tags": []
   },
   "outputs": [],
   "source": [
    "length_histogram(r7_CHH_r, r7it+\" endo CHH hyper DMR length\", \"CHH\")\n",
    "plt.savefig(figurepath+'r7endo_CHHr_histplot.png', dpi=350)\n"
   ]
  },
  {
   "cell_type": "code",
   "execution_count": null,
   "id": "0f97ae50-c139-4e3a-b72d-074e4398fc05",
   "metadata": {},
   "outputs": [],
   "source": []
  },
  {
   "cell_type": "markdown",
   "id": "46f1de58-0647-46e8-ae83-86c9ee46fb93",
   "metadata": {
    "jp-MarkdownHeadingCollapsed": true,
    "tags": [],
    "toc-hr-collapsed": true
   },
   "source": [
    "# identify 'hypermethylation-limited' DMRs"
   ]
  },
  {
   "cell_type": "code",
   "execution_count": null,
   "id": "8a41e51a-0876-4b10-8ca6-6c224d1b47af",
   "metadata": {
    "tags": []
   },
   "outputs": [],
   "source": [
    "sumpath=path+\"sumby_features/sumby_dmrs_nonallelic_outputs/\"\n",
    "sumcolumns=['chr','start','end','name','avg_methy','nC']\n",
    "bigE_columns=['chr','start','end','wt_1_avg_methy','wt_1_nC','wt_2_avg_methy','wt_2_nC','wt_3_avg_methy','wt_3_nC']"
   ]
  },
  {
   "cell_type": "code",
   "execution_count": null,
   "id": "052b503e-6a1a-4831-9244-71ef71f374c7",
   "metadata": {
    "tags": []
   },
   "outputs": [],
   "source": [
    "def readindata(file):\n",
    "    sumcolumns=['chr','start','end','name','avg_methy','nC']\n",
    "    df=pd.read_csv(sumpath+file, header=None, sep=tab, names=sumcolumns)\n",
    "    df=df.drop(['name'], axis=1)\n",
    "    return (df)"
   ]
  },
  {
   "cell_type": "markdown",
   "id": "4ca9f3f0-417a-4e43-b6a1-9f1ae62f0cf0",
   "metadata": {
    "jp-MarkdownHeadingCollapsed": true,
    "tags": []
   },
   "source": [
    "## CG sumby data"
   ]
  },
  {
   "cell_type": "code",
   "execution_count": null,
   "id": "244e12b8-4643-4367-a692-05c71be3a149",
   "metadata": {
    "tags": []
   },
   "outputs": [],
   "source": [
    "wt_1_CG_sum_r3_CG=readindata('wt_1_Col_spiked_CG_sumby_r3_v_wt_CG.DMRs.hyper.bed')\n",
    "wt_2_CG_sum_r3_CG=readindata('wt_2_Col_spiked_CG_sumby_r3_v_wt_CG.DMRs.hyper.bed')\n",
    "wt_3_CG_sum_r3_CG=readindata('wt_3_Col_spiked_CG_sumby_r3_v_wt_CG.DMRs.hyper.bed')\n",
    "\n",
    "r3_1_CG_sum_r3_CG=readindata('r3_1_Col_spiked_CG_sumby_r3_v_wt_CG.DMRs.hyper.bed')\n",
    "r3_2_CG_sum_r3_CG=readindata('r3_2_Col_spiked_CG_sumby_r3_v_wt_CG.DMRs.hyper.bed')\n",
    "r3_3_CG_sum_r3_CG=readindata('r3_3_Col_spiked_CG_sumby_r3_v_wt_CG.DMRs.hyper.bed')\n",
    "\n",
    "r7_1_CG_sum_r3_CG=readindata('r7_1_Col_spiked_CG_sumby_r3_v_wt_CG.DMRs.hyper.bed')\n",
    "r7_2_CG_sum_r3_CG=readindata('r7_2_Col_spiked_CG_sumby_r3_v_wt_CG.DMRs.hyper.bed')\n",
    "r7_3_CG_sum_r3_CG=readindata('r7_3_Col_spiked_CG_sumby_r3_v_wt_CG.DMRs.hyper.bed')\n",
    "\n",
    "\n",
    "rdd_1_CG_sum_r3_CG=readindata('rdd_1_Col_spiked_CG_min5_sumby_r3_v_wt_CG.DMRs.hyper.bed')\n",
    "rdd_2_CG_sum_r3_CG=readindata('rdd_2_Col_spiked_CG_min5_sumby_r3_v_wt_CG.DMRs.hyper.bed')\n",
    "rdd_3_CG_sum_r3_CG=readindata('rdd_3_Col_spiked_CG_min5_sumby_r3_v_wt_CG.DMRs.hyper.bed')\n",
    "\n",
    "\n",
    "wtl_1_CG_sum_r3_CG=readindata('wt_1_leaf_Col_spiked_CG_sumby_r3_v_wt_CG.DMRs.hyper.bed')\n",
    "wtl_2_CG_sum_r3_CG=readindata('wt_2_leaf_Col_spiked_CG_sumby_r3_v_wt_CG.DMRs.hyper.bed')\n",
    "wtl_3_CG_sum_r3_CG=readindata('wt_3_leaf_Col_spiked_CG_sumby_r3_v_wt_CG.DMRs.hyper.bed')\n",
    "\n",
    "r3l_1_CG_sum_r3_CG=readindata('r3_1_leaf_Col_spiked_CG_sumby_r3_v_wt_CG.DMRs.hyper.bed')\n",
    "r3l_2_CG_sum_r3_CG=readindata('r3_2_leaf_Col_spiked_CG_sumby_r3_v_wt_CG.DMRs.hyper.bed')\n",
    "r3l_3_CG_sum_r3_CG=readindata('r3_3_leaf_Col_spiked_CG_sumby_r3_v_wt_CG.DMRs.hyper.bed')\n",
    "\n",
    "r7l_1_CG_sum_r3_CG=readindata('r7_1_leaf_Col_spiked_CG_sumby_r3_v_wt_CG.DMRs.hyper.bed')\n",
    "r7l_2_CG_sum_r3_CG=readindata('r7_2_leaf_Col_spiked_CG_sumby_r3_v_wt_CG.DMRs.hyper.bed')\n",
    "r7l_3_CG_sum_r3_CG=readindata('r7_3_leaf_Col_spiked_CG_sumby_r3_v_wt_CG.DMRs.hyper.bed')\n"
   ]
  },
  {
   "cell_type": "code",
   "execution_count": null,
   "id": "cc1359f7-09e1-44d2-b347-a6db7a034811",
   "metadata": {
    "tags": []
   },
   "outputs": [],
   "source": [
    "wt_1_CG_sum_r7_CG=readindata('wt_1_Col_spiked_CG_sumby_r7_v_wt_CG.DMRs.hyper.bed')\n",
    "wt_2_CG_sum_r7_CG=readindata('wt_2_Col_spiked_CG_sumby_r7_v_wt_CG.DMRs.hyper.bed')\n",
    "wt_3_CG_sum_r7_CG=readindata('wt_3_Col_spiked_CG_sumby_r7_v_wt_CG.DMRs.hyper.bed')\n",
    "\n",
    "r3_1_CG_sum_r7_CG=readindata('r3_1_Col_spiked_CG_sumby_r7_v_wt_CG.DMRs.hyper.bed')\n",
    "r3_2_CG_sum_r7_CG=readindata('r3_2_Col_spiked_CG_sumby_r7_v_wt_CG.DMRs.hyper.bed')\n",
    "r3_3_CG_sum_r7_CG=readindata('r3_3_Col_spiked_CG_sumby_r7_v_wt_CG.DMRs.hyper.bed')\n",
    "\n",
    "r7_1_CG_sum_r7_CG=readindata('r7_1_Col_spiked_CG_sumby_r7_v_wt_CG.DMRs.hyper.bed')\n",
    "r7_2_CG_sum_r7_CG=readindata('r7_2_Col_spiked_CG_sumby_r7_v_wt_CG.DMRs.hyper.bed')\n",
    "r7_3_CG_sum_r7_CG=readindata('r7_3_Col_spiked_CG_sumby_r7_v_wt_CG.DMRs.hyper.bed')\n",
    "\n",
    "rdd_1_CG_sum_r7_CG=readindata('rdd_1_Col_spiked_CG_min5_sumby_r7_v_wt_CG.DMRs.hyper.bed')\n",
    "rdd_2_CG_sum_r7_CG=readindata('rdd_2_Col_spiked_CG_min5_sumby_r7_v_wt_CG.DMRs.hyper.bed')\n",
    "rdd_3_CG_sum_r7_CG=readindata('rdd_3_Col_spiked_CG_min5_sumby_r7_v_wt_CG.DMRs.hyper.bed')\n",
    "\n",
    "wtl_1_CG_sum_r7_CG=readindata('wt_1_leaf_Col_spiked_CG_sumby_r7_v_wt_CG.DMRs.hyper.bed')\n",
    "wtl_2_CG_sum_r7_CG=readindata('wt_2_leaf_Col_spiked_CG_sumby_r7_v_wt_CG.DMRs.hyper.bed')\n",
    "wtl_3_CG_sum_r7_CG=readindata('wt_3_leaf_Col_spiked_CG_sumby_r7_v_wt_CG.DMRs.hyper.bed')\n",
    "\n",
    "r3l_1_CG_sum_r7_CG=readindata('r3_1_leaf_Col_spiked_CG_sumby_r7_v_wt_CG.DMRs.hyper.bed')\n",
    "r3l_2_CG_sum_r7_CG=readindata('r3_2_leaf_Col_spiked_CG_sumby_r7_v_wt_CG.DMRs.hyper.bed')\n",
    "r3l_3_CG_sum_r7_CG=readindata('r3_3_leaf_Col_spiked_CG_sumby_r7_v_wt_CG.DMRs.hyper.bed')\n",
    "\n",
    "r7l_1_CG_sum_r7_CG=readindata('r7_1_leaf_Col_spiked_CG_sumby_r7_v_wt_CG.DMRs.hyper.bed')\n",
    "r7l_2_CG_sum_r7_CG=readindata('r7_2_leaf_Col_spiked_CG_sumby_r7_v_wt_CG.DMRs.hyper.bed')\n",
    "r7l_3_CG_sum_r7_CG=readindata('r7_3_leaf_Col_spiked_CG_sumby_r7_v_wt_CG.DMRs.hyper.bed')\n"
   ]
  },
  {
   "cell_type": "markdown",
   "id": "5814afcc-8c75-46ca-bbea-adbb7e880fac",
   "metadata": {
    "tags": []
   },
   "source": [
    "## make big dataframe"
   ]
  },
  {
   "cell_type": "code",
   "execution_count": null,
   "id": "0d8b8975-0990-48d7-baad-f82e1968f2e9",
   "metadata": {
    "tags": []
   },
   "outputs": [],
   "source": [
    "def process_endo_leaf_sum (wt1,wt2,wt3,r71,r72,r73,r31,r32,r33,rdd1,rdd2,rdd3,wtl1,wtl2,wtl3,r7l1,r7l2,r7l3,r3l1,r3l2,r3l3, feature_df):\n",
    "   \n",
    "    wtoutdf = wt1.merge(wt2, on=['chr','start','end'],how ='inner').merge(wt3,on=['chr','start','end'],how ='inner')\n",
    "    wtoutdf.columns=bigE_columns\n",
    "    \n",
    "    r7outdf = r71.merge(r72, on=['chr','start','end'],how ='inner').merge(r73,on=['chr','start','end'],how ='inner')\n",
    "    r7outdf.columns=['chr','start','end','r7_1_avg_methy','r7_1_nC','r7_2_avg_methy','r7_2_nC','r7_3_avg_methy','r7_3_nC']\n",
    "    \n",
    "    r3outdf = r31.merge(r32, on=['chr','start','end'],how ='inner').merge(r33,on=['chr','start','end'],how ='inner')\n",
    "    r3outdf.columns=['chr','start','end','r3_1_avg_methy','r3_1_nC','r3_2_avg_methy','r3_2_nC','r3_3_avg_methy','r3_3_nC']\n",
    "    \n",
    "    rddoutdf = rdd1.merge(rdd2, on=['chr','start','end'],how ='inner').merge(rdd3,on=['chr','start','end'],how ='inner')\n",
    "    rddoutdf.columns=['chr','start','end','rdd_1_avg_methy','rdd_1_nC','rdd_2_avg_methy','rdd_2_nC','rdd_3_avg_methy','rdd_3_nC']\n",
    "    \n",
    "    wtloutdf = wtl1.merge(wtl2, on=['chr','start','end'],how ='inner').merge(wtl3,on=['chr','start','end'],how ='inner')\n",
    "    wtloutdf.columns=['chr','start','end','wtl_1_avg_methy','wtl_1_nC','wtl_2_avg_methy','wtl_2_nC','wtl_3_avg_methy','wtl_3_nC']\n",
    "    \n",
    "    r7loutdf = r7l1.merge(r7l2, on=['chr','start','end'],how ='inner').merge(r7l3,on=['chr','start','end'],how ='inner')\n",
    "    r7loutdf.columns=['chr','start','end','r7l_1_avg_methy','r7l_1_nC','r7l_2_avg_methy','r7l_2_nC','r7l_3_avg_methy','r7l_3_nC']\n",
    "    \n",
    "    r3loutdf = r3l1.merge(r3l2, on=['chr','start','end'],how ='inner').merge(r3l3,on=['chr','start','end'],how ='inner')\n",
    "    r3loutdf.columns=['chr','start','end','r3l_1_avg_methy','r3l_1_nC','r3l_2_avg_methy','r3l_2_nC','r3l_3_avg_methy','r3l_3_nC']    \n",
    "    \n",
    "    columns = ['chr','start','end']\n",
    "    \n",
    "    Eoutdf=wtoutdf.merge(r7outdf, on=columns,how='inner').merge(r3outdf, on=columns,how='inner').merge(rddoutdf, on=columns,how='inner')\n",
    "    Loutdf=wtloutdf.merge(r7loutdf, on=columns,how='inner').merge(r3loutdf, on=columns,how='inner')\n",
    "    \n",
    "    ELoutdf=Eoutdf.merge(Loutdf, on=columns, how='inner')\n",
    "    ELoutdf['wt_avg_methy']=(ELoutdf['wt_1_avg_methy']+ELoutdf['wt_2_avg_methy']+ELoutdf['wt_3_avg_methy'])/3\n",
    "    ELoutdf['r3_avg_methy']=(ELoutdf['r3_1_avg_methy']+ELoutdf['r3_2_avg_methy']+ELoutdf['r3_3_avg_methy'])/3\n",
    "    ELoutdf['r7_avg_methy']=(ELoutdf['r7_1_avg_methy']+ELoutdf['r7_2_avg_methy']+ELoutdf['r7_3_avg_methy'])/3\n",
    "    ELoutdf['rdd_avg_methy']=(ELoutdf['rdd_1_avg_methy']+ELoutdf['rdd_2_avg_methy']+ELoutdf['rdd_3_avg_methy'])/3\n",
    "\n",
    "    ELoutdf['wtl_avg_methy']=(ELoutdf['wtl_1_avg_methy']+ELoutdf['wtl_2_avg_methy']+ELoutdf['wtl_3_avg_methy'])/3\n",
    "    ELoutdf['r3l_avg_methy']=(ELoutdf['r3l_1_avg_methy']+ELoutdf['r3l_2_avg_methy']+ELoutdf['r3l_3_avg_methy'])/3\n",
    "    ELoutdf['r7l_avg_methy']=(ELoutdf['r7l_1_avg_methy']+ELoutdf['r7l_2_avg_methy']+ELoutdf['r7l_3_avg_methy'])/3\n",
    "\n",
    "    justavg=pd.DataFrame()\n",
    "    justavg['wt_avg_methy']=(ELoutdf['wt_1_avg_methy']+ELoutdf['wt_2_avg_methy']+ELoutdf['wt_3_avg_methy'])/3\n",
    "    justavg['r3_avg_methy']=(ELoutdf['r3_1_avg_methy']+ELoutdf['r3_2_avg_methy']+ELoutdf['r3_3_avg_methy'])/3\n",
    "    justavg['r7_avg_methy']=(ELoutdf['r7_1_avg_methy']+ELoutdf['r7_2_avg_methy']+ELoutdf['r7_3_avg_methy'])/3\n",
    "    justavg['wtl_avg_methy']=(ELoutdf['wtl_1_avg_methy']+ELoutdf['wtl_2_avg_methy']+ELoutdf['wtl_3_avg_methy'])/3\n",
    "    justavg['r3l_avg_methy']=(ELoutdf['r3l_1_avg_methy']+ELoutdf['r3l_2_avg_methy']+ELoutdf['r3l_3_avg_methy'])/3\n",
    "    justavg['r7l_avg_methy']=(ELoutdf['r7l_1_avg_methy']+ELoutdf['r7l_2_avg_methy']+ELoutdf['r7l_3_avg_methy'])/3\n",
    "\n",
    "    if feature_df is not None:\n",
    "        finaldf=feature_df.merge(ELoutdf, on=['chr','start','end'], how='left') \n",
    "        finaldf.drop(labels='feature', axis=1, inplace=True)\n",
    "    \n",
    "        return finaldf\n",
    "    else:\n",
    "        return ELoutdf\n"
   ]
  },
  {
   "cell_type": "code",
   "execution_count": null,
   "id": "b73c969b-c4e2-49b5-bfbc-dc675b6f7ef6",
   "metadata": {
    "tags": []
   },
   "outputs": [],
   "source": [
    "r3_CGr_endo_leaf=process_endo_leaf_sum (wt_1_CG_sum_r3_CG,wt_2_CG_sum_r3_CG,wt_3_CG_sum_r3_CG,\n",
    "                       r7_1_CG_sum_r3_CG,r7_2_CG_sum_r3_CG,r7_3_CG_sum_r3_CG,\n",
    "                       r3_1_CG_sum_r3_CG,r3_2_CG_sum_r3_CG,r3_3_CG_sum_r3_CG,\n",
    "                       rdd_1_CG_sum_r3_CG,rdd_2_CG_sum_r3_CG,rdd_3_CG_sum_r3_CG,\n",
    "                       wtl_1_CG_sum_r3_CG,wtl_2_CG_sum_r3_CG,wtl_3_CG_sum_r3_CG,\n",
    "                       r7l_1_CG_sum_r3_CG,r7l_2_CG_sum_r3_CG,r7l_3_CG_sum_r3_CG,\n",
    "                       r3l_1_CG_sum_r3_CG,r3l_2_CG_sum_r3_CG,r3l_3_CG_sum_r3_CG, feature_df=None)"
   ]
  },
  {
   "cell_type": "code",
   "execution_count": null,
   "id": "668516ac-d71a-442c-8e06-7b16377f403e",
   "metadata": {
    "tags": []
   },
   "outputs": [],
   "source": [
    "r7_CGr_endo_leaf=process_endo_leaf_sum (wt_1_CG_sum_r7_CG,wt_2_CG_sum_r7_CG,wt_3_CG_sum_r7_CG,\n",
    "                       r7_1_CG_sum_r7_CG,r7_2_CG_sum_r7_CG,r7_3_CG_sum_r7_CG,\n",
    "                       r3_1_CG_sum_r7_CG,r3_2_CG_sum_r7_CG,r3_3_CG_sum_r7_CG,\n",
    "                       rdd_1_CG_sum_r7_CG,rdd_2_CG_sum_r7_CG,rdd_3_CG_sum_r7_CG,\n",
    "                       wtl_1_CG_sum_r7_CG,wtl_2_CG_sum_r7_CG,wtl_3_CG_sum_r7_CG,\n",
    "                       r7l_1_CG_sum_r7_CG,r7l_2_CG_sum_r7_CG,r7l_3_CG_sum_r7_CG,\n",
    "                       r3l_1_CG_sum_r7_CG,r3l_2_CG_sum_r7_CG,r3l_3_CG_sum_r7_CG, feature_df=None)"
   ]
  },
  {
   "cell_type": "markdown",
   "id": "552ab652-1c18-40f8-96ae-57591bcbb5f5",
   "metadata": {
    "jp-MarkdownHeadingCollapsed": true,
    "tags": []
   },
   "source": [
    "## define regions by threshold"
   ]
  },
  {
   "cell_type": "code",
   "execution_count": null,
   "id": "2ceca5f9-bdbc-4650-aaae-464f1557dd36",
   "metadata": {
    "tags": []
   },
   "outputs": [],
   "source": [
    "#define capped regions\n",
    "r3_CGr_cap50=r3_CGr_endo_leaf[(r3_CGr_endo_leaf['r3_avg_methy']/r3_CGr_endo_leaf['r3l_avg_methy']<=(0.50))]\n",
    "\n",
    "r7_CGr_cap50=r7_CGr_endo_leaf[(r7_CGr_endo_leaf['r7_avg_methy']/r7_CGr_endo_leaf['r7l_avg_methy']<=(0.50))]"
   ]
  },
  {
   "cell_type": "code",
   "execution_count": null,
   "id": "e90d928d-76f3-425a-8063-e30856602d14",
   "metadata": {
    "tags": []
   },
   "outputs": [],
   "source": [
    "#identify not capped regions\n",
    "r3_CGr_endo_leaf_indicate=r3_CGr_endo_leaf.merge(r3_CGr_cap50, how=\"outer\", indicator=True)\n",
    "r3_CGr_endo_leaf_notcap50=r3_CGr_endo_leaf_indicate[r3_CGr_endo_leaf_indicate[\"_merge\"]==\"left_only\"].drop(labels=\"_merge\", axis=1)\n",
    "\n",
    "r7_CGr_endo_leaf_indicate=r7_CGr_endo_leaf.merge(r7_CGr_cap50, how=\"outer\", indicator=True)\n",
    "r7_CGr_endo_leaf_notcap50=r7_CGr_endo_leaf_indicate[r7_CGr_endo_leaf_indicate[\"_merge\"]==\"left_only\"].drop(labels=\"_merge\", axis=1)"
   ]
  },
  {
   "cell_type": "code",
   "execution_count": null,
   "id": "4ba3d2ab-34c9-4518-8062-5460b43da04e",
   "metadata": {
    "tags": []
   },
   "outputs": [],
   "source": []
  },
  {
   "cell_type": "code",
   "execution_count": null,
   "id": "79163920-17ad-4cf0-b96e-c5436a5ea362",
   "metadata": {
    "tags": []
   },
   "outputs": [],
   "source": [
    "def make_bed(df, path):\n",
    "    bed=pd.DataFrame()\n",
    "    bed['chr']=df['chr']\n",
    "    bed['start']=df['start']\n",
    "    bed['end']=df['end']\n",
    "    \n",
    "    if path is not None:\n",
    "        bed.to_csv(path, sep=\"\\t\", index=None, header=None)\n",
    "        print('Bed file saved here: '+path)\n",
    "        return bed\n",
    "    else:\n",
    "        return bed"
   ]
  },
  {
   "cell_type": "code",
   "execution_count": null,
   "id": "3b614939-e3aa-4fb5-a3d6-8c8b47bf143e",
   "metadata": {
    "tags": []
   },
   "outputs": [],
   "source": [
    "cappath=dmrpath+\"hypermethylation_limited/\""
   ]
  },
  {
   "cell_type": "code",
   "execution_count": null,
   "id": "125f168c-f4c7-4130-8051-bb1b03ce4784",
   "metadata": {
    "tags": []
   },
   "outputs": [],
   "source": [
    "r3_CGr_cap50_bed=make_bed(r3_CGr_cap50, cappath+\"r3_CGr_limit50.bed\")\n",
    "r3_CGr_endo_leaf_notcap50_bed=make_bed(r3_CGr_endo_leaf_notcap50, cappath+\"r3_CGr_notlimit50.bed\")\n",
    "\n",
    "r7_CGr_cap50_bed=make_bed(r7_CGr_cap50, cappath+\"r7_CGr_limit50.bed\")\n",
    "r7_CGr_endo_leaf_notcap50_bed=make_bed(r7_CGr_endo_leaf_notcap50, cappath+\"r7_CGr_notlimit50.bed\")\n"
   ]
  },
  {
   "cell_type": "markdown",
   "id": "e32480c2-2bfc-456d-a86a-6f4078f87858",
   "metadata": {
    "jp-MarkdownHeadingCollapsed": true,
    "tags": []
   },
   "source": [
    "## gene/TE enrichment in limited CG DMRs"
   ]
  },
  {
   "cell_type": "code",
   "execution_count": null,
   "id": "941cb632-71b8-4bc5-b7da-a56e2786aea0",
   "metadata": {
    "tags": []
   },
   "outputs": [],
   "source": [
    "#compcap=cappath+\"make_comparisons/\"\n",
    "dmr_bed=['chr','start','end']\n",
    "r3_CGr_cap50_int_gene=pd.read_csv(featurepath+\"r3CGr_int_genes_limit50.bed\", header=None, sep=tab, names=dmr_bed)\n",
    "r3_CGr_notcap50_int_gene=pd.read_csv(featurepath+\"r3CGr_int_genes_notlimit50.bed\", header=None, sep=tab, names=dmr_bed)\n",
    "\n",
    "r3_CGr_cap50_int_TEmerge=pd.read_csv(featurepath+\"r3CGr_int_TEmerge_limit50.bed\", header=None, sep=tab, names=dmr_bed)\n",
    "r3_CGr_notcap50_int_TEmerge=pd.read_csv(featurepath+\"r3CGr_int_TEmerge_notlimit50.bed\", header=None, sep=tab, names=dmr_bed)\n",
    "\n",
    "r7_CGr_cap50_int_gene=pd.read_csv(featurepath+\"r7CGr_int_genes_limit50.bed\", header=None, sep=tab, names=dmr_bed)\n",
    "r7_CGr_notcap50_int_gene=pd.read_csv(featurepath+\"r7CGr_int_genes_notlimit50.bed\", header=None, sep=tab, names=dmr_bed)\n",
    "\n",
    "r7_CGr_cap50_int_TEmerge=pd.read_csv(featurepath+\"r7CGr_int_TEmerge_limit50.bed\", header=None, sep=tab, names=dmr_bed)\n",
    "r7_CGr_notcap50_int_TEmerge=pd.read_csv(featurepath+\"r7CGr_int_TEmerge_notlimit50.bed\", header=None, sep=tab, names=dmr_bed)\n"
   ]
  },
  {
   "cell_type": "code",
   "execution_count": null,
   "id": "c0345bf1-a6b9-4143-96d2-fdf4a6a70651",
   "metadata": {
    "tags": []
   },
   "outputs": [],
   "source": [
    "gbm_pie=['gene body', 'intergenic']\n",
    "temerge_pie=['in TE', 'not in TE']"
   ]
  },
  {
   "cell_type": "code",
   "execution_count": null,
   "id": "43baf5d0-b6bc-492d-b1e3-4ece41b27d67",
   "metadata": {
    "tags": []
   },
   "outputs": [],
   "source": [
    "#stacked barplot of features near regions of interest\n",
    "def feature_pie(labels, sizes, title=\"\", colors=['white','lightgray']):\n",
    "    #style\n",
    "    sns.set_style('white')\n",
    "    \n",
    "    \n",
    "    fig, ax = plt.subplots()\n",
    "    ax.pie(sizes, labels=labels, autopct='%1.1f%%', colors=colors, \n",
    "           wedgeprops = {\"edgecolor\" : \"black\", \n",
    "                      'linewidth': 2, \n",
    "                      'antialiased': True}, textprops={'fontsize': 24})\n",
    "    ax.set_title(title, fontsize=24)\n",
    "\n",
    "    \n",
    "    plt.tight_layout()\n"
   ]
  },
  {
   "cell_type": "code",
   "execution_count": null,
   "id": "ccbdd487-57f0-4828-8ba8-1a8a9fe1072c",
   "metadata": {
    "tags": []
   },
   "outputs": [],
   "source": [
    "feature_pie(labels=gbm_pie, sizes=[len(r3_CGr_cap50_int_gene), len(r3_CGr_cap50_bed)-len(r3_CGr_cap50_int_gene)], title=\"hyper-mCG limited\")\n",
    "plt.savefig(figurepath+'r3_CGr_cap50_GBMpie.pdf', dpi=350)"
   ]
  },
  {
   "cell_type": "code",
   "execution_count": null,
   "id": "e58110ad-dd21-4e10-a27b-ca4d4de45115",
   "metadata": {
    "tags": []
   },
   "outputs": [],
   "source": [
    "feature_pie(labels=gbm_pie, sizes=[len(r3_CGr_notcap50_int_gene), len(r3_CGr_endo_leaf_notcap50_bed)-len(r3_CGr_notcap50_int_gene)], title=\"not hyper-mCG limited\")\n",
    "plt.savefig(figurepath+'r3_CGr_notcap50_GBMpie.pdf', dpi=350)"
   ]
  },
  {
   "cell_type": "code",
   "execution_count": null,
   "id": "9e92736e-ad1d-4024-bdfb-91c3158e576f",
   "metadata": {
    "tags": []
   },
   "outputs": [],
   "source": [
    "feature_pie(labels=temerge_pie, sizes=[len(r3_CGr_cap50_int_TEmerge), len(r3_CGr_cap50_bed)-len(r3_CGr_cap50_int_TEmerge)], title=r3it+\" hyper-mCG limited regions\")\n",
    "plt.savefig(figurepath+'r3_CGr_cap50_TEmerge_pie.pdf', dpi=350)"
   ]
  },
  {
   "cell_type": "code",
   "execution_count": null,
   "id": "03e7c6f5-b56d-463f-9f51-95a115343be9",
   "metadata": {
    "tags": []
   },
   "outputs": [],
   "source": [
    "feature_pie(labels=temerge_pie, sizes=[len(r3_CGr_notcap50_int_TEmerge), len(r3_CGr_endo_leaf_notcap50_bed)-len(r3_CGr_notcap50_int_TEmerge)], title=r3it+\" hyper-mCG limited regions\")\n",
    "plt.savefig(figurepath+'r3_CGr_notcap50_TEmerge_pie.pdf', dpi=350)"
   ]
  },
  {
   "cell_type": "code",
   "execution_count": null,
   "id": "d53fb0ac-4ce5-4898-817e-fad74becb324",
   "metadata": {
    "tags": []
   },
   "outputs": [],
   "source": [
    "feature_pie(labels=gbm_pie, sizes=[len(r7_CGr_cap50_int_gene), len(r7_CGr_cap50_bed)-len(r7_CGr_cap50_int_gene)], title=r7it+\" hyper-mCG limited regions\")\n",
    "plt.savefig(figurepath+'r7_CGr_cap50_GBMpie.pdf', dpi=350)"
   ]
  },
  {
   "cell_type": "code",
   "execution_count": null,
   "id": "ea026cf5-3871-4cc7-b58a-9d4fbceaf812",
   "metadata": {
    "tags": []
   },
   "outputs": [],
   "source": [
    "feature_pie(labels=gbm_pie, sizes=[len(r7_CGr_notcap50_int_gene), len(r7_CGr_endo_leaf_notcap50_bed)-len(r7_CGr_notcap50_int_gene)], title=r7it+\" not hyper-mCG limited regions\")\n",
    "plt.savefig(figurepath+'r7_CGr_notcap50_GBMpie.pdf', dpi=350)"
   ]
  },
  {
   "cell_type": "code",
   "execution_count": null,
   "id": "44df5882-4403-4720-afad-a0111e6b9721",
   "metadata": {
    "tags": []
   },
   "outputs": [],
   "source": [
    "feature_pie(labels=temerge_pie, sizes=[len(r7_CGr_cap50_int_TEmerge), len(r7_CGr_cap50_bed)-len(r7_CGr_cap50_int_TEmerge)], title=r7it+\" hyper-mCG limited regions\")\n",
    "plt.savefig(figurepath+'r7_CGr_cap50_TEmerge_pie.pdf', dpi=350)"
   ]
  },
  {
   "cell_type": "code",
   "execution_count": null,
   "id": "1efa891e-dc93-41e5-8862-084c94bd8557",
   "metadata": {
    "tags": []
   },
   "outputs": [],
   "source": [
    "feature_pie(labels=temerge_pie, sizes=[len(r7_CGr_notcap50_int_TEmerge), len(r7_CGr_endo_leaf_notcap50_bed)-len(r7_CGr_notcap50_int_TEmerge)], title=r7it+\" hyper-mCG limited regions\")\n",
    "plt.savefig(figurepath+'r7_CGr_notcap50_TEmerge_pie.pdf', dpi=350)"
   ]
  },
  {
   "cell_type": "markdown",
   "id": "b2c7bf37-bc21-4a39-8885-2eb57ea18e23",
   "metadata": {
    "tags": []
   },
   "source": [
    "# mC sumby experiment 1 DMRs plotting"
   ]
  },
  {
   "cell_type": "markdown",
   "id": "c74fc29f-aebe-43ff-a98f-252f7ce3cab8",
   "metadata": {
    "jp-MarkdownHeadingCollapsed": true,
    "tags": []
   },
   "source": [
    "## sperm sumby"
   ]
  },
  {
   "cell_type": "code",
   "execution_count": null,
   "id": "2a760b5e-4b41-4e7a-be6e-708e3117e2c2",
   "metadata": {
    "tags": []
   },
   "outputs": [],
   "source": [
    "wt_sc_1_CG_sum_r3_CG=readindata('wt_sc_1_all_CpG_min5_sumby_r3_v_wt_CG.DMRs.hyper.bed')\n",
    "wt_sc_2_CG_sum_r3_CG=readindata('wt_sc_2_all_CpG_min5_sumby_r3_v_wt_CG.DMRs.hyper.bed')\n",
    "\n",
    "r3_sc_1_CG_sum_r3_CG=readindata('ros1_sc_1_all_CpG_min5_sumby_r3_v_wt_CG.DMRs.hyper.bed')\n",
    "r3_sc_2_CG_sum_r3_CG=readindata('ros1_sc_2_all_CpG_min5_sumby_r3_v_wt_CG.DMRs.hyper.bed')\n",
    "\n",
    "wt_sc_1_CHG_sum_r3_CHG=readindata('wt_sc_1_all_CHG_min5_sumby_r3_v_wt_CHG.DMRs.hyper.bed')\n",
    "wt_sc_2_CHG_sum_r3_CHG=readindata('wt_sc_2_all_CHG_min5_sumby_r3_v_wt_CHG.DMRs.hyper.bed')\n",
    "\n",
    "r3_sc_1_CHG_sum_r3_CHG=readindata('ros1_sc_1_all_CHG_min5_sumby_r3_v_wt_CHG.DMRs.hyper.bed')\n",
    "r3_sc_2_CHG_sum_r3_CHG=readindata('ros1_sc_2_all_CHG_min5_sumby_r3_v_wt_CHG.DMRs.hyper.bed')\n",
    "\n",
    "wt_sc_1_CHH_sum_r3_CHH=readindata('wt_sc_1_all_CHH_min5_sumby_r3_v_wt_CHH.DMRs.hyper.bed')\n",
    "wt_sc_2_CHH_sum_r3_CHH=readindata('wt_sc_2_all_CHH_min5_sumby_r3_v_wt_CHH.DMRs.hyper.bed')\n",
    "\n",
    "r3_sc_1_CHH_sum_r3_CHH=readindata('ros1_sc_1_all_CHH_min5_sumby_r3_v_wt_CHH.DMRs.hyper.bed')\n",
    "r3_sc_2_CHH_sum_r3_CHH=readindata('ros1_sc_2_all_CHH_min5_sumby_r3_v_wt_CHH.DMRs.hyper.bed')\n"
   ]
  },
  {
   "cell_type": "code",
   "execution_count": null,
   "id": "d132d395-478f-4e02-9824-471f86eb175a",
   "metadata": {
    "tags": []
   },
   "outputs": [],
   "source": [
    "def process_endo_leaf_sperm_sum (wt1,wt2,wt3,r71,r72,r73,r31,r32,r33,rdd1,rdd2,rdd3,wtl1,wtl2,wtl3,r7l1,r7l2,r7l3,r3l1,r3l2,r3l3,wtsc1,wtsc2,r3sc1,r3sc2):\n",
    "   \n",
    "    wtoutdf = wt1.merge(wt2, on=['chr','start','end'],how ='inner').merge(wt3,on=['chr','start','end'],how ='inner')\n",
    "    wtoutdf.columns=bigE_columns\n",
    "    \n",
    "    r7outdf = r71.merge(r72, on=['chr','start','end'],how ='inner').merge(r73,on=['chr','start','end'],how ='inner')\n",
    "    r7outdf.columns=['chr','start','end','r7_1_avg_methy','r7_1_nC','r7_2_avg_methy','r7_2_nC','r7_3_avg_methy','r7_3_nC']\n",
    "    \n",
    "    r3outdf = r31.merge(r32, on=['chr','start','end'],how ='inner').merge(r33,on=['chr','start','end'],how ='inner')\n",
    "    r3outdf.columns=['chr','start','end','r3_1_avg_methy','r3_1_nC','r3_2_avg_methy','r3_2_nC','r3_3_avg_methy','r3_3_nC']\n",
    "    \n",
    "    rddoutdf = rdd1.merge(rdd2, on=['chr','start','end'],how ='inner').merge(rdd3,on=['chr','start','end'],how ='inner')\n",
    "    rddoutdf.columns=['chr','start','end','rdd_1_avg_methy','rdd_1_nC','rdd_2_avg_methy','rdd_2_nC','rdd_3_avg_methy','rdd_3_nC']\n",
    "    \n",
    "    wtloutdf = wtl1.merge(wtl2, on=['chr','start','end'],how ='inner').merge(wtl3,on=['chr','start','end'],how ='inner')\n",
    "    wtloutdf.columns=['chr','start','end','wtl_1_avg_methy','wtl_1_nC','wtl_2_avg_methy','wtl_2_nC','wtl_3_avg_methy','wtl_3_nC']\n",
    "    \n",
    "    r7loutdf = r7l1.merge(r7l2, on=['chr','start','end'],how ='inner').merge(r7l3,on=['chr','start','end'],how ='inner')\n",
    "    r7loutdf.columns=['chr','start','end','r7l_1_avg_methy','r7l_1_nC','r7l_2_avg_methy','r7l_2_nC','r7l_3_avg_methy','r7l_3_nC']\n",
    "    \n",
    "    r3loutdf = r3l1.merge(r3l2, on=['chr','start','end'],how ='inner').merge(r3l3,on=['chr','start','end'],how ='inner')\n",
    "    r3loutdf.columns=['chr','start','end','r3l_1_avg_methy','r3l_1_nC','r3l_2_avg_methy','r3l_2_nC','r3l_3_avg_methy','r3l_3_nC']    \n",
    "\n",
    "    wtscoutdf = wtsc1.merge(wtsc2, on=['chr','start','end'],how ='inner')\n",
    "    wtscoutdf.columns=['chr','start','end','wtsc_1_avg_methy','wtsc_1_nC','wtsc_2_avg_methy','wtsc_2_nC']\n",
    "\n",
    "    r3scoutdf = r3sc1.merge(r3sc2, on=['chr','start','end'],how ='inner')\n",
    "    r3scoutdf.columns=['chr','start','end','r3sc_1_avg_methy','r3sc_1_nC','r3sc_2_avg_methy','r3sc_2_nC']\n",
    "\n",
    "    columns = ['chr','start','end']\n",
    "    \n",
    "    Eoutdf=wtoutdf.merge(r7outdf, on=columns,how='inner').merge(r3outdf, on=columns,how='inner').merge(rddoutdf, on=columns,how='inner')\n",
    "    Loutdf=wtloutdf.merge(r7loutdf, on=columns,how='inner').merge(r3loutdf, on=columns,how='inner')\n",
    "    Soutdf=wtscoutdf.merge(r3scoutdf, on=columns,how='inner')\n",
    "    \n",
    "    ELSoutdf=Eoutdf.merge(Loutdf, on=columns, how='inner').merge(Soutdf, on=columns, how='inner')\n",
    "    return ELSoutdf\n"
   ]
  },
  {
   "cell_type": "code",
   "execution_count": null,
   "id": "bfed37c0-d74b-4d7d-9adb-3d46df0c9d8c",
   "metadata": {
    "tags": []
   },
   "outputs": [],
   "source": [
    "r3_CGr_endo_leaf_sperm=process_endo_leaf_sperm_sum (wt_1_CG_sum_r3_CG,wt_2_CG_sum_r3_CG,wt_3_CG_sum_r3_CG,\n",
    "                       r7_1_CG_sum_r3_CG,r7_2_CG_sum_r3_CG,r7_3_CG_sum_r3_CG,\n",
    "                       r3_1_CG_sum_r3_CG,r3_2_CG_sum_r3_CG,r3_3_CG_sum_r3_CG,\n",
    "                       rdd_1_CG_sum_r3_CG,rdd_2_CG_sum_r3_CG,rdd_3_CG_sum_r3_CG,\n",
    "                       wtl_1_CG_sum_r3_CG,wtl_2_CG_sum_r3_CG,wtl_3_CG_sum_r3_CG,\n",
    "                       r7l_1_CG_sum_r3_CG,r7l_2_CG_sum_r3_CG,r7l_3_CG_sum_r3_CG,\n",
    "                       r3l_1_CG_sum_r3_CG,r3l_2_CG_sum_r3_CG,r3l_3_CG_sum_r3_CG,\n",
    "                                        wt_sc_1_CG_sum_r3_CG,wt_sc_2_CG_sum_r3_CG,\n",
    "                                        r3_sc_1_CG_sum_r3_CG,r3_sc_2_CG_sum_r3_CG)"
   ]
  },
  {
   "cell_type": "markdown",
   "id": "8441948b-61d4-4c0e-9dc0-e86222e843e2",
   "metadata": {
    "jp-MarkdownHeadingCollapsed": true,
    "tags": [],
    "toc-hr-collapsed": true
   },
   "source": [
    "## non-CG sumby data"
   ]
  },
  {
   "cell_type": "markdown",
   "id": "a7f1387b-813b-484f-8a57-81ea9266aea2",
   "metadata": {
    "jp-MarkdownHeadingCollapsed": true,
    "tags": []
   },
   "source": [
    "### bulk sumby bulk"
   ]
  },
  {
   "cell_type": "code",
   "execution_count": null,
   "id": "51625023-a8b2-4c15-801e-33acdfe78186",
   "metadata": {
    "tags": []
   },
   "outputs": [],
   "source": [
    "wt_1_CHG_sum_r3_CHG=readindata('wt_1_Col_spiked_CHG_sumby_r3_v_wt_CHG.DMRs.hyper.bed')\n",
    "wt_2_CHG_sum_r3_CHG=readindata('wt_2_Col_spiked_CHG_sumby_r3_v_wt_CHG.DMRs.hyper.bed')\n",
    "wt_3_CHG_sum_r3_CHG=readindata('wt_3_Col_spiked_CHG_sumby_r3_v_wt_CHG.DMRs.hyper.bed')\n",
    "\n",
    "r3_1_CHG_sum_r3_CHG=readindata('r3_1_Col_spiked_CHG_sumby_r3_v_wt_CHG.DMRs.hyper.bed')\n",
    "r3_2_CHG_sum_r3_CHG=readindata('r3_2_Col_spiked_CHG_sumby_r3_v_wt_CHG.DMRs.hyper.bed')\n",
    "r3_3_CHG_sum_r3_CHG=readindata('r3_3_Col_spiked_CHG_sumby_r3_v_wt_CHG.DMRs.hyper.bed')\n",
    "\n",
    "r7_1_CHG_sum_r3_CHG=readindata('r7_1_Col_spiked_CHG_sumby_r3_v_wt_CHG.DMRs.hyper.bed')\n",
    "r7_2_CHG_sum_r3_CHG=readindata('r7_2_Col_spiked_CHG_sumby_r3_v_wt_CHG.DMRs.hyper.bed')\n",
    "r7_3_CHG_sum_r3_CHG=readindata('r7_3_Col_spiked_CHG_sumby_r3_v_wt_CHG.DMRs.hyper.bed')\n",
    "\n",
    "rdd_1_CHG_sum_r3_CHG=readindata('rdd_1_Col_spiked_CHG_min5_sumby_r3_v_wt_CHG.DMRs.hyper.bed')\n",
    "rdd_2_CHG_sum_r3_CHG=readindata('rdd_2_Col_spiked_CHG_min5_sumby_r3_v_wt_CHG.DMRs.hyper.bed')\n",
    "rdd_3_CHG_sum_r3_CHG=readindata('rdd_3_Col_spiked_CHG_min5_sumby_r3_v_wt_CHG.DMRs.hyper.bed')\n",
    "\n",
    "wtl_1_CHG_sum_r3_CHG=readindata('wt_1_leaf_Col_spiked_CHG_sumby_r3_v_wt_CHG.DMRs.hyper.bed')\n",
    "wtl_2_CHG_sum_r3_CHG=readindata('wt_2_leaf_Col_spiked_CHG_sumby_r3_v_wt_CHG.DMRs.hyper.bed')\n",
    "wtl_3_CHG_sum_r3_CHG=readindata('wt_3_leaf_Col_spiked_CHG_sumby_r3_v_wt_CHG.DMRs.hyper.bed')\n",
    "\n",
    "r3l_1_CHG_sum_r3_CHG=readindata('r3_1_leaf_Col_spiked_CHG_sumby_r3_v_wt_CHG.DMRs.hyper.bed')\n",
    "r3l_2_CHG_sum_r3_CHG=readindata('r3_2_leaf_Col_spiked_CHG_sumby_r3_v_wt_CHG.DMRs.hyper.bed')\n",
    "r3l_3_CHG_sum_r3_CHG=readindata('r3_3_leaf_Col_spiked_CHG_sumby_r3_v_wt_CHG.DMRs.hyper.bed')\n",
    "\n",
    "r7l_1_CHG_sum_r3_CHG=readindata('r7_1_leaf_Col_spiked_CHG_sumby_r3_v_wt_CHG.DMRs.hyper.bed')\n",
    "r7l_2_CHG_sum_r3_CHG=readindata('r7_2_leaf_Col_spiked_CHG_sumby_r3_v_wt_CHG.DMRs.hyper.bed')\n",
    "r7l_3_CHG_sum_r3_CHG=readindata('r7_3_leaf_Col_spiked_CHG_sumby_r3_v_wt_CHG.DMRs.hyper.bed')\n"
   ]
  },
  {
   "cell_type": "code",
   "execution_count": null,
   "id": "52405202-5acb-4751-bf9d-08ef9d164a99",
   "metadata": {
    "tags": []
   },
   "outputs": [],
   "source": [
    "wt_1_CHG_sum_r7_CHG=readindata('wt_1_Col_spiked_CHG_sumby_r7_v_wt_CHG.DMRs.hyper.bed')\n",
    "wt_2_CHG_sum_r7_CHG=readindata('wt_2_Col_spiked_CHG_sumby_r7_v_wt_CHG.DMRs.hyper.bed')\n",
    "wt_3_CHG_sum_r7_CHG=readindata('wt_3_Col_spiked_CHG_sumby_r7_v_wt_CHG.DMRs.hyper.bed')\n",
    "\n",
    "r3_1_CHG_sum_r7_CHG=readindata('r3_1_Col_spiked_CHG_sumby_r7_v_wt_CHG.DMRs.hyper.bed')\n",
    "r3_2_CHG_sum_r7_CHG=readindata('r3_2_Col_spiked_CHG_sumby_r7_v_wt_CHG.DMRs.hyper.bed')\n",
    "r3_3_CHG_sum_r7_CHG=readindata('r3_3_Col_spiked_CHG_sumby_r7_v_wt_CHG.DMRs.hyper.bed')\n",
    "\n",
    "r7_1_CHG_sum_r7_CHG=readindata('r7_1_Col_spiked_CHG_sumby_r7_v_wt_CHG.DMRs.hyper.bed')\n",
    "r7_2_CHG_sum_r7_CHG=readindata('r7_2_Col_spiked_CHG_sumby_r7_v_wt_CHG.DMRs.hyper.bed')\n",
    "r7_3_CHG_sum_r7_CHG=readindata('r7_3_Col_spiked_CHG_sumby_r7_v_wt_CHG.DMRs.hyper.bed')\n",
    "\n",
    "\n",
    "rdd_1_CHG_sum_r7_CHG=readindata('rdd_1_Col_spiked_CHG_min5_sumby_r7_v_wt_CHG.DMRs.hyper.bed')\n",
    "rdd_2_CHG_sum_r7_CHG=readindata('rdd_2_Col_spiked_CHG_min5_sumby_r7_v_wt_CHG.DMRs.hyper.bed')\n",
    "rdd_3_CHG_sum_r7_CHG=readindata('rdd_3_Col_spiked_CHG_min5_sumby_r7_v_wt_CHG.DMRs.hyper.bed')\n",
    "\n",
    "\n",
    "wtl_1_CHG_sum_r7_CHG=readindata('wt_1_leaf_Col_spiked_CHG_sumby_r7_v_wt_CHG.DMRs.hyper.bed')\n",
    "wtl_2_CHG_sum_r7_CHG=readindata('wt_2_leaf_Col_spiked_CHG_sumby_r7_v_wt_CHG.DMRs.hyper.bed')\n",
    "wtl_3_CHG_sum_r7_CHG=readindata('wt_3_leaf_Col_spiked_CHG_sumby_r7_v_wt_CHG.DMRs.hyper.bed')\n",
    "\n",
    "r3l_1_CHG_sum_r7_CHG=readindata('r3_1_leaf_Col_spiked_CHG_sumby_r7_v_wt_CHG.DMRs.hyper.bed')\n",
    "r3l_2_CHG_sum_r7_CHG=readindata('r3_2_leaf_Col_spiked_CHG_sumby_r7_v_wt_CHG.DMRs.hyper.bed')\n",
    "r3l_3_CHG_sum_r7_CHG=readindata('r3_3_leaf_Col_spiked_CHG_sumby_r7_v_wt_CHG.DMRs.hyper.bed')\n",
    "\n",
    "r7l_1_CHG_sum_r7_CHG=readindata('r7_1_leaf_Col_spiked_CHG_sumby_r7_v_wt_CHG.DMRs.hyper.bed')\n",
    "r7l_2_CHG_sum_r7_CHG=readindata('r7_2_leaf_Col_spiked_CHG_sumby_r7_v_wt_CHG.DMRs.hyper.bed')\n",
    "r7l_3_CHG_sum_r7_CHG=readindata('r7_3_leaf_Col_spiked_CHG_sumby_r7_v_wt_CHG.DMRs.hyper.bed')\n"
   ]
  },
  {
   "cell_type": "code",
   "execution_count": null,
   "id": "396525b5-c4e7-4d47-a6ed-b818495e93a8",
   "metadata": {
    "tags": []
   },
   "outputs": [],
   "source": [
    "wt_1_CHH_sum_r3_CHH=readindata('wt_1_Col_spiked_CHH_sumby_r3_v_wt_CHH.DMRs.hyper.bed')\n",
    "wt_2_CHH_sum_r3_CHH=readindata('wt_2_Col_spiked_CHH_sumby_r3_v_wt_CHH.DMRs.hyper.bed')\n",
    "wt_3_CHH_sum_r3_CHH=readindata('wt_3_Col_spiked_CHH_sumby_r3_v_wt_CHH.DMRs.hyper.bed')\n",
    "\n",
    "r3_1_CHH_sum_r3_CHH=readindata('r3_1_Col_spiked_CHH_sumby_r3_v_wt_CHH.DMRs.hyper.bed')\n",
    "r3_2_CHH_sum_r3_CHH=readindata('r3_2_Col_spiked_CHH_sumby_r3_v_wt_CHH.DMRs.hyper.bed')\n",
    "r3_3_CHH_sum_r3_CHH=readindata('r3_3_Col_spiked_CHH_sumby_r3_v_wt_CHH.DMRs.hyper.bed')\n",
    "\n",
    "r7_1_CHH_sum_r3_CHH=readindata('r7_1_Col_spiked_CHH_sumby_r3_v_wt_CHH.DMRs.hyper.bed')\n",
    "r7_2_CHH_sum_r3_CHH=readindata('r7_2_Col_spiked_CHH_sumby_r3_v_wt_CHH.DMRs.hyper.bed')\n",
    "r7_3_CHH_sum_r3_CHH=readindata('r7_3_Col_spiked_CHH_sumby_r3_v_wt_CHH.DMRs.hyper.bed')\n",
    "\n",
    "\n",
    "rdd_1_CHH_sum_r3_CHH=readindata('rdd_1_Col_spiked_CHH_min5_sumby_r3_v_wt_CHH.DMRs.hyper.bed')\n",
    "rdd_2_CHH_sum_r3_CHH=readindata('rdd_2_Col_spiked_CHH_min5_sumby_r3_v_wt_CHH.DMRs.hyper.bed')\n",
    "rdd_3_CHH_sum_r3_CHH=readindata('rdd_3_Col_spiked_CHH_min5_sumby_r3_v_wt_CHH.DMRs.hyper.bed')\n",
    "\n",
    "wtl_1_CHH_sum_r3_CHH=readindata('wt_1_leaf_Col_spiked_CHH_sumby_r3_v_wt_CHH.DMRs.hyper.bed')\n",
    "wtl_2_CHH_sum_r3_CHH=readindata('wt_2_leaf_Col_spiked_CHH_sumby_r3_v_wt_CHH.DMRs.hyper.bed')\n",
    "wtl_3_CHH_sum_r3_CHH=readindata('wt_3_leaf_Col_spiked_CHH_sumby_r3_v_wt_CHH.DMRs.hyper.bed')\n",
    "\n",
    "r3l_1_CHH_sum_r3_CHH=readindata('r3_1_leaf_Col_spiked_CHH_sumby_r3_v_wt_CHH.DMRs.hyper.bed')\n",
    "r3l_2_CHH_sum_r3_CHH=readindata('r3_2_leaf_Col_spiked_CHH_sumby_r3_v_wt_CHH.DMRs.hyper.bed')\n",
    "r3l_3_CHH_sum_r3_CHH=readindata('r3_3_leaf_Col_spiked_CHH_sumby_r3_v_wt_CHH.DMRs.hyper.bed')\n",
    "\n",
    "r7l_1_CHH_sum_r3_CHH=readindata('r7_1_leaf_Col_spiked_CHH_sumby_r3_v_wt_CHH.DMRs.hyper.bed')\n",
    "r7l_2_CHH_sum_r3_CHH=readindata('r7_2_leaf_Col_spiked_CHH_sumby_r3_v_wt_CHH.DMRs.hyper.bed')\n",
    "r7l_3_CHH_sum_r3_CHH=readindata('r7_3_leaf_Col_spiked_CHH_sumby_r3_v_wt_CHH.DMRs.hyper.bed')\n"
   ]
  },
  {
   "cell_type": "code",
   "execution_count": null,
   "id": "13e93756-d42a-4ec9-bbef-69a4115f801b",
   "metadata": {
    "tags": []
   },
   "outputs": [],
   "source": [
    "wt_1_CHH_sum_r7_CHH=readindata('wt_1_Col_spiked_CHH_sumby_r7_v_wt_CHH.DMRs.hyper.bed')\n",
    "wt_2_CHH_sum_r7_CHH=readindata('wt_2_Col_spiked_CHH_sumby_r7_v_wt_CHH.DMRs.hyper.bed')\n",
    "wt_3_CHH_sum_r7_CHH=readindata('wt_3_Col_spiked_CHH_sumby_r7_v_wt_CHH.DMRs.hyper.bed')\n",
    "\n",
    "r3_1_CHH_sum_r7_CHH=readindata('r3_1_Col_spiked_CHH_sumby_r7_v_wt_CHH.DMRs.hyper.bed')\n",
    "r3_2_CHH_sum_r7_CHH=readindata('r3_2_Col_spiked_CHH_sumby_r7_v_wt_CHH.DMRs.hyper.bed')\n",
    "r3_3_CHH_sum_r7_CHH=readindata('r3_3_Col_spiked_CHH_sumby_r7_v_wt_CHH.DMRs.hyper.bed')\n",
    "\n",
    "r7_1_CHH_sum_r7_CHH=readindata('r7_1_Col_spiked_CHH_sumby_r7_v_wt_CHH.DMRs.hyper.bed')\n",
    "r7_2_CHH_sum_r7_CHH=readindata('r7_2_Col_spiked_CHH_sumby_r7_v_wt_CHH.DMRs.hyper.bed')\n",
    "r7_3_CHH_sum_r7_CHH=readindata('r7_3_Col_spiked_CHH_sumby_r7_v_wt_CHH.DMRs.hyper.bed')\n",
    "\n",
    "rdd_1_CHH_sum_r7_CHH=readindata('rdd_1_Col_spiked_CHH_min5_sumby_r7_v_wt_CHH.DMRs.hyper.bed')\n",
    "rdd_2_CHH_sum_r7_CHH=readindata('rdd_2_Col_spiked_CHH_min5_sumby_r7_v_wt_CHH.DMRs.hyper.bed')\n",
    "rdd_3_CHH_sum_r7_CHH=readindata('rdd_3_Col_spiked_CHH_min5_sumby_r7_v_wt_CHH.DMRs.hyper.bed')\n",
    "\n",
    "wtl_1_CHH_sum_r7_CHH=readindata('wt_1_leaf_Col_spiked_CHH_sumby_r7_v_wt_CHH.DMRs.hyper.bed')\n",
    "wtl_2_CHH_sum_r7_CHH=readindata('wt_2_leaf_Col_spiked_CHH_sumby_r7_v_wt_CHH.DMRs.hyper.bed')\n",
    "wtl_3_CHH_sum_r7_CHH=readindata('wt_3_leaf_Col_spiked_CHH_sumby_r7_v_wt_CHH.DMRs.hyper.bed')\n",
    "\n",
    "r3l_1_CHH_sum_r7_CHH=readindata('r3_1_leaf_Col_spiked_CHH_sumby_r7_v_wt_CHH.DMRs.hyper.bed')\n",
    "r3l_2_CHH_sum_r7_CHH=readindata('r3_2_leaf_Col_spiked_CHH_sumby_r7_v_wt_CHH.DMRs.hyper.bed')\n",
    "r3l_3_CHH_sum_r7_CHH=readindata('r3_3_leaf_Col_spiked_CHH_sumby_r7_v_wt_CHH.DMRs.hyper.bed')\n",
    "\n",
    "r7l_1_CHH_sum_r7_CHH=readindata('r7_1_leaf_Col_spiked_CHH_sumby_r7_v_wt_CHH.DMRs.hyper.bed')\n",
    "r7l_2_CHH_sum_r7_CHH=readindata('r7_2_leaf_Col_spiked_CHH_sumby_r7_v_wt_CHH.DMRs.hyper.bed')\n",
    "r7l_3_CHH_sum_r7_CHH=readindata('r7_3_leaf_Col_spiked_CHH_sumby_r7_v_wt_CHH.DMRs.hyper.bed')\n"
   ]
  },
  {
   "cell_type": "markdown",
   "id": "fead60d9-da15-4f61-8f4e-4a677e354d30",
   "metadata": {
    "jp-MarkdownHeadingCollapsed": true,
    "tags": []
   },
   "source": [
    "## nonCG big dataframes"
   ]
  },
  {
   "cell_type": "code",
   "execution_count": null,
   "id": "266bc1e7-46ee-4798-80af-942488b3a1d9",
   "metadata": {
    "tags": []
   },
   "outputs": [],
   "source": [
    "r3_CHGr_endo_leaf_sperm=process_endo_leaf_sperm_sum (wt_1_CHG_sum_r3_CHG,wt_2_CHG_sum_r3_CHG,wt_3_CHG_sum_r3_CHG,\n",
    "                       r7_1_CHG_sum_r3_CHG,r7_2_CHG_sum_r3_CHG,r7_3_CHG_sum_r3_CHG,\n",
    "                       r3_1_CHG_sum_r3_CHG,r3_2_CHG_sum_r3_CHG,r3_3_CHG_sum_r3_CHG,\n",
    "                       rdd_1_CHG_sum_r3_CHG,rdd_2_CHG_sum_r3_CHG,rdd_3_CHG_sum_r3_CHG, \n",
    "                       wtl_1_CHG_sum_r3_CHG,wtl_2_CHG_sum_r3_CHG,wtl_3_CHG_sum_r3_CHG,\n",
    "                       r7l_1_CHG_sum_r3_CHG,r7l_2_CHG_sum_r3_CHG,r7l_3_CHG_sum_r3_CHG,\n",
    "                       r3l_1_CHG_sum_r3_CHG,r3l_2_CHG_sum_r3_CHG,r3l_3_CHG_sum_r3_CHG,\n",
    "                                        wt_sc_1_CHG_sum_r3_CHG,wt_sc_2_CHG_sum_r3_CHG,\n",
    "                                        r3_sc_1_CHG_sum_r3_CHG,r3_sc_2_CHG_sum_r3_CHG)"
   ]
  },
  {
   "cell_type": "code",
   "execution_count": null,
   "id": "7b065ef9-1d58-4555-b126-6a68e7f182dc",
   "metadata": {
    "tags": []
   },
   "outputs": [],
   "source": [
    "r3_CHHr_endo_leaf_sperm=process_endo_leaf_sperm_sum (wt_1_CHH_sum_r3_CHH,wt_2_CHH_sum_r3_CHH,wt_3_CHH_sum_r3_CHH,\n",
    "                       r7_1_CHH_sum_r3_CHH,r7_2_CHH_sum_r3_CHH,r7_3_CHH_sum_r3_CHH,\n",
    "                       r3_1_CHH_sum_r3_CHH,r3_2_CHH_sum_r3_CHH,r3_3_CHH_sum_r3_CHH,\n",
    "                       rdd_1_CHH_sum_r3_CHH,rdd_2_CHH_sum_r3_CHH,rdd_3_CHH_sum_r3_CHH,\n",
    "                       wtl_1_CHH_sum_r3_CHH,wtl_2_CHH_sum_r3_CHH,wtl_3_CHH_sum_r3_CHH,\n",
    "                       r7l_1_CHH_sum_r3_CHH,r7l_2_CHH_sum_r3_CHH,r7l_3_CHH_sum_r3_CHH,\n",
    "                       r3l_1_CHH_sum_r3_CHH,r3l_2_CHH_sum_r3_CHH,r3l_3_CHH_sum_r3_CHH,\n",
    "                                        wt_sc_1_CHH_sum_r3_CHH,wt_sc_2_CHH_sum_r3_CHH,\n",
    "                                        r3_sc_1_CHH_sum_r3_CHH,r3_sc_2_CHH_sum_r3_CHH)"
   ]
  },
  {
   "cell_type": "code",
   "execution_count": null,
   "id": "1e982e6b-b706-4942-836b-696f2d939cd5",
   "metadata": {
    "tags": []
   },
   "outputs": [],
   "source": [
    "r3_CHGr_endo_leaf=process_endo_leaf_sum (wt_1_CHG_sum_r3_CHG,wt_2_CHG_sum_r3_CHG,wt_3_CHG_sum_r3_CHG,\n",
    "                       r7_1_CHG_sum_r3_CHG,r7_2_CHG_sum_r3_CHG,r7_3_CHG_sum_r3_CHG,\n",
    "                       r3_1_CHG_sum_r3_CHG,r3_2_CHG_sum_r3_CHG,r3_3_CHG_sum_r3_CHG,\n",
    "                       rdd_1_CHG_sum_r3_CHG,rdd_2_CHG_sum_r3_CHG,rdd_3_CHG_sum_r3_CHG, \n",
    "                       wtl_1_CHG_sum_r3_CHG,wtl_2_CHG_sum_r3_CHG,wtl_3_CHG_sum_r3_CHG,\n",
    "                       r7l_1_CHG_sum_r3_CHG,r7l_2_CHG_sum_r3_CHG,r7l_3_CHG_sum_r3_CHG,\n",
    "                       r3l_1_CHG_sum_r3_CHG,r3l_2_CHG_sum_r3_CHG,r3l_3_CHG_sum_r3_CHG, feature_df=None)"
   ]
  },
  {
   "cell_type": "code",
   "execution_count": null,
   "id": "a5227962-ba6e-4b17-8506-ad25136d0d65",
   "metadata": {
    "tags": []
   },
   "outputs": [],
   "source": [
    "r3_CHHr_endo_leaf=process_endo_leaf_sum (wt_1_CHH_sum_r3_CHH,wt_2_CHH_sum_r3_CHH,wt_3_CHH_sum_r3_CHH,\n",
    "                       r7_1_CHH_sum_r3_CHH,r7_2_CHH_sum_r3_CHH,r7_3_CHH_sum_r3_CHH,\n",
    "                       r3_1_CHH_sum_r3_CHH,r3_2_CHH_sum_r3_CHH,r3_3_CHH_sum_r3_CHH,\n",
    "                       rdd_1_CHH_sum_r3_CHH,rdd_2_CHH_sum_r3_CHH,rdd_3_CHH_sum_r3_CHH,\n",
    "                       wtl_1_CHH_sum_r3_CHH,wtl_2_CHH_sum_r3_CHH,wtl_3_CHH_sum_r3_CHH,\n",
    "                       r7l_1_CHH_sum_r3_CHH,r7l_2_CHH_sum_r3_CHH,r7l_3_CHH_sum_r3_CHH,\n",
    "                       r3l_1_CHH_sum_r3_CHH,r3l_2_CHH_sum_r3_CHH,r3l_3_CHH_sum_r3_CHH, feature_df=None)"
   ]
  },
  {
   "cell_type": "code",
   "execution_count": null,
   "id": "23970bbf-9fac-4fbd-bea6-70e72b75618b",
   "metadata": {
    "tags": []
   },
   "outputs": [],
   "source": [
    "r7_CHGr_endo_leaf=process_endo_leaf_sum (wt_1_CHG_sum_r7_CHG,wt_2_CHG_sum_r7_CHG,wt_3_CHG_sum_r7_CHG,\n",
    "                       r7_1_CHG_sum_r7_CHG,r7_2_CHG_sum_r7_CHG,r7_3_CHG_sum_r7_CHG,\n",
    "                       r3_1_CHG_sum_r7_CHG,r3_2_CHG_sum_r7_CHG,r3_3_CHG_sum_r7_CHG,\n",
    "                       rdd_1_CHG_sum_r7_CHG,rdd_2_CHG_sum_r7_CHG,rdd_3_CHG_sum_r7_CHG, \n",
    "                       wtl_1_CHG_sum_r7_CHG,wtl_2_CHG_sum_r7_CHG,wtl_3_CHG_sum_r7_CHG,\n",
    "                       r7l_1_CHG_sum_r7_CHG,r7l_2_CHG_sum_r7_CHG,r7l_3_CHG_sum_r7_CHG,\n",
    "                       r3l_1_CHG_sum_r7_CHG,r3l_2_CHG_sum_r7_CHG,r3l_3_CHG_sum_r7_CHG, feature_df=None)"
   ]
  },
  {
   "cell_type": "code",
   "execution_count": null,
   "id": "1a07beeb-46d9-470a-aeba-3966d08d6671",
   "metadata": {
    "tags": []
   },
   "outputs": [],
   "source": [
    "r7_CHHr_endo_leaf=process_endo_leaf_sum (wt_1_CHH_sum_r7_CHH,wt_2_CHH_sum_r7_CHH,wt_3_CHH_sum_r7_CHH,\n",
    "                       r7_1_CHH_sum_r7_CHH,r7_2_CHH_sum_r7_CHH,r7_3_CHH_sum_r7_CHH,\n",
    "                       r3_1_CHH_sum_r7_CHH,r3_2_CHH_sum_r7_CHH,r3_3_CHH_sum_r7_CHH,\n",
    "                       rdd_1_CHH_sum_r7_CHH,rdd_2_CHH_sum_r7_CHH,rdd_3_CHH_sum_r7_CHH, \n",
    "                       wtl_1_CHH_sum_r7_CHH,wtl_2_CHH_sum_r7_CHH,wtl_3_CHH_sum_r7_CHH,\n",
    "                       r7l_1_CHH_sum_r7_CHH,r7l_2_CHH_sum_r7_CHH,r7l_3_CHH_sum_r7_CHH,\n",
    "                       r3l_1_CHH_sum_r7_CHH,r3l_2_CHH_sum_r7_CHH,r3l_3_CHH_sum_r7_CHH, feature_df=None)"
   ]
  },
  {
   "cell_type": "markdown",
   "id": "79479181-54a9-4693-941d-e4c4df389cd4",
   "metadata": {
    "jp-MarkdownHeadingCollapsed": true,
    "tags": []
   },
   "source": [
    "## allelic sumby bulk DMRs"
   ]
  },
  {
   "cell_type": "code",
   "execution_count": null,
   "id": "5ccf8a32-7450-49aa-a748-70d7e95e4029",
   "metadata": {
    "tags": []
   },
   "outputs": [],
   "source": [
    "sumpath=path+\"sumby_features/allelic_data_sumby_dmrs_outputs/\"\n",
    "Col_mat_1_CG_sum_r3_CG=readindata('ColxC24_1_Col_spiked_CG_sumby_r3_v_wt_CG_hyper.bed')\n",
    "Col_mat_2_CG_sum_r3_CG=readindata('ColxC24_2_Col_spiked_CG_sumby_r3_v_wt_CG_hyper.bed')\n",
    "Col_mat_3_CG_sum_r3_CG=readindata('ColxC24_3_Col_spiked_CG_sumby_r3_v_wt_CG_hyper.bed')\n",
    "\n",
    "Col_pat_1_CG_sum_r3_CG=readindata('C24xCol_1_Col_spiked_CG_sumby_r3_v_wt_CG_hyper.bed')\n",
    "Col_pat_2_CG_sum_r3_CG=readindata('C24xCol_2_Col_spiked_CG_sumby_r3_v_wt_CG_hyper.bed')\n",
    "Col_pat_3_CG_sum_r3_CG=readindata('C24xCol_3_Col_spiked_CG_sumby_r3_v_wt_CG_hyper.bed')\n",
    "\n",
    "C24_mat_1_CG_sum_r3_CG=readindata('C24xCol_1_C24_pseudo_CG_sumby_r3_v_wt_CG_hyper.bed')\n",
    "C24_mat_2_CG_sum_r3_CG=readindata('C24xCol_2_C24_pseudo_CG_sumby_r3_v_wt_CG_hyper.bed')\n",
    "C24_mat_3_CG_sum_r3_CG=readindata('C24xCol_3_C24_pseudo_CG_sumby_r3_v_wt_CG_hyper.bed')\n",
    "\n",
    "C24_pat_1_CG_sum_r3_CG=readindata('ColxC24_1_C24_pseudo_CG_sumby_r3_v_wt_CG_hyper.bed')\n",
    "C24_pat_2_CG_sum_r3_CG=readindata('ColxC24_2_C24_pseudo_CG_sumby_r3_v_wt_CG_hyper.bed')\n",
    "C24_pat_3_CG_sum_r3_CG=readindata('ColxC24_3_C24_pseudo_CG_sumby_r3_v_wt_CG_hyper.bed')\n",
    "\n",
    "r3_mat_1_CG_sum_r3_CG=readindata('r3xr1_1_Col_spiked_CG_sumby_r3_v_wt_CG_hyper.bed')\n",
    "r3_mat_2_CG_sum_r3_CG=readindata('r3xr1_2_Col_spiked_CG_sumby_r3_v_wt_CG_hyper.bed')\n",
    "r3_mat_3_CG_sum_r3_CG=readindata('r3xr1_3_Col_spiked_CG_sumby_r3_v_wt_CG_hyper.bed')\n",
    "\n",
    "r3_pat_1_CG_sum_r3_CG=readindata('r1xr3_1_Col_spiked_CG_sumby_r3_v_wt_CG_hyper.bed')\n",
    "r3_pat_2_CG_sum_r3_CG=readindata('r1xr3_2_Col_spiked_CG_sumby_r3_v_wt_CG_hyper.bed')\n",
    "r3_pat_3_CG_sum_r3_CG=readindata('r1xr3_3_Col_spiked_CG_sumby_r3_v_wt_CG_hyper.bed')\n",
    "\n",
    "r1_mat_1_CG_sum_r3_CG=readindata('r1xr3_1_C24_pseudo_CG_sumby_r3_v_wt_CG_hyper.bed')\n",
    "r1_mat_2_CG_sum_r3_CG=readindata('r1xr3_2_C24_pseudo_CG_sumby_r3_v_wt_CG_hyper.bed')\n",
    "r1_mat_3_CG_sum_r3_CG=readindata('r1xr3_3_C24_pseudo_CG_sumby_r3_v_wt_CG_hyper.bed')\n",
    "\n",
    "r1_pat_1_CG_sum_r3_CG=readindata('r3xr1_1_C24_pseudo_CG_sumby_r3_v_wt_CG_hyper.bed')\n",
    "r1_pat_2_CG_sum_r3_CG=readindata('r3xr1_2_C24_pseudo_CG_sumby_r3_v_wt_CG_hyper.bed')\n",
    "r1_pat_3_CG_sum_r3_CG=readindata('r3xr1_3_C24_pseudo_CG_sumby_r3_v_wt_CG_hyper.bed')\n"
   ]
  },
  {
   "cell_type": "code",
   "execution_count": null,
   "id": "e0ae2c05-c740-415d-9427-6626d73d5d70",
   "metadata": {
    "tags": []
   },
   "outputs": [],
   "source": [
    "Col_mat_1_CG_sum_r3_CHG=readindata('ColxC24_1_Col_spiked_CG_sumby_r3_v_wt_CHG_hyper.bed')\n",
    "Col_mat_2_CG_sum_r3_CHG=readindata('ColxC24_2_Col_spiked_CG_sumby_r3_v_wt_CHG_hyper.bed')\n",
    "Col_mat_3_CG_sum_r3_CHG=readindata('ColxC24_3_Col_spiked_CG_sumby_r3_v_wt_CHG_hyper.bed')\n",
    "\n",
    "Col_pat_1_CG_sum_r3_CHG=readindata('C24xCol_1_Col_spiked_CG_sumby_r3_v_wt_CHG_hyper.bed')\n",
    "Col_pat_2_CG_sum_r3_CHG=readindata('C24xCol_2_Col_spiked_CG_sumby_r3_v_wt_CHG_hyper.bed')\n",
    "Col_pat_3_CG_sum_r3_CHG=readindata('C24xCol_3_Col_spiked_CG_sumby_r3_v_wt_CHG_hyper.bed')\n",
    "\n",
    "C24_mat_1_CG_sum_r3_CHG=readindata('C24xCol_1_C24_pseudo_CG_sumby_r3_v_wt_CHG_hyper.bed')\n",
    "C24_mat_2_CG_sum_r3_CHG=readindata('C24xCol_2_C24_pseudo_CG_sumby_r3_v_wt_CHG_hyper.bed')\n",
    "C24_mat_3_CG_sum_r3_CHG=readindata('C24xCol_3_C24_pseudo_CG_sumby_r3_v_wt_CHG_hyper.bed')\n",
    "\n",
    "C24_pat_1_CG_sum_r3_CHG=readindata('ColxC24_1_C24_pseudo_CG_sumby_r3_v_wt_CHG_hyper.bed')\n",
    "C24_pat_2_CG_sum_r3_CHG=readindata('ColxC24_2_C24_pseudo_CG_sumby_r3_v_wt_CHG_hyper.bed')\n",
    "C24_pat_3_CG_sum_r3_CHG=readindata('ColxC24_3_C24_pseudo_CG_sumby_r3_v_wt_CHG_hyper.bed')\n",
    "\n",
    "r3_mat_1_CG_sum_r3_CHG=readindata('r3xr1_1_Col_spiked_CG_sumby_r3_v_wt_CHG_hyper.bed')\n",
    "r3_mat_2_CG_sum_r3_CHG=readindata('r3xr1_2_Col_spiked_CG_sumby_r3_v_wt_CHG_hyper.bed')\n",
    "r3_mat_3_CG_sum_r3_CHG=readindata('r3xr1_3_Col_spiked_CG_sumby_r3_v_wt_CHG_hyper.bed')\n",
    "\n",
    "r3_pat_1_CG_sum_r3_CHG=readindata('r1xr3_1_Col_spiked_CG_sumby_r3_v_wt_CHG_hyper.bed')\n",
    "r3_pat_2_CG_sum_r3_CHG=readindata('r1xr3_2_Col_spiked_CG_sumby_r3_v_wt_CHG_hyper.bed')\n",
    "r3_pat_3_CG_sum_r3_CHG=readindata('r1xr3_3_Col_spiked_CG_sumby_r3_v_wt_CHG_hyper.bed')\n",
    "\n",
    "r1_mat_1_CG_sum_r3_CHG=readindata('r1xr3_1_C24_pseudo_CG_sumby_r3_v_wt_CHG_hyper.bed')\n",
    "r1_mat_2_CG_sum_r3_CHG=readindata('r1xr3_2_C24_pseudo_CG_sumby_r3_v_wt_CHG_hyper.bed')\n",
    "r1_mat_3_CG_sum_r3_CHG=readindata('r1xr3_3_C24_pseudo_CG_sumby_r3_v_wt_CHG_hyper.bed')\n",
    "\n",
    "r1_pat_1_CG_sum_r3_CHG=readindata('r3xr1_1_C24_pseudo_CG_sumby_r3_v_wt_CHG_hyper.bed')\n",
    "r1_pat_2_CG_sum_r3_CHG=readindata('r3xr1_2_C24_pseudo_CG_sumby_r3_v_wt_CHG_hyper.bed')\n",
    "r1_pat_3_CG_sum_r3_CHG=readindata('r3xr1_3_C24_pseudo_CG_sumby_r3_v_wt_CHG_hyper.bed')\n"
   ]
  },
  {
   "cell_type": "code",
   "execution_count": null,
   "id": "97e56855-35a8-46d9-bbc3-7ae468ca017f",
   "metadata": {
    "tags": []
   },
   "outputs": [],
   "source": [
    "Col_mat_1_CG_sum_r3_CHH=readindata('ColxC24_1_Col_spiked_CG_sumby_r3_v_wt_CHH_hyper.bed')\n",
    "Col_mat_2_CG_sum_r3_CHH=readindata('ColxC24_2_Col_spiked_CG_sumby_r3_v_wt_CHH_hyper.bed')\n",
    "Col_mat_3_CG_sum_r3_CHH=readindata('ColxC24_3_Col_spiked_CG_sumby_r3_v_wt_CHH_hyper.bed')\n",
    "\n",
    "Col_pat_1_CG_sum_r3_CHH=readindata('C24xCol_1_Col_spiked_CG_sumby_r3_v_wt_CHH_hyper.bed')\n",
    "Col_pat_2_CG_sum_r3_CHH=readindata('C24xCol_2_Col_spiked_CG_sumby_r3_v_wt_CHH_hyper.bed')\n",
    "Col_pat_3_CG_sum_r3_CHH=readindata('C24xCol_3_Col_spiked_CG_sumby_r3_v_wt_CHH_hyper.bed')\n",
    "\n",
    "C24_mat_1_CG_sum_r3_CHH=readindata('C24xCol_1_C24_pseudo_CG_sumby_r3_v_wt_CHH_hyper.bed')\n",
    "C24_mat_2_CG_sum_r3_CHH=readindata('C24xCol_2_C24_pseudo_CG_sumby_r3_v_wt_CHH_hyper.bed')\n",
    "C24_mat_3_CG_sum_r3_CHH=readindata('C24xCol_3_C24_pseudo_CG_sumby_r3_v_wt_CHH_hyper.bed')\n",
    "\n",
    "C24_pat_1_CG_sum_r3_CHH=readindata('ColxC24_1_C24_pseudo_CG_sumby_r3_v_wt_CHH_hyper.bed')\n",
    "C24_pat_2_CG_sum_r3_CHH=readindata('ColxC24_2_C24_pseudo_CG_sumby_r3_v_wt_CHH_hyper.bed')\n",
    "C24_pat_3_CG_sum_r3_CHH=readindata('ColxC24_3_C24_pseudo_CG_sumby_r3_v_wt_CHH_hyper.bed')\n",
    "\n",
    "r3_mat_1_CG_sum_r3_CHH=readindata('r3xr1_1_Col_spiked_CG_sumby_r3_v_wt_CHH_hyper.bed')\n",
    "r3_mat_2_CG_sum_r3_CHH=readindata('r3xr1_2_Col_spiked_CG_sumby_r3_v_wt_CHH_hyper.bed')\n",
    "r3_mat_3_CG_sum_r3_CHH=readindata('r3xr1_3_Col_spiked_CG_sumby_r3_v_wt_CHH_hyper.bed')\n",
    "\n",
    "r3_pat_1_CG_sum_r3_CHH=readindata('r1xr3_1_Col_spiked_CG_sumby_r3_v_wt_CHH_hyper.bed')\n",
    "r3_pat_2_CG_sum_r3_CHH=readindata('r1xr3_2_Col_spiked_CG_sumby_r3_v_wt_CHH_hyper.bed')\n",
    "r3_pat_3_CG_sum_r3_CHH=readindata('r1xr3_3_Col_spiked_CG_sumby_r3_v_wt_CHH_hyper.bed')\n",
    "\n",
    "r1_mat_1_CG_sum_r3_CHH=readindata('r1xr3_1_C24_pseudo_CG_sumby_r3_v_wt_CHH_hyper.bed')\n",
    "r1_mat_2_CG_sum_r3_CHH=readindata('r1xr3_2_C24_pseudo_CG_sumby_r3_v_wt_CHH_hyper.bed')\n",
    "r1_mat_3_CG_sum_r3_CHH=readindata('r1xr3_3_C24_pseudo_CG_sumby_r3_v_wt_CHH_hyper.bed')\n",
    "\n",
    "r1_pat_1_CG_sum_r3_CHH=readindata('r3xr1_1_C24_pseudo_CG_sumby_r3_v_wt_CHH_hyper.bed')\n",
    "r1_pat_2_CG_sum_r3_CHH=readindata('r3xr1_2_C24_pseudo_CG_sumby_r3_v_wt_CHH_hyper.bed')\n",
    "r1_pat_3_CG_sum_r3_CHH=readindata('r3xr1_3_C24_pseudo_CG_sumby_r3_v_wt_CHH_hyper.bed')\n"
   ]
  },
  {
   "cell_type": "code",
   "execution_count": null,
   "id": "2a2f8022-452f-44e7-acdd-a7b451c82280",
   "metadata": {
    "tags": []
   },
   "outputs": [],
   "source": [
    "Col_mat_1_CHG_sum_r3_CHG=readindata('ColxC24_1_Col_spiked_CHG_sumby_r3_v_wt_CHG_hyper.bed')\n",
    "Col_mat_2_CHG_sum_r3_CHG=readindata('ColxC24_2_Col_spiked_CHG_sumby_r3_v_wt_CHG_hyper.bed')\n",
    "Col_mat_3_CHG_sum_r3_CHG=readindata('ColxC24_3_Col_spiked_CHG_sumby_r3_v_wt_CHG_hyper.bed')\n",
    "\n",
    "Col_pat_1_CHG_sum_r3_CHG=readindata('C24xCol_1_Col_spiked_CHG_sumby_r3_v_wt_CHG_hyper.bed')\n",
    "Col_pat_2_CHG_sum_r3_CHG=readindata('C24xCol_2_Col_spiked_CHG_sumby_r3_v_wt_CHG_hyper.bed')\n",
    "Col_pat_3_CHG_sum_r3_CHG=readindata('C24xCol_3_Col_spiked_CHG_sumby_r3_v_wt_CHG_hyper.bed')\n",
    "\n",
    "C24_mat_1_CHG_sum_r3_CHG=readindata('C24xCol_1_C24_pseudo_CHG_sumby_r3_v_wt_CHG_hyper.bed')\n",
    "C24_mat_2_CHG_sum_r3_CHG=readindata('C24xCol_2_C24_pseudo_CHG_sumby_r3_v_wt_CHG_hyper.bed')\n",
    "C24_mat_3_CHG_sum_r3_CHG=readindata('C24xCol_3_C24_pseudo_CHG_sumby_r3_v_wt_CHG_hyper.bed')\n",
    "\n",
    "C24_pat_1_CHG_sum_r3_CHG=readindata('ColxC24_1_C24_pseudo_CHG_sumby_r3_v_wt_CHG_hyper.bed')\n",
    "C24_pat_2_CHG_sum_r3_CHG=readindata('ColxC24_2_C24_pseudo_CHG_sumby_r3_v_wt_CHG_hyper.bed')\n",
    "C24_pat_3_CHG_sum_r3_CHG=readindata('ColxC24_3_C24_pseudo_CHG_sumby_r3_v_wt_CHG_hyper.bed')\n",
    "\n",
    "r3_mat_1_CHG_sum_r3_CHG=readindata('r3xr1_1_Col_spiked_CHG_sumby_r3_v_wt_CHG_hyper.bed')\n",
    "r3_mat_2_CHG_sum_r3_CHG=readindata('r3xr1_2_Col_spiked_CHG_sumby_r3_v_wt_CHG_hyper.bed')\n",
    "r3_mat_3_CHG_sum_r3_CHG=readindata('r3xr1_3_Col_spiked_CHG_sumby_r3_v_wt_CHG_hyper.bed')\n",
    "\n",
    "r3_pat_1_CHG_sum_r3_CHG=readindata('r1xr3_1_Col_spiked_CHG_sumby_r3_v_wt_CHG_hyper.bed')\n",
    "r3_pat_2_CHG_sum_r3_CHG=readindata('r1xr3_2_Col_spiked_CHG_sumby_r3_v_wt_CHG_hyper.bed')\n",
    "r3_pat_3_CHG_sum_r3_CHG=readindata('r1xr3_3_Col_spiked_CHG_sumby_r3_v_wt_CHG_hyper.bed')\n",
    "\n",
    "r1_mat_1_CHG_sum_r3_CHG=readindata('r1xr3_1_C24_pseudo_CHG_sumby_r3_v_wt_CHG_hyper.bed')\n",
    "r1_mat_2_CHG_sum_r3_CHG=readindata('r1xr3_2_C24_pseudo_CHG_sumby_r3_v_wt_CHG_hyper.bed')\n",
    "r1_mat_3_CHG_sum_r3_CHG=readindata('r1xr3_3_C24_pseudo_CHG_sumby_r3_v_wt_CHG_hyper.bed')\n",
    "\n",
    "r1_pat_1_CHG_sum_r3_CHG=readindata('r3xr1_1_C24_pseudo_CHG_sumby_r3_v_wt_CHG_hyper.bed')\n",
    "r1_pat_2_CHG_sum_r3_CHG=readindata('r3xr1_2_C24_pseudo_CHG_sumby_r3_v_wt_CHG_hyper.bed')\n",
    "r1_pat_3_CHG_sum_r3_CHG=readindata('r3xr1_3_C24_pseudo_CHG_sumby_r3_v_wt_CHG_hyper.bed')\n"
   ]
  },
  {
   "cell_type": "code",
   "execution_count": null,
   "id": "551073b4-d472-4841-b19a-bb03ebbb0ec4",
   "metadata": {
    "tags": []
   },
   "outputs": [],
   "source": [
    "Col_mat_1_CHG_sum_r3_CG=readindata('ColxC24_1_Col_spiked_CHG_sumby_r3_v_wt_CG_hyper.bed')\n",
    "Col_mat_2_CHG_sum_r3_CG=readindata('ColxC24_2_Col_spiked_CHG_sumby_r3_v_wt_CG_hyper.bed')\n",
    "Col_mat_3_CHG_sum_r3_CG=readindata('ColxC24_3_Col_spiked_CHG_sumby_r3_v_wt_CG_hyper.bed')\n",
    "\n",
    "Col_pat_1_CHG_sum_r3_CG=readindata('C24xCol_1_Col_spiked_CHG_sumby_r3_v_wt_CG_hyper.bed')\n",
    "Col_pat_2_CHG_sum_r3_CG=readindata('C24xCol_2_Col_spiked_CHG_sumby_r3_v_wt_CG_hyper.bed')\n",
    "Col_pat_3_CHG_sum_r3_CG=readindata('C24xCol_3_Col_spiked_CHG_sumby_r3_v_wt_CG_hyper.bed')\n",
    "\n",
    "C24_mat_1_CHG_sum_r3_CG=readindata('C24xCol_1_C24_pseudo_CHG_sumby_r3_v_wt_CG_hyper.bed')\n",
    "C24_mat_2_CHG_sum_r3_CG=readindata('C24xCol_2_C24_pseudo_CHG_sumby_r3_v_wt_CG_hyper.bed')\n",
    "C24_mat_3_CHG_sum_r3_CG=readindata('C24xCol_3_C24_pseudo_CHG_sumby_r3_v_wt_CG_hyper.bed')\n",
    "\n",
    "C24_pat_1_CHG_sum_r3_CG=readindata('ColxC24_1_C24_pseudo_CHG_sumby_r3_v_wt_CG_hyper.bed')\n",
    "C24_pat_2_CHG_sum_r3_CG=readindata('ColxC24_2_C24_pseudo_CHG_sumby_r3_v_wt_CG_hyper.bed')\n",
    "C24_pat_3_CHG_sum_r3_CG=readindata('ColxC24_3_C24_pseudo_CHG_sumby_r3_v_wt_CG_hyper.bed')\n",
    "\n",
    "r3_mat_1_CHG_sum_r3_CG=readindata('r3xr1_1_Col_spiked_CHG_sumby_r3_v_wt_CG_hyper.bed')\n",
    "r3_mat_2_CHG_sum_r3_CG=readindata('r3xr1_2_Col_spiked_CHG_sumby_r3_v_wt_CG_hyper.bed')\n",
    "r3_mat_3_CHG_sum_r3_CG=readindata('r3xr1_3_Col_spiked_CHG_sumby_r3_v_wt_CG_hyper.bed')\n",
    "\n",
    "r3_pat_1_CHG_sum_r3_CG=readindata('r1xr3_1_Col_spiked_CHG_sumby_r3_v_wt_CG_hyper.bed')\n",
    "r3_pat_2_CHG_sum_r3_CG=readindata('r1xr3_2_Col_spiked_CHG_sumby_r3_v_wt_CG_hyper.bed')\n",
    "r3_pat_3_CHG_sum_r3_CG=readindata('r1xr3_3_Col_spiked_CHG_sumby_r3_v_wt_CG_hyper.bed')\n",
    "\n",
    "r1_mat_1_CHG_sum_r3_CG=readindata('r1xr3_1_C24_pseudo_CHG_sumby_r3_v_wt_CG_hyper.bed')\n",
    "r1_mat_2_CHG_sum_r3_CG=readindata('r1xr3_2_C24_pseudo_CHG_sumby_r3_v_wt_CG_hyper.bed')\n",
    "r1_mat_3_CHG_sum_r3_CG=readindata('r1xr3_3_C24_pseudo_CHG_sumby_r3_v_wt_CG_hyper.bed')\n",
    "\n",
    "r1_pat_1_CHG_sum_r3_CG=readindata('r3xr1_1_C24_pseudo_CHG_sumby_r3_v_wt_CG_hyper.bed')\n",
    "r1_pat_2_CHG_sum_r3_CG=readindata('r3xr1_2_C24_pseudo_CHG_sumby_r3_v_wt_CG_hyper.bed')\n",
    "r1_pat_3_CHG_sum_r3_CG=readindata('r3xr1_3_C24_pseudo_CHG_sumby_r3_v_wt_CG_hyper.bed')\n"
   ]
  },
  {
   "cell_type": "code",
   "execution_count": null,
   "id": "28fff507-6298-45ec-8da7-6f04977444cc",
   "metadata": {
    "tags": []
   },
   "outputs": [],
   "source": [
    "Col_mat_1_CHH_sum_r3_CHH=readindata('ColxC24_1_Col_spiked_CHH_sumby_r3_v_wt_CHH_hyper.bed')\n",
    "Col_mat_2_CHH_sum_r3_CHH=readindata('ColxC24_2_Col_spiked_CHH_sumby_r3_v_wt_CHH_hyper.bed')\n",
    "Col_mat_3_CHH_sum_r3_CHH=readindata('ColxC24_3_Col_spiked_CHH_sumby_r3_v_wt_CHH_hyper.bed')\n",
    "\n",
    "Col_pat_1_CHH_sum_r3_CHH=readindata('C24xCol_1_Col_spiked_CHH_sumby_r3_v_wt_CHH_hyper.bed')\n",
    "Col_pat_2_CHH_sum_r3_CHH=readindata('C24xCol_2_Col_spiked_CHH_sumby_r3_v_wt_CHH_hyper.bed')\n",
    "Col_pat_3_CHH_sum_r3_CHH=readindata('C24xCol_3_Col_spiked_CHH_sumby_r3_v_wt_CHH_hyper.bed')\n",
    "\n",
    "C24_mat_1_CHH_sum_r3_CHH=readindata('C24xCol_1_C24_pseudo_CHH_sumby_r3_v_wt_CHH_hyper.bed')\n",
    "C24_mat_2_CHH_sum_r3_CHH=readindata('C24xCol_2_C24_pseudo_CHH_sumby_r3_v_wt_CHH_hyper.bed')\n",
    "C24_mat_3_CHH_sum_r3_CHH=readindata('C24xCol_3_C24_pseudo_CHH_sumby_r3_v_wt_CHH_hyper.bed')\n",
    "\n",
    "C24_pat_1_CHH_sum_r3_CHH=readindata('ColxC24_1_C24_pseudo_CHH_sumby_r3_v_wt_CHH_hyper.bed')\n",
    "C24_pat_2_CHH_sum_r3_CHH=readindata('ColxC24_2_C24_pseudo_CHH_sumby_r3_v_wt_CHH_hyper.bed')\n",
    "C24_pat_3_CHH_sum_r3_CHH=readindata('ColxC24_3_C24_pseudo_CHH_sumby_r3_v_wt_CHH_hyper.bed')\n",
    "\n",
    "r3_mat_1_CHH_sum_r3_CHH=readindata('r3xr1_1_Col_spiked_CHH_sumby_r3_v_wt_CHH_hyper.bed')\n",
    "r3_mat_2_CHH_sum_r3_CHH=readindata('r3xr1_2_Col_spiked_CHH_sumby_r3_v_wt_CHH_hyper.bed')\n",
    "r3_mat_3_CHH_sum_r3_CHH=readindata('r3xr1_3_Col_spiked_CHH_sumby_r3_v_wt_CHH_hyper.bed')\n",
    "\n",
    "r3_pat_1_CHH_sum_r3_CHH=readindata('r1xr3_1_Col_spiked_CHH_sumby_r3_v_wt_CHH_hyper.bed')\n",
    "r3_pat_2_CHH_sum_r3_CHH=readindata('r1xr3_2_Col_spiked_CHH_sumby_r3_v_wt_CHH_hyper.bed')\n",
    "r3_pat_3_CHH_sum_r3_CHH=readindata('r1xr3_3_Col_spiked_CHH_sumby_r3_v_wt_CHH_hyper.bed')\n",
    "\n",
    "r1_mat_1_CHH_sum_r3_CHH=readindata('r1xr3_1_C24_pseudo_CHH_sumby_r3_v_wt_CHH_hyper.bed')\n",
    "r1_mat_2_CHH_sum_r3_CHH=readindata('r1xr3_2_C24_pseudo_CHH_sumby_r3_v_wt_CHH_hyper.bed')\n",
    "r1_mat_3_CHH_sum_r3_CHH=readindata('r1xr3_3_C24_pseudo_CHH_sumby_r3_v_wt_CHH_hyper.bed')\n",
    "\n",
    "r1_pat_1_CHH_sum_r3_CHH=readindata('r3xr1_1_C24_pseudo_CHH_sumby_r3_v_wt_CHH_hyper.bed')\n",
    "r1_pat_2_CHH_sum_r3_CHH=readindata('r3xr1_2_C24_pseudo_CHH_sumby_r3_v_wt_CHH_hyper.bed')\n",
    "r1_pat_3_CHH_sum_r3_CHH=readindata('r3xr1_3_C24_pseudo_CHH_sumby_r3_v_wt_CHH_hyper.bed')\n"
   ]
  },
  {
   "cell_type": "code",
   "execution_count": null,
   "id": "ca495f80-f7cf-43bc-b97b-da6d4ab2c98e",
   "metadata": {
    "tags": []
   },
   "outputs": [],
   "source": [
    "Col_mat_1_CHH_sum_r3_CG=readindata('ColxC24_1_Col_spiked_CHH_sumby_r3_v_wt_CG_hyper.bed')\n",
    "Col_mat_2_CHH_sum_r3_CG=readindata('ColxC24_2_Col_spiked_CHH_sumby_r3_v_wt_CG_hyper.bed')\n",
    "Col_mat_3_CHH_sum_r3_CG=readindata('ColxC24_3_Col_spiked_CHH_sumby_r3_v_wt_CG_hyper.bed')\n",
    "\n",
    "Col_pat_1_CHH_sum_r3_CG=readindata('C24xCol_1_Col_spiked_CHH_sumby_r3_v_wt_CG_hyper.bed')\n",
    "Col_pat_2_CHH_sum_r3_CG=readindata('C24xCol_2_Col_spiked_CHH_sumby_r3_v_wt_CG_hyper.bed')\n",
    "Col_pat_3_CHH_sum_r3_CG=readindata('C24xCol_3_Col_spiked_CHH_sumby_r3_v_wt_CG_hyper.bed')\n",
    "\n",
    "C24_mat_1_CHH_sum_r3_CG=readindata('C24xCol_1_C24_pseudo_CHH_sumby_r3_v_wt_CG_hyper.bed')\n",
    "C24_mat_2_CHH_sum_r3_CG=readindata('C24xCol_2_C24_pseudo_CHH_sumby_r3_v_wt_CG_hyper.bed')\n",
    "C24_mat_3_CHH_sum_r3_CG=readindata('C24xCol_3_C24_pseudo_CHH_sumby_r3_v_wt_CG_hyper.bed')\n",
    "\n",
    "C24_pat_1_CHH_sum_r3_CG=readindata('ColxC24_1_C24_pseudo_CHH_sumby_r3_v_wt_CG_hyper.bed')\n",
    "C24_pat_2_CHH_sum_r3_CG=readindata('ColxC24_2_C24_pseudo_CHH_sumby_r3_v_wt_CG_hyper.bed')\n",
    "C24_pat_3_CHH_sum_r3_CG=readindata('ColxC24_3_C24_pseudo_CHH_sumby_r3_v_wt_CG_hyper.bed')\n",
    "\n",
    "r3_mat_1_CHH_sum_r3_CG=readindata('r3xr1_1_Col_spiked_CHH_sumby_r3_v_wt_CG_hyper.bed')\n",
    "r3_mat_2_CHH_sum_r3_CG=readindata('r3xr1_2_Col_spiked_CHH_sumby_r3_v_wt_CG_hyper.bed')\n",
    "r3_mat_3_CHH_sum_r3_CG=readindata('r3xr1_3_Col_spiked_CHH_sumby_r3_v_wt_CG_hyper.bed')\n",
    "\n",
    "r3_pat_1_CHH_sum_r3_CG=readindata('r1xr3_1_Col_spiked_CHH_sumby_r3_v_wt_CG_hyper.bed')\n",
    "r3_pat_2_CHH_sum_r3_CG=readindata('r1xr3_2_Col_spiked_CHH_sumby_r3_v_wt_CG_hyper.bed')\n",
    "r3_pat_3_CHH_sum_r3_CG=readindata('r1xr3_3_Col_spiked_CHH_sumby_r3_v_wt_CG_hyper.bed')\n",
    "\n",
    "r1_mat_1_CHH_sum_r3_CG=readindata('r1xr3_1_C24_pseudo_CHH_sumby_r3_v_wt_CG_hyper.bed')\n",
    "r1_mat_2_CHH_sum_r3_CG=readindata('r1xr3_2_C24_pseudo_CHH_sumby_r3_v_wt_CG_hyper.bed')\n",
    "r1_mat_3_CHH_sum_r3_CG=readindata('r1xr3_3_C24_pseudo_CHH_sumby_r3_v_wt_CG_hyper.bed')\n",
    "\n",
    "r1_pat_1_CHH_sum_r3_CG=readindata('r3xr1_1_C24_pseudo_CHH_sumby_r3_v_wt_CG_hyper.bed')\n",
    "r1_pat_2_CHH_sum_r3_CG=readindata('r3xr1_2_C24_pseudo_CHH_sumby_r3_v_wt_CG_hyper.bed')\n",
    "r1_pat_3_CHH_sum_r3_CG=readindata('r3xr1_3_C24_pseudo_CHH_sumby_r3_v_wt_CG_hyper.bed')\n"
   ]
  },
  {
   "cell_type": "code",
   "execution_count": null,
   "id": "834bfd67-5ed5-42b6-8431-4bec4653d85e",
   "metadata": {
    "tags": []
   },
   "outputs": [],
   "source": [
    "def makedatadf(C2xC_1,C2xC_2,C2xC_3,CxC2_1,CxC2_2,CxC2_3,r1xr3_1,r1xr3_2,r1xr3_3,r3xr1_1,r3xr1_2,r3xr1_3):\n",
    "    out=pd.DataFrame()\n",
    "    \n",
    "    C2xCo=C2xC_1.merge(C2xC_2, on=['chr','start','end'], how=\"outer\", suffixes=[\"_C24xCol_1\", \"_C24xCol_2\"]).merge(C2xC_3, how=\"outer\", suffixes=[\"\",\"_C24xCol_3\"])\n",
    "    CoxC2=CxC2_1.merge(CxC2_2, on=['chr','start','end'], how=\"outer\", suffixes=[\"_ColxC24_1\", \"_ColxC24_2\"]).merge(CxC2_3, how=\"outer\", suffixes=[\"\",\"_ColxC24_3\"])\n",
    "    r1xr3=r1xr3_1.merge(r1xr3_2, on=['chr','start','end'], how=\"outer\", suffixes=[\"_r1xr3_1\", \"_r1xr3_2\"]).merge(r1xr3_3, how=\"outer\", suffixes=[\"\",\"_r1xr3_3\"])\n",
    "    r3xr1=r3xr1_1.merge(r3xr1_2, on=['chr','start','end'], how=\"outer\", suffixes=[\"_r3xr1_1\", \"_r3xr1_2\"]).merge(r3xr1_3, how=\"outer\", suffixes=[\"\",\"_r3xr1_3\"])\n",
    "\n",
    "\n",
    "    out['chr']=C2xCo['chr']\n",
    "    out['start']=C2xCo['start']\n",
    "    out['end']=C2xCo['end']\n",
    "    out['avg_methy_C24xCol_1']=C2xCo['avg_methy_C24xCol_1']\n",
    "    out['nC_C24xCol_1']=C2xCo['nC_C24xCol_1']\n",
    "    out['avg_methy_C24xCol_2']=C2xCo['avg_methy_C24xCol_2']\n",
    "    out['nC_C24xCol_2']=C2xCo['nC_C24xCol_2']\n",
    "    out['avg_methy_C24xCol_3']=C2xCo['avg_methy']\n",
    "    out['nC_C24xCol_3']=C2xCo['nC']\n",
    "\n",
    "    out=out.merge(CoxC2, on=['chr','start','end'], how=\"outer\")\n",
    "    out=out.rename(columns={\"avg_methy\": \"avg_methy_ColxC24_3\", \"nC\": \"nC_ColxC24_3\"})\n",
    "\n",
    "    out=out.merge(r1xr3, on=['chr','start','end'], how=\"outer\")\n",
    "    out=out.rename(columns={\"avg_methy\": \"avg_methy_r1xr3_3\", \"nC\": \"nC_r1xr3_3\"})\n",
    "\n",
    "    out=out.merge(r3xr1, on=['chr','start','end'], how=\"outer\")\n",
    "    out=out.rename(columns={\"avg_methy\": \"avg_methy_r3xr1_3\", \"nC\": \"nC_r3xr1_3\"})\n",
    "\n",
    "    dropNA_data=out.dropna()\n",
    "    return(dropNA_data)\n",
    "\n",
    "    dropNA_data=dropNA_data[['avg_methy_C24xCol_1','avg_methy_C24xCol_2','avg_methy_C24xCol_3','avg_methy_ColxC24_1',\n",
    "                                                'avg_methy_ColxC24_2','avg_methy_ColxC24_3','avg_methy_r1xr3_1','avg_methy_r1xr3_2','avg_methy_r1xr3_3',\n",
    "                                                'avg_methy_r3xr1_1','avg_methy_r3xr1_2','avg_methy_r3xr1_3']]\n",
    "    #return(out)\n",
    "\n",
    "def makeavgdf(datadf):\n",
    "    bed=['chr','start','end']\n",
    "    avgdf = datadf[bed].copy()\n",
    "    avgdf['C24xCol']=((datadf['avg_methy_C24xCol_1']+datadf['avg_methy_C24xCol_2']+datadf['avg_methy_C24xCol_3'])/3)\n",
    "    avgdf['ColxC24']=((datadf['avg_methy_ColxC24_1']+datadf['avg_methy_ColxC24_2']+datadf['avg_methy_ColxC24_3'])/3)\n",
    "    avgdf['r1xr3']=((datadf['avg_methy_r1xr3_1']+datadf['avg_methy_r1xr3_2']+datadf['avg_methy_r1xr3_3'])/3)\n",
    "    avgdf['r3xr1']=((datadf['avg_methy_r3xr1_1']+datadf['avg_methy_r3xr1_2']+datadf['avg_methy_r3xr1_3'])/3)\n",
    "    return (avgdf)\n",
    "\n",
    "def makediffdf(matpatavg):\n",
    "    bed=['chr','start','end']\n",
    "    diffdf = matpatavg[bed].copy()\n",
    "    diffdf['r3_avg_mat_contribution']=matpatavg['r3xr1_mat']-matpatavg['ColxC24_mat']\n",
    "    diffdf['r3_avg_pat_contribution']=matpatavg['r1xr3_pat']-matpatavg['C24xCol_pat']\n",
    "\n",
    "    diffdf['r1_avg_mat_contribution']=matpatavg['r1xr3_mat']-matpatavg['C24xCol_mat']\n",
    "    diffdf['r1_avg_pat_contribution']=matpatavg['r3xr1_pat']-matpatavg['ColxC24_pat']\n",
    "\n",
    "    return (diffdf)\n",
    "\n"
   ]
  },
  {
   "cell_type": "code",
   "execution_count": null,
   "id": "3f40810e-2568-4213-96b3-235219deb092",
   "metadata": {
    "tags": []
   },
   "outputs": [],
   "source": [
    "r3_CGr_cap50_bed['DMR class']='limited'"
   ]
  },
  {
   "cell_type": "code",
   "execution_count": null,
   "id": "a9cc8a62-5863-45b6-9116-7cc0588e7aea",
   "metadata": {
    "tags": []
   },
   "outputs": [],
   "source": [
    "r3_CGr_pat_mCG=makedatadf(Col_pat_1_CG_sum_r3_CG, Col_pat_2_CG_sum_r3_CG, Col_pat_3_CG_sum_r3_CG, C24_pat_1_CG_sum_r3_CG, C24_pat_2_CG_sum_r3_CG, C24_pat_3_CG_sum_r3_CG,\n",
    " r3_pat_1_CG_sum_r3_CG, r3_pat_2_CG_sum_r3_CG, r3_pat_3_CG_sum_r3_CG, r1_pat_1_CG_sum_r3_CG, r1_pat_2_CG_sum_r3_CG, r1_pat_3_CG_sum_r3_CG)\n",
    "r3_CGr_mat_mCG=makedatadf(C24_mat_1_CG_sum_r3_CG, C24_mat_2_CG_sum_r3_CG, C24_mat_3_CG_sum_r3_CG, Col_mat_1_CG_sum_r3_CG, Col_mat_2_CG_sum_r3_CG, Col_mat_3_CG_sum_r3_CG,\n",
    " r1_mat_1_CG_sum_r3_CG, r1_mat_2_CG_sum_r3_CG, r1_mat_3_CG_sum_r3_CG, r3_mat_1_CG_sum_r3_CG, r3_mat_2_CG_sum_r3_CG, r3_mat_3_CG_sum_r3_CG)\n",
    "\n",
    "r3_CGr_pat_mCG_avg=makeavgdf(r3_CGr_pat_mCG)\n",
    "r3_CGr_mat_mCG_avg=makeavgdf(r3_CGr_mat_mCG)\n",
    "\n",
    "#merge mat and pat dfs\n",
    "r3_CGr_matpat_mCG=r3_CGr_mat_mCG.merge(r3_CGr_pat_mCG, on=['chr','start','end'], how=\"outer\", suffixes=['_mat','_pat']).dropna()\n",
    "r3_CGr_matpat_avg_mCG=r3_CGr_mat_mCG_avg.merge(r3_CGr_pat_mCG_avg, on=['chr','start','end'], how=\"outer\", suffixes=['_mat','_pat']).dropna()\n",
    "\n",
    "# make difference df to plot both data on one plot?\n",
    "r3_CGr_matpat_avgdiff_mCG=makediffdf(r3_CGr_matpat_avg_mCG)\n",
    "\n",
    "#add cap DMR indicator\n",
    "r3_CGr_matpat_mCG=r3_CGr_matpat_mCG.merge(r3_CGr_cap50_bed, on=['chr','start','end'], how=\"left\")\n",
    "r3_CGr_matpat_mCG=r3_CGr_matpat_mCG.fillna(\"not limited\")\n",
    "\n",
    "r3_CGr_matpat_avg_mCG=r3_CGr_matpat_avg_mCG.merge(r3_CGr_cap50_bed, on=['chr','start','end'], how=\"left\")\n",
    "r3_CGr_matpat_avg_mCG=r3_CGr_matpat_avg_mCG.fillna(\"not limited\")\n",
    "\n",
    "r3_CGr_matpat_avgdiff_mCG=r3_CGr_matpat_avgdiff_mCG.merge(r3_CGr_cap50_bed, on=['chr','start','end'], how=\"left\")\n",
    "r3_CGr_matpat_avgdiff_mCG=r3_CGr_matpat_avgdiff_mCG.fillna(\"not limited\")"
   ]
  },
  {
   "cell_type": "code",
   "execution_count": null,
   "id": "df657254-bbc8-43dc-b212-e040738d7ecb",
   "metadata": {
    "tags": []
   },
   "outputs": [],
   "source": [
    "r3_CGr_pat_mCHG=makedatadf(Col_pat_1_CHG_sum_r3_CG, Col_pat_2_CHG_sum_r3_CG, Col_pat_3_CHG_sum_r3_CG, C24_pat_1_CHG_sum_r3_CG, C24_pat_2_CHG_sum_r3_CG, C24_pat_3_CHG_sum_r3_CG,\n",
    " r3_pat_1_CHG_sum_r3_CG, r3_pat_2_CHG_sum_r3_CG, r3_pat_3_CHG_sum_r3_CG, r1_pat_1_CHG_sum_r3_CG, r1_pat_2_CHG_sum_r3_CG, r1_pat_3_CHG_sum_r3_CG)\n",
    "r3_CGr_mat_mCHG=makedatadf(C24_mat_1_CHG_sum_r3_CG, C24_mat_2_CHG_sum_r3_CG, C24_mat_3_CHG_sum_r3_CG, Col_mat_1_CHG_sum_r3_CG, Col_mat_2_CHG_sum_r3_CG, Col_mat_3_CHG_sum_r3_CG,\n",
    " r1_mat_1_CHG_sum_r3_CG, r1_mat_2_CHG_sum_r3_CG, r1_mat_3_CHG_sum_r3_CG, r3_mat_1_CHG_sum_r3_CG, r3_mat_2_CHG_sum_r3_CG, r3_mat_3_CHG_sum_r3_CG)\n",
    "\n",
    "r3_CGr_pat_mCHG_avg=makeavgdf(r3_CGr_pat_mCHG)\n",
    "r3_CGr_mat_mCHG_avg=makeavgdf(r3_CGr_mat_mCHG)\n",
    "\n",
    "#merge mat and pat dfs\n",
    "r3_CGr_matpat_mCHG=r3_CGr_mat_mCHG.merge(r3_CGr_pat_mCHG, on=['chr','start','end'], how=\"outer\", suffixes=['_mat','_pat']).dropna()\n",
    "r3_CGr_matpat_avg_mCHG=r3_CGr_mat_mCHG_avg.merge(r3_CGr_pat_mCHG_avg, on=['chr','start','end'], how=\"outer\", suffixes=['_mat','_pat']).dropna()\n",
    "\n",
    "# make difference df to plot both data on one plot?\n",
    "r3_CGr_matpat_avgdiff_mCHG=makediffdf(r3_CGr_matpat_avg_mCHG)\n",
    "\n",
    "#add cap DMR indicator\n",
    "r3_CGr_matpat_mCHG=r3_CGr_matpat_mCHG.merge(r3_CGr_cap50_bed, on=['chr','start','end'], how=\"left\")\n",
    "r3_CGr_matpat_mCHG=r3_CGr_matpat_mCHG.fillna(\"not limited\")\n",
    "\n",
    "r3_CGr_matpat_avg_mCHG=r3_CGr_matpat_avg_mCHG.merge(r3_CGr_cap50_bed, on=['chr','start','end'], how=\"left\")\n",
    "r3_CGr_matpat_avg_mCHG=r3_CGr_matpat_avg_mCHG.fillna(\"not limited\")\n",
    "\n",
    "r3_CGr_matpat_avgdiff_mCHG=r3_CGr_matpat_avgdiff_mCHG.merge(r3_CGr_cap50_bed, on=['chr','start','end'], how=\"left\")\n",
    "r3_CGr_matpat_avgdiff_mCHG=r3_CGr_matpat_avgdiff_mCHG.fillna(\"not limited\")"
   ]
  },
  {
   "cell_type": "code",
   "execution_count": null,
   "id": "34df4fc1-f995-4db3-9024-d8ab6f07d504",
   "metadata": {
    "tags": []
   },
   "outputs": [],
   "source": [
    "r3_CGr_pat_mCHH=makedatadf(Col_pat_1_CHH_sum_r3_CG, Col_pat_2_CHH_sum_r3_CG, Col_pat_3_CHH_sum_r3_CG, C24_pat_1_CHH_sum_r3_CG, C24_pat_2_CHH_sum_r3_CG, C24_pat_3_CHH_sum_r3_CG,\n",
    " r3_pat_1_CHH_sum_r3_CG, r3_pat_2_CHH_sum_r3_CG, r3_pat_3_CHH_sum_r3_CG, r1_pat_1_CHH_sum_r3_CG, r1_pat_2_CHH_sum_r3_CG, r1_pat_3_CHH_sum_r3_CG)\n",
    "r3_CGr_mat_mCHH=makedatadf(C24_mat_1_CHH_sum_r3_CG, C24_mat_2_CHH_sum_r3_CG, C24_mat_3_CHH_sum_r3_CG, Col_mat_1_CHH_sum_r3_CG, Col_mat_2_CHH_sum_r3_CG, Col_mat_3_CHH_sum_r3_CG,\n",
    " r1_mat_1_CHH_sum_r3_CG, r1_mat_2_CHH_sum_r3_CG, r1_mat_3_CHH_sum_r3_CG, r3_mat_1_CHH_sum_r3_CG, r3_mat_2_CHH_sum_r3_CG, r3_mat_3_CHH_sum_r3_CG)\n",
    "\n",
    "r3_CGr_pat_mCHH_avg=makeavgdf(r3_CGr_pat_mCHH)\n",
    "r3_CGr_mat_mCHH_avg=makeavgdf(r3_CGr_mat_mCHH)\n",
    "\n",
    "#merge mat and pat dfs\n",
    "r3_CGr_matpat_mCHH=r3_CGr_mat_mCHH.merge(r3_CGr_pat_mCHH, on=['chr','start','end'], how=\"outer\", suffixes=['_mat','_pat']).dropna()\n",
    "r3_CGr_matpat_avg_mCHH=r3_CGr_mat_mCHH_avg.merge(r3_CGr_pat_mCHH_avg, on=['chr','start','end'], how=\"outer\", suffixes=['_mat','_pat']).dropna()\n",
    "\n",
    "# make difference df to plot both data on one plot?\n",
    "r3_CGr_matpat_avgdiff_mCHH=makediffdf(r3_CGr_matpat_avg_mCHH)\n",
    "\n",
    "#add cap DMR indicator\n",
    "r3_CGr_matpat_mCHH=r3_CGr_matpat_mCHH.merge(r3_CGr_cap50_bed, on=['chr','start','end'], how=\"left\")\n",
    "r3_CGr_matpat_mCHH=r3_CGr_matpat_mCHH.fillna(\"not limited\")\n",
    "\n",
    "r3_CGr_matpat_avg_mCHH=r3_CGr_matpat_avg_mCHH.merge(r3_CGr_cap50_bed, on=['chr','start','end'], how=\"left\")\n",
    "r3_CGr_matpat_avg_mCHH=r3_CGr_matpat_avg_mCHH.fillna(\"not limited\")\n",
    "\n",
    "r3_CGr_matpat_avgdiff_mCHH=r3_CGr_matpat_avgdiff_mCHH.merge(r3_CGr_cap50_bed, on=['chr','start','end'], how=\"left\")\n",
    "r3_CGr_matpat_avgdiff_mCHH=r3_CGr_matpat_avgdiff_mCHH.fillna(\"not limited\")"
   ]
  },
  {
   "cell_type": "code",
   "execution_count": null,
   "id": "44d7343f-ad4a-4431-ab64-0d3f9b402762",
   "metadata": {
    "tags": []
   },
   "outputs": [],
   "source": [
    "r3_CHGr_pat_mCG=makedatadf(Col_pat_1_CG_sum_r3_CHG, Col_pat_2_CG_sum_r3_CHG, Col_pat_3_CG_sum_r3_CHG, C24_pat_1_CG_sum_r3_CHG, C24_pat_2_CG_sum_r3_CHG, C24_pat_3_CG_sum_r3_CHG,\n",
    " r3_pat_1_CG_sum_r3_CHG, r3_pat_2_CG_sum_r3_CHG, r3_pat_3_CG_sum_r3_CHG, r1_pat_1_CG_sum_r3_CHG, r1_pat_2_CG_sum_r3_CHG, r1_pat_3_CG_sum_r3_CHG)\n",
    "r3_CHGr_mat_mCG=makedatadf(C24_mat_1_CG_sum_r3_CHG, C24_mat_2_CG_sum_r3_CHG, C24_mat_3_CG_sum_r3_CHG, Col_mat_1_CG_sum_r3_CHG, Col_mat_2_CG_sum_r3_CHG, Col_mat_3_CG_sum_r3_CHG,\n",
    " r1_mat_1_CG_sum_r3_CHG, r1_mat_2_CG_sum_r3_CHG, r1_mat_3_CG_sum_r3_CHG, r3_mat_1_CG_sum_r3_CHG, r3_mat_2_CG_sum_r3_CHG, r3_mat_3_CG_sum_r3_CHG)\n",
    "\n",
    "r3_CHGr_pat_mCG_avg=makeavgdf(r3_CHGr_pat_mCG)\n",
    "r3_CHGr_mat_mCG_avg=makeavgdf(r3_CHGr_mat_mCG)\n",
    "\n",
    "#merge mat and pat dfs\n",
    "r3_CHGr_matpat_mCG=r3_CHGr_mat_mCG.merge(r3_CHGr_pat_mCG, on=['chr','start','end'], how=\"outer\", suffixes=['_mat','_pat']).dropna()\n",
    "r3_CHGr_matpat_avg_mCG=r3_CHGr_mat_mCG_avg.merge(r3_CHGr_pat_mCG_avg, on=['chr','start','end'], how=\"outer\", suffixes=['_mat','_pat']).dropna()\n",
    "\n",
    "# make difference df to plot both data on one plot?\n",
    "r3_CHGr_matpat_avgdiff_mCG=makediffdf(r3_CHGr_matpat_avg_mCG)"
   ]
  },
  {
   "cell_type": "code",
   "execution_count": null,
   "id": "d11f08c8-cb78-412e-87b5-06280ac08237",
   "metadata": {
    "tags": []
   },
   "outputs": [],
   "source": [
    "r3_CHHr_pat_mCG=makedatadf(Col_pat_1_CG_sum_r3_CHH, Col_pat_2_CG_sum_r3_CHH, Col_pat_3_CG_sum_r3_CHH, C24_pat_1_CG_sum_r3_CHH, C24_pat_2_CG_sum_r3_CHH, C24_pat_3_CG_sum_r3_CHH,\n",
    " r3_pat_1_CG_sum_r3_CHH, r3_pat_2_CG_sum_r3_CHH, r3_pat_3_CG_sum_r3_CHH, r1_pat_1_CG_sum_r3_CHH, r1_pat_2_CG_sum_r3_CHH, r1_pat_3_CG_sum_r3_CHH)\n",
    "r3_CHHr_mat_mCG=makedatadf(C24_mat_1_CG_sum_r3_CHH, C24_mat_2_CG_sum_r3_CHH, C24_mat_3_CG_sum_r3_CHH, Col_mat_1_CG_sum_r3_CHH, Col_mat_2_CG_sum_r3_CHH, Col_mat_3_CG_sum_r3_CHH,\n",
    " r1_mat_1_CG_sum_r3_CHH, r1_mat_2_CG_sum_r3_CHH, r1_mat_3_CG_sum_r3_CHH, r3_mat_1_CG_sum_r3_CHH, r3_mat_2_CG_sum_r3_CHH, r3_mat_3_CG_sum_r3_CHH)\n",
    "\n",
    "r3_CHHr_pat_mCG_avg=makeavgdf(r3_CHHr_pat_mCG)\n",
    "r3_CHHr_mat_mCG_avg=makeavgdf(r3_CHHr_mat_mCG)\n",
    "\n",
    "#merge mat and pat dfs\n",
    "r3_CHHr_matpat_mCG=r3_CHHr_mat_mCG.merge(r3_CHHr_pat_mCG, on=['chr','start','end'], how=\"outer\", suffixes=['_mat','_pat']).dropna()\n",
    "r3_CHHr_matpat_avg_mCG=r3_CHHr_mat_mCG_avg.merge(r3_CHHr_pat_mCG_avg, on=['chr','start','end'], how=\"outer\", suffixes=['_mat','_pat']).dropna()\n",
    "\n",
    "# make difference df to plot both data on one plot?\n",
    "r3_CHHr_matpat_avgdiff_mCG=makediffdf(r3_CHHr_matpat_avg_mCG)"
   ]
  },
  {
   "cell_type": "code",
   "execution_count": null,
   "id": "78db3eb1-7e64-49f1-99db-09b99a015cc9",
   "metadata": {
    "tags": []
   },
   "outputs": [],
   "source": [
    "r3_CHGr_pat_mCHG=makedatadf(Col_pat_1_CHG_sum_r3_CHG, Col_pat_2_CHG_sum_r3_CHG, Col_pat_3_CHG_sum_r3_CHG, C24_pat_1_CHG_sum_r3_CHG, C24_pat_2_CHG_sum_r3_CHG, C24_pat_3_CHG_sum_r3_CHG,\n",
    " r3_pat_1_CHG_sum_r3_CHG, r3_pat_2_CHG_sum_r3_CHG, r3_pat_3_CHG_sum_r3_CHG, r1_pat_1_CHG_sum_r3_CHG, r1_pat_2_CHG_sum_r3_CHG, r1_pat_3_CHG_sum_r3_CHG)\n",
    "r3_CHGr_mat_mCHG=makedatadf(C24_mat_1_CHG_sum_r3_CHG, C24_mat_2_CHG_sum_r3_CHG, C24_mat_3_CHG_sum_r3_CHG, Col_mat_1_CHG_sum_r3_CHG, Col_mat_2_CHG_sum_r3_CHG, Col_mat_3_CHG_sum_r3_CHG,\n",
    " r1_mat_1_CHG_sum_r3_CHG, r1_mat_2_CHG_sum_r3_CHG, r1_mat_3_CHG_sum_r3_CHG, r3_mat_1_CHG_sum_r3_CHG, r3_mat_2_CHG_sum_r3_CHG, r3_mat_3_CHG_sum_r3_CHG)\n",
    "\n",
    "r3_CHGr_pat_mCHG_avg=makeavgdf(r3_CHGr_pat_mCHG)\n",
    "r3_CHGr_mat_mCHG_avg=makeavgdf(r3_CHGr_mat_mCHG)\n",
    "\n",
    "#merge mat and pat dfs\n",
    "r3_CHGr_matpat_mCHG=r3_CHGr_mat_mCHG.merge(r3_CHGr_pat_mCHG, on=['chr','start','end'], how=\"outer\", suffixes=['_mat','_pat']).dropna()\n",
    "r3_CHGr_matpat_avg_mCHG=r3_CHGr_mat_mCHG_avg.merge(r3_CHGr_pat_mCHG_avg, on=['chr','start','end'], how=\"outer\", suffixes=['_mat','_pat']).dropna()\n",
    "\n",
    "# make difference df to plot both data on one plot?\n",
    "r3_CHGr_matpat_avgdiff_mCHG=makediffdf(r3_CHGr_matpat_avg_mCHG)"
   ]
  },
  {
   "cell_type": "code",
   "execution_count": null,
   "id": "83550026-5ff7-4d2a-85be-872b8d5f9988",
   "metadata": {
    "tags": []
   },
   "outputs": [],
   "source": [
    "r3_CHHr_pat_mCHH=makedatadf(Col_pat_1_CHH_sum_r3_CHH, Col_pat_2_CHH_sum_r3_CHH, Col_pat_3_CHH_sum_r3_CHH, C24_pat_1_CHH_sum_r3_CHH, C24_pat_2_CHH_sum_r3_CHH, C24_pat_3_CHH_sum_r3_CHH,\n",
    " r3_pat_1_CHH_sum_r3_CHH, r3_pat_2_CHH_sum_r3_CHH, r3_pat_3_CHH_sum_r3_CHH, r1_pat_1_CHH_sum_r3_CHH, r1_pat_2_CHH_sum_r3_CHH, r1_pat_3_CHH_sum_r3_CHH)\n",
    "r3_CHHr_mat_mCHH=makedatadf(C24_mat_1_CHH_sum_r3_CHH, C24_mat_2_CHH_sum_r3_CHH, C24_mat_3_CHH_sum_r3_CHH, Col_mat_1_CHH_sum_r3_CHH, Col_mat_2_CHH_sum_r3_CHH, Col_mat_3_CHH_sum_r3_CHH,\n",
    " r1_mat_1_CHH_sum_r3_CHH, r1_mat_2_CHH_sum_r3_CHH, r1_mat_3_CHH_sum_r3_CHH, r3_mat_1_CHH_sum_r3_CHH, r3_mat_2_CHH_sum_r3_CHH, r3_mat_3_CHH_sum_r3_CHH)\n",
    "\n",
    "r3_CHHr_pat_mCHH_avg=makeavgdf(r3_CHHr_pat_mCHH)\n",
    "r3_CHHr_mat_mCHH_avg=makeavgdf(r3_CHHr_mat_mCHH)\n",
    "\n",
    "#merge mat and pat dfs\n",
    "r3_CHHr_matpat_mCHH=r3_CHHr_mat_mCHH.merge(r3_CHHr_pat_mCHH, on=['chr','start','end'], how=\"outer\", suffixes=['_mat','_pat']).dropna()\n",
    "r3_CHHr_matpat_avg_mCHH=r3_CHHr_mat_mCHH_avg.merge(r3_CHHr_pat_mCHH_avg, on=['chr','start','end'], how=\"outer\", suffixes=['_mat','_pat']).dropna()\n",
    "\n",
    "# make difference df to plot both data on one plot?\n",
    "r3_CHHr_matpat_avgdiff_mCHH=makediffdf(r3_CHHr_matpat_avg_mCHH)"
   ]
  },
  {
   "cell_type": "code",
   "execution_count": null,
   "id": "6c9e59a5-9d97-4716-8943-31c7318f69ab",
   "metadata": {
    "tags": []
   },
   "outputs": [],
   "source": [
    "# allelic data sumby bulk r1 vs C24 DMRs\n",
    "sumpath=\"/lab/solexa_gehring/elizabeth/allelic_emseq/sumby_2/C24_dmr_sumby/\"\n",
    "Col_mat_1_CG_sum_r1_CG=readindata('ColxC24_1_Col_spiked_CG_sumby_r1_v_C24_CG_hyper.bed')\n",
    "Col_mat_2_CG_sum_r1_CG=readindata('ColxC24_2_Col_spiked_CG_sumby_r1_v_C24_CG_hyper.bed')\n",
    "Col_mat_3_CG_sum_r1_CG=readindata('ColxC24_3_Col_spiked_CG_sumby_r1_v_C24_CG_hyper.bed')\n",
    "\n",
    "Col_pat_1_CG_sum_r1_CG=readindata('C24xCol_1_Col_spiked_CG_sumby_r1_v_C24_CG_hyper.bed')\n",
    "Col_pat_2_CG_sum_r1_CG=readindata('C24xCol_2_Col_spiked_CG_sumby_r1_v_C24_CG_hyper.bed')\n",
    "Col_pat_3_CG_sum_r1_CG=readindata('C24xCol_3_Col_spiked_CG_sumby_r1_v_C24_CG_hyper.bed')\n",
    "\n",
    "C24_mat_1_CG_sum_r1_CG=readindata('C24xCol_1_C24_pseudo_CG_sumby_r1_v_C24_CG_hyper.bed')\n",
    "C24_mat_2_CG_sum_r1_CG=readindata('C24xCol_2_C24_pseudo_CG_sumby_r1_v_C24_CG_hyper.bed')\n",
    "C24_mat_3_CG_sum_r1_CG=readindata('C24xCol_3_C24_pseudo_CG_sumby_r1_v_C24_CG_hyper.bed')\n",
    "\n",
    "C24_pat_1_CG_sum_r1_CG=readindata('ColxC24_1_C24_pseudo_CG_sumby_r1_v_C24_CG_hyper.bed')\n",
    "C24_pat_2_CG_sum_r1_CG=readindata('ColxC24_2_C24_pseudo_CG_sumby_r1_v_C24_CG_hyper.bed')\n",
    "C24_pat_3_CG_sum_r1_CG=readindata('ColxC24_3_C24_pseudo_CG_sumby_r1_v_C24_CG_hyper.bed')\n",
    "\n",
    "r3_mat_1_CG_sum_r1_CG=readindata('r3xr1_1_Col_spiked_CG_sumby_r1_v_C24_CG_hyper.bed')\n",
    "r3_mat_2_CG_sum_r1_CG=readindata('r3xr1_2_Col_spiked_CG_sumby_r1_v_C24_CG_hyper.bed')\n",
    "r3_mat_3_CG_sum_r1_CG=readindata('r3xr1_3_Col_spiked_CG_sumby_r1_v_C24_CG_hyper.bed')\n",
    "\n",
    "r3_pat_1_CG_sum_r1_CG=readindata('r1xr3_1_Col_spiked_CG_sumby_r1_v_C24_CG_hyper.bed')\n",
    "r3_pat_2_CG_sum_r1_CG=readindata('r1xr3_2_Col_spiked_CG_sumby_r1_v_C24_CG_hyper.bed')\n",
    "r3_pat_3_CG_sum_r1_CG=readindata('r1xr3_3_Col_spiked_CG_sumby_r1_v_C24_CG_hyper.bed')\n",
    "\n",
    "r1_mat_1_CG_sum_r1_CG=readindata('r1xr3_1_C24_pseudo_CG_sumby_r1_v_C24_CG_hyper.bed')\n",
    "r1_mat_2_CG_sum_r1_CG=readindata('r1xr3_2_C24_pseudo_CG_sumby_r1_v_C24_CG_hyper.bed')\n",
    "r1_mat_3_CG_sum_r1_CG=readindata('r1xr3_3_C24_pseudo_CG_sumby_r1_v_C24_CG_hyper.bed')\n",
    "\n",
    "r1_pat_1_CG_sum_r1_CG=readindata('r3xr1_1_C24_pseudo_CG_sumby_r1_v_C24_CG_hyper.bed')\n",
    "r1_pat_2_CG_sum_r1_CG=readindata('r3xr1_2_C24_pseudo_CG_sumby_r1_v_C24_CG_hyper.bed')\n",
    "r1_pat_3_CG_sum_r1_CG=readindata('r3xr1_3_C24_pseudo_CG_sumby_r1_v_C24_CG_hyper.bed')\n",
    "\n",
    "\n",
    "\n",
    "r1_CGr_pat_mCG=makedatadf(Col_pat_1_CG_sum_r1_CG, Col_pat_2_CG_sum_r1_CG, Col_pat_3_CG_sum_r1_CG, C24_pat_1_CG_sum_r1_CG, C24_pat_2_CG_sum_r1_CG, C24_pat_3_CG_sum_r1_CG,\n",
    " r3_pat_1_CG_sum_r1_CG, r3_pat_2_CG_sum_r1_CG, r3_pat_3_CG_sum_r1_CG, r1_pat_1_CG_sum_r1_CG, r1_pat_2_CG_sum_r1_CG, r1_pat_3_CG_sum_r1_CG)\n",
    "r1_CGr_mat_mCG=makedatadf(C24_mat_1_CG_sum_r1_CG, C24_mat_2_CG_sum_r1_CG, C24_mat_3_CG_sum_r1_CG, Col_mat_1_CG_sum_r1_CG, Col_mat_2_CG_sum_r1_CG, Col_mat_3_CG_sum_r1_CG,\n",
    " r1_mat_1_CG_sum_r1_CG, r1_mat_2_CG_sum_r1_CG, r1_mat_3_CG_sum_r1_CG, r3_mat_1_CG_sum_r1_CG, r3_mat_2_CG_sum_r1_CG, r3_mat_3_CG_sum_r1_CG)\n",
    "\n",
    "r1_CGr_pat_mCG_avg=makeavgdf(r1_CGr_pat_mCG)\n",
    "r1_CGr_mat_mCG_avg=makeavgdf(r1_CGr_mat_mCG)\n",
    "\n",
    "#merge mat and pat dfs\n",
    "r1_CGr_matpat_mCG=r1_CGr_mat_mCG.merge(r1_CGr_pat_mCG, on=['chr','start','end'], how=\"outer\", suffixes=['_mat','_pat']).dropna()\n",
    "r1_CGr_matpat_avg_mCG=r1_CGr_mat_mCG_avg.merge(r1_CGr_pat_mCG_avg, on=['chr','start','end'], how=\"outer\", suffixes=['_mat','_pat']).dropna()\n",
    "\n",
    "\n",
    "\n",
    "Col_mat_1_CHG_sum_r1_CHG=readindata('ColxC24_1_Col_spiked_CHG_sumby_r1_v_C24_CHG_hyper.bed')\n",
    "Col_mat_2_CHG_sum_r1_CHG=readindata('ColxC24_2_Col_spiked_CHG_sumby_r1_v_C24_CHG_hyper.bed')\n",
    "Col_mat_3_CHG_sum_r1_CHG=readindata('ColxC24_3_Col_spiked_CHG_sumby_r1_v_C24_CHG_hyper.bed')\n",
    "\n",
    "Col_pat_1_CHG_sum_r1_CHG=readindata('C24xCol_1_Col_spiked_CHG_sumby_r1_v_C24_CHG_hyper.bed')\n",
    "Col_pat_2_CHG_sum_r1_CHG=readindata('C24xCol_2_Col_spiked_CHG_sumby_r1_v_C24_CHG_hyper.bed')\n",
    "Col_pat_3_CHG_sum_r1_CHG=readindata('C24xCol_3_Col_spiked_CHG_sumby_r1_v_C24_CHG_hyper.bed')\n",
    "\n",
    "C24_mat_1_CHG_sum_r1_CHG=readindata('C24xCol_1_C24_pseudo_CHG_sumby_r1_v_C24_CHG_hyper.bed')\n",
    "C24_mat_2_CHG_sum_r1_CHG=readindata('C24xCol_2_C24_pseudo_CHG_sumby_r1_v_C24_CHG_hyper.bed')\n",
    "C24_mat_3_CHG_sum_r1_CHG=readindata('C24xCol_3_C24_pseudo_CHG_sumby_r1_v_C24_CHG_hyper.bed')\n",
    "\n",
    "C24_pat_1_CHG_sum_r1_CHG=readindata('ColxC24_1_C24_pseudo_CHG_sumby_r1_v_C24_CHG_hyper.bed')\n",
    "C24_pat_2_CHG_sum_r1_CHG=readindata('ColxC24_2_C24_pseudo_CHG_sumby_r1_v_C24_CHG_hyper.bed')\n",
    "C24_pat_3_CHG_sum_r1_CHG=readindata('ColxC24_3_C24_pseudo_CHG_sumby_r1_v_C24_CHG_hyper.bed')\n",
    "\n",
    "r3_mat_1_CHG_sum_r1_CHG=readindata('r3xr1_1_Col_spiked_CHG_sumby_r1_v_C24_CHG_hyper.bed')\n",
    "r3_mat_2_CHG_sum_r1_CHG=readindata('r3xr1_2_Col_spiked_CHG_sumby_r1_v_C24_CHG_hyper.bed')\n",
    "r3_mat_3_CHG_sum_r1_CHG=readindata('r3xr1_3_Col_spiked_CHG_sumby_r1_v_C24_CHG_hyper.bed')\n",
    "\n",
    "r3_pat_1_CHG_sum_r1_CHG=readindata('r1xr3_1_Col_spiked_CHG_sumby_r1_v_C24_CHG_hyper.bed')\n",
    "r3_pat_2_CHG_sum_r1_CHG=readindata('r1xr3_2_Col_spiked_CHG_sumby_r1_v_C24_CHG_hyper.bed')\n",
    "r3_pat_3_CHG_sum_r1_CHG=readindata('r1xr3_3_Col_spiked_CHG_sumby_r1_v_C24_CHG_hyper.bed')\n",
    "\n",
    "r1_mat_1_CHG_sum_r1_CHG=readindata('r1xr3_1_C24_pseudo_CHG_sumby_r1_v_C24_CHG_hyper.bed')\n",
    "r1_mat_2_CHG_sum_r1_CHG=readindata('r1xr3_2_C24_pseudo_CHG_sumby_r1_v_C24_CHG_hyper.bed')\n",
    "r1_mat_3_CHG_sum_r1_CHG=readindata('r1xr3_3_C24_pseudo_CHG_sumby_r1_v_C24_CHG_hyper.bed')\n",
    "\n",
    "r1_pat_1_CHG_sum_r1_CHG=readindata('r3xr1_1_C24_pseudo_CHG_sumby_r1_v_C24_CHG_hyper.bed')\n",
    "r1_pat_2_CHG_sum_r1_CHG=readindata('r3xr1_2_C24_pseudo_CHG_sumby_r1_v_C24_CHG_hyper.bed')\n",
    "r1_pat_3_CHG_sum_r1_CHG=readindata('r3xr1_3_C24_pseudo_CHG_sumby_r1_v_C24_CHG_hyper.bed')\n",
    "\n",
    "\n",
    "\n",
    "r1_CHGr_pat_mCHG=makedatadf(Col_pat_1_CHG_sum_r1_CHG, Col_pat_2_CHG_sum_r1_CHG, Col_pat_3_CHG_sum_r1_CHG, C24_pat_1_CHG_sum_r1_CHG, C24_pat_2_CHG_sum_r1_CHG, C24_pat_3_CHG_sum_r1_CHG,\n",
    " r3_pat_1_CHG_sum_r1_CHG, r3_pat_2_CHG_sum_r1_CHG, r3_pat_3_CHG_sum_r1_CHG, r1_pat_1_CHG_sum_r1_CHG, r1_pat_2_CHG_sum_r1_CHG, r1_pat_3_CHG_sum_r1_CHG)\n",
    "r1_CHGr_mat_mCHG=makedatadf(C24_mat_1_CHG_sum_r1_CHG, C24_mat_2_CHG_sum_r1_CHG, C24_mat_3_CHG_sum_r1_CHG, Col_mat_1_CHG_sum_r1_CHG, Col_mat_2_CHG_sum_r1_CHG, Col_mat_3_CHG_sum_r1_CHG,\n",
    " r1_mat_1_CHG_sum_r1_CHG, r1_mat_2_CHG_sum_r1_CHG, r1_mat_3_CHG_sum_r1_CHG, r3_mat_1_CHG_sum_r1_CHG, r3_mat_2_CHG_sum_r1_CHG, r3_mat_3_CHG_sum_r1_CHG)\n",
    "\n",
    "r1_CHGr_pat_mCHG_avg=makeavgdf(r1_CHGr_pat_mCHG)\n",
    "r1_CHGr_mat_mCHG_avg=makeavgdf(r1_CHGr_mat_mCHG)\n",
    "\n",
    "#merge mat and pat dfs\n",
    "r1_CHGr_matpat_mCHG=r1_CHGr_mat_mCHG.merge(r1_CHGr_pat_mCHG, on=['chr','start','end'], how=\"outer\", suffixes=['_mat','_pat']).dropna()\n",
    "r1_CHGr_matpat_avg_mCHG=r1_CHGr_mat_mCHG_avg.merge(r1_CHGr_pat_mCHG_avg, on=['chr','start','end'], how=\"outer\", suffixes=['_mat','_pat']).dropna()\n",
    "\n",
    "\n",
    "\n",
    "Col_mat_1_CHH_sum_r1_CHH=readindata('ColxC24_1_Col_spiked_CHH_sumby_r1_v_C24_CHH_hyper.bed')\n",
    "Col_mat_2_CHH_sum_r1_CHH=readindata('ColxC24_2_Col_spiked_CHH_sumby_r1_v_C24_CHH_hyper.bed')\n",
    "Col_mat_3_CHH_sum_r1_CHH=readindata('ColxC24_3_Col_spiked_CHH_sumby_r1_v_C24_CHH_hyper.bed')\n",
    "\n",
    "Col_pat_1_CHH_sum_r1_CHH=readindata('C24xCol_1_Col_spiked_CHH_sumby_r1_v_C24_CHH_hyper.bed')\n",
    "Col_pat_2_CHH_sum_r1_CHH=readindata('C24xCol_2_Col_spiked_CHH_sumby_r1_v_C24_CHH_hyper.bed')\n",
    "Col_pat_3_CHH_sum_r1_CHH=readindata('C24xCol_3_Col_spiked_CHH_sumby_r1_v_C24_CHH_hyper.bed')\n",
    "\n",
    "C24_mat_1_CHH_sum_r1_CHH=readindata('C24xCol_1_C24_pseudo_CHH_sumby_r1_v_C24_CHH_hyper.bed')\n",
    "C24_mat_2_CHH_sum_r1_CHH=readindata('C24xCol_2_C24_pseudo_CHH_sumby_r1_v_C24_CHH_hyper.bed')\n",
    "C24_mat_3_CHH_sum_r1_CHH=readindata('C24xCol_3_C24_pseudo_CHH_sumby_r1_v_C24_CHH_hyper.bed')\n",
    "\n",
    "C24_pat_1_CHH_sum_r1_CHH=readindata('ColxC24_1_C24_pseudo_CHH_sumby_r1_v_C24_CHH_hyper.bed')\n",
    "C24_pat_2_CHH_sum_r1_CHH=readindata('ColxC24_2_C24_pseudo_CHH_sumby_r1_v_C24_CHH_hyper.bed')\n",
    "C24_pat_3_CHH_sum_r1_CHH=readindata('ColxC24_3_C24_pseudo_CHH_sumby_r1_v_C24_CHH_hyper.bed')\n",
    "\n",
    "r3_mat_1_CHH_sum_r1_CHH=readindata('r3xr1_1_Col_spiked_CHH_sumby_r1_v_C24_CHH_hyper.bed')\n",
    "r3_mat_2_CHH_sum_r1_CHH=readindata('r3xr1_2_Col_spiked_CHH_sumby_r1_v_C24_CHH_hyper.bed')\n",
    "r3_mat_3_CHH_sum_r1_CHH=readindata('r3xr1_3_Col_spiked_CHH_sumby_r1_v_C24_CHH_hyper.bed')\n",
    "\n",
    "r3_pat_1_CHH_sum_r1_CHH=readindata('r1xr3_1_Col_spiked_CHH_sumby_r1_v_C24_CHH_hyper.bed')\n",
    "r3_pat_2_CHH_sum_r1_CHH=readindata('r1xr3_2_Col_spiked_CHH_sumby_r1_v_C24_CHH_hyper.bed')\n",
    "r3_pat_3_CHH_sum_r1_CHH=readindata('r1xr3_3_Col_spiked_CHH_sumby_r1_v_C24_CHH_hyper.bed')\n",
    "\n",
    "r1_mat_1_CHH_sum_r1_CHH=readindata('r1xr3_1_C24_pseudo_CHH_sumby_r1_v_C24_CHH_hyper.bed')\n",
    "r1_mat_2_CHH_sum_r1_CHH=readindata('r1xr3_2_C24_pseudo_CHH_sumby_r1_v_C24_CHH_hyper.bed')\n",
    "r1_mat_3_CHH_sum_r1_CHH=readindata('r1xr3_3_C24_pseudo_CHH_sumby_r1_v_C24_CHH_hyper.bed')\n",
    "\n",
    "r1_pat_1_CHH_sum_r1_CHH=readindata('r3xr1_1_C24_pseudo_CHH_sumby_r1_v_C24_CHH_hyper.bed')\n",
    "r1_pat_2_CHH_sum_r1_CHH=readindata('r3xr1_2_C24_pseudo_CHH_sumby_r1_v_C24_CHH_hyper.bed')\n",
    "r1_pat_3_CHH_sum_r1_CHH=readindata('r3xr1_3_C24_pseudo_CHH_sumby_r1_v_C24_CHH_hyper.bed')\n",
    "\n",
    "\n",
    "\n",
    "r1_CHHr_pat_mCHH=makedatadf(Col_pat_1_CHH_sum_r1_CHH, Col_pat_2_CHH_sum_r1_CHH, Col_pat_3_CHH_sum_r1_CHH, C24_pat_1_CHH_sum_r1_CHH, C24_pat_2_CHH_sum_r1_CHH, C24_pat_3_CHH_sum_r1_CHH,\n",
    " r3_pat_1_CHH_sum_r1_CHH, r3_pat_2_CHH_sum_r1_CHH, r3_pat_3_CHH_sum_r1_CHH, r1_pat_1_CHH_sum_r1_CHH, r1_pat_2_CHH_sum_r1_CHH, r1_pat_3_CHH_sum_r1_CHH)\n",
    "r1_CHHr_mat_mCHH=makedatadf(C24_mat_1_CHH_sum_r1_CHH, C24_mat_2_CHH_sum_r1_CHH, C24_mat_3_CHH_sum_r1_CHH, Col_mat_1_CHH_sum_r1_CHH, Col_mat_2_CHH_sum_r1_CHH, Col_mat_3_CHH_sum_r1_CHH,\n",
    " r1_mat_1_CHH_sum_r1_CHH, r1_mat_2_CHH_sum_r1_CHH, r1_mat_3_CHH_sum_r1_CHH, r3_mat_1_CHH_sum_r1_CHH, r3_mat_2_CHH_sum_r1_CHH, r3_mat_3_CHH_sum_r1_CHH)\n",
    "\n",
    "r1_CHHr_pat_mCHH_avg=makeavgdf(r1_CHHr_pat_mCHH)\n",
    "r1_CHHr_mat_mCHH_avg=makeavgdf(r1_CHHr_mat_mCHH)\n",
    "\n",
    "#merge mat and pat dfs\n",
    "r1_CHHr_matpat_mCHH=r1_CHHr_mat_mCHH.merge(r1_CHHr_pat_mCHH, on=['chr','start','end'], how=\"outer\", suffixes=['_mat','_pat']).dropna()\n",
    "r1_CHHr_matpat_avg_mCHH=r1_CHHr_mat_mCHH_avg.merge(r1_CHHr_pat_mCHH_avg, on=['chr','start','end'], how=\"outer\", suffixes=['_mat','_pat']).dropna()\n"
   ]
  },
  {
   "cell_type": "code",
   "execution_count": null,
   "id": "3a937257-c585-4716-80f8-0804ceec9a3b",
   "metadata": {},
   "outputs": [],
   "source": []
  },
  {
   "cell_type": "markdown",
   "id": "904153b7-b4bf-49d5-8196-c4c560c8b85a",
   "metadata": {
    "jp-MarkdownHeadingCollapsed": true,
    "tags": []
   },
   "source": [
    "## Setup"
   ]
  },
  {
   "cell_type": "code",
   "execution_count": null,
   "id": "ee0ee276-4301-4a38-80b3-944a5b47e76d",
   "metadata": {
    "tags": []
   },
   "outputs": [],
   "source": [
    "#dictionaries for which replicates/samples to plot\n",
    "wt_r3_r7_1rep={'WT endo':'wt_1_avg_methy',r7it+' endo':'r7_1_avg_methy',r3it+' endo':'r3_1_avg_methy', 'DMR':'DMR'}\n",
    "wt_r3_endoleaf_1rep={'WT endo':'wt_1_avg_methy',r3it+' endo':'r3_1_avg_methy', 'WT leaf':'wtl_2_avg_methy',r3it+' leaf':'r3l_1_avg_methy'}\n",
    "wt_r3_endoleafsperm_1rep={'WT endo':'wt_1_avg_methy',r3it+' endo':'r3_1_avg_methy', 'WT leaf':'wtl_2_avg_methy',r3it+' leaf':'r3l_1_avg_methy',\n",
    "                         'WT sperm':'wtsc_1_avg_methy',r3it+' sperm':'r3sc_1_avg_methy'}\n",
    "\n",
    "wt_r3_endoleafsperm_allrep={'WT endo 1':'wt_1_avg_methy','WT endo 2':'wt_2_avg_methy','WT endo 3':'wt_3_avg_methy',\n",
    "                 r7it+' endo 1':'r7_1_avg_methy',r7it+' endo 2':'r7_2_avg_methy',r7it+' endo 3':'r7_3_avg_methy',\n",
    "                 r3it+' endo 1':'r3_1_avg_methy', r3it+' endo 2':'r3_2_avg_methy', r3it+' endo 3':'r3_3_avg_methy',\n",
    "                 'WT leaf 1':'wtl_1_avg_methy','WT leaf 2':'wtl_2_avg_methy','WT leaf 3':'wtl_3_avg_methy',\n",
    "                 r7it+' leaf 1':'r7l_1_avg_methy',r7it+' leaf 2':'r7l_2_avg_methy',r7it+' leaf 3':'r7l_3_avg_methy',\n",
    "                 r3it+' leaf 1':'r3l_1_avg_methy', r3it+' leaf 2':'r3l_2_avg_methy', r3it+' leaf 3':'r3l_3_avg_methy',\n",
    "                 'WT sperm 1':'wtsc_1_avg_methy','WT sperm 2':'wtsc_1_avg_methy',r3it+' sperm 1':'r3sc_1_avg_methy',r3it+' sperm 2':'r3sc_2_avg_methy'}\n",
    "\n",
    "wt_r3_r7_allrep={'WT endo 1':'wt_1_avg_methy','WT endo 2':'wt_2_avg_methy','WT endo 3':'wt_3_avg_methy',\n",
    "                 r7it+' endo 1':'r7_1_avg_methy',r7it+' endo 2':'r7_2_avg_methy',r7it+' endo 3':'r7_3_avg_methy',\n",
    "                 r3it+' endo 1':'r3_1_avg_methy', r3it+' endo 2':'r3_2_avg_methy', r3it+' endo 3':'r3_3_avg_methy',\n",
    "                 'DMR':'DMR'}\n",
    "\n",
    "wt_r3_r7_rdd_endoleaf_allrep={'WT endo 1':'wt_1_avg_methy','WT endo 2':'wt_2_avg_methy','WT endo 3':'wt_3_avg_methy',\n",
    "                 r7it+' endo 1':'r7_1_avg_methy',r7it+' endo 2':'r7_2_avg_methy',r7it+' endo 3':'r7_3_avg_methy',\n",
    "                 r3it+' endo 1':'r3_1_avg_methy', r3it+' endo 2':'r3_2_avg_methy', r3it+' endo 3':'r3_3_avg_methy',\n",
    "                 rddit+' endo 1':'rdd_1_avg_methy', rddit+' endo 2':'rdd_2_avg_methy', rddit+' endo 3':'rdd_3_avg_methy',\n",
    "                 'WT leaf 1':'wtl_1_avg_methy','WT leaf 2':'wtl_2_avg_methy','WT leaf 3':'wtl_3_avg_methy',\n",
    "                 r7it+' leaf 1':'r7l_1_avg_methy',r7it+' leaf 2':'r7l_2_avg_methy',r7it+' leaf 3':'r7l_3_avg_methy',\n",
    "                 r3it+' leaf 1':'r3l_1_avg_methy', r3it+' leaf 2':'r3l_2_avg_methy', r3it+' leaf 3':'r3l_3_avg_methy',\n",
    "                 'DMR':'DMR'}"
   ]
  },
  {
   "cell_type": "code",
   "execution_count": null,
   "id": "b8b1e69e-0638-4c04-b446-0cdf1eeebc72",
   "metadata": {
    "tags": []
   },
   "outputs": [],
   "source": [
    "r3_CGr_endo_leaf['DMR']=r3it\n",
    "r7_CGr_endo_leaf['DMR']=r7it\n",
    "\n",
    "r3_CHGr_endo_leaf['DMR']=r3it\n",
    "r7_CHGr_endo_leaf['DMR']=r7it\n",
    "\n",
    "r3_CHHr_endo_leaf['DMR']=r3it\n",
    "r7_CHHr_endo_leaf['DMR']=r7it"
   ]
  },
  {
   "cell_type": "code",
   "execution_count": null,
   "id": "7044ef01-7ecc-401e-9e01-a8f49a836f10",
   "metadata": {
    "tags": []
   },
   "outputs": [],
   "source": [
    "r3_r7_endoCGr=pd.concat([r3_CGr_endo_leaf, r7_CGr_endo_leaf], axis=0)\n",
    "r3_r7_endoCHGr=pd.concat([r3_CHGr_endo_leaf, r7_CHGr_endo_leaf], axis=0)\n",
    "r3_r7_endoCHHr=pd.concat([r3_CHHr_endo_leaf, r7_CHHr_endo_leaf], axis=0)"
   ]
  },
  {
   "cell_type": "markdown",
   "id": "3fed2e85-d649-43ff-82c1-87c472ca719d",
   "metadata": {
    "jp-MarkdownHeadingCollapsed": true,
    "tags": []
   },
   "source": [
    "## Figure: sumby boxplots in endosperm DMRs\n"
   ]
  },
  {
   "cell_type": "code",
   "execution_count": null,
   "id": "6ba899b5-e47e-445e-979e-83a4e1aa89e8",
   "metadata": {
    "tags": []
   },
   "outputs": [],
   "source": [
    "def sumby_boxplot(df, samplesdict, mCcontext, hue=None, color=None):\n",
    "    \n",
    "    df2plot=pd.DataFrame()\n",
    "    for key, value in samplesdict.items():  \n",
    "        df2plot[key]=df[value]\n",
    "    \n",
    "    fig, ax = plt.subplots(figsize=(6,6))\n",
    "    \n",
    "    #return df2plot\n",
    "    if hue is not None:\n",
    "        df2plot=df2plot.melt(id_vars=['DMR'], var_name='sample', value_name='summed m'+mCcontext)\n",
    "        sns.boxplot(data=df2plot, x=\"sample\", y=\"summed m\"+mCcontext, hue=hue, palette=\"pastel\", ax=ax)\n",
    "        ax.legend(loc=\"best\", fontsize=14, title=mCcontext+\" hyperDMRs\",title_fontsize=14)\n",
    "\n",
    "    else:\n",
    "        if color is not None:\n",
    "            c=color\n",
    "        else:\n",
    "            c=\"#a1c9f4\"\n",
    "            \n",
    "        df2plot=df2plot.melt(var_name='sample', value_name='summed m'+mCcontext)\n",
    "        sns.boxplot(data=df2plot, x=\"sample\", y=\"summed m\"+mCcontext, ax=ax, color=c)\n",
    "        \n",
    "    # general layout\n",
    "    ax.set_xlabel(\"sample\", fontsize=18)\n",
    "    ax.tick_params(axis='both', labelsize=15)\n",
    "    ax.set_ylabel(\"summed fraction m\"+mCcontext, fontsize=20)\n",
    "    \n",
    "    return fig, ax\n",
    "    #plt.tight_layout()\n",
    "\n",
    "r3color=\"#a1c9f4\"\n",
    "r7color=\"#ffb482\""
   ]
  },
  {
   "cell_type": "code",
   "execution_count": null,
   "id": "249a408b-4a28-4722-88b6-177faddfe904",
   "metadata": {
    "tags": []
   },
   "outputs": [],
   "source": [
    "sumby_boxplot(r3_r7_endoCGr, wt_r3_r7_1rep, \"CG\", hue='DMR')\n",
    "plt.tight_layout()\n",
    "plt.savefig(figurepath+'endo_ros1_CGr_DMRs_sumbymCG.pdf', dpi=350)\n"
   ]
  },
  {
   "cell_type": "code",
   "execution_count": null,
   "id": "90a82ce6-41b8-4028-8eab-a87b30931058",
   "metadata": {
    "tags": []
   },
   "outputs": [],
   "source": [
    "sumby_boxplot(r3_CGr_endo_leaf, wt_r3_endoleaf_1rep, \"CG\")\n",
    "plt.savefig(figurepath+'endo_leaf_r3_CGr_DMRs_sumbymCG.pdf', dpi=350)\n"
   ]
  },
  {
   "cell_type": "code",
   "execution_count": null,
   "id": "76f1b5cb-c064-42fe-8a1e-7221f440a1cc",
   "metadata": {
    "tags": []
   },
   "outputs": [],
   "source": [
    "fig, ax=sumby_boxplot(r3_r7_endoCGr, wt_r3_r7_allrep, \"CG\", hue='DMR')\n",
    "ax.tick_params(axis='x', labelsize=15, labelrotation=35)\n",
    "fig.set_size_inches(10,6)\n",
    "plt.tight_layout()\n",
    "plt.savefig(figurepath+'endo_ros1_CGr_DMRs_sumbymCG_allreps.pdf', dpi=350)\n"
   ]
  },
  {
   "cell_type": "code",
   "execution_count": null,
   "id": "45adf64c-6299-435b-b99d-c0fb34f72eea",
   "metadata": {
    "tags": []
   },
   "outputs": [],
   "source": [
    "fig, ax=sumby_boxplot(r3_r7_endoCGr, wt_r3_r7_rdd_endoleaf_allrep, \"CG\", hue='DMR')\n",
    "ax.tick_params(axis='x', labelsize=15, labelrotation=35)\n",
    "fig.set_size_inches(15,6)\n",
    "plt.tight_layout()\n",
    "\n",
    "plt.savefig(figurepath+'endo_ros1_CGr_DMRs_sumbymCG_endoleaf_allreps.pdf', dpi=350)\n"
   ]
  },
  {
   "cell_type": "code",
   "execution_count": null,
   "id": "be568b5e-bba7-479f-8728-f9304d78222f",
   "metadata": {
    "tags": []
   },
   "outputs": [],
   "source": [
    "sumby_boxplot(r3_r7_endoCHGr, wt_r3_r7_1rep, \"CHG\", hue='DMR')\n",
    "plt.tight_layout()\n",
    "plt.savefig(figurepath+'endo_ros1_CHGr_DMRs_sumbymCHG.pdf', dpi=350)"
   ]
  },
  {
   "cell_type": "code",
   "execution_count": null,
   "id": "629b0ba7-321a-4d85-8741-1e90e3f8b1ac",
   "metadata": {
    "tags": []
   },
   "outputs": [],
   "source": [
    "fig, ax=sumby_boxplot(r3_r7_endoCHGr, wt_r3_r7_rdd_endoleaf_allrep, \"CHG\", hue='DMR')\n",
    "ax.tick_params(axis='x', labelsize=15, labelrotation=35)\n",
    "fig.set_size_inches(15,6)\n",
    "plt.tight_layout()\n",
    "\n",
    "plt.savefig(figurepath+'endo_ros1_CHGr_DMRs_sumbymCHG_endoleaf_allreps.pdf', dpi=350)\n"
   ]
  },
  {
   "cell_type": "code",
   "execution_count": null,
   "id": "79b34edc-3b03-4663-8f07-e68983083463",
   "metadata": {
    "tags": []
   },
   "outputs": [],
   "source": [
    "sumby_boxplot(r3_r7_endoCHHr, wt_r3_r7_1rep, \"CHH\", hue='DMR')\n",
    "plt.tight_layout()\n",
    "plt.savefig(figurepath+'endo_ros1_CHHr_DMRs_sumbymCHH.pdf', dpi=350)"
   ]
  },
  {
   "cell_type": "code",
   "execution_count": null,
   "id": "4e747bd8-9de1-4577-85bb-ab452d1774ea",
   "metadata": {
    "tags": []
   },
   "outputs": [],
   "source": [
    "fig, ax=sumby_boxplot(r3_r7_endoCHHr, wt_r3_r7_rdd_endoleaf_allrep, \"CHH\", hue='DMR')\n",
    "ax.tick_params(axis='x', labelsize=15, labelrotation=35)\n",
    "fig.set_size_inches(15,6)\n",
    "plt.tight_layout()\n",
    "\n",
    "plt.savefig(figurepath+'endo_ros1_CHHr_DMRs_sumbymCHH_endoleaf_allreps.pdf', dpi=350)\n"
   ]
  },
  {
   "cell_type": "code",
   "execution_count": null,
   "id": "1fee188b-e2e2-4a15-8823-ecb370ed37e5",
   "metadata": {
    "tags": []
   },
   "outputs": [],
   "source": [
    "# \n",
    "fig, ax=sumby_boxplot(r3_CGr_endo_leaf_sperm, wt_r3_endoleafsperm_1rep, \"CG\")\n",
    "ax.tick_params(axis='x', labelrotation=35)\n",
    "plt.tight_layout()\n",
    "plt.savefig(figurepath+'endo_leaf_sperm_1rep_r3_CGr_DMRs_sumbymCG.pdf', dpi=350)\n"
   ]
  },
  {
   "cell_type": "code",
   "execution_count": null,
   "id": "07569337-8623-4e2e-9414-002ab28f0a3a",
   "metadata": {
    "tags": []
   },
   "outputs": [],
   "source": [
    "fig, ax=sumby_boxplot(r3_CGr_endo_leaf_sperm, wt_r3_endoleafsperm_allrep, \"CG\")\n",
    "ax.tick_params(axis='x', labelsize=15, labelrotation=35)\n",
    "fig.set_size_inches(15,6)\n",
    "plt.tight_layout()\n",
    "\n",
    "plt.savefig(figurepath+'endo_leaf_sperm_allrep_r3_CGr_DMRs_sumbymCG.pdf', dpi=350)\n"
   ]
  },
  {
   "cell_type": "code",
   "execution_count": null,
   "id": "4cb61067-bdcb-46a8-b85f-ceefdd7ef0cd",
   "metadata": {
    "tags": []
   },
   "outputs": [],
   "source": [
    "fig, ax=sumby_boxplot(r3_CHGr_endo_leaf_sperm, wt_r3_endoleafsperm_allrep, \"CHG\")\n",
    "ax.tick_params(axis='x', labelsize=15, labelrotation=35)\n",
    "fig.set_size_inches(15,6)\n",
    "plt.tight_layout()\n",
    "\n",
    "plt.savefig(figurepath+'endo_leaf_sperm_allrep_r3_CHGr_DMRs_sumbymCHG.pdf', dpi=350)\n"
   ]
  },
  {
   "cell_type": "code",
   "execution_count": null,
   "id": "563bec61-bd8c-42fa-9741-fb962b5ea51c",
   "metadata": {
    "tags": []
   },
   "outputs": [],
   "source": [
    "fig, ax=sumby_boxplot(r3_CHHr_endo_leaf_sperm, wt_r3_endoleafsperm_allrep, \"CHH\")\n",
    "ax.tick_params(axis='x', labelsize=15, labelrotation=35)\n",
    "fig.set_size_inches(15,6)\n",
    "plt.tight_layout()\n",
    "\n",
    "plt.savefig(figurepath+'endo_leaf_sperm_allrep_r3_CHHr_DMRs_sumbymCHH.pdf', dpi=350)\n"
   ]
  },
  {
   "cell_type": "markdown",
   "id": "7abf65bb-a624-4aef-a2f9-1fad7a0e0829",
   "metadata": {
    "tags": [],
    "toc-hr-collapsed": true
   },
   "source": [
    "## Figure: mat/pat mC sumby bulk endosperm-defined DMRs in scatterplot"
   ]
  },
  {
   "cell_type": "markdown",
   "id": "abbae85a-e3c7-4d17-bb52-b08d575e2db0",
   "metadata": {
    "jp-MarkdownHeadingCollapsed": true,
    "tags": []
   },
   "source": [
    "### functions - matpat sumby DMR scatterplot and correlation"
   ]
  },
  {
   "cell_type": "code",
   "execution_count": null,
   "id": "d3c1bd65-0cb8-48ed-b152-d15cb97f6f2d",
   "metadata": {
    "tags": []
   },
   "outputs": [],
   "source": [
    "import scipy as sp\n",
    "\n",
    "def get_correlation (df, col1, col2):\n",
    "    r, p = sp.stats.pearsonr(x=df[col1], y=df[col2])\n",
    "    return r, p\n",
    "\n",
    "def scatter_dmrmatpat(df, x, y, xlabel, ylabel, hue='DMR class', xlim=[-0.02,1.02], ylim=[-0.02, 1.02],correlate=False, left_text=True, saveas=False):\n",
    "    fig, ax = plt.subplots()\n",
    "    \n",
    "    if hue==None:\n",
    "        sns.scatterplot(data=df, x=x, y=y, ax=ax)\n",
    "    elif hue is not None:\n",
    "        sns.scatterplot(data=df, x=x, y=y,hue=hue, ax=ax, legend=False)\n",
    "        #sns.move_legend(ax, 'lower right')\n",
    "        if hue==\"_lefton_TE\":\n",
    "            legend_elements = [Line2D([0], [0], marker='o', color='w', label='Scatter',markerfacecolor='b', markersize=7),\n",
    "                               Line2D([0], [0], marker='o', color='w', label='Scatter',markerfacecolor='g', markersize=7)]\n",
    "            ax.legend(handles=legend_elements, labels=['no gene within 1kb','gene within 1kb or intersecting'])\n",
    "        if hue==\"_lefton_gene\":\n",
    "            legend_elements = [Line2D([0], [0], marker='o', color='w', label='Scatter',markerfacecolor='b', markersize=7),\n",
    "                               Line2D([0], [0], marker='o', color='w', label='Scatter',markerfacecolor='g', markersize=7)]\n",
    "            ax.legend(handles=legend_elements, labels=['no TE within 1kb','TE within 1kb or intersecting'])\n",
    "      \n",
    "        \n",
    "    if correlate==True:\n",
    "        r, p = get_correlation(df, x, y)\n",
    "        \n",
    "        if left_text==True:\n",
    "            #print('putting correlation in text of paper')\n",
    "            plt.text(.05, .8, \"Pearson's r ={:.2f}\".format(r), transform=ax.transAxes)\n",
    "            #plt.text(.05, .75, \"p value ={:.4f}\".format(p), transform=ax.transAxes)\n",
    "            #plt.text(.05, .7, \"n=\"+str(len(df)), transform=ax.transAxes)\n",
    "        elif left_text==False:\n",
    "            #print('putting correlation in text of paper')\n",
    "            plt.text(.65, .4, \"Pearson's r ={:.2f}\".format(r), transform=ax.transAxes)\n",
    "            #plt.text(.65, .35, \"p value ={:.4f}\".format(p), transform=ax.transAxes)\n",
    "            #plt.text(.65, .3, \"n=\"+str(len(df)), transform=ax.transAxes)\n",
    "\n",
    "        \n",
    "    ax.set_xlim(xlim)\n",
    "    ax.set_ylim(ylim)\n",
    "    ax.set_xlabel(xlabel, fontsize=15)\n",
    "    ax.set_ylabel(ylabel, fontsize=15)\n",
    "    ax.tick_params(labelsize=12)\n",
    "    \n",
    "    print('r value ='+ str(r))\n",
    "\n",
    "    print('p value ='+ str(p))\n",
    "\n",
    "    if saveas!=False:\n",
    "        print('plot saved')\n",
    "        fig.savefig(saveas, dpi=350)\n",
    "    else:\n",
    "        print('plot not saved')\n",
    "        return fig, ax\n",
    "        plt.show()\n",
    "            "
   ]
  },
  {
   "cell_type": "markdown",
   "id": "dc572a6f-542c-4add-b94a-f597f20e1316",
   "metadata": {
    "jp-MarkdownHeadingCollapsed": true,
    "tags": []
   },
   "source": [
    "### CG plots"
   ]
  },
  {
   "cell_type": "code",
   "execution_count": null,
   "id": "86800c53-8391-4c10-894c-486ea0ea1385",
   "metadata": {
    "tags": []
   },
   "outputs": [],
   "source": [
    "scatter_dmrmatpat(r3_CGr_matpat_avg_mCG, x=\"ColxC24_mat\", y=\"C24xCol_pat\", xlabel=\"Col-0 maternal allele (avg fraction mCG)\", ylabel=\"Col-0 paternal allele (avg fraction mCG)\", correlate=True, saveas=figurepath+\"r3_CGr_sumby_Colmatpat_scatter.png\")"
   ]
  },
  {
   "cell_type": "code",
   "execution_count": null,
   "id": "6a0555a9-cd42-4549-8860-407f01c6a3a6",
   "metadata": {
    "tags": []
   },
   "outputs": [],
   "source": [
    "scatter_dmrmatpat(r3_CGr_matpat_avg_mCG, x=\"r3xr1_mat\", y=\"r1xr3_pat\", xlabel=r3it+\" maternal allele (avg fraction mCG)\", ylabel=r3it+\" paternal allele (avg fraction mCG)\", correlate=True, left_text=False, saveas=figurepath+\"r3_CGr_sumby_r3matpat_scatter.png\")"
   ]
  },
  {
   "cell_type": "code",
   "execution_count": null,
   "id": "dbba5ff1-953a-4e75-813c-98f1b449d862",
   "metadata": {
    "tags": []
   },
   "outputs": [],
   "source": [
    "scatter_dmrmatpat(r3_CGr_matpat_avg_mCG, x=\"C24xCol_mat\", y=\"ColxC24_pat\",  xlabel=\"C24 maternal allele (avg fraction mCG)\", ylabel=\"C24 paternal allele (avg fraction mCG)\", correlate=True, left_text=False, saveas=figurepath+\"r3_CGr_sumby_C24matpat_scatter.png\")"
   ]
  },
  {
   "cell_type": "code",
   "execution_count": null,
   "id": "7d2ee1ee-79fd-43d6-b1bf-856cb4de98ed",
   "metadata": {
    "tags": []
   },
   "outputs": [],
   "source": [
    "scatter_dmrmatpat(r3_CGr_matpat_avg_mCG, x=\"r1xr3_mat\", y=\"r3xr1_pat\", xlabel=r1it+\" maternal allele (avg fraction mCG)\", ylabel=r1it+\" paternal allele (avg fraction mCG)\", correlate=True, left_text=False, saveas=figurepath+\"r3_CGr_sumby_r1matpat_scatter.png\")"
   ]
  },
  {
   "cell_type": "markdown",
   "id": "57cd11ec-cc8a-4dfa-a91a-d3584ee89fc9",
   "metadata": {
    "jp-MarkdownHeadingCollapsed": true,
    "tags": []
   },
   "source": [
    "### nonCG plots"
   ]
  },
  {
   "cell_type": "code",
   "execution_count": null,
   "id": "1ff32859-4d82-48a2-b4c9-bd59623131e2",
   "metadata": {
    "tags": []
   },
   "outputs": [],
   "source": [
    "scatter_dmrmatpat(r3_CHGr_matpat_avg_mCHG, x=\"ColxC24_mat\", y=\"C24xCol_pat\", xlabel=\"Col-0 maternal allele (avg fraction mCHG)\", \n",
    "                  ylabel=\"Col-0 paternal allele (avg fraction mCHG)\", hue=None, correlate=True, saveas=figurepath+\"r3_CHGr_sumby_Colmatpat_scatter.png\")\n",
    "\n"
   ]
  },
  {
   "cell_type": "code",
   "execution_count": null,
   "id": "e31ba32d-e20b-4d3f-9181-c172dfc3f622",
   "metadata": {
    "tags": []
   },
   "outputs": [],
   "source": [
    "scatter_dmrmatpat(r3_CHGr_matpat_avg_mCHG, x=\"r3xr1_mat\", y=\"r1xr3_pat\", xlabel=r3it+\" mat allele (avg fraction mCHG)\", \n",
    "                  ylabel=r3it+ \" pat allele (avg fraction mCHG)\", hue=None, correlate=True, saveas=figurepath+\"r3_CHGr_sumby_r3matpat_scatter.png\")\n"
   ]
  },
  {
   "cell_type": "code",
   "execution_count": null,
   "id": "fc15dd35-f3f8-45ae-8a44-9097c4358bb2",
   "metadata": {
    "tags": []
   },
   "outputs": [],
   "source": [
    "scatter_dmrmatpat(r3_CHHr_matpat_avg_mCHH, x=\"ColxC24_mat\", y=\"C24xCol_pat\", xlabel=\"Col-0 maternal allele (avg fraction mCHH)\", \n",
    "                  ylabel=\"Col-0 paternal allele (avg fraction mCHH)\", hue=None, correlate=True, saveas=figurepath+\"r3_CHHr_sumby_Colmatpat_scatter.png\")\n",
    "\n"
   ]
  },
  {
   "cell_type": "code",
   "execution_count": null,
   "id": "dab57c22-1cc4-4960-834b-2b5eabcdaaf0",
   "metadata": {
    "tags": []
   },
   "outputs": [],
   "source": [
    "scatter_dmrmatpat(r3_CHHr_matpat_avg_mCHH, x=\"r3xr1_mat\", y=\"r1xr3_pat\", xlabel=r3it+\" mat allele (avg fraction mCHH)\", \n",
    "                  ylabel=r3it+\" pat allele (avg fraction mCHH)\", hue=None, correlate=True, saveas=figurepath+\"r3_CHHr_sumby_r3matpat_scatter.png\")\n"
   ]
  },
  {
   "cell_type": "code",
   "execution_count": null,
   "id": "0f709f56-ffad-401b-8f9d-5d8a3ed326ac",
   "metadata": {
    "tags": []
   },
   "outputs": [],
   "source": []
  },
  {
   "cell_type": "code",
   "execution_count": null,
   "id": "cadd55f3-8304-47ca-8182-f70858840851",
   "metadata": {
    "tags": []
   },
   "outputs": [],
   "source": [
    "scatter_dmrmatpat(r1_CGr_matpat_avg_mCG, x=\"r3xr1_mat\", y=\"r1xr3_pat\", xlabel=r3it+\" maternal allele (avg fraction mCG)\", ylabel=r3it+\" paternal allele (avg fraction mCG)\", hue=None,correlate=True, left_text=False, saveas=figurepath+\"r1_CGr_sumby_r3matpat_scatter.png\")\n",
    "\n",
    "\n",
    "scatter_dmrmatpat(r1_CGr_matpat_avg_mCG, x=\"r1xr3_mat\", y=\"r3xr1_pat\", xlabel=r1it+\" maternal allele (avg fraction mCG)\", ylabel=r1it+\" paternal allele (avg fraction mCG)\", hue=None,correlate=True, left_text=False, saveas=figurepath+\"r1_CGr_sumby_r1matpat_scatter.png\")\n",
    "\n",
    "\n",
    "scatter_dmrmatpat(r1_CGr_matpat_avg_mCG, x=\"C24xCol_mat\", y=\"ColxC24_pat\", xlabel=\"C24 maternal allele (avg fraction mCG)\", ylabel=\"C24 paternal allele (avg fraction mCG)\", hue=None,correlate=True, left_text=False, saveas=figurepath+\"r1_CGr_sumby_C24matpat_scatter.png\")\n",
    "\n",
    "\n",
    "scatter_dmrmatpat(r1_CGr_matpat_avg_mCG, x=\"ColxC24_mat\", y=\"C24xCol_pat\", xlabel=\"Col maternal allele (avg fraction mCG)\", ylabel=\"Col paternal allele (avg fraction mCG)\", hue=None,correlate=True, left_text=False, saveas=figurepath+\"r1_CGr_sumby_Colmatpat_scatter.png\")\n"
   ]
  },
  {
   "cell_type": "code",
   "execution_count": null,
   "id": "7fa94bf5-8a55-47de-88a8-0a0e031f751e",
   "metadata": {
    "tags": []
   },
   "outputs": [],
   "source": [
    "scatter_dmrmatpat(r1_CHGr_matpat_avg_mCHG, x=\"r3xr1_mat\", y=\"r1xr3_pat\", xlabel=r3it+\" maternal allele (avg fraction mCHG)\", ylabel=r3it+\" paternal allele (avg fraction mCHG)\", hue=None,correlate=True, left_text=False, saveas=figurepath+\"r1_CHGr_sumby_r3matpat_scatter.png\")\n",
    "\n",
    "\n",
    "scatter_dmrmatpat(r1_CHGr_matpat_avg_mCHG, x=\"r1xr3_mat\", y=\"r3xr1_pat\", xlabel=r1it+\" maternal allele (avg fraction mCHG)\", ylabel=r1it+\" paternal allele (avg fraction mCHG)\", hue=None,correlate=True, left_text=False, saveas=figurepath+\"r1_CHGr_sumby_r1matpat_scatter.png\")\n",
    "\n",
    "\n",
    "scatter_dmrmatpat(r1_CHGr_matpat_avg_mCHG, x=\"C24xCol_mat\", y=\"ColxC24_pat\", xlabel=\"C24 maternal allele (avg fraction mCHG)\", ylabel=\"C24 paternal allele (avg fraction mCHG)\", hue=None,correlate=True, left_text=False, saveas=figurepath+\"r1_CHGr_sumby_C24matpat_scatter.png\")\n",
    "\n",
    "\n",
    "scatter_dmrmatpat(r1_CHGr_matpat_avg_mCHG, x=\"ColxC24_mat\", y=\"C24xCol_pat\", xlabel=\"Col maternal allele (avg fraction mCHG)\", ylabel=\"Col paternal allele (avg fraction mCHG)\", hue=None,correlate=True, left_text=False, saveas=figurepath+\"r1_CHGr_sumby_Colmatpat_scatter.png\")\n"
   ]
  },
  {
   "cell_type": "code",
   "execution_count": null,
   "id": "4b3a5554-6bce-4a9e-aef2-085a6f3ddf14",
   "metadata": {
    "tags": []
   },
   "outputs": [],
   "source": [
    "scatter_dmrmatpat(r1_CHHr_matpat_avg_mCHH, x=\"r3xr1_mat\", y=\"r1xr3_pat\", xlabel=r3it+\" maternal allele (avg fraction mCHH)\", ylabel=r3it+\" paternal allele (avg fraction mCHH)\", hue=None,correlate=True, left_text=False, saveas=figurepath+\"r1_CHHr_sumby_r3matpat_scatter.png\")\n",
    "\n",
    "\n",
    "scatter_dmrmatpat(r1_CHHr_matpat_avg_mCHH, x=\"r1xr3_mat\", y=\"r3xr1_pat\", xlabel=r1it+\" maternal allele (avg fraction mCHH)\", ylabel=r1it+\" paternal allele (avg fraction mCHH)\", hue=None,correlate=True, left_text=False, saveas=figurepath+\"r1_CHHr_sumby_r1matpat_scatter.png\")\n",
    "\n",
    "\n",
    "scatter_dmrmatpat(r1_CHHr_matpat_avg_mCHH, x=\"C24xCol_mat\", y=\"ColxC24_pat\", xlabel=\"C24 maternal allele (avg fraction mCHH)\", ylabel=\"C24 paternal allele (avg fraction mCHH)\", hue=None,correlate=True, left_text=False, saveas=figurepath+\"r1_CHHr_sumby_C24matpat_scatter.png\")\n",
    "\n",
    "\n",
    "scatter_dmrmatpat(r1_CHHr_matpat_avg_mCHH, x=\"ColxC24_mat\", y=\"C24xCol_pat\", xlabel=\"Col maternal allele (avg fraction mCHH)\", ylabel=\"Col paternal allele (avg fraction mCHH)\", hue=None,correlate=True, left_text=False, saveas=figurepath+\"r1_CHHr_sumby_Colmatpat_scatter.png\")\n"
   ]
  },
  {
   "cell_type": "markdown",
   "id": "a3b51327-b699-4f10-888b-f4c73ecd122b",
   "metadata": {
    "jp-MarkdownHeadingCollapsed": true,
    "tags": []
   },
   "source": [
    "# Allelic DMRs - expt 3"
   ]
  },
  {
   "cell_type": "markdown",
   "id": "ee49e6b8-5230-4e1a-ba03-db3dc62112dd",
   "metadata": {
    "jp-MarkdownHeadingCollapsed": true,
    "tags": []
   },
   "source": [
    "## setup and dfs"
   ]
  },
  {
   "cell_type": "code",
   "execution_count": null,
   "id": "aa6a3433-e8e1-4baa-b2cb-fe5186f317c8",
   "metadata": {
    "tags": []
   },
   "outputs": [],
   "source": [
    "bed_columns1 = ['chr','start','end']"
   ]
  },
  {
   "cell_type": "code",
   "execution_count": null,
   "id": "31ab1e49-4a23-4e12-8cf8-127cff23031b",
   "metadata": {
    "tags": []
   },
   "outputs": [],
   "source": [
    "DMEdom=pd.read_csv(dmrpath+\"WT_and_ros1_matVpat_hypo_allC.merge.bed\", header=None, names=bed_columns1, sep=tab)\n",
    "ROS1dom=pd.read_csv(dmrpath+\"ros1_only_matVpat_hypo_allC.merge.bed\", header=None, names=bed_columns1, sep=tab)\n",
    "ROS1only=pd.read_csv(dmrpath+\"ros1_only_NEITHERcheck_matVpat_hypo_allC.bed\", header=None, names=bed_columns1, sep=tab)\n",
    "ROS1bi=pd.read_csv(dmrpath+\"ros1_v_wt_PatMat_hyper_allC_C.merge.bed\", header=None, names=bed_columns1, sep=tab)\n",
    "ROS1mat=pd.read_csv(dmrpath+\"ros1_v_wt_matonly_hyper_allC.bed\", header=None, names=bed_columns1, sep=tab)\n",
    "ROS1pat=pd.read_csv(dmrpath+\"ros1_v_wt_patonly_hyper_allC.bed\", header=None, names=bed_columns1, sep=tab)\n"
   ]
  },
  {
   "cell_type": "code",
   "execution_count": null,
   "id": "911d1294-a9ab-4b42-b9f9-0b5c1dc35954",
   "metadata": {
    "tags": []
   },
   "outputs": [],
   "source": [
    "allR1=ROS1dom.merge(ROS1only, on=['chr','start','end'], how='left', indicator=True)\n",
    "justR1dom=allR1[allR1['_merge']=='left_only']"
   ]
  },
  {
   "cell_type": "code",
   "execution_count": null,
   "id": "46ad8d42-cb3f-404e-ae5f-e52b58f081b7",
   "metadata": {
    "tags": []
   },
   "outputs": [],
   "source": [
    "DMEdom['length']=abs(DMEdom['end']-DMEdom['start'])\n",
    "ROS1only['length']=abs(ROS1only['end']-ROS1only['start'])\n",
    "justR1dom['length']=abs(justR1dom['end']-justR1dom['start'])\n",
    "\n",
    "ROS1mat['length']=abs(ROS1mat['end']-ROS1mat['start'])\n",
    "ROS1pat['length']=abs(ROS1pat['end']-ROS1pat['start'])\n",
    "ROS1bi['length']=abs(ROS1bi['end']-ROS1bi['start'])\n"
   ]
  },
  {
   "cell_type": "markdown",
   "id": "5015d831-08c8-4177-bcb5-2a57206a0ffe",
   "metadata": {
    "jp-MarkdownHeadingCollapsed": true,
    "tags": []
   },
   "source": [
    "## numbers of interest"
   ]
  },
  {
   "cell_type": "code",
   "execution_count": null,
   "id": "d610ad18-db42-4c51-99a7-7bddae614b63",
   "metadata": {},
   "outputs": [],
   "source": [
    "print(\"Fraction of ros1 biallelic or maternal hypermethylation over total hypermethylation: \"+ str((np.sum(ROS1bi['length'])+np.sum(ROS1mat['length']))/(np.sum(ROS1mat['length'])+np.sum(ROS1bi['length'])+np.sum(ROS1pat['length']))))\n",
    "print(\"Fraction of ros1 paternal hypermethylation over total hypermethylation: \"+ str((np.sum(ROS1pat['length']))/(np.sum(ROS1mat['length'])+np.sum(ROS1bi['length'])+np.sum(ROS1pat['length']))))"
   ]
  },
  {
   "cell_type": "code",
   "execution_count": null,
   "id": "4b698ec2-91a3-4265-9af3-3744f639bf8b",
   "metadata": {
    "tags": []
   },
   "outputs": [],
   "source": [
    "print(\"Total length within a DME-dominant region (kb): \" +str(np.sum(DMEdom['length'])/1000))\n",
    "print(\"Total number of DME-dominant regions called by DSS: \"+str(len(DMEdom)))"
   ]
  },
  {
   "cell_type": "code",
   "execution_count": null,
   "id": "2d0c473a-be23-4add-bc1c-d41b4035c6ef",
   "metadata": {
    "tags": []
   },
   "outputs": [],
   "source": [
    "print(\"Total length within a confident ROS1-antagonized region (kb): \" +str(np.sum(ROS1only['length'])/1000))\n",
    "print(\"Total number of confident ROS1-antagonized regions called by DSS: \"+str(len(ROS1only)))"
   ]
  },
  {
   "cell_type": "markdown",
   "id": "0b4f3796-ced8-49f5-9f9a-7b3e6cd1df66",
   "metadata": {
    "jp-MarkdownHeadingCollapsed": true,
    "tags": []
   },
   "source": [
    "## histogram of DMR length"
   ]
  },
  {
   "cell_type": "code",
   "execution_count": null,
   "id": "461e8812-03e9-40ae-ab8d-c49bcb82775c",
   "metadata": {
    "tags": []
   },
   "outputs": [],
   "source": [
    "fig=sns.histplot(data=DMEdom, x=\"length\")\n",
    "plt.savefig(figurepath+\"DMEdom_length_histplot_nomax.png\", dpi=350)\n"
   ]
  },
  {
   "cell_type": "code",
   "execution_count": null,
   "id": "ad8822a8-49a9-4f9e-8e20-76529ac3c202",
   "metadata": {
    "tags": []
   },
   "outputs": [],
   "source": [
    "fig=sns.histplot(data=DMEdom[DMEdom['length']<=2000], x=\"length\", binrange=[0,2000])\n",
    "plt.savefig(figurepath+\"DMEdom_length_histplot_max2000.png\", dpi=350)\n"
   ]
  },
  {
   "cell_type": "code",
   "execution_count": null,
   "id": "1eb416c0-bd55-4ebd-81a8-913906ff34a4",
   "metadata": {
    "tags": []
   },
   "outputs": [],
   "source": [
    "sns.histplot(data=ROS1only[ROS1only['length']<=2000], x=\"length\", binrange=[0,2000])\n",
    "plt.savefig(figurepath+\"ros1needed_length_histplot_max2000.png\", dpi=350)\n"
   ]
  },
  {
   "cell_type": "markdown",
   "id": "27b7b0ff-8e7a-4efc-9b3f-8d09654703d1",
   "metadata": {
    "jp-MarkdownHeadingCollapsed": true,
    "tags": []
   },
   "source": [
    "# Ends analysis plotting"
   ]
  },
  {
   "cell_type": "markdown",
   "id": "a7c05e34-c0f6-476f-8f34-6c45bb36954d",
   "metadata": {
    "tags": []
   },
   "source": [
    "## ends plotting function"
   ]
  },
  {
   "cell_type": "code",
   "execution_count": null,
   "id": "67ea6332-0858-42cc-a919-9ab6b308d254",
   "metadata": {
    "tags": []
   },
   "outputs": [],
   "source": [
    "def methylends_format (df, plotselect, title, legend, ticklist, ticklabels, vlines, vlinescenter, ymin, ymax, yint, context='CG', sRNA=False):\n",
    "    #special plot lists by context:\n",
    "    if context=='CG':\n",
    "        contextalt='CpG'\n",
    "    else:\n",
    "        contextalt=context\n",
    "    print(context)\n",
    "  \n",
    "    matplot=['C24xCol_1_C24_pseudo_'+context+'_min5','C24xCol_2_C24_pseudo_'+context+'_min5','C24xCol_3_C24_pseudo_'+context+'_min5',\n",
    "             'ColxC24_1_Col_spiked_'+context+'_min5','ColxC24_2_Col_spiked_'+context+'_min5','ColxC24_3_Col_spiked_'+context+'_min5',\n",
    "             'r1xr3_1_C24_pseudo_'+context+'_min5','r1xr3_2_C24_pseudo_'+context+'_min5','r1xr3_3_C24_pseudo_'+context+'_min5',\n",
    "             'r3xr1_1_Col_spiked_'+context+'_min5','r3xr1_2_Col_spiked_'+context+'_min5','r3xr1_3_Col_spiked_'+context+'_min5']\n",
    "    patplot=['C24xCol_1_Col_spiked_'+context+'_min5','C24xCol_2_Col_spiked_'+context+'_min5','C24xCol_3_Col_spiked_'+context+'_min5',\n",
    "             'ColxC24_1_C24_pseudo_'+context+'_min5','ColxC24_2_C24_pseudo_'+context+'_min5','ColxC24_3_C24_pseudo_'+context+'_min5',\n",
    "             'r1xr3_1_Col_spiked_'+context+'_min5','r1xr3_2_Col_spiked_'+context+'_min5','r1xr3_3_Col_spiked_'+context+'_min5',\n",
    "             'r3xr1_1_C24_pseudo_'+context+'_min5','r3xr1_2_C24_pseudo_'+context+'_min5','r3xr1_3_C24_pseudo_'+context+'_min5']\n",
    "    scplot=['wt_sc_1_all_'+contextalt+'_min5_'+context+'con_pass_fixed','wt_sc_2_all_'+contextalt+'_min5_'+context+'con_pass_fixed',\n",
    "            'ros1_sc_1_all_'+contextalt+'_min5_'+context+'con_pass_fixed','ros1_sc_2_all_'+contextalt+'_min5_'+context+'con_pass_fixed',\n",
    "            'dme_sc_1_all_'+contextalt+'_min5_'+context+'con_pass_fixed','dme_sc_2_all_'+contextalt+'_min5_'+context+'con_pass_fixed',\n",
    "            'dme_ros1_sc_1_all_'+contextalt+'_min5','dme_ros1_sc_2_all_'+contextalt+'_min5']\n",
    "    hsiehplot=['wt_endo_hs_all_'+contextalt+'','dme_endo_hs_all_'+contextalt+'']\n",
    "    endoplot=['wt_1_Col_spiked_'+context+'_min5','wt_2_Col_spiked_'+context+'_min5','wt_3_Col_spiked_'+context+'_min5',\n",
    "              'r7_1_Col_spiked_'+context+'_min5','r7_2_Col_spiked_'+context+'_min5','r7_3_Col_spiked_'+context+'_min5',\n",
    "              'r3_1_Col_spiked_'+context+'_min5','r3_2_Col_spiked_'+context+'_min5','r3_3_Col_spiked_'+context+'_min5']\n",
    "    leafplot=['wt_1_leaf_Col_spiked_'+context+'_min5','wt_2_leaf_Col_spiked_'+context+'_min5','wt_3_leaf_Col_spiked_'+context+'_min5',\n",
    "              'r7_1_leaf_Col_spiked_'+context+'_min5','r7_2_leaf_Col_spiked_'+context+'_min5','r7_3_leaf_Col_spiked_'+context+'_min5',\n",
    "              'r3_1_leaf_Col_spiked_'+context+'_min5','r3_2_leaf_Col_spiked_'+context+'_min5','r3_3_leaf_Col_spiked_'+context+'_min5']\n",
    "    sRNAplot=['embryo24nt','endo24nt']\n",
    "    matpat_c24=[matplot[0],matplot[1],matplot[2],patplot[3],patplot[4],patplot[5],matplot[6],matplot[7],matplot[8],patplot[9],patplot[10],patplot[11]]\n",
    "    matpat_c24_1rep=[matplot[0],patplot[3],matplot[6],patplot[9]]\n",
    "\n",
    "    matpat_col=[matplot[3],matplot[4],matplot[5],patplot[0],patplot[1],patplot[2],matplot[9],matplot[10],matplot[11],patplot[6],patplot[7],patplot[8]]\n",
    "    matpat_col_1rep=[matplot[3],patplot[0],matplot[9],patplot[6]]\n",
    "\n",
    "    endo1rep=[endoplot[0], endoplot[3], endoplot[6]]\n",
    "    bulkplot=endoplot+leafplot\n",
    "    bulk_r3=[bulkplot[0], bulkplot[6], bulkplot[11], bulkplot[16]]\n",
    "    bulkplot1rep=[bulkplot[0], bulkplot[4], bulkplot[6], bulkplot[11], bulkplot[13], bulkplot[16]]\n",
    "    matpatplot=matplot+patplot\n",
    "    matpat1rep=[matplot[0],matplot[6],patplot[0],patplot[6]]\n",
    "    matpatscplot=matpatplot+scplot\n",
    "    matpatsc1rep=[matpat1rep, scplot[0], scplot[2], scplot[4], scplot[6]]\n",
    "    matpatschsiehplot=matpatscplot+hsiehplot\n",
    "    matpatschsieh1rep=matpatsc1rep+hsiehplot\n",
    "    allplot=matpatschsiehplot+bulkplot\n",
    "    matpatdme=matpatplot+hsiehplot\n",
    "    matpatdme1rep=matpat1rep+hsiehplot\n",
    "    bulkdme=bulkplot+hsiehplot\n",
    "    patscplot=patplot+scplot\n",
    "    patsc1rep=[patplot[0], patplot[6], scplot[0], scplot[2], scplot[4], scplot[6]]\n",
    "    matpatbulkplot=matpatplot+bulkplot\n",
    "    matdmeplot=matplot+hsiehplot\n",
    "\n",
    "    plotdict={'dme':hsiehplot,'matpat':matpatplot, 'matpat1rep':matpat1rep, 'matpatsc':matpatscplot, 'matpatsc1rep':matpatsc1rep,\n",
    "             'matpatscdme':matpatschsiehplot, 'matpatdme':matpatdme, 'matpatdme1rep': matpatdme1rep, 'patsc':patscplot, 'patsc1rep':patsc1rep, 'sRNA':sRNAplot,\n",
    "             'bulk':bulkplot, 'bulk1rep':bulkplot1rep, 'endo':endoplot, 'endo1rep':endo1rep, 'bulk_r3':bulk_r3, 'matpatcol':matpat_col, 'matpatc24':matpat_c24,\n",
    "             'col1rep':matpat_col_1rep, 'c241rep':matpat_c24_1rep}\n",
    "    plotlist=plotdict.get(plotselect)\n",
    "    \n",
    "    endscooler={'C24xCol_1_C24_pseudo_'+context+'_min5': '#241023',\n",
    "     'C24xCol_2_C24_pseudo_'+context+'_min5': '#241023',\n",
    "     'C24xCol_3_C24_pseudo_'+context+'_min5': '#241023',\n",
    "     'ColxC24_1_Col_spiked_'+context+'_min5': '#241023',\n",
    "     'ColxC24_2_Col_spiked_'+context+'_min5': '#241023',\n",
    "     'ColxC24_3_Col_spiked_'+context+'_min5': '#241023',\n",
    "     'r1xr3_1_C24_pseudo_'+context+'_min5': '#2B9EB3',\n",
    "     'r1xr3_2_C24_pseudo_'+context+'_min5': '#2B9EB3',\n",
    "     'r1xr3_3_C24_pseudo_'+context+'_min5': '#2B9EB3',\n",
    "     'r3xr1_1_Col_spiked_'+context+'_min5': '#2B9EB3',\n",
    "     'r3xr1_2_Col_spiked_'+context+'_min5': '#2B9EB3',\n",
    "     'r3xr1_3_Col_spiked_'+context+'_min5': '#2B9EB3',\n",
    "     'C24xCol_1_Col_spiked_'+context+'_min5': '#ccb301',\n",
    "     'C24xCol_2_Col_spiked_'+context+'_min5': '#ccb301',\n",
    "     'C24xCol_3_Col_spiked_'+context+'_min5': '#ccb301',\n",
    "     'ColxC24_1_C24_pseudo_'+context+'_min5': '#ccb301',\n",
    "     'ColxC24_2_C24_pseudo_'+context+'_min5': '#ccb301',\n",
    "     'ColxC24_3_C24_pseudo_'+context+'_min5': '#ccb301',\n",
    "     'r1xr3_1_Col_spiked_'+context+'_min5': '#6aba58',\n",
    "     'r1xr3_2_Col_spiked_'+context+'_min5': '#6aba58',\n",
    "     'r1xr3_3_Col_spiked_'+context+'_min5': '#6aba58',\n",
    "     'r3xr1_1_C24_pseudo_'+context+'_min5': '#6aba58',\n",
    "     'r3xr1_2_C24_pseudo_'+context+'_min5': '#6aba58',\n",
    "     'r3xr1_3_C24_pseudo_'+context+'_min5': '#6aba58',\n",
    "     'wt_sc_1_all_'+contextalt+'_min5_'+context+'con_pass_fixed': '#F8333C',\n",
    "     'wt_sc_2_all_'+contextalt+'_min5_'+context+'con_pass_fixed': '#F8333C',\n",
    "     'ros1_sc_1_all_'+contextalt+'_min5_'+context+'con_pass_fixed': '#ADD9F4',\n",
    "     'ros1_sc_2_all_'+contextalt+'_min5_'+context+'con_pass_fixed': '#ADD9F4',\n",
    "     'dme_sc_1_all_'+contextalt+'_min5_'+context+'con_pass_fixed': '#F7B2BD',\n",
    "     'dme_sc_2_all_'+contextalt+'_min5_'+context+'con_pass_fixed': '#F7B2BD',\n",
    "     'dme_ros1_sc_1_all_'+contextalt+'_min5': '#3F826D',\n",
    "     'dme_ros1_sc_2_all_'+contextalt+'_min5': '#3F826D',\n",
    "     'wt_endo_hs_all_'+contextalt+'': '#ffa600',\n",
    "     'dme_endo_hs_all_'+contextalt+'': '#FFFC31',\n",
    "     'wt_1_Col_spiked_'+context+'_min5': '#66c2a5',\n",
    "     'wt_2_Col_spiked_'+context+'_min5': '#66c2a5',\n",
    "     'wt_3_Col_spiked_'+context+'_min5': '#66c2a5',\n",
    "     'r7_1_Col_spiked_'+context+'_min5': '#fc8d62',\n",
    "     'r7_2_Col_spiked_'+context+'_min5': '#fc8d62',\n",
    "     'r7_3_Col_spiked_'+context+'_min5': '#fc8d62',\n",
    "     'r3_1_Col_spiked_'+context+'_min5': '#8da0cb',\n",
    "     'r3_2_Col_spiked_'+context+'_min5': '#8da0cb',\n",
    "     'r3_3_Col_spiked_'+context+'_min5': '#8da0cb',\n",
    "     'rdd_1_Col_spiked_'+context+'_min5': '#60A561',\n",
    "     'rdd_2_Col_spiked_'+context+'_min5': '#60A561',\n",
    "     'rdd_3_Col_spiked_'+context+'_min5': '#60A561',\n",
    "                'embryo24nt':'#022B3A','endo24nt':'#DA3548',\n",
    "                'r7_1_leaf_Col_spiked_'+context+'_min5': \"#a6d854\",\n",
    "                'r7_2_leaf_Col_spiked_'+context+'_min5': \"#a6d854\",\n",
    "                'r7_3_leaf_Col_spiked_'+context+'_min5': \"#a6d854\",\n",
    "                'wt_1_leaf_Col_spiked_'+context+'_min5': '#e78ac3',\n",
    "                'wt_2_leaf_Col_spiked_'+context+'_min5': '#e78ac3',\n",
    "                'wt_3_leaf_Col_spiked_'+context+'_min5': '#e78ac3',\n",
    "\n",
    "                'r3_1_leaf_Col_spiked_'+context+'_min5': \"#ffd92f\",\n",
    "                'r3_2_leaf_Col_spiked_'+context+'_min5': \"#ffd92f\",\n",
    "                'r3_3_leaf_Col_spiked_'+context+'_min5': \"#ffd92f\"\n",
    "               }\n",
    "\n",
    "    #df set up to include plostlis samples\n",
    "    dfplot=df[df['sample'].isin(plotlist)]\n",
    "\n",
    "    #dfplot.to_csv(endsout+\"testdf.txt\", sep=tab)\n",
    "    #make seaborn lineplot\n",
    "    sns.set(style=\"ticks\",font=\"Arial\")\n",
    "    if sRNA!=False:\n",
    "        plot='mC'\n",
    "    else:\n",
    "        plot='mC'\n",
    "        \n",
    "    window = dfplot['window']\n",
    "    avgmethy = dfplot[plot]\n",
    "    hue = dfplot['sample']\n",
    "    plt.figure(figsize=(12,10))\n",
    "\n",
    "    ax= sns.lineplot(x=window, y=avgmethy, hue=hue, palette=endscooler, linewidth=2)\n",
    "\n",
    "    #plt.title(title, fontsize=20)\n",
    "    ax.set_xlabel(xlabel=\"\")\n",
    "    ax.set_ylabel(ylabel=\"average \"+context+\" methylation\", fontsize=30)\n",
    "    \n",
    "    if sRNA!=False:\n",
    "        ax.set_ylabel(ylabel=\"average single-base comp 24nt sRNA\", fontsize=30)\n",
    "        \n",
    "    #custom xticks for boundaries\n",
    "    plt.xticks(ticks=ticklist, labels=ticklabels, fontsize=28)\n",
    "    plt.xticks(rotation=50)\n",
    "    plt.yticks(fontsize=28)\n",
    "    \n",
    "    if yint==None:\n",
    "        yint=0\n",
    "    else:\n",
    "        yint=yint\n",
    "        \n",
    "    ax.set_yticks(ticks=np.arange(ymin, ymax, yint, dtype=float))\n",
    "\n",
    "    #custom lines to denote boundries clearly\n",
    "    plt.vlines(x=vlines, ymin=ymin, ymax=ymax, colors='green', ls=':', lw=2)\n",
    "    plt.vlines(x=vlinescenter, ymin=ymin, ymax=ymax, colors='black', lw=2)\n",
    "   \n",
    "    #legend\n",
    "    \n",
    "    handle_list=[]\n",
    "    for key, value in legend.items():\n",
    "        newsample = mlines.Line2D([], [], color=value, markersize=12, label=key, linewidth=2)\n",
    "        handle_list.append(newsample)\n",
    "\n",
    "    ax.legend(handles=handle_list, fontsize=18, loc='upper left')\n",
    "  \n",
    "    plt.tight_layout()\n",
    "\n",
    "    return fig,ax\n"
   ]
  },
  {
   "cell_type": "markdown",
   "id": "90523244-b6a9-4e89-af21-f2bb92f9a433",
   "metadata": {
    "tags": []
   },
   "source": [
    "## lists and dicts"
   ]
  },
  {
   "cell_type": "code",
   "execution_count": null,
   "id": "ddaefb7e-726a-4b4d-84ba-0697d5af67cc",
   "metadata": {
    "tags": []
   },
   "outputs": [],
   "source": [
    "# lists to create ticks with ends distance and vertical lines for boundaries\n",
    "in500_out3000_50bp_ticks=[1, 60, 70.5, 80, 140]\n",
    "\n",
    "in500_out3000_50bp_ticks_labels=['-3kb', \"5' DMR\", '+/- 500bp', \"3' DMR\", '+3kb']\n",
    "\n",
    "in500_out3000_50bp_vlines=[1, 60, 80, 140]\n",
    "in500_out3000_50bp_vlines_center =[70.5]\n",
    "\n",
    "in500_out3000_50bp_moreticks=[1, 10, 20, 30, 40, 50, 60, 70.5, 80, 90, 100, 110, 120, 130, 140]\n",
    "in500_out3000_50bp_ticks_morelabels=['-3kb','-2.5kb','-2kb','-1.5kb','-1kb','-0.5kb', \"5' TEmerge\", '+/- 500bp', \"3' TEmerge\",'+0.5kb','+1kb','+1.5kb','+2kb','+2.5kb','+3kb']\n",
    "\n",
    "\n",
    "# lines for smaller x axis from bigger ends data\n",
    "in200_out1000_50bp_ticks=[1, 20, 24.5, 29, 48]\n",
    "\n",
    "in200_out1000_50bp_ticks_DMR_labels=['-1kb', \"5' DMR\", '+/- 200bp', \"3' DMR\", '+1kb']\n",
    "in200_out1000_50bp_ticks_DSR_labels=['-1kb', \"5' DSR\", '+/- 200bp', \"3' DSR\", '+1kb']\n",
    "\n",
    "in200_out1000_50bp_vlines=[1, 20, 29, 48]\n",
    "in200_out1000_50bp_vlines_center =[24.5]\n",
    "\n",
    "# lines for smaller x axis from bigger ends data\n",
    "in400_out1000_50bp_ticks=[1, 20, 28, 36, 56]\n",
    "\n",
    "in400_out1000_50bp_ticks_labels=['-1kb', \"5' DMR\", '+/- 400bp', \"3' DMR\", '+1kb']\n",
    "\n",
    "in400_out1000_50bp_vlines=[1, 20, 36, 56]\n",
    "in400_out1000_50bp_vlines_center =[28]\n",
    "\n",
    "\n",
    "# \n",
    "in1000_out2000_100bp_ticks=[1, 20, 30, 40, 60]\n",
    "in1000_out2000_100bp_tick_labels_gene=['-2kb', \"5' gene\", '+/- 1kb', \"3' gene\", '+2kb']\n",
    "in1000_out2000_100bp_vlines=[1, 20, 40, 60]\n",
    "in1000_out2000_100bp_vlines_center=[30]\n",
    "\n",
    "#\n",
    "in2000_out2000_100bp_ticks=[1, 21, 41, 60, 80]\n",
    "in2000_out2000_100bp_tick_labels_gene=['-2kb', \"5' gene\", '+/- 2kb', \"3' gene\", '+2kb']\n",
    "in2000_out2000_100bp_vlines=[1, 21, 60, 80]\n",
    "in2000_out2000_100bp_vlines_center=[41]\n",
    "\n",
    "# \n",
    "\n",
    "in1000_out2000_100bp_tick_labels_TE=['-2kb', \"TE start\", '+/- 1kb', \"TE end\", '+2kb']\n",
    "\n",
    "\n",
    "#\n",
    "\n",
    "in2000_out2000_100bp_tick_labels_TE=['-2kb', \"TE start\", '+/- 2kb', \"TE end\", '+2kb']\n",
    "\n",
    "\n",
    "\n",
    "# lines for smaller x axis from bigger ends data\n",
    "in100_out1000_50bp_ticks=[1, 20, 22, 24, 44]\n",
    "\n",
    "in100_out1000_50bp_ticks_DMR_labels=['-1kb', \"5' DMR\", '+/- 100bp', \"3' DMR\", '+1kb']\n",
    "in100_out1000_50bp_ticks_DSR_labels=['-1kb', \"5' DSR\", '+/- 100bp', \"3' DSR\", '+1kb']\n",
    "\n",
    "in100_out1000_50bp_vlines=[1, 20, 24, 44]\n",
    "in100_out1000_50bp_vlines_center =[22]\n",
    "\n",
    "\n"
   ]
  },
  {
   "cell_type": "code",
   "execution_count": null,
   "id": "8f4453d4-e722-4a9a-b594-f8a5b5780eb2",
   "metadata": {
    "tags": []
   },
   "outputs": [],
   "source": [
    "# ends legend dictionaries\n",
    "matpatlegend={'C24xCol maternal': '#241023',\n",
    "              'C24xCol paternal': '#ccb301',\n",
    "              'r1xr3 maternal': '#2B9EB3',\n",
    "              'r1xr3 paternal': '#6aba58'}\n",
    "\n",
    "matpatlegend1rep={'C24xCol maternal': '#241023',\n",
    "              'C24xCol paternal': '#ccb301',\n",
    "              'r1xr3 maternal': '#2B9EB3',\n",
    "              'r1xr3 paternal': '#6aba58'}\n",
    "\n",
    "matpatschsiehlegend={'C24xCol recip maternal': '#241023',\n",
    "              'C24xCol recip paternal': '#ccb301',\n",
    "              'r1xr3 recip maternal': '#2B9EB3',\n",
    "              'r1xr3 recip paternal': '#6aba58',\n",
    "              'Col-0 sperm': '#F8333C',\n",
    "              'ros1 sperm': '#ADD9F4',\n",
    "              'dme sperm': '#F7B2BD',\n",
    "              'dme;ros1 sperm': '#3F826D',\n",
    "              'WT endosperm Hsieh et al': '#ffa600',\n",
    "              'dme endosperm Hsieh et al': '#FFFC31'}\n",
    "              \n",
    "\n",
    "patsclegend={'C24xCol recip paternal': '#ccb301',\n",
    "             'r1xr3 recip paternal': '#6aba58',\n",
    "             'Col-0 sperm': '#F8333C',\n",
    "             'ros1 sperm': '#ADD9F4',\n",
    "             'dme/+ sperm': '#F7B2BD',\n",
    "             'dme/+;ros1 sperm': '#3F826D'}   \n",
    "\n",
    "matpatdmelegend={'C24xCol recip maternal': '#241023',\n",
    "                 'C24xCol recip paternal': '#ccb301',\n",
    "                 'r1xr3 recip maternal': '#2B9EB3',\n",
    "                 'r1xr3 recip paternal': '#6aba58',\n",
    "                 'WT endosperm*': '#ffa600','dme endosperm*': '#FFFC31'}\n",
    " \n",
    "matdmelegend={'C24xCol recip maternal': '#241023',\n",
    "              'r1xr3 recip maternal': '#2B9EB3',\n",
    "              'WT endosperm*': '#ffa600','dme endosperm*': '#FFFC31'}\n",
    "\n",
    "patsclegend1rep={'C24xCol paternal': '#ccb301',\n",
    "             'r1xr3 paternal': '#6aba58',\n",
    "             'Col-0 sperm': '#F8333C',\n",
    "             'ros1 sperm': '#ADD9F4',\n",
    "             'dme/+ sperm': '#F7B2BD',\n",
    "             'dme/+;ros1 sperm': '#3F826D'}   \n",
    "\n",
    "matpatdmelegend1rep={'C24xCol maternal': '#241023',\n",
    "                 'C24xCol paternal': '#ccb301',\n",
    "                 'r1xr3 maternal': '#2B9EB3',\n",
    "                 'r1xr3 paternal': '#6aba58',\n",
    "                 'WT endosperm*': '#ffa600','dme endosperm*': '#FFFC31'}\n",
    "dmeit=\"$\\it{dme}$\"\n",
    "dmelegend={'WT endosperm': '#ffa600', dmeit+' endosperm': '#FFFC31'}\n",
    "\n",
    "srnalegend={'embryo 24nt':'#022B3A','endo 24nt':'#DA3548'}\n",
    "\n",
    "\n",
    "bulklegend={'Col-0 endosperm': '#66c2a5',\n",
    "              r7it+' endosperm': '#fc8d62',\n",
    "              r3it+' endosperm': '#8da0cb',\n",
    "              'Col-0 leaf': '#e78ac3',\n",
    "              r7it+' leaf': '#a6d854',\n",
    "              r3it+' leaf': '#ffd92f'}\n",
    "\n",
    "endolegend={'Col-0 endosperm': '#66c2a5',\n",
    "              'ros1-7 endosperm': '#fc8d62',\n",
    "              'ros1-3 endosperm': '#8da0cb'}\n",
    "\n",
    "bulkr3legend={'Col-0 endosperm': '#66c2a5',\n",
    "              r3it+' endosperm': '#8da0cb',\n",
    "              'Col-0 leaf': '#e78ac3',\n",
    "              r3it+' leaf': '#ffd92f'}\n",
    "\n",
    "matpat_collegend={'Col maternal': '#241023',\n",
    "                 'Col paternal': '#ccb301',\n",
    "                 r3it+\" maternal\": '#2B9EB3',\n",
    "                 r3it+\" paternal\": '#6aba58'}\n",
    "matpat_c24legend={'C24 maternal': '#241023',\n",
    "                 'C24 paternal': '#ccb301',\n",
    "                 r1it+\" maternal\": '#2B9EB3',\n",
    "                 r1it+\" paternal\": '#6aba58'}\n"
   ]
  },
  {
   "cell_type": "markdown",
   "id": "2f90679d-61e4-4765-bbdf-0542441f70ac",
   "metadata": {
    "tags": []
   },
   "source": [
    "## read in data"
   ]
  },
  {
   "cell_type": "code",
   "execution_count": null,
   "id": "cac6a3c4-9eee-4f57-b1d9-99d52464569f",
   "metadata": {
    "tags": []
   },
   "outputs": [],
   "source": [
    "endscol=['window','mC','sample']\n",
    "\n",
    "#ends paths:\n",
    "mCends=path+\"ends_analysis/results_underlying_figs_published/mC_summed/\"\n",
    "sRNAends=path+\"ends_analysis/results_underlying_figs_published/sRNAs_summed/\"\n",
    "\n",
    "def read_ends_data(filepath):\n",
    "    df=pd.read_csv(filepath, header=None, sep=tab, names=endscol)\n",
    "    df['sample'] = df['sample'].str.replace('.bed', '')\n",
    "    \n",
    "    return df\n"
   ]
  },
  {
   "cell_type": "code",
   "execution_count": null,
   "id": "9cfb9bc1-7084-41f9-b434-9e3f02af7756",
   "metadata": {
    "tags": []
   },
   "outputs": [],
   "source": [
    "# DMR ends\n",
    "# allelic DMRs\n",
    "dmedom_CG=read_ends_data(mCends+'dme_dom_CG_in400out1kb_average_counts_filt.txt')\n",
    "dmedom_CHG=read_ends_data(mCends+'dme_dom_CHG_in400out1kb_average_counts_filt.txt')\n",
    "dmedom_CHH=read_ends_data(mCends+'dme_dom_CHH_in400out1kb_average_counts_filt.txt')\n",
    "\n",
    "ros1ant_CG=read_ends_data(mCends+'ros1needed_CG_in200out1kb_average_counts_filt.txt')\n",
    "ros1ant_CHG=read_ends_data(mCends+'ros1needed_CHG_in200out1kb_average_counts_filt.txt')\n",
    "ros1ant_CHH=read_ends_data(mCends+'ros1needed_CHH_in200out1kb_average_counts_filt.txt')\n",
    "\n",
    "#bulk DMRs\n",
    "r3_allCr_mCG_ends=read_ends_data(mCends+\"r3_v_wt_allC_hyper_allC_allCreg_CG_average_counts_filt.txt\")\n",
    "r7_allCr_mCG_ends=read_ends_data(mCends+\"r7_v_wt_allC_hyper_allC_allCreg_CG_average_counts_filt.txt\")\n",
    "\n",
    "r3_allCr_mCHG_ends=read_ends_data(mCends+\"r3_v_wt_allC_hyper_allC_allCreg_CHG_average_counts_filt.txt\")\n",
    "r7_allCr_mCHG_ends=read_ends_data(mCends+\"r7_v_wt_allC_hyper_allC_allCreg_CHG_average_counts_filt.txt\")\n",
    "\n",
    "r3_allCr_mCHH_ends=read_ends_data(mCends+\"r3_v_wt_allC_hyper_allC_allCreg_CHH_average_counts_filt.txt\")\n",
    "r7_allCr_mCHH_ends=read_ends_data(mCends+\"r7_v_wt_allC_hyper_allC_allCreg_CHH_average_counts_filt.txt\")\n"
   ]
  },
  {
   "cell_type": "markdown",
   "id": "cab4f488-692d-478a-9d16-3214338fcfe0",
   "metadata": {
    "tags": []
   },
   "source": [
    "### features nearby"
   ]
  },
  {
   "cell_type": "code",
   "execution_count": null,
   "id": "c6e21b48-2ff4-43a0-9de8-76274f703637",
   "metadata": {
    "tags": []
   },
   "outputs": [],
   "source": [
    "# genes near DMRs - in 1kb, out 2kb, window 100\n",
    "all_genes_mCG_ends=read_ends_data(mCends+\"genes_gene_CG_average_counts_filt.txt\")\n",
    "all_genes_mCHG_ends=read_ends_data(mCends+\"genes_gene_CHG_average_counts_filt.txt\")\n",
    "all_genes_mCHH_ends=read_ends_data(mCends+\"genes_gene_CHH_average_counts_filt.txt\")\n",
    "\n",
    "# allelic DMRs\n",
    "\n",
    "#bulk DMRs\n",
    "r3_genes_mCG_ends=read_ends_data(mCends+\"genes_1kb_r3_hyper_gene_CG_average_counts_filt.txt\")\n",
    "r7_genes_mCG_ends=read_ends_data(mCends+\"genes_1kb_r7_hyper_gene_CG_average_counts_filt.txt\")\n",
    "\n",
    "r3_genes_mCHG_ends=read_ends_data(mCends+\"genes_1kb_r3_hyper_gene_CHG_average_counts_filt.txt\")\n",
    "r3_genes_mCHH_ends=read_ends_data(mCends+\"genes_1kb_r3_hyper_gene_CHH_average_counts_filt.txt\")\n",
    "\n",
    "r7_genes_mCHG_ends=read_ends_data(mCends+\"genes_1kb_r7_hyper_gene_CHG_average_counts_filt.txt\")\n",
    "r7_genes_mCHH_ends=read_ends_data(mCends+\"genes_1kb_r7_hyper_gene_CHH_average_counts_filt.txt\")\n",
    "\n",
    "NOTr3_genes_mCG_ends=read_ends_data(mCends+\"genes_NOT_1kb_r3_hyper_gene_CG_average_counts_filt.txt\")\n",
    "NOTr7_genes_mCG_ends=read_ends_data(mCends+\"genes_NOT_1kb_r7_hyper_gene_CG_average_counts_filt.txt\")\n",
    "\n",
    "NOTr3_genes_mCHG_ends=read_ends_data(mCends+\"genes_NOT_1kb_r3_hyper_gene_CHG_average_counts_filt.txt\")\n",
    "NOTr3_genes_mCHH_ends=read_ends_data(mCends+\"genes_NOT_1kb_r3_hyper_gene_CHH_average_counts_filt.txt\")\n",
    "\n",
    "NOTr7_genes_mCHG_ends=read_ends_data(mCends+\"genes_NOT_1kb_r7_hyper_gene_CHG_average_counts_filt.txt\")\n",
    "NOTr7_genes_mCHH_ends=read_ends_data(mCends+\"genes_NOT_1kb_r7_hyper_gene_CHH_average_counts_filt.txt\")"
   ]
  },
  {
   "cell_type": "code",
   "execution_count": null,
   "id": "17e508e8-e07b-4eb0-98c3-5f1644a59a00",
   "metadata": {
    "tags": []
   },
   "outputs": [],
   "source": [
    "# TEs near DMRs\n",
    "r3_TEs_mCG_ends=read_ends_data(mCends+\"TEmerge_1kb_r3_hyper_TE_CG_average_counts_filt.txt\")\n",
    "r7_TEs_mCG_ends=read_ends_data(mCends+\"TEmerge_1kb_r7_hyper_TE_CG_average_counts_filt.txt\")\n",
    "\n",
    "r3_TEs_mCHG_ends=read_ends_data(mCends+\"TEmerge_1kb_r3_hyper_TE_CHG_average_counts_filt.txt\")\n",
    "r7_TEs_mCHG_ends=read_ends_data(mCends+\"TEmerge_1kb_r7_hyper_TE_CHG_average_counts_filt.txt\")\n",
    "\n",
    "r3_TEs_mCHH_ends=read_ends_data(mCends+\"TEmerge_1kb_r3_hyper_TE_CHH_average_counts_filt.txt\")\n",
    "r7_TEs_mCHH_ends=read_ends_data(mCends+\"TEmerge_1kb_r7_hyper_TE_CHH_average_counts_filt.txt\")\n",
    "\n",
    "NOTr3_TEs_mCG_ends=read_ends_data(mCends+\"TEmerge_NOT_1kb_r3_hyper_TE_CG_average_counts_filt.txt\")\n",
    "NOTr7_TEs_mCG_ends=read_ends_data(mCends+\"TEmerge_NOT_1kb_r7_hyper_TE_CG_average_counts_filt.txt\")\n",
    "\n",
    "NOTr3_TEs_mCHG_ends=read_ends_data(mCends+\"TEmerge_NOT_1kb_r3_hyper_TE_CHG_average_counts_filt.txt\")\n",
    "NOTr7_TEs_mCHG_ends=read_ends_data(mCends+\"TEmerge_NOT_1kb_r7_hyper_TE_CHG_average_counts_filt.txt\")\n",
    "\n",
    "NOTr3_TEs_mCHH_ends=read_ends_data(mCends+\"TEmerge_NOT_1kb_r3_hyper_TE_CHH_average_counts_filt.txt\")\n",
    "NOTr7_TEs_mCHH_ends=read_ends_data(mCends+\"TEmerge_NOT_1kb_r7_hyper_TE_CHH_average_counts_filt.txt\")"
   ]
  },
  {
   "cell_type": "markdown",
   "id": "760795e5-0ef3-431a-ae14-6831f5226604",
   "metadata": {
    "tags": []
   },
   "source": [
    "### sRNAs"
   ]
  },
  {
   "cell_type": "code",
   "execution_count": null,
   "id": "33efc86d-e0c0-4645-a71f-f7580c1bacb3",
   "metadata": {
    "tags": []
   },
   "outputs": [],
   "source": [
    "# sRNA ends\n",
    "r3_TEs_24nt_ends=read_ends_data(sRNAends+\"TEmerge_1kb_r3_hyper_TE_24ntsRNA_average_counts_filt.txt\")\n",
    "r7_TEs_24nt_ends=read_ends_data(sRNAends+\"TEmerge_1kb_r7_hyper_TE_24ntsRNA_average_counts_filt.txt\")\n",
    "\n",
    "NOTr3_TEs_24nt_ends=read_ends_data(sRNAends+\"TEmerge_NOT_1kb_r3_hyper_TE_24ntsRNA_average_counts_filt.txt\")\n",
    "NOTr7_TEs_24nt_ends=read_ends_data(sRNAends+\"TEmerge_NOT_1kb_r7_hyper_TE_24ntsRNA_average_counts_filt.txt\")\n",
    "\n",
    "endoDSR_24nt_ends=read_ends_data(sRNAends+\"endosperm_dsr_erdmann_DSR_24ntsRNA_average_counts_filt.txt\")\n",
    "embryoDSR_24nt_ends=read_ends_data(sRNAends+\"embryo_dsr_erdmann_DSR_24ntsRNA_average_counts_filt.txt\")\n"
   ]
  },
  {
   "cell_type": "code",
   "execution_count": null,
   "id": "fde1c737-5f27-46ee-a403-4df4e9562be7",
   "metadata": {},
   "outputs": [],
   "source": [
    "# DSRs\n",
    "\n",
    "endoDSR_mCG_ends=read_ends_data(mCends+\"endosperm_dsr_erdmann_DSR_CG_average_counts_filt.txt\")\n",
    "\n",
    "endoDSR_mCHG_ends=read_ends_data(mCends+\"endosperm_dsr_erdmann_DSR_CHG_average_counts_filt.txt\")\n",
    "\n",
    "endoDSR_mCHH_ends=read_ends_data(mCends+\"endosperm_dsr_erdmann_DSR_CHH_average_counts_filt.txt\")\n",
    "\n",
    "\n",
    "embryoDSR_mCG_ends=read_ends_data(mCends+\"embryo_dsr_erdmann_DSR_CG_average_counts_filt.txt\")\n",
    "\n",
    "embryoDSR_mCHG_ends=read_ends_data(mCends+\"embryo_dsr_erdmann_DSR_CHG_average_counts_filt.txt\")\n",
    "\n",
    "embryoDSR_mCHH_ends=read_ends_data(mCends+\"embryo_dsr_erdmann_DSR_CHH_average_counts_filt.txt\")\n",
    "\n"
   ]
  },
  {
   "cell_type": "markdown",
   "id": "167aebc1-2855-4778-8775-8e7616dd453b",
   "metadata": {
    "tags": [],
    "toc-hr-collapsed": true
   },
   "source": [
    "## Figure: plotting ends analysis over TEs and genes"
   ]
  },
  {
   "cell_type": "markdown",
   "id": "aabbcc2b-c8cb-4cae-8692-82549a579683",
   "metadata": {
    "jp-MarkdownHeadingCollapsed": true,
    "tags": []
   },
   "source": [
    "#### all genes"
   ]
  },
  {
   "cell_type": "code",
   "execution_count": null,
   "id": "932df110-1976-4b4f-9475-5209b3da75fc",
   "metadata": {
    "tags": []
   },
   "outputs": [],
   "source": [
    "methylends_format(all_genes_mCG_ends, 'bulk1rep', 'all genes', bulklegend, in2000_out2000_100bp_ticks, in2000_out2000_100bp_tick_labels_gene,\n",
    "                  in2000_out2000_100bp_vlines, in2000_out2000_100bp_vlines_center, 0, 51, 10, context='CG', sRNA=False)\n",
    "plt.savefig(figurepath+'allgenes_mCG_ends_bulk1rep.pdf', dpi=350)\n",
    "\n"
   ]
  },
  {
   "cell_type": "code",
   "execution_count": null,
   "id": "cd1f1876-ff3d-4e23-aa3b-4407abf13500",
   "metadata": {
    "tags": []
   },
   "outputs": [],
   "source": [
    "methylends_format(all_genes_mCG_ends, 'bulk', 'all genes', bulklegend, in2000_out2000_100bp_ticks, in2000_out2000_100bp_tick_labels_gene,\n",
    "                  in2000_out2000_100bp_vlines, in2000_out2000_100bp_vlines_center, 0, 51, 10, context='CG', sRNA=False)\n",
    "plt.savefig(figurepath+'allgenes_mCG_ends_bulk.pdf', dpi=350)\n"
   ]
  },
  {
   "cell_type": "code",
   "execution_count": null,
   "id": "d2272647-26c5-4782-b825-e0daf5eb9deb",
   "metadata": {
    "tags": []
   },
   "outputs": [],
   "source": [
    "methylends_format(all_genes_mCHG_ends, 'bulk', 'all genes', bulklegend, in2000_out2000_100bp_ticks, in2000_out2000_100bp_tick_labels_gene,\n",
    "                  in2000_out2000_100bp_vlines, in2000_out2000_100bp_vlines_center, 0, 6, 1, context='CHG', sRNA=False)\n",
    "plt.savefig(figurepath+'allgenes_mCHG_ends_bulk.pdf', dpi=350)\n"
   ]
  },
  {
   "cell_type": "code",
   "execution_count": null,
   "id": "4ebfd002-30f3-4b47-8cb9-3d5a65fabf7c",
   "metadata": {
    "tags": []
   },
   "outputs": [],
   "source": [
    "methylends_format(all_genes_mCHH_ends, 'bulk', 'all genes', bulklegend, in2000_out2000_100bp_ticks, in2000_out2000_100bp_tick_labels_gene,\n",
    "                  in2000_out2000_100bp_vlines, in2000_out2000_100bp_vlines_center, 0, 6, 1, context='CHH', sRNA=False)\n",
    "plt.savefig(figurepath+'allgenes_mCHH_ends_bulk.pdf', dpi=350)\n"
   ]
  },
  {
   "cell_type": "markdown",
   "id": "4028413c-0e14-431f-8826-2e3999728a30",
   "metadata": {
    "jp-MarkdownHeadingCollapsed": true,
    "tags": []
   },
   "source": [
    "#### ros1 genes"
   ]
  },
  {
   "cell_type": "code",
   "execution_count": null,
   "id": "a87da96d-ab27-4e28-a198-f50820b40602",
   "metadata": {
    "tags": []
   },
   "outputs": [],
   "source": [
    "methylends_format(r3_genes_mCG_ends, 'bulk1rep', 'r3 genes', bulklegend, in2000_out2000_100bp_ticks, in2000_out2000_100bp_tick_labels_gene,\n",
    "                  in2000_out2000_100bp_vlines, in2000_out2000_100bp_vlines_center, 0, 51, 10, context='CG', sRNA=False)\n",
    "plt.savefig(figurepath+'r3_genes_mCG_ends_bulk1rep.pdf', dpi=350)\n",
    "\n"
   ]
  },
  {
   "cell_type": "code",
   "execution_count": null,
   "id": "76839adc-bb52-4f95-8939-5d361813815a",
   "metadata": {
    "tags": []
   },
   "outputs": [],
   "source": [
    "methylends_format(r3_genes_mCG_ends, 'bulk', 'r3 genes', bulklegend, in2000_out2000_100bp_ticks, in2000_out2000_100bp_tick_labels_gene,\n",
    "                  in2000_out2000_100bp_vlines, in2000_out2000_100bp_vlines_center, 0, 51, 10, context='CG', sRNA=False)\n",
    "plt.savefig(figurepath+'r3_genes_mCG_ends_bulk.pdf', dpi=350)\n",
    "\n"
   ]
  },
  {
   "cell_type": "code",
   "execution_count": null,
   "id": "a2342a85-9a81-4990-a5ae-acdc1060ac55",
   "metadata": {
    "tags": []
   },
   "outputs": [],
   "source": [
    "methylends_format(r3_genes_mCHG_ends, 'bulk', 'r3 genes', bulklegend, in2000_out2000_100bp_ticks, in2000_out2000_100bp_tick_labels_gene,\n",
    "                  in2000_out2000_100bp_vlines, in2000_out2000_100bp_vlines_center, 0, 15, 2, context='CHG', sRNA=False)\n",
    "plt.savefig(figurepath+'r3_genes_mCHG_ends_bulk.pdf', dpi=350)\n",
    "\n"
   ]
  },
  {
   "cell_type": "code",
   "execution_count": null,
   "id": "bfb9b447-8c1f-458e-9517-7d7fe772502a",
   "metadata": {
    "tags": []
   },
   "outputs": [],
   "source": [
    "methylends_format(r3_genes_mCHH_ends, 'bulk', 'r3 genes', bulklegend, in2000_out2000_100bp_ticks, in2000_out2000_100bp_tick_labels_gene,\n",
    "                  in2000_out2000_100bp_vlines, in2000_out2000_100bp_vlines_center, 0, 6.5, 1, context='CHH', sRNA=False)\n",
    "plt.savefig(figurepath+'r3_genes_mCHH_ends_bulk.pdf', dpi=350)\n",
    "\n"
   ]
  },
  {
   "cell_type": "code",
   "execution_count": null,
   "id": "c2b28cc5-7cd6-48a0-82e9-603e46e5c318",
   "metadata": {
    "tags": []
   },
   "outputs": [],
   "source": [
    "methylends_format(r7_genes_mCG_ends, 'bulk1rep', 'r7 genes', bulklegend, in2000_out2000_100bp_ticks, in2000_out2000_100bp_tick_labels_gene,\n",
    "                  in2000_out2000_100bp_vlines, in2000_out2000_100bp_vlines_center, 0, 51, 10, context='CG', sRNA=False)\n",
    "plt.savefig(figurepath+'r7_genes_mCG_ends_bulk1rep.pdf', dpi=350)\n",
    "\n",
    "\n"
   ]
  },
  {
   "cell_type": "code",
   "execution_count": null,
   "id": "96ba0a94-4325-4ced-b027-246c4d0547e2",
   "metadata": {
    "tags": []
   },
   "outputs": [],
   "source": [
    "methylends_format(r7_genes_mCG_ends, 'bulk', 'r7 genes', bulklegend, in2000_out2000_100bp_ticks, in2000_out2000_100bp_tick_labels_gene,\n",
    "                  in2000_out2000_100bp_vlines, in2000_out2000_100bp_vlines_center, 0, 51, 10, context='CG', sRNA=False)\n",
    "plt.savefig(figurepath+'r7_genes_mCG_ends_bulk.pdf', dpi=350)\n",
    "\n",
    "\n"
   ]
  },
  {
   "cell_type": "code",
   "execution_count": null,
   "id": "96867cae-8142-4288-9d65-3a7ab4ec6e1c",
   "metadata": {
    "tags": []
   },
   "outputs": [],
   "source": [
    "methylends_format(r7_genes_mCHG_ends, 'bulk', 'r7 genes', bulklegend, in2000_out2000_100bp_ticks, in2000_out2000_100bp_tick_labels_gene,\n",
    "                  in2000_out2000_100bp_vlines, in2000_out2000_100bp_vlines_center, 0, 15, 2, context='CHG', sRNA=False)\n",
    "plt.savefig(figurepath+'r7_genes_mCHG_ends_bulk.pdf', dpi=350)\n",
    "\n"
   ]
  },
  {
   "cell_type": "code",
   "execution_count": null,
   "id": "46859b45-5675-4616-8eb9-65f1b2e995eb",
   "metadata": {
    "tags": []
   },
   "outputs": [],
   "source": [
    "methylends_format(r7_genes_mCHH_ends, 'bulk', 'r7 genes', bulklegend, in2000_out2000_100bp_ticks, in2000_out2000_100bp_tick_labels_gene,\n",
    "                  in2000_out2000_100bp_vlines, in2000_out2000_100bp_vlines_center, 0, 6.5, 1, context='CHH', sRNA=False)\n",
    "plt.savefig(figurepath+'r7_genes_mCHH_ends_bulk.pdf', dpi=350)\n",
    "\n"
   ]
  },
  {
   "cell_type": "markdown",
   "id": "828a7a2e-5a07-4175-a6da-49cb9af0eb7e",
   "metadata": {
    "jp-MarkdownHeadingCollapsed": true,
    "tags": []
   },
   "source": [
    "#### notros1 genes"
   ]
  },
  {
   "cell_type": "code",
   "execution_count": null,
   "id": "348faff2-56c0-4a7b-ad00-3d3041edf1b3",
   "metadata": {
    "tags": []
   },
   "outputs": [],
   "source": [
    "methylends_format(NOTr3_genes_mCG_ends, 'bulk1rep', 'r3 genes', bulklegend, in2000_out2000_100bp_ticks, in2000_out2000_100bp_tick_labels_gene,\n",
    "                  in2000_out2000_100bp_vlines, in2000_out2000_100bp_vlines_center, 0, 51, 10, context='CG', sRNA=False)\n",
    "plt.savefig(figurepath+'NOT_r3_genes_mCG_ends_bulk1rep.pdf', dpi=350)\n",
    "\n"
   ]
  },
  {
   "cell_type": "code",
   "execution_count": null,
   "id": "49955f8e-90d6-4b00-8926-e8bb204d8c42",
   "metadata": {
    "tags": []
   },
   "outputs": [],
   "source": [
    "methylends_format(NOTr3_genes_mCG_ends, 'bulk', 'r3 genes', bulklegend, in2000_out2000_100bp_ticks, in2000_out2000_100bp_tick_labels_gene,\n",
    "                  in2000_out2000_100bp_vlines, in2000_out2000_100bp_vlines_center, 0, 51, 10, context='CG', sRNA=False)\n",
    "plt.savefig(figurepath+'NOT_r3_genes_mCG_ends_bulk.pdf', dpi=350)\n",
    "\n"
   ]
  },
  {
   "cell_type": "code",
   "execution_count": null,
   "id": "9b9332c0-625d-4488-bf4f-3dd532a93794",
   "metadata": {
    "tags": []
   },
   "outputs": [],
   "source": [
    "methylends_format(NOTr3_genes_mCHG_ends, 'bulk', 'r3 genes', bulklegend, in2000_out2000_100bp_ticks, in2000_out2000_100bp_tick_labels_gene,\n",
    "                  in2000_out2000_100bp_vlines, in2000_out2000_100bp_vlines_center, 0, 15, 2, context='CHG', sRNA=False)\n",
    "plt.savefig(figurepath+'NOT_r3_genes_mCHG_ends_bulk.pdf', dpi=350)\n",
    "\n"
   ]
  },
  {
   "cell_type": "code",
   "execution_count": null,
   "id": "f80ce749-e831-45e3-a6a4-cef003e6240c",
   "metadata": {
    "tags": []
   },
   "outputs": [],
   "source": [
    "methylends_format(NOTr3_genes_mCHH_ends, 'bulk', 'r3 genes', bulklegend, in2000_out2000_100bp_ticks, in2000_out2000_100bp_tick_labels_gene,\n",
    "                  in2000_out2000_100bp_vlines, in2000_out2000_100bp_vlines_center, 0, 6.5, 1, context='CHH', sRNA=False)\n",
    "plt.savefig(figurepath+'NOT_r3_genes_mCHH_ends_bulk.pdf', dpi=350)\n",
    "\n"
   ]
  },
  {
   "cell_type": "code",
   "execution_count": null,
   "id": "13c17ce1-b08c-459b-96d4-2ce5328661d2",
   "metadata": {
    "tags": []
   },
   "outputs": [],
   "source": [
    "methylends_format(NOTr7_genes_mCG_ends, 'bulk1rep', 'r7 genes', bulklegend, in2000_out2000_100bp_ticks, in2000_out2000_100bp_tick_labels_gene,\n",
    "                  in2000_out2000_100bp_vlines, in2000_out2000_100bp_vlines_center, 0, 51, 10, context='CG', sRNA=False)\n",
    "plt.savefig(figurepath+'NOT_r7_genes_mCG_ends_bulk1rep.pdf', dpi=350)\n",
    "\n",
    "\n"
   ]
  },
  {
   "cell_type": "code",
   "execution_count": null,
   "id": "a630afcd-8692-4d94-9dd3-3e1425d44b7b",
   "metadata": {
    "tags": []
   },
   "outputs": [],
   "source": [
    "methylends_format(NOTr7_genes_mCG_ends, 'bulk', 'r7 genes', bulklegend, in2000_out2000_100bp_ticks, in2000_out2000_100bp_tick_labels_gene,\n",
    "                  in2000_out2000_100bp_vlines, in2000_out2000_100bp_vlines_center, 0, 51, 10, context='CG', sRNA=False)\n",
    "plt.savefig(figurepath+'NOT_r7_genes_mCG_ends_bulk.pdf', dpi=350)\n",
    "\n",
    "\n"
   ]
  },
  {
   "cell_type": "code",
   "execution_count": null,
   "id": "af581663-5fbc-4489-940f-95f840626994",
   "metadata": {
    "tags": []
   },
   "outputs": [],
   "source": [
    "methylends_format(NOTr7_genes_mCHG_ends, 'bulk', 'r7 genes', bulklegend, in2000_out2000_100bp_ticks, in2000_out2000_100bp_tick_labels_gene,\n",
    "                  in2000_out2000_100bp_vlines, in2000_out2000_100bp_vlines_center, 0, 15, 2, context='CHG', sRNA=False)\n",
    "plt.savefig(figurepath+'NOT_r7_genes_mCHG_ends_bulk.pdf', dpi=350)\n",
    "\n"
   ]
  },
  {
   "cell_type": "code",
   "execution_count": null,
   "id": "f24e2023-6337-454f-9f30-e3e5e7351ce7",
   "metadata": {
    "tags": []
   },
   "outputs": [],
   "source": [
    "methylends_format(NOTr7_genes_mCHH_ends, 'bulk', 'r7 genes', bulklegend, in2000_out2000_100bp_ticks, in2000_out2000_100bp_tick_labels_gene,\n",
    "                  in2000_out2000_100bp_vlines, in2000_out2000_100bp_vlines_center, 0, 6.5, 1, context='CHH', sRNA=False)\n",
    "plt.savefig(figurepath+'NOT_r7_genes_mCHH_ends_bulk.pdf', dpi=350)\n",
    "\n"
   ]
  },
  {
   "cell_type": "markdown",
   "id": "cc4e1eaa-fa0a-4423-ad1b-9663bfb3e5ff",
   "metadata": {
    "tags": []
   },
   "source": [
    "#### r3 TEs"
   ]
  },
  {
   "cell_type": "markdown",
   "id": "ad0b281c-3c4f-443a-846a-a3221ecd6cf8",
   "metadata": {
    "tags": []
   },
   "source": [
    "##### mC"
   ]
  },
  {
   "cell_type": "code",
   "execution_count": null,
   "id": "b534b210-abf7-44e1-8dc0-ab3cad633f6e",
   "metadata": {
    "tags": []
   },
   "outputs": [],
   "source": [
    "figurepath=\"/lab/solexa_gehring/elizabeth/ros1_endo_code_and_underlying_data/test_endsout/\""
   ]
  },
  {
   "cell_type": "code",
   "execution_count": null,
   "id": "8054f5ac-1609-4da0-ad18-506b3eb63c02",
   "metadata": {
    "tags": []
   },
   "outputs": [],
   "source": [
    "fig,ax=methylends_format(r3_TEs_mCG_ends, 'bulk', 'r3 TEs', bulklegend, in2000_out2000_100bp_ticks, in2000_out2000_100bp_tick_labels_TE,\n",
    "                  in2000_out2000_100bp_vlines, in2000_out2000_100bp_vlines_center, 0, 101, 10, context='CG', sRNA=False)\n",
    "plt.tight_layout()\n",
    "plt.savefig(figurepath+'r3_TEfrag_mCG_ends_bulk.pdf', dpi=350)\n",
    "\n"
   ]
  },
  {
   "cell_type": "code",
   "execution_count": null,
   "id": "aa860692-8ad8-4cc7-a606-24512994f295",
   "metadata": {
    "tags": []
   },
   "outputs": [],
   "source": [
    "methylends_format(r3_TEs_mCG_ends, 'bulk1rep', 'r3 TEs', bulklegend, in2000_out2000_100bp_ticks, in2000_out2000_100bp_tick_labels_TE,\n",
    "                  in2000_out2000_100bp_vlines, in2000_out2000_100bp_vlines_center, 0, 101, 10, context='CG', sRNA=False)\n",
    "plt.savefig(figurepath+'r3_TEfrag_mCG_ends_bulk1rep.pdf', dpi=350)\n",
    "\n"
   ]
  },
  {
   "cell_type": "code",
   "execution_count": null,
   "id": "f2a57b78-7d03-4335-9355-993f978de5c7",
   "metadata": {
    "tags": []
   },
   "outputs": [],
   "source": [
    "methylends_format(r3_TEs_mCG_ends, 'bulk_r3', 'r3 TEs', bulkr3legend, in2000_out2000_100bp_ticks, in2000_out2000_100bp_tick_labels_TE,\n",
    "                  in2000_out2000_100bp_vlines, in2000_out2000_100bp_vlines_center, 0, 101, 10, context='CG', sRNA=False)\n",
    "plt.savefig(figurepath+'r3_TEfrag_mCG_ends_bulkr3_1rep.pdf', dpi=350)\n",
    "\n"
   ]
  },
  {
   "cell_type": "code",
   "execution_count": null,
   "id": "c8279f20-75ef-4d2e-aed0-6a9534ba7a78",
   "metadata": {
    "tags": []
   },
   "outputs": [],
   "source": [
    "methylends_format(r3_TEs_mCG_ends, 'endo', 'r3 TEs', endolegend, in2000_out2000_100bp_ticks, in2000_out2000_100bp_tick_labels_TE,\n",
    "                  in2000_out2000_100bp_vlines, in2000_out2000_100bp_vlines_center, 0, 101, 10, context='CG', sRNA=False)\n",
    "plt.savefig(figurepath+'r3_TEfrag_mCG_ends_endo_bulk.pdf', dpi=350)\n",
    "\n"
   ]
  },
  {
   "cell_type": "code",
   "execution_count": null,
   "id": "878ab5df-b7a5-4587-8a1d-cb0f4e69cdf0",
   "metadata": {
    "tags": []
   },
   "outputs": [],
   "source": [
    "methylends_format(r3_TEs_mCG_ends, 'endo1rep', 'r3 TEs', endolegend, in2000_out2000_100bp_ticks, in2000_out2000_100bp_tick_labels_TE,\n",
    "                  in2000_out2000_100bp_vlines, in2000_out2000_100bp_vlines_center, 0, 101, 10, context='CG', sRNA=False)\n",
    "plt.savefig(figurepath+'r3_TEfrag_mCG_ends_bulkendo1rep.pdf', dpi=350)\n",
    "\n"
   ]
  },
  {
   "cell_type": "code",
   "execution_count": null,
   "id": "41b4c848-6b97-49a8-b8bb-ec1f5b931a9f",
   "metadata": {
    "tags": []
   },
   "outputs": [],
   "source": [
    "methylends_format(NOTr3_TEs_mCG_ends, 'endo1rep', 'not r3 TEs', endolegend, in2000_out2000_100bp_ticks, in2000_out2000_100bp_tick_labels_TE,\n",
    "                  in2000_out2000_100bp_vlines, in2000_out2000_100bp_vlines_center, 0, 101, 10, context='CG', sRNA=False)\n",
    "plt.savefig(figurepath+'NOT_r3_TEfrag_mCG_ends_bulkendo1rep.pdf', dpi=350)\n",
    "\n"
   ]
  },
  {
   "cell_type": "code",
   "execution_count": null,
   "id": "1e3fa783-41b8-46ea-bc05-8f77912bc753",
   "metadata": {
    "tags": []
   },
   "outputs": [],
   "source": [
    "fig,ax=methylends_format(NOTr3_TEs_mCG_ends, 'bulk', 'not r3 TEs', bulklegend, in2000_out2000_100bp_ticks, in2000_out2000_100bp_tick_labels_TE,\n",
    "                  in2000_out2000_100bp_vlines, in2000_out2000_100bp_vlines_center, 0, 101, 10, context='CG', sRNA=False)\n",
    "plt.tight_layout()\n",
    "plt.savefig(figurepath+'NOT_r3_TEfrag_mCG_ends_bulk.pdf', dpi=350)\n",
    "\n"
   ]
  },
  {
   "cell_type": "code",
   "execution_count": null,
   "id": "facd0056-8569-487f-8856-0235c50afc3f",
   "metadata": {
    "tags": []
   },
   "outputs": [],
   "source": [
    "fig,ax=methylends_format(r3_TEs_mCHG_ends, 'endo', 'r3 TEs', endolegend, in2000_out2000_100bp_ticks, in2000_out2000_100bp_tick_labels_TE,\n",
    "                  in2000_out2000_100bp_vlines, in2000_out2000_100bp_vlines_center, 0, 61, 10, context='CHG', sRNA=False)\n",
    "plt.savefig(figurepath+'r3_TEfrag_mCHG_ends_endo_bulk.pdf', dpi=350)\n",
    "\n"
   ]
  },
  {
   "cell_type": "code",
   "execution_count": null,
   "id": "c8ea1dbc-a60d-466d-9d72-bd63afb854b9",
   "metadata": {
    "tags": []
   },
   "outputs": [],
   "source": [
    "fig,ax=methylends_format(r3_TEs_mCHG_ends, 'bulk', 'r3 TEs', bulklegend, in2000_out2000_100bp_ticks, in2000_out2000_100bp_tick_labels_TE,\n",
    "                  in2000_out2000_100bp_vlines, in2000_out2000_100bp_vlines_center, 0, 61, 10, context='CHG', sRNA=False)\n",
    "plt.tight_layout()\n",
    "plt.savefig(figurepath+'r3_TEfrag_mCHG_ends_bulk.pdf', dpi=350)\n",
    "\n"
   ]
  },
  {
   "cell_type": "code",
   "execution_count": null,
   "id": "832dfb76-f229-449d-863c-57d5ece1fc1a",
   "metadata": {
    "tags": []
   },
   "outputs": [],
   "source": [
    "fig,ax=methylends_format(NOTr3_TEs_mCHG_ends, 'bulk', 'not r3 TEs', bulklegend, in2000_out2000_100bp_ticks, in2000_out2000_100bp_tick_labels_TE,\n",
    "                  in2000_out2000_100bp_vlines, in2000_out2000_100bp_vlines_center, 0, 61, 10, context='CHG', sRNA=False)\n",
    "plt.tight_layout()\n",
    "plt.savefig(figurepath+'NOT_r3_TEfrag_mCHG_ends_bulk.pdf', dpi=350)\n",
    "\n"
   ]
  },
  {
   "cell_type": "code",
   "execution_count": null,
   "id": "3f741622-78bd-4e5a-9951-a0386a55ba88",
   "metadata": {
    "tags": []
   },
   "outputs": [],
   "source": [
    "methylends_format(r3_TEs_mCHH_ends, 'endo', 'r3 TEs', endolegend, in2000_out2000_100bp_ticks, in2000_out2000_100bp_tick_labels_TE,\n",
    "                  in2000_out2000_100bp_vlines, in2000_out2000_100bp_vlines_center, 0, 21, 2, context='CHH', sRNA=False)\n",
    "plt.savefig(figurepath+'r3_TEfrag_mCHH_ends_endo_bulk.pdf', dpi=350)\n",
    "\n"
   ]
  },
  {
   "cell_type": "code",
   "execution_count": null,
   "id": "eb236604-7d30-41a4-b663-33c58fb39c29",
   "metadata": {
    "tags": []
   },
   "outputs": [],
   "source": [
    "fig,ax=methylends_format(r3_TEs_mCHH_ends, 'bulk', 'r3 TEs', bulklegend, in2000_out2000_100bp_ticks, in2000_out2000_100bp_tick_labels_TE,\n",
    "                  in2000_out2000_100bp_vlines, in2000_out2000_100bp_vlines_center, 0, 21, 2, context='CHH', sRNA=False)\n",
    "plt.tight_layout()\n",
    "plt.savefig(figurepath+'r3_TEfrag_mCHH_ends_bulk.pdf', dpi=350)\n",
    "\n"
   ]
  },
  {
   "cell_type": "code",
   "execution_count": null,
   "id": "7b970ab6-32da-48c1-ba48-567fcc1667f1",
   "metadata": {
    "tags": []
   },
   "outputs": [],
   "source": [
    "methylends_format(NOTr3_TEs_mCHH_ends, 'bulk', 'not r3 TEs', bulklegend, in2000_out2000_100bp_ticks, in2000_out2000_100bp_tick_labels_TE,\n",
    "                  in2000_out2000_100bp_vlines, in2000_out2000_100bp_vlines_center, 0, 21, 2, context='CHH', sRNA=False)\n",
    "plt.tight_layout()\n",
    "plt.savefig(figurepath+'NOT_r3_TEfrag_mCHH_ends_bulk.pdf', dpi=350)\n",
    "\n"
   ]
  },
  {
   "cell_type": "markdown",
   "id": "5c6a7ee0-a623-4c65-af7b-a4e39f4c26fb",
   "metadata": {
    "jp-MarkdownHeadingCollapsed": true,
    "tags": []
   },
   "source": [
    "##### sRNA"
   ]
  },
  {
   "cell_type": "code",
   "execution_count": null,
   "id": "1712b490-ebfd-463d-9262-c69c9c193943",
   "metadata": {
    "tags": []
   },
   "outputs": [],
   "source": [
    "methylends_format(r3_TEs_24nt_ends, 'sRNA', 'r3 TEs', srnalegend, in2000_out2000_100bp_ticks, in2000_out2000_100bp_tick_labels_TE,\n",
    "                  in2000_out2000_100bp_vlines, in2000_out2000_100bp_vlines_center, 0, .026, .005, context='CG', sRNA=True)\n",
    "plt.savefig(figurepath+'r3_TEfrag_sRNA_ends_bulk.pdf', dpi=350)\n",
    "\n"
   ]
  },
  {
   "cell_type": "code",
   "execution_count": null,
   "id": "052247a2-ae2f-4b16-8533-f83661d18294",
   "metadata": {
    "tags": []
   },
   "outputs": [],
   "source": [
    "methylends_format(r7_TEs_24nt_ends, 'sRNA', 'r7 TEs', srnalegend, in2000_out2000_100bp_ticks, in2000_out2000_100bp_tick_labels_TE,\n",
    "                  in2000_out2000_100bp_vlines, in2000_out2000_100bp_vlines_center, 0, .036, .005, context='CG', sRNA=True)\n",
    "plt.savefig(figurepath+'r7_TEfrag_sRNA_ends_bulk.pdf', dpi=350)\n",
    "\n"
   ]
  },
  {
   "cell_type": "code",
   "execution_count": null,
   "id": "c917a10a-98cc-4a80-9f8f-27ce1cf1b6eb",
   "metadata": {
    "tags": []
   },
   "outputs": [],
   "source": [
    "methylends_format(NOTr3_TEs_24nt_ends, 'sRNA', 'r3 TEs', srnalegend, in2000_out2000_100bp_ticks, in2000_out2000_100bp_tick_labels_TE,\n",
    "                  in2000_out2000_100bp_vlines, in2000_out2000_100bp_vlines_center, 0, .026, .005, context='CG', sRNA=True)\n",
    "plt.savefig(figurepath+'NOT_r3_TEfrag_sRNA_ends_bulk.pdf', dpi=350)\n",
    "\n"
   ]
  },
  {
   "cell_type": "code",
   "execution_count": null,
   "id": "8a89f6f6-e393-4e08-8ebd-fb5dd9c40769",
   "metadata": {
    "tags": []
   },
   "outputs": [],
   "source": [
    "methylends_format(NOTr7_TEs_24nt_ends, 'sRNA', 'r7 TEs', srnalegend, in2000_out2000_100bp_ticks, in2000_out2000_100bp_tick_labels_TE,\n",
    "                  in2000_out2000_100bp_vlines, in2000_out2000_100bp_vlines_center, 0, .026, .005, context='CG', sRNA=True)\n",
    "plt.savefig(figurepath+'NOT_r7_TEfrag_sRNA_ends_bulk.pdf', dpi=350)\n",
    "\n"
   ]
  },
  {
   "cell_type": "code",
   "execution_count": null,
   "id": "b0285920-1180-4a22-aea1-b8c4dc70112b",
   "metadata": {},
   "outputs": [],
   "source": []
  },
  {
   "cell_type": "markdown",
   "id": "b9f55ea8-d303-44a7-8168-245d0ae89429",
   "metadata": {
    "tags": []
   },
   "source": [
    "#### r7 TEs"
   ]
  },
  {
   "cell_type": "code",
   "execution_count": null,
   "id": "7fc64cdf-89ff-4c1e-b3fd-52f0a8d1a54b",
   "metadata": {},
   "outputs": [],
   "source": []
  },
  {
   "cell_type": "code",
   "execution_count": null,
   "id": "6a915416-126f-4409-92fb-1bff9a7c4e82",
   "metadata": {
    "tags": []
   },
   "outputs": [],
   "source": [
    "fig,ax=methylends_format(r7_TEs_mCG_ends, 'bulk1rep', 'r7 TEs', bulklegend, in2000_out2000_100bp_ticks, in2000_out2000_100bp_tick_labels_TE,\n",
    "                  in2000_out2000_100bp_vlines, in2000_out2000_100bp_vlines_center, 0, 101, 10, context='CG', sRNA=False)\n",
    "plt.savefig(figurepath+'r7_TEfrag_mCG_ends_bulk1rep.pdf', dpi=350)\n",
    "\n"
   ]
  },
  {
   "cell_type": "code",
   "execution_count": null,
   "id": "a35c817d-34b5-466a-96d1-02aa16955806",
   "metadata": {
    "tags": []
   },
   "outputs": [],
   "source": [
    "fig,ax=methylends_format(r7_TEs_mCG_ends, 'bulk', 'r7 TEs', bulklegend, in2000_out2000_100bp_ticks, in2000_out2000_100bp_tick_labels_TE,\n",
    "                  in2000_out2000_100bp_vlines, in2000_out2000_100bp_vlines_center, 0, 101, 10, context='CG', sRNA=False)\n",
    "plt.tight_layout()\n",
    "plt.savefig(figurepath+'r7_TEfrag_mCG_ends_bulk.pdf', dpi=350)\n",
    "\n"
   ]
  },
  {
   "cell_type": "code",
   "execution_count": null,
   "id": "3b83d849-fc7b-4d50-962f-4aa08f2e7aab",
   "metadata": {
    "tags": []
   },
   "outputs": [],
   "source": [
    "fig,ax=methylends_format(NOTr7_TEs_mCG_ends, 'bulk', 'not r7 TEs', bulklegend, in2000_out2000_100bp_ticks, in2000_out2000_100bp_tick_labels_TE,\n",
    "                  in2000_out2000_100bp_vlines, in2000_out2000_100bp_vlines_center, 0, 101, 10, context='CG', sRNA=False)\n",
    "plt.tight_layout()\n",
    "plt.savefig(figurepath+'NOT_r7_TEfrag_mCG_ends_bulk.pdf', dpi=350)\n",
    "\n"
   ]
  },
  {
   "cell_type": "code",
   "execution_count": null,
   "id": "0febeaac-aa54-42a6-934b-af39a24df6c9",
   "metadata": {
    "tags": []
   },
   "outputs": [],
   "source": [
    "methylends_format(r7_TEs_mCHG_ends, 'bulk', 'r7 TEs', bulklegend, in2000_out2000_100bp_ticks, in2000_out2000_100bp_tick_labels_TE,\n",
    "                  in2000_out2000_100bp_vlines, in2000_out2000_100bp_vlines_center, 0, 61, 10, context='CHG', sRNA=False)\n",
    "plt.tight_layout()\n",
    "plt.savefig(figurepath+'r7_TEfrag_mCHG_ends_bulk.pdf', dpi=350)\n",
    "\n"
   ]
  },
  {
   "cell_type": "code",
   "execution_count": null,
   "id": "a5edf517-86f6-41a7-a373-ec6cc94be291",
   "metadata": {
    "tags": []
   },
   "outputs": [],
   "source": [
    "fig,ax=methylends_format(NOTr7_TEs_mCHG_ends, 'bulk', 'not r7 TEs', bulklegend, in2000_out2000_100bp_ticks, in2000_out2000_100bp_tick_labels_TE,\n",
    "                  in2000_out2000_100bp_vlines, in2000_out2000_100bp_vlines_center, 0, 61, 10, context='CHG', sRNA=False)\n",
    "plt.tight_layout()\n",
    "plt.savefig(figurepath+'NOT_r7_TEfrag_mCHG_ends_bulk.pdf', dpi=350)\n",
    "\n"
   ]
  },
  {
   "cell_type": "code",
   "execution_count": null,
   "id": "81528790-4429-4005-8073-a1aa7a3197f7",
   "metadata": {
    "tags": []
   },
   "outputs": [],
   "source": [
    "fig,ax=methylends_format(r7_TEs_mCHH_ends, 'bulk', 'r7 TEs', bulklegend, in2000_out2000_100bp_ticks, in2000_out2000_100bp_tick_labels_TE,\n",
    "                  in2000_out2000_100bp_vlines, in2000_out2000_100bp_vlines_center, 0, 21, 2, context='CHH', sRNA=False)\n",
    "plt.tight_layout()\n",
    "plt.savefig(figurepath+'r7_TEfrag_mCHH_ends_bulk.pdf', dpi=350)\n",
    "\n"
   ]
  },
  {
   "cell_type": "code",
   "execution_count": null,
   "id": "d99a7c66-bff9-4dd0-8162-56a2a54309ef",
   "metadata": {
    "tags": []
   },
   "outputs": [],
   "source": [
    "fig,ax=methylends_format(NOTr7_TEs_mCHH_ends, 'bulk', 'not r7 TEs', bulklegend, in2000_out2000_100bp_ticks, in2000_out2000_100bp_tick_labels_TE,\n",
    "                  in2000_out2000_100bp_vlines, in2000_out2000_100bp_vlines_center, 0, 21, 2, context='CHH', sRNA=False)\n",
    "plt.tight_layout()\n",
    "plt.savefig(figurepath+'NOT_r7_TEfrag_mCHH_ends_bulk.pdf', dpi=350)\n",
    "\n"
   ]
  },
  {
   "cell_type": "markdown",
   "id": "6749ceb2-eaf4-4ecd-8ef3-ae6b6515d39e",
   "metadata": {
    "jp-MarkdownHeadingCollapsed": true,
    "tags": []
   },
   "source": [
    "#### DSR ends"
   ]
  },
  {
   "cell_type": "code",
   "execution_count": null,
   "id": "b5dfb729-8ec1-4f30-9673-705019028204",
   "metadata": {
    "tags": []
   },
   "outputs": [],
   "source": [
    "methylends_format(endoDSR_24nt_ends, 'sRNA', '', srnalegend, in100_out1000_50bp_ticks, in100_out1000_50bp_ticks_DSR_labels,\n",
    "                  in100_out1000_50bp_vlines, in100_out1000_50bp_vlines_center, 0, 0.015, .001, context='CG', sRNA=True)\n",
    "plt.savefig(figurepath+'endoDSR_24nt_ends.pdf', dpi=350)\n",
    "\n"
   ]
  },
  {
   "cell_type": "code",
   "execution_count": null,
   "id": "0cbfaaa5-5089-4a9e-a2f3-a70f3e8ff485",
   "metadata": {
    "tags": []
   },
   "outputs": [],
   "source": [
    "methylends_format(embryoDSR_24nt_ends, 'sRNA', '', srnalegend, in100_out1000_50bp_ticks, in100_out1000_50bp_ticks_DSR_labels,\n",
    "                  in100_out1000_50bp_vlines, in100_out1000_50bp_vlines_center, 0, 0.056, .01, context='CG', sRNA=True)\n",
    "plt.savefig(figurepath+'embryoDSR_24nt_ends.pdf', dpi=350)\n",
    "\n"
   ]
  },
  {
   "cell_type": "code",
   "execution_count": null,
   "id": "ccc6cd17-3654-47cc-8854-a1133ec3e2e6",
   "metadata": {
    "tags": []
   },
   "outputs": [],
   "source": [
    "methylends_format(embryoDSR_mCG_ends, 'endo1rep', '', endolegend, in100_out1000_50bp_ticks, in100_out1000_50bp_ticks_DSR_labels,\n",
    "                  in100_out1000_50bp_vlines, in100_out1000_50bp_vlines_center, 0, 101, 10, context='CG', sRNA=False)\n",
    "plt.savefig(figurepath+'embryoDSR_mCG_ends_bulk1rep.pdf', dpi=350)\n",
    "\n"
   ]
  },
  {
   "cell_type": "code",
   "execution_count": null,
   "id": "81619550-f844-4052-b55a-86b0323ce045",
   "metadata": {
    "tags": []
   },
   "outputs": [],
   "source": [
    "methylends_format(embryoDSR_mCHG_ends, 'endo1rep', '', endolegend, in100_out1000_50bp_ticks, in100_out1000_50bp_ticks_DSR_labels,\n",
    "                  in100_out1000_50bp_vlines, in100_out1000_50bp_vlines_center, 0, 101, 10, context='CHG', sRNA=False)\n",
    "plt.savefig(figurepath+'embryoDSR_mCHG_ends_bulk1rep.pdf', dpi=350)\n"
   ]
  },
  {
   "cell_type": "code",
   "execution_count": null,
   "id": "4a37bdd0-1ea1-45fc-9fe3-1356ba2e22ad",
   "metadata": {
    "tags": []
   },
   "outputs": [],
   "source": [
    "methylends_format(embryoDSR_mCHH_ends, 'endo1rep', '', endolegend, in100_out1000_50bp_ticks, in100_out1000_50bp_ticks_DSR_labels,\n",
    "                  in100_out1000_50bp_vlines, in100_out1000_50bp_vlines_center, 0, 14.1, 1, context='CHH', sRNA=False)\n",
    "plt.savefig(figurepath+'embryoDSR_mCHH_ends_bulk1rep.pdf', dpi=350)\n"
   ]
  },
  {
   "cell_type": "code",
   "execution_count": null,
   "id": "d2548a69-ad9f-4583-941d-69bfcc27d015",
   "metadata": {
    "tags": []
   },
   "outputs": [],
   "source": [
    "methylends_format(endoDSR_mCHH_ends, 'endo', '', endolegend, in100_out1000_50bp_ticks, in100_out1000_50bp_ticks_DSR_labels,\n",
    "                  in100_out1000_50bp_vlines, in100_out1000_50bp_vlines_center, 0, 6.1, 1, context='CHH', sRNA=False)\n",
    "plt.savefig(figurepath+'endoDSR_mCHH_ends_bulk1rep.pdf', dpi=350)\n",
    "\n"
   ]
  },
  {
   "cell_type": "code",
   "execution_count": null,
   "id": "700de63a-ef98-43b7-b714-b5e81707b696",
   "metadata": {
    "tags": []
   },
   "outputs": [],
   "source": [
    "methylends_format(endoDSR_mCHG_ends, 'endo1rep', '', endolegend, in100_out1000_50bp_ticks, in100_out1000_50bp_ticks_DSR_labels,\n",
    "                  in100_out1000_50bp_vlines, in100_out1000_50bp_vlines_center, 0, 12.1, 1, context='CHG', sRNA=False)\n",
    "plt.savefig(figurepath+'endoDSR_mCHG_ends_bulk1rep.pdf', dpi=350)\n",
    "\n"
   ]
  },
  {
   "cell_type": "code",
   "execution_count": null,
   "id": "b35d7c3a-1bc9-4106-9a43-9747eaa3c2b1",
   "metadata": {},
   "outputs": [],
   "source": [
    "methylends_format(endoDSR_mCG_ends, 'endo1rep', '', endolegend, in100_out1000_50bp_ticks, in100_out1000_50bp_ticks_DSR_labels,\n",
    "                  in100_out1000_50bp_vlines, in100_out1000_50bp_vlines_center, 0, 30.1, 5, context='CG', sRNA=False)\n",
    "plt.savefig(figurepath+'endoDSR_mCG_ends_bulk1rep.pdf', dpi=350)\n"
   ]
  },
  {
   "cell_type": "code",
   "execution_count": null,
   "id": "c4dd3fbb-6ec0-4a7e-a86d-d9129ecdea9b",
   "metadata": {},
   "outputs": [],
   "source": [
    "methylends_format(endoDSR_mCG_ends, 'matpatcol', '', matpat_collegend, in100_out1000_50bp_ticks, in100_out1000_50bp_ticks_DSR_labels,\n",
    "                  in100_out1000_50bp_vlines, in100_out1000_50bp_vlines_center, 0, 36,5, context='CG', sRNA=False)\n",
    "plt.savefig(figurepath+'endoDSR_mCG_ends_allelic_ColG_allreps.pdf', dpi=350)\n"
   ]
  },
  {
   "cell_type": "code",
   "execution_count": null,
   "id": "9a948e23-6da8-42f5-8c4a-f0cd76f57087",
   "metadata": {
    "tags": []
   },
   "outputs": [],
   "source": [
    "methylends_format(endoDSR_mCG_ends, 'col1rep', '', matpat_collegend, in100_out1000_50bp_ticks, in100_out1000_50bp_ticks_DSR_labels,\n",
    "                  in100_out1000_50bp_vlines, in100_out1000_50bp_vlines_center, 0, 36,5, context='CG', sRNA=False)\n",
    "plt.savefig(figurepath+'endoDSR_mCG_ends_allelic_ColG_1reps.pdf', dpi=350)\n"
   ]
  },
  {
   "cell_type": "code",
   "execution_count": null,
   "id": "9074adbf-fb77-4ad1-b210-072631f35a1c",
   "metadata": {
    "tags": []
   },
   "outputs": [],
   "source": [
    "methylends_format(endoDSR_mCHG_ends, 'matpatcol', '', matpat_collegend, in100_out1000_50bp_ticks, in100_out1000_50bp_ticks_DSR_labels,\n",
    "                  in100_out1000_50bp_vlines, in100_out1000_50bp_vlines_center, 0, 13,2, context='CHG', sRNA=False)\n",
    "plt.savefig(figurepath+'endoDSR_mCHG_ends_allelic_ColG_allreps.pdf', dpi=350)\n"
   ]
  },
  {
   "cell_type": "code",
   "execution_count": null,
   "id": "e291c284-5adb-4fa5-9f02-32fededad18a",
   "metadata": {
    "tags": []
   },
   "outputs": [],
   "source": [
    "methylends_format(endoDSR_mCHG_ends, 'col1rep', '', matpat_collegend, in100_out1000_50bp_ticks, in100_out1000_50bp_ticks_DSR_labels,\n",
    "                  in100_out1000_50bp_vlines, in100_out1000_50bp_vlines_center, 0, 13,2, context='CHG', sRNA=False)\n",
    "plt.savefig(figurepath+'endoDSR_mCHG_ends_allelic_ColG_1reps.pdf', dpi=350)\n"
   ]
  },
  {
   "cell_type": "code",
   "execution_count": null,
   "id": "dcd5ed1a-df40-40ae-9f04-01656f5a34e7",
   "metadata": {
    "tags": []
   },
   "outputs": [],
   "source": [
    "methylends_format(endoDSR_mCHH_ends, 'matpatcol', '', matpat_collegend, in100_out1000_50bp_ticks, in100_out1000_50bp_ticks_DSR_labels,\n",
    "                  in100_out1000_50bp_vlines, in100_out1000_50bp_vlines_center, 0, 4.25,0.5, context='CHH', sRNA=False)\n",
    "plt.savefig(figurepath+'endoDSR_mCHH_ends_allelic_ColG_allreps.pdf', dpi=350)\n"
   ]
  },
  {
   "cell_type": "code",
   "execution_count": null,
   "id": "508c2c11-3718-444e-ab4c-a4c2ebb82f9f",
   "metadata": {
    "tags": []
   },
   "outputs": [],
   "source": [
    "methylends_format(endoDSR_mCHH_ends, 'col1rep', '', matpat_collegend, in100_out1000_50bp_ticks, in100_out1000_50bp_ticks_DSR_labels,\n",
    "                  in100_out1000_50bp_vlines, in100_out1000_50bp_vlines_center, 0, 4.25,0.5, context='CHH', sRNA=False)\n",
    "plt.savefig(figurepath+'endoDSR_mCHH_ends_allelic_ColG_1reps.pdf', dpi=350)\n"
   ]
  },
  {
   "cell_type": "markdown",
   "id": "076f4c23-cff6-4131-8c52-a9a8a74cb1a3",
   "metadata": {
    "jp-MarkdownHeadingCollapsed": true,
    "tags": []
   },
   "source": [
    "#### allelic plot over bulk DMRs"
   ]
  },
  {
   "cell_type": "code",
   "execution_count": null,
   "id": "84aec0f4-c48c-4604-91ac-3d0e270a9539",
   "metadata": {
    "tags": []
   },
   "outputs": [],
   "source": [
    "#### 1rep for main fig"
   ]
  },
  {
   "cell_type": "code",
   "execution_count": null,
   "id": "96efdcb2-c817-4c2b-bbed-04348364f01d",
   "metadata": {
    "tags": []
   },
   "outputs": [],
   "source": [
    "methylends_format(r3_allCr_mCG_ends, 'col1rep', 'r3 endosperm targets', matpat_collegend, in100_out1000_50bp_ticks, in100_out1000_50bp_ticks_DMR_labels,\n",
    "                  in100_out1000_50bp_vlines, in100_out1000_50bp_vlines_center, 0, 101, 10, context='CG', sRNA=False)\n",
    "plt.savefig(figurepath+'r3_allCr_mCG_ends_matpat_Col01rep.pdf', dpi=350)\n"
   ]
  },
  {
   "cell_type": "code",
   "execution_count": null,
   "id": "946756f7-ddd2-4f35-a34e-a2645b0a8b51",
   "metadata": {
    "tags": []
   },
   "outputs": [],
   "source": [
    "methylends_format(r3_allCr_mCHH_ends, 'col1rep', 'r3 endosperm targets', matpat_collegend, in100_out1000_50bp_ticks, in100_out1000_50bp_ticks_DMR_labels,\n",
    "                  in100_out1000_50bp_vlines, in100_out1000_50bp_vlines_center, 0, 13, 2, context='CHH', sRNA=False)\n",
    "plt.savefig(figurepath+'r3_allCr_mCHH_ends_matpatcol1rep.pdf', dpi=350)\n"
   ]
  },
  {
   "cell_type": "code",
   "execution_count": null,
   "id": "73ffd425-a6fc-454f-901b-af8956be9a50",
   "metadata": {
    "tags": []
   },
   "outputs": [],
   "source": [
    "methylends_format(r3_allCr_mCHG_ends, 'col1rep', 'r3 endosperm targets', matpat_collegend, in100_out1000_50bp_ticks, in100_out1000_50bp_ticks_DMR_labels,\n",
    "                  in100_out1000_50bp_vlines, in100_out1000_50bp_vlines_center, 0, 31, 5, context='CHG', sRNA=False)\n",
    "plt.savefig(figurepath+'r3_allCr_mCHG_ends_matpatcol1rep.pdf', dpi=350)\n"
   ]
  },
  {
   "cell_type": "code",
   "execution_count": null,
   "id": "b85eea54-6c0d-4ee9-8486-b5cb0b2034db",
   "metadata": {
    "tags": []
   },
   "outputs": [],
   "source": [
    "# all reps for other figs"
   ]
  },
  {
   "cell_type": "code",
   "execution_count": null,
   "id": "ab7a796a-f9fb-4ac2-8f03-37dfa45d84ed",
   "metadata": {
    "tags": []
   },
   "outputs": [],
   "source": [
    "methylends_format(r3_allCr_mCG_ends, 'matpatcol', 'r3 endosperm targets', matpat_collegend, in100_out1000_50bp_ticks, in100_out1000_50bp_ticks_DMR_labels,\n",
    "                  in100_out1000_50bp_vlines, in100_out1000_50bp_vlines_center, 0, 101, 10, context='CG', sRNA=False)\n",
    "plt.savefig(figurepath+'r3_allCr_mCG_ends_matpat_Col0.pdf', dpi=350)\n",
    "\n"
   ]
  },
  {
   "cell_type": "code",
   "execution_count": null,
   "id": "38f96fc6-fddb-4ea2-bf3b-59c188e0f783",
   "metadata": {
    "tags": []
   },
   "outputs": [],
   "source": [
    "methylends_format(r3_allCr_mCG_ends, 'matpat1rep', 'r3 endosperm targets', matpatlegend, in100_out1000_50bp_ticks, in100_out1000_50bp_ticks_DMR_labels,\n",
    "                  in100_out1000_50bp_vlines, in100_out1000_50bp_vlines_center, 0, 101, 10, context='CG', sRNA=False)\n",
    "plt.savefig(figurepath+'r3_allCr_mCG_ends_matpat1rep.pdf', dpi=350)\n",
    "\n"
   ]
  },
  {
   "cell_type": "code",
   "execution_count": null,
   "id": "989e5de5-7480-44ad-ae02-a4eef2443290",
   "metadata": {
    "tags": []
   },
   "outputs": [],
   "source": [
    "methylends_format(r3_allCr_mCHG_ends, 'matpatcol', 'r3 endosperm targets', matpat_collegend, in100_out1000_50bp_ticks, in100_out1000_50bp_ticks_DMR_labels,\n",
    "                  in100_out1000_50bp_vlines, in100_out1000_50bp_vlines_center, 0, 31, 5, context='CHG', sRNA=False)\n",
    "plt.savefig(figurepath+'r3_allCr_mCHG_ends_matpatcol.pdf', dpi=350)\n"
   ]
  },
  {
   "cell_type": "code",
   "execution_count": null,
   "id": "c601ae94-8711-4128-9421-9d53f155e45e",
   "metadata": {
    "tags": []
   },
   "outputs": [],
   "source": [
    "methylends_format(r3_allCr_mCG_ends, 'matpatc24', 'r3 endosperm targets', matpat_c24legend, in100_out1000_50bp_ticks, in100_out1000_50bp_ticks_DMR_labels,\n",
    "                  in100_out1000_50bp_vlines, in100_out1000_50bp_vlines_center, 0, 101, 10, context='CG', sRNA=False)\n",
    "plt.savefig(figurepath+'r3_allCr_mCG_ends_matpat_C24.pdf', dpi=350)\n"
   ]
  },
  {
   "cell_type": "code",
   "execution_count": null,
   "id": "4f7a4dde-b2e0-4df3-a90a-ead0b6fbf984",
   "metadata": {
    "tags": []
   },
   "outputs": [],
   "source": [
    "methylends_format(r3_allCr_mCHG_ends, 'matpatc24', 'r3 endosperm targets', matpat_c24legend, in100_out1000_50bp_ticks, in100_out1000_50bp_ticks_DMR_labels,\n",
    "                  in100_out1000_50bp_vlines, in100_out1000_50bp_vlines_center, 0, 31, 5, context='CHG', sRNA=False)\n",
    "plt.savefig(figurepath+'r3_allCr_mCHG_ends_matpatc24.pdf', dpi=350)\n"
   ]
  },
  {
   "cell_type": "code",
   "execution_count": null,
   "id": "b5f7cbbb-e8be-4c8f-966c-14f9f360c7ce",
   "metadata": {
    "tags": []
   },
   "outputs": [],
   "source": []
  },
  {
   "cell_type": "code",
   "execution_count": null,
   "id": "88cdea9a-1700-4b11-87bd-9f0ec3f3133b",
   "metadata": {
    "tags": []
   },
   "outputs": [],
   "source": [
    "methylends_format(r3_allCr_mCHH_ends, 'matpatcol', 'r3 endosperm targets', matpat_collegend, in100_out1000_50bp_ticks, in100_out1000_50bp_ticks_DMR_labels,\n",
    "                  in100_out1000_50bp_vlines, in100_out1000_50bp_vlines_center, 0, 13, 2, context='CHH', sRNA=False)\n",
    "plt.savefig(figurepath+'r3_allCr_mCHH_ends_matpatcol.pdf', dpi=350)\n"
   ]
  },
  {
   "cell_type": "code",
   "execution_count": null,
   "id": "b5a67eb0-0a28-4a24-8529-602323a92611",
   "metadata": {
    "tags": []
   },
   "outputs": [],
   "source": [
    "methylends_format(r3_allCr_mCHH_ends, 'matpatc24', 'r3 endosperm targets', matpat_c24legend, in100_out1000_50bp_ticks, in100_out1000_50bp_ticks_DMR_labels,\n",
    "                  in100_out1000_50bp_vlines, in100_out1000_50bp_vlines_center, 0, 13, 2, context='CHH', sRNA=False)\n",
    "plt.savefig(figurepath+'r3_allCr_mCHH_ends_matpatc24.pdf', dpi=350)\n"
   ]
  },
  {
   "cell_type": "code",
   "execution_count": null,
   "id": "03514383-35ae-4ab8-8d12-b69817314dd4",
   "metadata": {
    "tags": []
   },
   "outputs": [],
   "source": [
    "methylends_format(r7_allCr_mCG_ends, 'matpat1rep', 'r7 endosperm targets', matpatlegend, in100_out1000_50bp_ticks, in100_out1000_50bp_ticks_DMR_labels,\n",
    "                  in100_out1000_50bp_vlines, in100_out1000_50bp_vlines_center, 0, 101, 10, context='CG', sRNA=False)\n",
    "plt.savefig(figurepath+'r7_allCr_mCG_ends_matpat1rep.pdf', dpi=350)\n",
    "\n"
   ]
  },
  {
   "cell_type": "code",
   "execution_count": null,
   "id": "713533fd-04a2-40e9-aa98-8a615eb23d6e",
   "metadata": {
    "tags": []
   },
   "outputs": [],
   "source": [
    "methylends_format(r7_allCr_mCHG_ends, 'matpat1rep', 'r7 endosperm targets', matpatlegend, in100_out1000_50bp_ticks, in100_out1000_50bp_ticks_DMR_labels,\n",
    "                  in100_out1000_50bp_vlines, in100_out1000_50bp_vlines_center, 0, 26, 5, context='CHG', sRNA=False)\n",
    "plt.savefig(figurepath+'r7_allCr_mCHG_ends_matpat1rep.pdf', dpi=350)\n",
    "\n"
   ]
  },
  {
   "cell_type": "markdown",
   "id": "22c0218f-0941-4f1e-ae99-020c74129f65",
   "metadata": {
    "jp-MarkdownHeadingCollapsed": true,
    "tags": []
   },
   "source": [
    "#### mat hypo DMRs"
   ]
  },
  {
   "cell_type": "code",
   "execution_count": null,
   "id": "472f7f93-8b84-4b81-b812-30307bce805c",
   "metadata": {
    "tags": []
   },
   "outputs": [],
   "source": [
    "methylends_format(dmedom_CG, 'matpatdme1rep', '', matpatdmelegend1rep, in400_out1000_50bp_ticks, in400_out1000_50bp_ticks_labels,\n",
    "                  in400_out1000_50bp_vlines, in400_out1000_50bp_vlines_center, 0, 101, 10, context='CG', sRNA=False)\n",
    "plt.savefig(figurepath+'dmedom_CG_matpatdme_ends_1rep.pdf', dpi=350)\n",
    "\n"
   ]
  },
  {
   "cell_type": "code",
   "execution_count": null,
   "id": "25acb6a5-213f-470c-865d-3ab4e62d30b0",
   "metadata": {
    "tags": []
   },
   "outputs": [],
   "source": [
    "methylends_format(dmedom_CG, 'matpatdme', '', matpatdmelegend, in400_out1000_50bp_ticks, in400_out1000_50bp_ticks_labels,\n",
    "                  in400_out1000_50bp_vlines, in400_out1000_50bp_vlines_center, 0, 101, 10, context='CG', sRNA=False)\n",
    "plt.savefig(figurepath+'dmedom_CG_matpatdme_ends.pdf', dpi=350)\n",
    "\n"
   ]
  },
  {
   "cell_type": "code",
   "execution_count": null,
   "id": "59719ed0-b396-46c9-851d-59586259a78d",
   "metadata": {
    "tags": []
   },
   "outputs": [],
   "source": [
    "methylends_format(dmedom_CG, 'dme', '', dmelegend, in400_out1000_50bp_ticks, in400_out1000_50bp_ticks_labels,\n",
    "                  in400_out1000_50bp_vlines, in400_out1000_50bp_vlines_center, 0, 101, 10, context='CG', sRNA=False)\n",
    "plt.savefig(figurepath+'dmedom_CG_dme_ends_1rep.pdf', dpi=350)\n"
   ]
  },
  {
   "cell_type": "code",
   "execution_count": null,
   "id": "1bf4416d-43e0-4f3a-8ae4-031e74383bf1",
   "metadata": {
    "tags": []
   },
   "outputs": [],
   "source": [
    "methylends_format(dmedom_CHG, 'matpatdme', '', matpatdmelegend, in400_out1000_50bp_ticks, in400_out1000_50bp_ticks_labels,\n",
    "                  in400_out1000_50bp_vlines, in400_out1000_50bp_vlines_center, 0, 41, 5, context='CHG', sRNA=False)\n",
    "plt.savefig(figurepath+'dmedom_CHG_matpatdme_ends.pdf', dpi=350)\n"
   ]
  },
  {
   "cell_type": "code",
   "execution_count": null,
   "id": "bbd30228-7b48-4bf5-ac3c-20b8c8c6b5e1",
   "metadata": {
    "tags": []
   },
   "outputs": [],
   "source": [
    "methylends_format(dmedom_CHH, 'matpatdme', '', matpatdmelegend, in400_out1000_50bp_ticks, in400_out1000_50bp_ticks_labels,\n",
    "                  in400_out1000_50bp_vlines, in400_out1000_50bp_vlines_center, 0, 21, 2, context='CHH', sRNA=False)\n",
    "plt.savefig(figurepath+'dmedom_CHH_matpatdme_ends.pdf', dpi=350)\n"
   ]
  },
  {
   "cell_type": "code",
   "execution_count": null,
   "id": "5b53d04f-e8c1-4b3a-91db-8c43c4ef3d56",
   "metadata": {
    "tags": []
   },
   "outputs": [],
   "source": [
    "methylends_format(ros1ant_CG, 'dme', '', dmelegend, in200_out1000_50bp_ticks, in200_out1000_50bp_ticks_DMR_labels,\n",
    "                  in200_out1000_50bp_vlines, in200_out1000_50bp_vlines_center, 0, 101, 10, context='CG', sRNA=False)\n",
    "plt.savefig(figurepath+'ros1ant_CG_dme_ends_1rep.pdf', dpi=350)\n"
   ]
  },
  {
   "cell_type": "code",
   "execution_count": null,
   "id": "caace3e8-2954-42fc-bdef-26cb7299cf97",
   "metadata": {
    "tags": []
   },
   "outputs": [],
   "source": [
    "methylends_format(ros1ant_CG, 'matpatdme1rep', '', matpatdmelegend1rep, in200_out1000_50bp_ticks, in200_out1000_50bp_ticks_DMR_labels,\n",
    "                  in200_out1000_50bp_vlines, in200_out1000_50bp_vlines_center, 0, 101, 10, context='CG', sRNA=False)\n",
    "plt.savefig(figurepath+'ros1ant_CG_matpatdme_ends_1rep.pdf', dpi=350)\n"
   ]
  },
  {
   "cell_type": "code",
   "execution_count": null,
   "id": "74725a58-c925-4acb-afd2-41d8c4b2f90e",
   "metadata": {
    "tags": []
   },
   "outputs": [],
   "source": [
    "methylends_format(ros1ant_CG, 'matpatdme', '', matpatdmelegend, in200_out1000_50bp_ticks, in200_out1000_50bp_ticks_DMR_labels,\n",
    "                  in200_out1000_50bp_vlines, in200_out1000_50bp_vlines_center, 0, 101, 10, context='CG', sRNA=False)\n",
    "plt.savefig(figurepath+'ros1ant_CG_matpatdme_ends.pdf', dpi=350)\n"
   ]
  },
  {
   "cell_type": "code",
   "execution_count": null,
   "id": "4f73ce54-0b8a-4de8-bad1-eda0accccb59",
   "metadata": {
    "tags": []
   },
   "outputs": [],
   "source": [
    "methylends_format(ros1ant_CHG, 'matpatdme', '', matpatdmelegend, in200_out1000_50bp_ticks, in200_out1000_50bp_ticks_DMR_labels,\n",
    "                  in200_out1000_50bp_vlines, in200_out1000_50bp_vlines_center, 0, 26.5, 2, context='CHG', sRNA=False)\n",
    "plt.savefig(figurepath+'ros1ant_CHG_matpatdme_ends.pdf', dpi=350)\n"
   ]
  },
  {
   "cell_type": "code",
   "execution_count": null,
   "id": "7c4a1415-c8bf-4c34-b3d5-4433406e11f8",
   "metadata": {
    "tags": []
   },
   "outputs": [],
   "source": [
    "methylends_format(ros1ant_CHH, 'matpatdme', '', matpatdmelegend, in200_out1000_50bp_ticks, in200_out1000_50bp_ticks_DMR_labels,\n",
    "                  in200_out1000_50bp_vlines, in200_out1000_50bp_vlines_center, 0, 14.5, 2, context='CHH', sRNA=False)\n",
    "plt.savefig(figurepath+'ros1ant_CHH_matpatdme_ends.pdf', dpi=350)\n"
   ]
  },
  {
   "cell_type": "markdown",
   "id": "d3bd8fcd-4ba7-47b1-80aa-7462815b9323",
   "metadata": {
    "jp-MarkdownHeadingCollapsed": true,
    "tags": [],
    "toc-hr-collapsed": true
   },
   "source": [
    "# Comparing ROS1-antagonized and DME-dominant regions to published regions of interest"
   ]
  },
  {
   "cell_type": "code",
   "execution_count": null,
   "id": "382895e0-973d-4cd7-ab1b-881d940bf250",
   "metadata": {
    "tags": []
   },
   "outputs": [],
   "source": []
  },
  {
   "cell_type": "code",
   "execution_count": null,
   "id": "4416be5c-bc7a-482c-8b69-5e7dec0b51c6",
   "metadata": {
    "tags": []
   },
   "outputs": [],
   "source": [
    "windowcol=['chr','start','end','feature','score','strand','dmr_chr','dmr_start','dmr_end']\n",
    "\n",
    "\n",
    "genes=pd.read_csv(featurepath+\"regions2compare/genes.bed\", sep=tab, header=None, names=['chr','start','end','feature','score','strand'])\n",
    "dmegenes=pd.read_csv(featurepath+\"regions2compare/dme_genes_gehring.bed\", sep=tab, header=None, names=['feature'])\n",
    "endohypo=pd.read_csv(featurepath+\"regions2compare/Col_endo_vs_embryo_CpG_neg_DMRs.sorted.uniq.bed\", sep=tab, header=None, names=['chr','start','end'])\n",
    "endohyper=pd.read_csv(featurepath+\"regions2compare/Col_endo_vs_embryo_CpG_pos_DMRs.sorted.uniq.bed\", sep=tab, header=None, names=['chr','start','end'])\n",
    "dmebed=pd.read_csv(featurepath+\"regions2compare/dme_genes_gehring.bed\", sep=tab, header=None, names=['chr','start','end','feature'])\n",
    "drddcgonly=pd.read_csv(featurepath+\"regions2compare/drdd_CG_hyperdmrs_CGonly.bed\", sep=tab, header=None, names=['chr','start','end','score'])\n",
    "\n"
   ]
  },
  {
   "cell_type": "markdown",
   "id": "fcbd496b-d4ae-474c-9c41-37dacb5e5117",
   "metadata": {
    "jp-MarkdownHeadingCollapsed": true,
    "tags": []
   },
   "source": [
    "## genes and tes"
   ]
  },
  {
   "cell_type": "code",
   "execution_count": null,
   "id": "902bc2e5-2de7-4b9e-a0d8-23bf24dbb16d",
   "metadata": {
    "tags": []
   },
   "outputs": [],
   "source": [
    "#features near DMRs\n",
    "DMEdom_genes1kb=pd.read_csv(featurepath+\"genes_1kb_WT_and_ros1_matVpathypo.bed\", sep=tab, header=None, names=windowcol)\n",
    "DMEdom_TEfrag1kb=pd.read_csv(featurepath+\"TE_fragments_1kb_WT_and_ros1_matVpathypo.bed\", sep=tab, header=None, names=windowcol)\n",
    "DMEdom_TEmerge1kb=pd.read_csv(featurepath+\"TEmerge_named_1kb_WT_and_ros1_matVpathypo.bed\", sep=tab, header=None, names=windowcol)\n",
    "\n",
    "ROS1ant_genes1kb=pd.read_csv(featurepath+\"genes_1kb_ros1_needed_matVpathypo.bed\", sep=tab, header=None, names=windowcol)\n",
    "ROS1ant_TEfrag1kb=pd.read_csv(featurepath+\"TE_fragments_1kb_ros1_needed_matVpathypo.bed\", sep=tab, header=None, names=windowcol)\n",
    "ROS1ant_TEmerge1kb=pd.read_csv(featurepath+\"TEmerge_named_1kb_ros1_needed_matVpathypo.bed\", sep=tab, header=None, names=windowcol)\n"
   ]
  },
  {
   "cell_type": "code",
   "execution_count": null,
   "id": "a1dd457c-5b55-4376-aad1-fc06276f5df8",
   "metadata": {
    "tags": []
   },
   "outputs": [],
   "source": [
    "DMEdom_neither, DMEdom_geneonly, DMEdom_teonly, DMEdom_both=get_feat_count(DMEdom, DMEdom_genes1kb, DMEdom_TEfrag1kb)\n",
    "ROS1ant_neither, ROS1ant_geneonly, ROS1ant_teonly, ROS1ant_both=get_feat_count(ROS1only, ROS1ant_genes1kb, ROS1ant_TEfrag1kb)"
   ]
  },
  {
   "cell_type": "code",
   "execution_count": null,
   "id": "f923ffd2-19e1-45f1-9c35-59307459165b",
   "metadata": {
    "tags": []
   },
   "outputs": [],
   "source": [
    "feature_barplot((\"DME-dominant targets\", \"ROS1-ant targets\"), {\n",
    "    \"no feature\": np.array([len(DMEdom)-(DMEdom_neither+DMEdom_teonly+DMEdom_both), len(ROS1only)-(ROS1ant_geneonly+ROS1ant_teonly+ROS1ant_both)]),\n",
    "    \"gene only\": np.array([DMEdom_geneonly, ROS1ant_geneonly]),\n",
    "    \"TE fragment only\": np.array([DMEdom_teonly, ROS1ant_teonly]),\n",
    "    \"gene and TE fragment\": np.array([DMEdom_both, ROS1ant_both])\n",
    "}, \"number of DMRs\", limit=1800)\n",
    "plt.savefig(figurepath+'mathypo_DMRs_features1kb.pdf', dpi=350)"
   ]
  },
  {
   "cell_type": "markdown",
   "id": "95c35c5f-d436-4fbe-a88d-bc94c27e660d",
   "metadata": {
    "tags": []
   },
   "source": [
    "## DME-genes and imprinted genes"
   ]
  },
  {
   "cell_type": "code",
   "execution_count": null,
   "id": "f911bcaa-d17a-4899-b288-1f0fc693c268",
   "metadata": {
    "tags": []
   },
   "outputs": [],
   "source": [
    "print(\"Number of DME genes defined in Gehring et al that are within 1kb of a 'DME-dominant' DMR: \" +str(len(dmebed.merge(DMEdom_genes1kb, on=['chr','start','end','feature'], how=\"inner\").drop_duplicates('feature'))))\n",
    "print(\"out of total: \" +str(len(dmegenes)) + \" genes\")"
   ]
  },
  {
   "cell_type": "markdown",
   "id": "d8dd7eb1-4446-43ef-a60b-da3e03398920",
   "metadata": {
    "jp-MarkdownHeadingCollapsed": true,
    "tags": []
   },
   "source": [
    "## number of DMRs that are within 1kb of an imprinted gene"
   ]
  },
  {
   "cell_type": "code",
   "execution_count": null,
   "id": "8f7b609f-5e2a-470b-87a0-1dba4a9b52ea",
   "metadata": {
    "tags": []
   },
   "outputs": [],
   "source": [
    "dmelist=pd.DataFrame(DMEdom_genes1kb['feature'].copy())\n",
    "ros1list=pd.DataFrame(ROS1ant_genes1kb['feature'].copy())"
   ]
  },
  {
   "cell_type": "code",
   "execution_count": null,
   "id": "ebadca5b-513e-430e-9806-f6958d3f5b61",
   "metadata": {
    "tags": []
   },
   "outputs": [],
   "source": [
    "#dmelist.to_csv(featurepath+'TAIR_genes_dmedominant.csv', header=False, index=False)\n",
    "#ros1list.to_csv(featurepath+'TAIR_genes_ros1_needed.csv', header=False, index=False)\n",
    "#ros1patlist.to_csv(featurepath+'TAIR_genes_ros1_paternal.csv', header=False, index=False)"
   ]
  },
  {
   "cell_type": "code",
   "execution_count": null,
   "id": "188cc314-df4c-47df-8dda-ea5380b3b8ad",
   "metadata": {
    "tags": []
   },
   "outputs": [],
   "source": [
    "impath=dmrpath+\"imprinting_analysis/\""
   ]
  },
  {
   "cell_type": "code",
   "execution_count": null,
   "id": "b7b5d9c4-7a5b-4d1c-b368-295407f2b522",
   "metadata": {
    "tags": []
   },
   "outputs": [],
   "source": [
    "AtMEG=pd.read_csv(impath+\"thaliana_megs.txt\", sep=tab, header=0).fillna(\"no\").rename(columns={\"locus_name\": \"feature\"})\n",
    "AtMEG['gene class']=\"AtMEG\"\n",
    "AtPEG=pd.read_csv(impath+\"thaliana_pegs.txt\", sep=tab, header=0).fillna(\"no\").rename(columns={\"locus_name\": \"feature\"})\n",
    "AtPEG['gene class']=\"AtPEG\"\n",
    "AlMEG=pd.read_csv(impath+\"lyrata_megs.txt\", sep=tab, header=0).fillna(\"no\").rename(columns={\"TAIR10 homologue\": \"feature\"})\n",
    "AlMEG['gene class']=\"AlMEG\"\n",
    "AlPEG=pd.read_csv(impath+\"lyrata_pegs.txt\", sep=tab, header=0).fillna(\"no\").rename(columns={\"TAIR10 homologue\": \"feature\"})\n",
    "AlPEG['gene class']=\"AlPEG\""
   ]
  },
  {
   "cell_type": "code",
   "execution_count": null,
   "id": "dc1a7a3f-52c9-4435-9ab2-62f4e7ae67e7",
   "metadata": {
    "tags": []
   },
   "outputs": [],
   "source": [
    "# function to get variables that are counts of individual regions of each catagory\n",
    "def get_imprinted_gene_count(genedmr):\n",
    "    featuresdrop=genedmr.drop_duplicates(subset=['dmr_chr','dmr_start','dmr_end'])\n",
    "    #print(len(featuresdrop))\n",
    "        \n",
    "    Atmeg_indicate=genedmr.merge(AtMEG, on=['feature'], how=\"left\", indicator=True).drop_duplicates(subset=['dmr_chr','dmr_start','dmr_end'])\n",
    "    AtMEG_count=Atmeg_indicate['_merge'].value_counts()['both']\n",
    "    \n",
    "    Atpeg_indicate=genedmr.merge(AtPEG, on=['feature'], how=\"left\", indicator=True).drop_duplicates(subset=['dmr_chr','dmr_start','dmr_end'])\n",
    "    AtPEG_count=Atpeg_indicate['_merge'].value_counts()['both']\n",
    "    \n",
    "    Almeg_indicate=genedmr.merge(AlMEG, on=['feature'], how=\"left\", indicator=True).drop_duplicates(subset=['dmr_chr','dmr_start','dmr_end'])\n",
    "    AlMEG_count=Almeg_indicate['_merge'].value_counts()['both']\n",
    "    \n",
    "    Alpeg_indicate=genedmr.merge(AlPEG, on=['feature'], how=\"left\", indicator=True).drop_duplicates(subset=['dmr_chr','dmr_start','dmr_end'])\n",
    "    AlPEG_count=Alpeg_indicate['_merge'].value_counts()['both']\n",
    "    #return allimprinted                                                                                                     \n",
    "    not_imprinted=len(featuresdrop)-(AtMEG_count+AtPEG_count+AlMEG_count+AlPEG_count)\n",
    "\n",
    "    return AtMEG_count, AtPEG_count, AlMEG_count, AlPEG_count, not_imprinted"
   ]
  },
  {
   "cell_type": "code",
   "execution_count": null,
   "id": "62f53f18-82de-45f9-b373-8497c8275c7c",
   "metadata": {
    "tags": []
   },
   "outputs": [],
   "source": [
    "#stacked barplot of features near regions of interest\n",
    "def imprinting_barplot(genotypes_list, feat_count_dict, y_label, limit):\n",
    "    #style\n",
    "    sns.set_style('white')\n",
    "    \n",
    "    genotypes = genotypes_list\n",
    "    feat_counts = feat_count_dict\n",
    "    width = 0.6\n",
    "    \n",
    "    fig, ax = plt.subplots()\n",
    "    bottom = np.zeros(2)\n",
    "    ax.grid(axis='y')\n",
    "    Colors=[\"#DEE1E1\", \"#8EA604\", \"#CCCCFF\", \"#DE1389\", \"#D35269\"]\n",
    "    \n",
    "    for boolean, feat_count in feat_counts.items():\n",
    "        if boolean==\"not imprinted\":\n",
    "            c=Colors[0]\n",
    "        if boolean==\"AtMEG\":\n",
    "            c=Colors[1]\n",
    "        if boolean==\"AtPEG\":\n",
    "            c=Colors[3]\n",
    "        if boolean==\"AlMEG\":\n",
    "            c=Colors[2]\n",
    "        if boolean==\"AlPEG\":\n",
    "            c=Colors[4]\n",
    "        p = ax.bar(genotypes, feat_count, width, label=boolean, bottom=bottom, color=c)\n",
    "        bottom += feat_count\n",
    "        \n",
    "    # general layout\n",
    "    ax.tick_params(axis='both', labelsize=17)\n",
    "    ax.set_ylabel(y_label, fontsize=20)\n",
    "    ax.legend(loc='upper right', title=\"Within 1kb of gene:\", fontsize=15, title_fontsize=15)\n",
    "    ax.set_ylim(0, limit)\n",
    "    \n",
    "    plt.tight_layout()\n"
   ]
  },
  {
   "cell_type": "code",
   "execution_count": null,
   "id": "0557aa38-54a2-41af-9a0d-870a7565e3ef",
   "metadata": {
    "tags": []
   },
   "outputs": [],
   "source": [
    "mathypo_list=(\"DME-dominant\", \"ROS1-antagonized\")"
   ]
  },
  {
   "cell_type": "code",
   "execution_count": null,
   "id": "b7b99ac5-839a-4ea5-952d-203890f422d7",
   "metadata": {
    "tags": []
   },
   "outputs": [],
   "source": [
    "DME_atmeg, DME_atpeg, DME_almeg, DME_alpeg, DME_not=get_imprinted_gene_count(DMEdom_genes1kb)\n",
    "ROS1_atmeg, ROS1_atpeg, ROS1_almeg, ROS1_alpeg, ROS1_not=get_imprinted_gene_count(ROS1ant_genes1kb)"
   ]
  },
  {
   "cell_type": "code",
   "execution_count": null,
   "id": "87bc959e-3cd6-4cc3-b352-9a90b5ddd718",
   "metadata": {
    "tags": []
   },
   "outputs": [],
   "source": [
    "imprinting_barplot(mathypo_list, {\n",
    "    \"not imprinted\": np.array([DME_not, ROS1_not]),\n",
    "    \"AtMEG\": np.array([DME_atmeg, ROS1_atmeg]),\n",
    "    \"AtPEG\": np.array([DME_atpeg, ROS1_atpeg])\n",
    "}, y_label=\"# of gene-associated regions\", limit=1020)\n",
    "plt.savefig(figurepath+'mathypo_DMRs_near_imprintedgene.pdf', dpi=350)"
   ]
  },
  {
   "cell_type": "code",
   "execution_count": null,
   "id": "3c49d280-fd90-462f-9d69-af1bafd9fcee",
   "metadata": {
    "tags": []
   },
   "outputs": [],
   "source": [
    "imprinting_barplot(mathypo_list, {\n",
    "    \"AtMEG\": np.array([DME_atmeg, ROS1_atmeg]),\n",
    "    \"AtPEG\": np.array([DME_atpeg, ROS1_atpeg])\n",
    "}, y_label=\"# of imprinted gene\\n-associated regions\", limit=60)\n",
    "plt.savefig(figurepath+'mathypo_DMRs_near_imprintedgene_onlyimprintedgenes.pdf', dpi=350)"
   ]
  },
  {
   "cell_type": "markdown",
   "id": "fe8253b2-db51-4000-90cb-ab0ccf9dc4b9",
   "metadata": {
    "jp-MarkdownHeadingCollapsed": true,
    "tags": []
   },
   "source": [
    "## ISRs from erdmann et al"
   ]
  },
  {
   "cell_type": "code",
   "execution_count": null,
   "id": "5d401dd1-b9ea-4819-b051-20c1b66fcc60",
   "metadata": {
    "tags": []
   },
   "outputs": [],
   "source": [
    "CV_matISR=pd.read_csv(featurepath+'regions2compare/Col_Cvi_matISR.bed', sep=tab, header=None, names=bed_columns)\n",
    "CV_patISR=pd.read_csv(featurepath+'regions2compare/Col_Cvi_patISR.bed', sep=tab, header=None, names=bed_columns)\n",
    "CL_matISR=pd.read_csv(featurepath+'regions2compare/Col_Ler_matISR.bed', sep=tab, header=None, names=bed_columns)\n",
    "CL_patISR=pd.read_csv(featurepath+'regions2compare/Col_Ler_patISR.bed', sep=tab, header=None, names=bed_columns)\n"
   ]
  },
  {
   "cell_type": "code",
   "execution_count": null,
   "id": "cfeb910f-b5fc-4ead-8225-faf661997298",
   "metadata": {
    "tags": []
   },
   "outputs": [],
   "source": [
    "CV_matISR_ros1ant=pd.read_csv(featurepath+'Col_Cvi_matISR_1kb_ros1_needed_matVpathypo.bed', sep=tab, header=None, names=['chr','start','end','dmr_chr','dmr_start','dmr_end'])\n",
    "CL_matISR_ros1ant=pd.read_csv(featurepath+'Col_Ler_matISR_1kb_ros1_needed_matVpathypo.bed', sep=tab, header=None, names=['chr','start','end','dmr_chr','dmr_start','dmr_end'])\n",
    "\n",
    "CV_patISR_ros1ant=pd.read_csv(featurepath+'Col_Cvi_patISR_1kb_ros1_needed_matVpathypo.bed', sep=tab, header=None, names=['chr','start','end','dmr_chr','dmr_start','dmr_end'])\n",
    "CL_patISR_ros1ant=pd.read_csv(featurepath+'Col_Ler_patISR_1kb_ros1_needed_matVpathypo.bed', sep=tab, header=None, names=['chr','start','end','dmr_chr','dmr_start','dmr_end'])\n",
    "\n",
    "CV_matISR_dmedom=pd.read_csv(featurepath+'Col_Cvi_matISR_1kb_WT_and_ros1_matVpathypo.bed', sep=tab, header=None, names=['chr','start','end','dmr_chr','dmr_start','dmr_end'])\n",
    "CL_matISR_dmedom=pd.read_csv(featurepath+'Col_Ler_matISR_1kb_WT_and_ros1_matVpathypo.bed', sep=tab, header=None, names=['chr','start','end','dmr_chr','dmr_start','dmr_end'])\n",
    "\n",
    "CV_patISR_dmedom=pd.read_csv(featurepath+'Col_Cvi_patISR_1kb_WT_and_ros1_matVpathypo.bed', sep=tab, header=None, names=['chr','start','end','dmr_chr','dmr_start','dmr_end'])\n",
    "CL_patISR_dmedom=pd.read_csv(featurepath+'Col_Ler_patISR_1kb_WT_and_ros1_matVpathypo.bed', sep=tab, header=None, names=['chr','start','end','dmr_chr','dmr_start','dmr_end'])\n"
   ]
  },
  {
   "cell_type": "code",
   "execution_count": null,
   "id": "ec0a45d1-baa5-4cdb-8d25-9f92423acf53",
   "metadata": {
    "tags": []
   },
   "outputs": [],
   "source": [
    "ros1ant_near_CVmatISR=len(CV_matISR_ros1ant.drop_duplicates(['dmr_chr','dmr_start','dmr_end']))\n",
    "ros1ant_near_CLmatISR=len(CL_matISR_ros1ant.drop_duplicates(['dmr_chr','dmr_start','dmr_end']))\n",
    "\n",
    "ros1ant_near_CVpatISR=len(CV_patISR_ros1ant.drop_duplicates(['dmr_chr','dmr_start','dmr_end']))\n",
    "ros1ant_near_CLpatISR=len(CL_patISR_ros1ant.drop_duplicates(['dmr_chr','dmr_start','dmr_end']))\n",
    "\n",
    "dmedom_near_CVmatISR=len(CV_matISR_dmedom.drop_duplicates(['dmr_chr','dmr_start','dmr_end']))\n",
    "dmedom_near_CLmatISR=len(CL_matISR_dmedom.drop_duplicates(['dmr_chr','dmr_start','dmr_end']))\n",
    "\n",
    "dmedom_near_CVpatISR=len(CV_patISR_dmedom.drop_duplicates(['dmr_chr','dmr_start','dmr_end']))\n",
    "dmedom_near_CLpatISR=len(CL_patISR_dmedom.drop_duplicates(['dmr_chr','dmr_start','dmr_end']))\n"
   ]
  },
  {
   "cell_type": "code",
   "execution_count": null,
   "id": "0055355e-1810-45b9-9669-51aad8863d74",
   "metadata": {
    "tags": []
   },
   "outputs": [],
   "source": [
    "dmedom_fraction_near_CVmatISR=dmedom_near_CVmatISR/len(DMEdom)\n",
    "dmedom_fraction_near_CVpatISR=dmedom_near_CVpatISR/len(DMEdom)\n",
    "dmedom_fraction_near_CLmatISR=dmedom_near_CLmatISR/len(DMEdom)\n",
    "dmedom_fraction_near_CLpatISR=dmedom_near_CLpatISR/len(DMEdom)\n",
    "\n",
    "ros1ant_fraction_near_CVmatISR=ros1ant_near_CVmatISR/len(ROS1only)\n",
    "ros1ant_fraction_near_CVpatISR=ros1ant_near_CVpatISR/len(ROS1only)\n",
    "ros1ant_fraction_near_CLmatISR=ros1ant_near_CLmatISR/len(ROS1only)\n",
    "ros1ant_fraction_near_CLpatISR=ros1ant_near_CLpatISR/len(ROS1only)\n"
   ]
  },
  {
   "cell_type": "code",
   "execution_count": null,
   "id": "78ac71c7-0f4e-4432-9b02-53f3f9d84014",
   "metadata": {
    "tags": []
   },
   "outputs": [],
   "source": [
    "print(\"fraction ros1-ant near CV mat ISR:\"+str(ros1ant_fraction_near_CVmatISR))\n",
    "print(\"fraction ros1-ant near CL mat ISR:\"+str(ros1ant_fraction_near_CLmatISR))\n",
    "\n",
    "print(\"fraction ros1-ant near CV pat ISR:\"+str(ros1ant_fraction_near_CVpatISR))\n",
    "print(\"fraction ros1-ant near CL pat ISR:\"+str(ros1ant_fraction_near_CLpatISR))\n",
    "\n",
    "print(\"fraction dme dom near CV mat ISR:\"+str(dmedom_fraction_near_CVmatISR))\n",
    "print(\"fraction dme dom near CL mat ISR:\"+str(dmedom_fraction_near_CLmatISR))\n",
    "\n",
    "print(\"fraction dme dom near CV pat ISR:\"+str(dmedom_fraction_near_CVpatISR))\n",
    "print(\"fraction dme dom near CL pat ISR:\"+str(dmedom_fraction_near_CLpatISR))\n"
   ]
  },
  {
   "cell_type": "code",
   "execution_count": null,
   "id": "2548f2d1-5c02-43a1-a27d-f7930bb3fb08",
   "metadata": {
    "tags": []
   },
   "outputs": [],
   "source": [
    "CV_matISR_fraction_near_ros1ant=len(CV_matISR_ros1ant)/len(CV_matISR)\n",
    "CL_matISR_fraction_near_ros1ant=len(CL_matISR_ros1ant)/len(CL_matISR)\n",
    "\n",
    "CV_patISR_fraction_near_ros1ant=len(CV_patISR_ros1ant)/len(CV_patISR)\n",
    "CL_patISR_fraction_near_ros1ant=len(CL_patISR_ros1ant)/len(CL_patISR)\n",
    "\n",
    "CV_matISR_fraction_near_dmedom=len(CV_matISR_dmedom)/len(CV_matISR)\n",
    "CL_matISR_fraction_near_dmedom=len(CL_matISR_dmedom)/len(CL_matISR)\n",
    "\n",
    "CV_patISR_fraction_near_dmedom=len(CV_patISR_dmedom)/len(CV_patISR)\n",
    "CL_patISR_fraction_near_dmedom=len(CL_patISR_dmedom)/len(CL_patISR)\n"
   ]
  },
  {
   "cell_type": "code",
   "execution_count": null,
   "id": "f13783b3-d152-42cd-beb4-ac26dc8fc3e9",
   "metadata": {
    "tags": []
   },
   "outputs": [],
   "source": [
    "print(\"fraction CV mat ISR near ros1-ant:\"+str(CV_matISR_fraction_near_ros1ant))\n",
    "print(\"fraction CL mat ISR near ros1-ant:\"+str(CL_matISR_fraction_near_ros1ant))\n",
    "\n",
    "print(\"fraction CV pat ISR near ros1-ant:\"+str(CV_patISR_fraction_near_ros1ant))\n",
    "print(\"fraction CL pat ISR near ros1-ant:\"+str(CL_patISR_fraction_near_ros1ant))\n",
    "\n",
    "print(\"fraction CV mat ISR near dme dom:\"+str(CV_matISR_fraction_near_dmedom))\n",
    "print(\"fraction CL mat ISR near dme dom:\"+str(CL_matISR_fraction_near_dmedom))\n",
    "\n",
    "print(\"fraction CV pat ISR near dme dom:\"+str(CV_patISR_fraction_near_dmedom))\n",
    "print(\"fraction CL pat ISR near dme dom:\"+str(CL_patISR_fraction_near_dmedom))\n"
   ]
  },
  {
   "cell_type": "markdown",
   "id": "291be585-b6d8-4079-9722-f9f0b1a3c5d7",
   "metadata": {
    "jp-MarkdownHeadingCollapsed": true,
    "tags": []
   },
   "source": [
    "# Sumby ros1 parent of origin data at allelic DMRs"
   ]
  },
  {
   "cell_type": "code",
   "execution_count": null,
   "id": "98826bf2-fe47-4a30-8bd4-48e4e08f73f0",
   "metadata": {
    "tags": []
   },
   "outputs": [],
   "source": [
    "sumpath=path+\"sumby_features/2parent_v_1parent_ros1_analysis/\""
   ]
  },
  {
   "cell_type": "markdown",
   "id": "8fccb976-09fb-41f0-bf14-d411f587e974",
   "metadata": {
    "tags": []
   },
   "source": [
    "### functions"
   ]
  },
  {
   "cell_type": "code",
   "execution_count": null,
   "id": "5a248d73-fb8b-401c-9bf9-3f5301fee001",
   "metadata": {
    "tags": []
   },
   "outputs": [],
   "source": [
    "def readindata(file):\n",
    "    sumcolumns=['chr','start','end','name','avg_methy','nC']\n",
    "    df=pd.read_csv(sumpath+file, header=None, sep=tab, names=sumcolumns)\n",
    "    df=df.drop(['name'], axis=1)\n",
    "    return (df)\n",
    "def makeavgdf(datadf):\n",
    "    bed=['chr','start','end']\n",
    "    avgdf = datadf[bed].copy()\n",
    "    avgdf['C24xr3_pat']=((datadf['C24xr3_1_pat']+datadf['C24xr3_2_pat']+datadf['C24xr3_3_pat'])/3)\n",
    "    avgdf['r3xC24_pat']=((datadf['r3xC24_1_pat']+datadf['r3xC24_2_pat']+datadf['r3xC24_3_pat'])/3)\n",
    "    avgdf['r3xC24_mat']=((datadf['r3xC24_1_mat']+datadf['r3xC24_2_mat']+datadf['r3xC24_3_mat'])/3)\n",
    "    avgdf['C24xr3_mat']=((datadf['C24xr3_1_mat']+datadf['C24xr3_2_mat']+datadf['C24xr3_3_mat'])/3)\n",
    "    return (avgdf)\n",
    "\n",
    "poi_columns=['chr','start','end','C24xr3_1_pat','nC_C24xr3_1_pat','C24xr3_2_pat','nC_C24xr3_2_pat','C24xr3_3_pat','nC_C24xr3_3_pat',\n",
    "             'r3xC24_1_pat','nC_r3xC24_1_pat','r3xC24_2_pat','nC_r3xC24_2_pat','r3xC24_3_pat','nC_r3xC24_3_pat',\n",
    "             'r3xC24_1_mat','nC_r3xC24_1_mat','r3xC24_2_mat','nC_r3xC24_2_mat','r3xC24_3_mat','nC_r3xC24_3_mat',\n",
    "             'C24xr3_1_mat','nC_C24xr3_1_mat','C24xr3_2_mat','nC_C24xr3_2_mat','C24xr3_3_mat','nC_C24xr3_2_mat']"
   ]
  },
  {
   "cell_type": "code",
   "execution_count": null,
   "id": "ae3dfa6d-d2a5-43bf-aecb-5baec1d89e0a",
   "metadata": {
    "tags": []
   },
   "outputs": [],
   "source": [
    "import scipy as sp\n",
    "\n",
    "def get_correlation (df, col1, col2):\n",
    "    r, p = sp.stats.pearsonr(x=df[col1], y=df[col2])\n",
    "    return r, p\n",
    "\n",
    "def scatter_dmrmatpat(df, x, y, xlabel, ylabel, hue='DMR class', xlim=[-0.02,1.02], ylim=[-0.02, 1.02],correlate=False, left_text=True, saveas=False):\n",
    "    fig, ax = plt.subplots()\n",
    "    \n",
    "    if hue==None:\n",
    "        sns.scatterplot(data=df, x=x, y=y, ax=ax)\n",
    "    elif hue is not None:\n",
    "        sns.scatterplot(data=df, x=x, y=y,hue=hue, ax=ax)\n",
    "        sns.move_legend(ax, 'lower right')\n",
    "        if hue==\"_lefton_TE\":\n",
    "            legend_elements = [Line2D([0], [0], marker='o', color='w', label='Scatter',markerfacecolor='b', markersize=7),\n",
    "                               Line2D([0], [0], marker='o', color='w', label='Scatter',markerfacecolor='g', markersize=7)]\n",
    "            ax.legend(handles=legend_elements, labels=['no gene within 1kb','gene within 1kb or intersecting'])\n",
    "        if hue==\"_lefton_gene\":\n",
    "            legend_elements = [Line2D([0], [0], marker='o', color='w', label='Scatter',markerfacecolor='b', markersize=7),\n",
    "                               Line2D([0], [0], marker='o', color='w', label='Scatter',markerfacecolor='g', markersize=7)]\n",
    "            ax.legend(handles=legend_elements, labels=['no TE within 1kb','TE within 1kb or intersecting'])\n",
    "      \n",
    "        \n",
    "    if correlate==True:\n",
    "        r, p = get_correlation(df, x, y)\n",
    "        print('r='+str(r))\n",
    "        print('p='+str(p))\n",
    "        if left_text==True:\n",
    "            plt.text(.05, .8, \"Pearson's r ={:.2f}\".format(r), transform=ax.transAxes)\n",
    "            plt.text(.05, .75, \"p value ={:.6f}\".format(p), transform=ax.transAxes)\n",
    "            #plt.text(.05, .7, \"n=\"+str(len(df)), transform=ax.transAxes)\n",
    "        elif left_text==False:\n",
    "            plt.text(.65, .4, \"Pearson's r ={:.2f}\".format(r), transform=ax.transAxes)\n",
    "            plt.text(.65, .35, \"p value ={:.6f}\".format(p), transform=ax.transAxes)\n",
    "            #plt.text(.65, .3, \"n=\"+str(len(df)), transform=ax.transAxes)\n",
    "\n",
    "\n",
    "        \n",
    "    ax.set_xlim(xlim)\n",
    "    ax.set_ylim(ylim)\n",
    "    ax.set_xlabel(xlabel, fontsize=15)\n",
    "    ax.set_ylabel(ylabel, fontsize=15)\n",
    "    ax.tick_params(labelsize=12)\n",
    "    \n",
    "\n",
    "    if saveas!=False:\n",
    "        print('plot saved')\n",
    "        fig.savefig(saveas, dpi=350)\n",
    "    else:\n",
    "        print('plot not saved')\n",
    "        return fig, ax\n",
    "        plt.show()\n",
    "            "
   ]
  },
  {
   "cell_type": "markdown",
   "id": "8c1fbbe7-60df-41e9-be9e-3e41189ea3ac",
   "metadata": {
    "jp-MarkdownHeadingCollapsed": true,
    "tags": []
   },
   "source": [
    "### read in data"
   ]
  },
  {
   "cell_type": "code",
   "execution_count": null,
   "id": "a5e1b6ad-dd80-4a76-af7b-2468f960bcae",
   "metadata": {
    "tags": []
   },
   "outputs": [],
   "source": [
    "r3_pat_1_CG_sumby_ros1ant=readindata(\"C24xr3_1_Col_spiked_CG_sumby_ros1_only_NEITHERcheck_matVpat_hypo_allC.bed\")\n",
    "r3_pat_1_CHG_sumby_ros1ant=readindata(\"C24xr3_1_Col_spiked_CHG_sumby_ros1_only_NEITHERcheck_matVpat_hypo_allC.bed\")\n",
    "r3_pat_1_CHH_sumby_ros1ant=readindata(\"C24xr3_1_Col_spiked_CHH_sumby_ros1_only_NEITHERcheck_matVpat_hypo_allC.bed\")\n",
    "\n",
    "C24_mat_1_CG_sumby_ros1ant=readindata(\"C24xr3_1_C24_pseudo_CG_sumby_ros1_only_NEITHERcheck_matVpat_hypo_allC.bed\")\n",
    "C24_mat_1_CHG_sumby_ros1ant=readindata(\"C24xr3_1_C24_pseudo_CHG_sumby_ros1_only_NEITHERcheck_matVpat_hypo_allC.bed\")\n",
    "C24_mat_1_CHH_sumby_ros1ant=readindata(\"C24xr3_1_C24_pseudo_CHH_sumby_ros1_only_NEITHERcheck_matVpat_hypo_allC.bed\")\n",
    "\n",
    "r3_pat_2_CG_sumby_ros1ant=readindata(\"C24xr3_2_Col_spiked_CG_sumby_ros1_only_NEITHERcheck_matVpat_hypo_allC.bed\")\n",
    "r3_pat_2_CHG_sumby_ros1ant=readindata(\"C24xr3_2_Col_spiked_CHG_sumby_ros1_only_NEITHERcheck_matVpat_hypo_allC.bed\")\n",
    "r3_pat_2_CHH_sumby_ros1ant=readindata(\"C24xr3_2_Col_spiked_CHH_sumby_ros1_only_NEITHERcheck_matVpat_hypo_allC.bed\")\n",
    "\n",
    "C24_mat_2_CG_sumby_ros1ant=readindata(\"C24xr3_2_C24_pseudo_CG_sumby_ros1_only_NEITHERcheck_matVpat_hypo_allC.bed\")\n",
    "C24_mat_2_CHG_sumby_ros1ant=readindata(\"C24xr3_2_C24_pseudo_CHG_sumby_ros1_only_NEITHERcheck_matVpat_hypo_allC.bed\")\n",
    "C24_mat_2_CHH_sumby_ros1ant=readindata(\"C24xr3_2_C24_pseudo_CHH_sumby_ros1_only_NEITHERcheck_matVpat_hypo_allC.bed\")\n",
    "\n",
    "r3_pat_3_CG_sumby_ros1ant=readindata(\"C24xr3_3_Col_spiked_CG_sumby_ros1_only_NEITHERcheck_matVpat_hypo_allC.bed\")\n",
    "r3_pat_3_CHG_sumby_ros1ant=readindata(\"C24xr3_3_Col_spiked_CHG_sumby_ros1_only_NEITHERcheck_matVpat_hypo_allC.bed\")\n",
    "r3_pat_3_CHH_sumby_ros1ant=readindata(\"C24xr3_3_Col_spiked_CHH_sumby_ros1_only_NEITHERcheck_matVpat_hypo_allC.bed\")\n",
    "\n",
    "C24_mat_3_CG_sumby_ros1ant=readindata(\"C24xr3_3_C24_pseudo_CG_sumby_ros1_only_NEITHERcheck_matVpat_hypo_allC.bed\")\n",
    "C24_mat_3_CHG_sumby_ros1ant=readindata(\"C24xr3_3_C24_pseudo_CHG_sumby_ros1_only_NEITHERcheck_matVpat_hypo_allC.bed\")\n",
    "C24_mat_3_CHH_sumby_ros1ant=readindata(\"C24xr3_3_C24_pseudo_CHH_sumby_ros1_only_NEITHERcheck_matVpat_hypo_allC.bed\")\n",
    "\n",
    "\n",
    "r3_mat_1_CG_sumby_ros1ant=readindata(\"r3xC24_1_Col_spiked_CG_sumby_ros1_only_NEITHERcheck_matVpat_hypo_allC.bed\")\n",
    "r3_mat_1_CHG_sumby_ros1ant=readindata(\"r3xC24_1_Col_spiked_CHG_sumby_ros1_only_NEITHERcheck_matVpat_hypo_allC.bed\")\n",
    "r3_mat_1_CHH_sumby_ros1ant=readindata(\"r3xC24_1_Col_spiked_CHH_sumby_ros1_only_NEITHERcheck_matVpat_hypo_allC.bed\")\n",
    "\n",
    "C24_pat_1_CG_sumby_ros1ant=readindata(\"r3xC24_1_C24_pseudo_CG_sumby_ros1_only_NEITHERcheck_matVpat_hypo_allC.bed\")\n",
    "C24_pat_1_CHG_sumby_ros1ant=readindata(\"r3xC24_1_C24_pseudo_CHG_sumby_ros1_only_NEITHERcheck_matVpat_hypo_allC.bed\")\n",
    "C24_pat_1_CHH_sumby_ros1ant=readindata(\"r3xC24_1_C24_pseudo_CHH_sumby_ros1_only_NEITHERcheck_matVpat_hypo_allC.bed\")\n",
    "\n",
    "r3_mat_2_CG_sumby_ros1ant=readindata(\"r3xC24_2_Col_spiked_CG_sumby_ros1_only_NEITHERcheck_matVpat_hypo_allC.bed\")\n",
    "r3_mat_2_CHG_sumby_ros1ant=readindata(\"r3xC24_2_Col_spiked_CHG_sumby_ros1_only_NEITHERcheck_matVpat_hypo_allC.bed\")\n",
    "r3_mat_2_CHH_sumby_ros1ant=readindata(\"r3xC24_2_Col_spiked_CHH_sumby_ros1_only_NEITHERcheck_matVpat_hypo_allC.bed\")\n",
    "\n",
    "C24_pat_2_CG_sumby_ros1ant=readindata(\"r3xC24_2_C24_pseudo_CG_sumby_ros1_only_NEITHERcheck_matVpat_hypo_allC.bed\")\n",
    "C24_pat_2_CHG_sumby_ros1ant=readindata(\"r3xC24_2_C24_pseudo_CHG_sumby_ros1_only_NEITHERcheck_matVpat_hypo_allC.bed\")\n",
    "C24_pat_2_CHH_sumby_ros1ant=readindata(\"r3xC24_2_C24_pseudo_CHH_sumby_ros1_only_NEITHERcheck_matVpat_hypo_allC.bed\")\n",
    "\n",
    "r3_mat_3_CG_sumby_ros1ant=readindata(\"r3xC24_3_Col_spiked_CG_sumby_ros1_only_NEITHERcheck_matVpat_hypo_allC.bed\")\n",
    "r3_mat_3_CHG_sumby_ros1ant=readindata(\"r3xC24_3_Col_spiked_CHG_sumby_ros1_only_NEITHERcheck_matVpat_hypo_allC.bed\")\n",
    "r3_mat_3_CHH_sumby_ros1ant=readindata(\"r3xC24_3_Col_spiked_CHH_sumby_ros1_only_NEITHERcheck_matVpat_hypo_allC.bed\")\n",
    "\n",
    "C24_pat_3_CG_sumby_ros1ant=readindata(\"r3xC24_3_C24_pseudo_CG_sumby_ros1_only_NEITHERcheck_matVpat_hypo_allC.bed\")\n",
    "C24_pat_3_CHG_sumby_ros1ant=readindata(\"r3xC24_3_C24_pseudo_CHG_sumby_ros1_only_NEITHERcheck_matVpat_hypo_allC.bed\")\n",
    "C24_pat_3_CHH_sumby_ros1ant=readindata(\"r3xC24_3_C24_pseudo_CHH_sumby_ros1_only_NEITHERcheck_matVpat_hypo_allC.bed\")\n",
    "\n",
    "r3_pat_1_CG_sumby_dmedom=readindata(\"C24xr3_1_Col_spiked_CG_sumby_WT_and_ros1_matVpat_hypo_allC.bed\")\n",
    "r3_pat_1_CHG_sumby_dmedom=readindata(\"C24xr3_1_Col_spiked_CHG_sumby_WT_and_ros1_matVpat_hypo_allC.bed\")\n",
    "r3_pat_1_CHH_sumby_dmedom=readindata(\"C24xr3_1_Col_spiked_CHH_sumby_WT_and_ros1_matVpat_hypo_allC.bed\")\n",
    "\n",
    "C24_mat_1_CG_sumby_dmedom=readindata(\"C24xr3_1_C24_pseudo_CG_sumby_WT_and_ros1_matVpat_hypo_allC.bed\")\n",
    "C24_mat_1_CHG_sumby_dmedom=readindata(\"C24xr3_1_C24_pseudo_CHG_sumby_WT_and_ros1_matVpat_hypo_allC.bed\")\n",
    "C24_mat_1_CHH_sumby_dmedom=readindata(\"C24xr3_1_C24_pseudo_CHH_sumby_WT_and_ros1_matVpat_hypo_allC.bed\")\n",
    "\n",
    "r3_pat_2_CG_sumby_dmedom=readindata(\"C24xr3_2_Col_spiked_CG_sumby_WT_and_ros1_matVpat_hypo_allC.bed\")\n",
    "r3_pat_2_CHG_sumby_dmedom=readindata(\"C24xr3_2_Col_spiked_CHG_sumby_WT_and_ros1_matVpat_hypo_allC.bed\")\n",
    "r3_pat_2_CHH_sumby_dmedom=readindata(\"C24xr3_2_Col_spiked_CHH_sumby_WT_and_ros1_matVpat_hypo_allC.bed\")\n",
    "\n",
    "C24_mat_2_CG_sumby_dmedom=readindata(\"C24xr3_2_C24_pseudo_CG_sumby_WT_and_ros1_matVpat_hypo_allC.bed\")\n",
    "C24_mat_2_CHG_sumby_dmedom=readindata(\"C24xr3_2_C24_pseudo_CHG_sumby_WT_and_ros1_matVpat_hypo_allC.bed\")\n",
    "C24_mat_2_CHH_sumby_dmedom=readindata(\"C24xr3_2_C24_pseudo_CHH_sumby_WT_and_ros1_matVpat_hypo_allC.bed\")\n",
    "\n",
    "r3_pat_3_CG_sumby_dmedom=readindata(\"C24xr3_3_Col_spiked_CG_sumby_WT_and_ros1_matVpat_hypo_allC.bed\")\n",
    "r3_pat_3_CHG_sumby_dmedom=readindata(\"C24xr3_3_Col_spiked_CHG_sumby_WT_and_ros1_matVpat_hypo_allC.bed\")\n",
    "r3_pat_3_CHH_sumby_dmedom=readindata(\"C24xr3_3_Col_spiked_CHH_sumby_WT_and_ros1_matVpat_hypo_allC.bed\")\n",
    "\n",
    "C24_mat_3_CG_sumby_dmedom=readindata(\"C24xr3_3_C24_pseudo_CG_sumby_WT_and_ros1_matVpat_hypo_allC.bed\")\n",
    "C24_mat_3_CHG_sumby_dmedom=readindata(\"C24xr3_3_C24_pseudo_CHG_sumby_WT_and_ros1_matVpat_hypo_allC.bed\")\n",
    "C24_mat_3_CHH_sumby_dmedom=readindata(\"C24xr3_3_C24_pseudo_CHH_sumby_WT_and_ros1_matVpat_hypo_allC.bed\")\n",
    "\n",
    "r3_mat_1_CG_sumby_dmedom=readindata(\"r3xC24_1_Col_spiked_CG_sumby_WT_and_ros1_matVpat_hypo_allC.bed\")\n",
    "r3_mat_1_CHG_sumby_dmedom=readindata(\"r3xC24_1_Col_spiked_CHG_sumby_WT_and_ros1_matVpat_hypo_allC.bed\")\n",
    "r3_mat_1_CHH_sumby_dmedom=readindata(\"r3xC24_1_Col_spiked_CHH_sumby_WT_and_ros1_matVpat_hypo_allC.bed\")\n",
    "\n",
    "C24_pat_1_CG_sumby_dmedom=readindata(\"r3xC24_1_C24_pseudo_CG_sumby_WT_and_ros1_matVpat_hypo_allC.bed\")\n",
    "C24_pat_1_CHG_sumby_dmedom=readindata(\"r3xC24_1_C24_pseudo_CHG_sumby_WT_and_ros1_matVpat_hypo_allC.bed\")\n",
    "C24_pat_1_CHH_sumby_dmedom=readindata(\"r3xC24_1_C24_pseudo_CHH_sumby_WT_and_ros1_matVpat_hypo_allC.bed\")\n",
    "\n",
    "r3_mat_2_CG_sumby_dmedom=readindata(\"r3xC24_2_Col_spiked_CG_sumby_WT_and_ros1_matVpat_hypo_allC.bed\")\n",
    "r3_mat_2_CHG_sumby_dmedom=readindata(\"r3xC24_2_Col_spiked_CHG_sumby_WT_and_ros1_matVpat_hypo_allC.bed\")\n",
    "r3_mat_2_CHH_sumby_dmedom=readindata(\"r3xC24_2_Col_spiked_CHH_sumby_WT_and_ros1_matVpat_hypo_allC.bed\")\n",
    "\n",
    "C24_pat_2_CG_sumby_dmedom=readindata(\"r3xC24_2_C24_pseudo_CG_sumby_WT_and_ros1_matVpat_hypo_allC.bed\")\n",
    "C24_pat_2_CHG_sumby_dmedom=readindata(\"r3xC24_2_C24_pseudo_CHG_sumby_WT_and_ros1_matVpat_hypo_allC.bed\")\n",
    "C24_pat_2_CHH_sumby_dmedom=readindata(\"r3xC24_2_C24_pseudo_CHH_sumby_WT_and_ros1_matVpat_hypo_allC.bed\")\n",
    "\n",
    "r3_mat_3_CG_sumby_dmedom=readindata(\"r3xC24_3_Col_spiked_CG_sumby_WT_and_ros1_matVpat_hypo_allC.bed\")\n",
    "r3_mat_3_CHG_sumby_dmedom=readindata(\"r3xC24_3_Col_spiked_CHG_sumby_WT_and_ros1_matVpat_hypo_allC.bed\")\n",
    "r3_mat_3_CHH_sumby_dmedom=readindata(\"r3xC24_3_Col_spiked_CHH_sumby_WT_and_ros1_matVpat_hypo_allC.bed\")\n",
    "\n",
    "C24_pat_3_CG_sumby_dmedom=readindata(\"r3xC24_3_C24_pseudo_CG_sumby_WT_and_ros1_matVpat_hypo_allC.bed\")\n",
    "C24_pat_3_CHG_sumby_dmedom=readindata(\"r3xC24_3_C24_pseudo_CHG_sumby_WT_and_ros1_matVpat_hypo_allC.bed\")\n",
    "C24_pat_3_CHH_sumby_dmedom=readindata(\"r3xC24_3_C24_pseudo_CHH_sumby_WT_and_ros1_matVpat_hypo_allC.bed\")\n"
   ]
  },
  {
   "cell_type": "markdown",
   "id": "1a25228b-ee45-4f73-97f6-2099dba0e71b",
   "metadata": {
    "jp-MarkdownHeadingCollapsed": true,
    "tags": []
   },
   "source": [
    "### make averaged dfs from 1parent data"
   ]
  },
  {
   "cell_type": "code",
   "execution_count": null,
   "id": "20bf7c7e-c6ea-4449-9259-8a83c618148c",
   "metadata": {
    "tags": []
   },
   "outputs": [],
   "source": [
    "def makedatadf(r3_pat1,r3_pat2,r3_pat3,C24_pat1,C24_pat2,C24_pat3,r3_mat1,r3_mat2,r3_mat3,C24_mat1,C24_mat2,C24_mat3):\n",
    "    out=pd.DataFrame()\n",
    "    \n",
    "    r3pat=r3_pat1.merge(r3_pat2, on=['chr','start','end'], how=\"outer\", suffixes=[\"_1\", \"_2\"]).merge(r3_pat3, how=\"outer\")\n",
    "    C24pat=C24_pat1.merge(C24_pat2, on=['chr','start','end'], how=\"outer\", suffixes=[\"_1\", \"_2\"]).merge(C24_pat3, how=\"outer\")\n",
    "    r3mat=r3_mat1.merge(r3_mat2, on=['chr','start','end'], how=\"outer\", suffixes=[\"_1\", \"_2\"]).merge(r3_mat3, how=\"outer\")\n",
    "    C24mat=C24_mat1.merge(C24_mat2, on=['chr','start','end'], how=\"outer\", suffixes=[\"_1\", \"_2\"]).merge(C24_mat3, how=\"outer\")\n",
    "\n",
    "\n",
    "    out['chr']=r3pat['chr']\n",
    "    out['start']=r3pat['start']\n",
    "    out['end']=r3pat['end']\n",
    "    out['avg_methy_r3pat_1']=r3pat['avg_methy_1']\n",
    "    out['nC_r3pat_1']=r3pat['nC_1']\n",
    "    out['avg_methy_r3pat_2']=r3pat['avg_methy_2']\n",
    "    out['nC_r3pat_2']=r3pat['nC_2']\n",
    "    out['avg_methy_r3pat_3']=r3pat['avg_methy']\n",
    "    out['nC_r3pat_3']=r3pat['nC']\n",
    "    \n",
    "    out=out.merge(C24pat, on=['chr','start','end'], how=\"outer\")\n",
    "    out=out.rename(columns={\"avg_methy\": \"avg_methy_C24pat_3\", \"nC\": \"nC_C24pat_3\"})\n",
    "\n",
    "    out=out.merge(r3mat, on=['chr','start','end'], how=\"outer\")\n",
    "    out=out.rename(columns={\"avg_methy\": \"avg_methy_r3mat_3\", \"nC\": \"nC_r3mat_3\"})\n",
    "\n",
    "    out=out.merge(C24mat, on=['chr','start','end'], how=\"outer\")\n",
    "    out=out.rename(columns={\"avg_methy\": \"avg_methy_C24mat_3\", \"nC\": \"nC_C24mat_3\"})\n",
    "\n",
    "    dropNA_data=out.dropna()\n",
    "    return(dropNA_data)\n",
    "    #return(out)\n",
    "    \n",
    "    \n",
    "    "
   ]
  },
  {
   "cell_type": "code",
   "execution_count": null,
   "id": "9f919f31-564a-4410-9764-a936a926964f",
   "metadata": {
    "tags": []
   },
   "outputs": [],
   "source": [
    "r3ant_POI_mCG=makedatadf(r3_pat_1_CG_sumby_ros1ant, r3_pat_2_CG_sumby_ros1ant, r3_pat_3_CG_sumby_ros1ant, \n",
    "                          C24_pat_1_CG_sumby_ros1ant, C24_pat_2_CG_sumby_ros1ant, C24_pat_3_CG_sumby_ros1ant,\n",
    "                          r3_mat_1_CG_sumby_ros1ant, r3_mat_2_CG_sumby_ros1ant, r3_mat_3_CG_sumby_ros1ant, \n",
    "                          C24_mat_1_CG_sumby_ros1ant, C24_mat_2_CG_sumby_ros1ant, C24_mat_3_CG_sumby_ros1ant).set_axis(poi_columns, axis='columns')\n",
    "\n",
    "r3ant_POI_mCG_avg=makeavgdf(r3ant_POI_mCG) \n",
    "r3ant_POI_mCG_avg['DMR class']=\"ROS1-antagonized\""
   ]
  },
  {
   "cell_type": "code",
   "execution_count": null,
   "id": "b0395a0c-93a6-421c-bf75-c3e8e28b3c7d",
   "metadata": {
    "tags": []
   },
   "outputs": [],
   "source": [
    "dmedom_POI_mCG=makedatadf(r3_pat_1_CG_sumby_dmedom, r3_pat_2_CG_sumby_dmedom, r3_pat_3_CG_sumby_dmedom, \n",
    "                          C24_pat_1_CG_sumby_dmedom, C24_pat_2_CG_sumby_dmedom, C24_pat_3_CG_sumby_dmedom,\n",
    "                          r3_mat_1_CG_sumby_dmedom, r3_mat_2_CG_sumby_dmedom, r3_mat_3_CG_sumby_dmedom, \n",
    "                          C24_mat_1_CG_sumby_dmedom, C24_mat_2_CG_sumby_dmedom, C24_mat_3_CG_sumby_dmedom).set_axis(poi_columns, axis='columns')\n",
    "\n",
    "dmedom_POI_mCG_avg=makeavgdf(dmedom_POI_mCG) \n",
    "dmedom_POI_mCG_avg['DMR class']=\"DME-dominant\""
   ]
  },
  {
   "cell_type": "code",
   "execution_count": null,
   "id": "d2177629-6b42-428e-8ff2-c88d1a51b8b3",
   "metadata": {
    "tags": []
   },
   "outputs": [],
   "source": [
    "mathypo_avgmCG=pd.concat([dmedom_POI_mCG_avg,r3ant_POI_mCG_avg])"
   ]
  },
  {
   "cell_type": "code",
   "execution_count": null,
   "id": "ffb8f3e4-a052-4c9d-b9d7-d9e291b0da2f",
   "metadata": {
    "tags": []
   },
   "outputs": [],
   "source": [
    "r3ant_POI_mCHG=makedatadf(r3_pat_1_CHG_sumby_ros1ant, r3_pat_2_CHG_sumby_ros1ant, r3_pat_3_CHG_sumby_ros1ant, \n",
    "                          C24_pat_1_CHG_sumby_ros1ant, C24_pat_2_CHG_sumby_ros1ant, C24_pat_3_CHG_sumby_ros1ant,\n",
    "                          r3_mat_1_CHG_sumby_ros1ant, r3_mat_2_CHG_sumby_ros1ant, r3_mat_3_CHG_sumby_ros1ant, \n",
    "                          C24_mat_1_CHG_sumby_ros1ant, C24_mat_2_CHG_sumby_ros1ant, C24_mat_3_CHG_sumby_ros1ant).set_axis(poi_columns, axis='columns')\n",
    "\n",
    "r3ant_POI_mCHG_avg=makeavgdf(r3ant_POI_mCHG) \n",
    "r3ant_POI_mCHG_avg['DMR class']=\"ROS1-antagonized\""
   ]
  },
  {
   "cell_type": "code",
   "execution_count": null,
   "id": "7899b09c-cb5d-4f76-87cf-b7f68485a38f",
   "metadata": {
    "tags": []
   },
   "outputs": [],
   "source": [
    "dmedom_POI_mCHG=makedatadf(r3_pat_1_CHG_sumby_dmedom, r3_pat_2_CHG_sumby_dmedom, r3_pat_3_CHG_sumby_dmedom, \n",
    "                          C24_pat_1_CHG_sumby_dmedom, C24_pat_2_CHG_sumby_dmedom, C24_pat_3_CHG_sumby_dmedom,\n",
    "                          r3_mat_1_CHG_sumby_dmedom, r3_mat_2_CHG_sumby_dmedom, r3_mat_3_CHG_sumby_dmedom, \n",
    "                          C24_mat_1_CHG_sumby_dmedom, C24_mat_2_CHG_sumby_dmedom, C24_mat_3_CHG_sumby_dmedom).set_axis(poi_columns, axis='columns')\n",
    "\n",
    "dmedom_POI_mCHG_avg=makeavgdf(dmedom_POI_mCHG) \n",
    "dmedom_POI_mCHG_avg['DMR class']=\"DME-dominant\""
   ]
  },
  {
   "cell_type": "code",
   "execution_count": null,
   "id": "ea3c516b-6df2-4ba5-b3d6-58540dea893e",
   "metadata": {
    "tags": []
   },
   "outputs": [],
   "source": [
    "mathypo_avgmCHG=pd.concat([dmedom_POI_mCHG_avg,r3ant_POI_mCHG_avg])\n"
   ]
  },
  {
   "cell_type": "code",
   "execution_count": null,
   "id": "9febeb46-ccfa-48e7-8693-f8f7c1a7fb2f",
   "metadata": {
    "tags": []
   },
   "outputs": [],
   "source": [
    "r3ant_POI_mCHH=makedatadf(r3_pat_1_CHH_sumby_ros1ant, r3_pat_2_CHH_sumby_ros1ant, r3_pat_3_CHH_sumby_ros1ant, \n",
    "                          C24_pat_1_CHH_sumby_ros1ant, C24_pat_2_CHH_sumby_ros1ant, C24_pat_3_CHH_sumby_ros1ant,\n",
    "                          r3_mat_1_CHH_sumby_ros1ant, r3_mat_2_CHH_sumby_ros1ant, r3_mat_3_CHH_sumby_ros1ant, \n",
    "                          C24_mat_1_CHH_sumby_ros1ant, C24_mat_2_CHH_sumby_ros1ant, C24_mat_3_CHH_sumby_ros1ant).set_axis(poi_columns, axis='columns')\n",
    "\n",
    "r3ant_POI_mCHH_avg=makeavgdf(r3ant_POI_mCHH) \n",
    "r3ant_POI_mCHH_avg['DMR class']=\"ROS1-antagonized\"\n",
    "\n",
    "dmedom_POI_mCHH=makedatadf(r3_pat_1_CHH_sumby_dmedom, r3_pat_2_CHH_sumby_dmedom, r3_pat_3_CHH_sumby_dmedom, \n",
    "                          C24_pat_1_CHH_sumby_dmedom, C24_pat_2_CHH_sumby_dmedom, C24_pat_3_CHH_sumby_dmedom,\n",
    "                          r3_mat_1_CHH_sumby_dmedom, r3_mat_2_CHH_sumby_dmedom, r3_mat_3_CHH_sumby_dmedom, \n",
    "                          C24_mat_1_CHH_sumby_dmedom, C24_mat_2_CHH_sumby_dmedom, C24_mat_3_CHH_sumby_dmedom).set_axis(poi_columns, axis='columns')\n",
    "\n",
    "dmedom_POI_mCHH_avg=makeavgdf(dmedom_POI_mCHH) \n",
    "dmedom_POI_mCHH_avg['DMR class']=\"DME-dominant\"\n",
    "\n",
    "mathypo_avgmCHH=pd.concat([dmedom_POI_mCHH_avg,r3ant_POI_mCHH_avg])"
   ]
  },
  {
   "cell_type": "markdown",
   "id": "6029cdb7-fe7a-43ce-9cf0-814c18d66952",
   "metadata": {
    "tags": []
   },
   "source": [
    "### pull back in data from 2 parent ros1"
   ]
  },
  {
   "cell_type": "code",
   "execution_count": null,
   "id": "dde92b28-651e-467e-abf0-14ba92626cdf",
   "metadata": {
    "tags": []
   },
   "outputs": [],
   "source": [
    "r3_pat_1_CG_sumby_ros1ant=readindata(\"r1xr3_1_Col_spiked_CG_sumby_ros1_only_NEITHERcheck_matVpat_hypo_allC.bed\")\n",
    "r3_pat_1_CHG_sumby_ros1ant=readindata(\"r1xr3_1_Col_spiked_CHG_sumby_ros1_only_NEITHERcheck_matVpat_hypo_allC.bed\")\n",
    "r3_pat_1_CHH_sumby_ros1ant=readindata(\"r1xr3_1_Col_spiked_CHH_sumby_ros1_only_NEITHERcheck_matVpat_hypo_allC.bed\")\n",
    "\n",
    "r3_pat_2_CG_sumby_ros1ant=readindata(\"r1xr3_2_Col_spiked_CG_sumby_ros1_only_NEITHERcheck_matVpat_hypo_allC.bed\")\n",
    "r3_pat_2_CHG_sumby_ros1ant=readindata(\"r1xr3_2_Col_spiked_CHG_sumby_ros1_only_NEITHERcheck_matVpat_hypo_allC.bed\")\n",
    "r3_pat_2_CHH_sumby_ros1ant=readindata(\"r1xr3_2_Col_spiked_CHH_sumby_ros1_only_NEITHERcheck_matVpat_hypo_allC.bed\")\n",
    "\n",
    "r3_pat_3_CG_sumby_ros1ant=readindata(\"r1xr3_3_Col_spiked_CG_sumby_ros1_only_NEITHERcheck_matVpat_hypo_allC.bed\")\n",
    "r3_pat_3_CHG_sumby_ros1ant=readindata(\"r1xr3_3_Col_spiked_CHG_sumby_ros1_only_NEITHERcheck_matVpat_hypo_allC.bed\")\n",
    "r3_pat_3_CHH_sumby_ros1ant=readindata(\"r1xr3_3_Col_spiked_CHH_sumby_ros1_only_NEITHERcheck_matVpat_hypo_allC.bed\")\n",
    "\n",
    "\n",
    "C24_mat_1_CG_sumby_ros1ant=readindata(\"C24xCol_1_C24_pseudo_CG_sumby_ros1_only_NEITHERcheck_matVpat_hypo_allC.bed\")\n",
    "C24_mat_1_CHG_sumby_ros1ant=readindata(\"C24xCol_1_C24_pseudo_CHG_sumby_ros1_only_NEITHERcheck_matVpat_hypo_allC.bed\")\n",
    "C24_mat_1_CHH_sumby_ros1ant=readindata(\"C24xCol_1_C24_pseudo_CHH_sumby_ros1_only_NEITHERcheck_matVpat_hypo_allC.bed\")\n",
    "\n",
    "C24_mat_2_CG_sumby_ros1ant=readindata(\"C24xCol_2_C24_pseudo_CG_sumby_ros1_only_NEITHERcheck_matVpat_hypo_allC.bed\")\n",
    "C24_mat_2_CHG_sumby_ros1ant=readindata(\"C24xCol_2_C24_pseudo_CHG_sumby_ros1_only_NEITHERcheck_matVpat_hypo_allC.bed\")\n",
    "C24_mat_2_CHH_sumby_ros1ant=readindata(\"C24xCol_2_C24_pseudo_CHH_sumby_ros1_only_NEITHERcheck_matVpat_hypo_allC.bed\")\n",
    "\n",
    "C24_mat_3_CG_sumby_ros1ant=readindata(\"C24xCol_3_C24_pseudo_CG_sumby_ros1_only_NEITHERcheck_matVpat_hypo_allC.bed\")\n",
    "C24_mat_3_CHG_sumby_ros1ant=readindata(\"C24xCol_3_C24_pseudo_CHG_sumby_ros1_only_NEITHERcheck_matVpat_hypo_allC.bed\")\n",
    "C24_mat_3_CHH_sumby_ros1ant=readindata(\"C24xCol_3_C24_pseudo_CHH_sumby_ros1_only_NEITHERcheck_matVpat_hypo_allC.bed\")\n",
    "\n",
    "\n",
    "r3_mat_1_CG_sumby_ros1ant=readindata(\"r3xr1_1_Col_spiked_CG_sumby_ros1_only_NEITHERcheck_matVpat_hypo_allC.bed\")\n",
    "r3_mat_1_CHG_sumby_ros1ant=readindata(\"r3xr1_1_Col_spiked_CHG_sumby_ros1_only_NEITHERcheck_matVpat_hypo_allC.bed\")\n",
    "r3_mat_1_CHH_sumby_ros1ant=readindata(\"r3xr1_1_Col_spiked_CHH_sumby_ros1_only_NEITHERcheck_matVpat_hypo_allC.bed\")\n",
    "\n",
    "r3_mat_2_CG_sumby_ros1ant=readindata(\"r3xr1_2_Col_spiked_CG_sumby_ros1_only_NEITHERcheck_matVpat_hypo_allC.bed\")\n",
    "r3_mat_2_CHG_sumby_ros1ant=readindata(\"r3xr1_2_Col_spiked_CHG_sumby_ros1_only_NEITHERcheck_matVpat_hypo_allC.bed\")\n",
    "r3_mat_2_CHH_sumby_ros1ant=readindata(\"r3xr1_2_Col_spiked_CHH_sumby_ros1_only_NEITHERcheck_matVpat_hypo_allC.bed\")\n",
    "\n",
    "r3_mat_3_CG_sumby_ros1ant=readindata(\"r3xr1_3_Col_spiked_CG_sumby_ros1_only_NEITHERcheck_matVpat_hypo_allC.bed\")\n",
    "r3_mat_3_CHG_sumby_ros1ant=readindata(\"r3xr1_3_Col_spiked_CHG_sumby_ros1_only_NEITHERcheck_matVpat_hypo_allC.bed\")\n",
    "r3_mat_3_CHH_sumby_ros1ant=readindata(\"r3xr1_3_Col_spiked_CHH_sumby_ros1_only_NEITHERcheck_matVpat_hypo_allC.bed\")\n",
    "\n",
    "\n",
    "C24_pat_1_CG_sumby_ros1ant=readindata(\"ColxC24_1_C24_pseudo_CG_sumby_ros1_only_NEITHERcheck_matVpat_hypo_allC.bed\")\n",
    "C24_pat_1_CHG_sumby_ros1ant=readindata(\"ColxC24_1_C24_pseudo_CHG_sumby_ros1_only_NEITHERcheck_matVpat_hypo_allC.bed\")\n",
    "C24_pat_1_CHH_sumby_ros1ant=readindata(\"ColxC24_1_C24_pseudo_CHH_sumby_ros1_only_NEITHERcheck_matVpat_hypo_allC.bed\")\n",
    "\n",
    "C24_pat_2_CG_sumby_ros1ant=readindata(\"ColxC24_2_C24_pseudo_CG_sumby_ros1_only_NEITHERcheck_matVpat_hypo_allC.bed\")\n",
    "C24_pat_2_CHG_sumby_ros1ant=readindata(\"ColxC24_2_C24_pseudo_CHG_sumby_ros1_only_NEITHERcheck_matVpat_hypo_allC.bed\")\n",
    "C24_pat_2_CHH_sumby_ros1ant=readindata(\"ColxC24_2_C24_pseudo_CHH_sumby_ros1_only_NEITHERcheck_matVpat_hypo_allC.bed\")\n",
    "\n",
    "C24_pat_3_CG_sumby_ros1ant=readindata(\"ColxC24_3_C24_pseudo_CG_sumby_ros1_only_NEITHERcheck_matVpat_hypo_allC.bed\")\n",
    "C24_pat_3_CHG_sumby_ros1ant=readindata(\"ColxC24_3_C24_pseudo_CHG_sumby_ros1_only_NEITHERcheck_matVpat_hypo_allC.bed\")\n",
    "C24_pat_3_CHH_sumby_ros1ant=readindata(\"ColxC24_3_C24_pseudo_CHH_sumby_ros1_only_NEITHERcheck_matVpat_hypo_allC.bed\")\n",
    "\n",
    "\n",
    "\n",
    "Col_mat_1_CG_sumby_ros1ant=readindata(\"ColxC24_1_Col_spiked_CG_sumby_ros1_only_NEITHERcheck_matVpat_hypo_allC.bed\")\n",
    "Col_mat_1_CHG_sumby_ros1ant=readindata(\"ColxC24_1_Col_spiked_CHG_sumby_ros1_only_NEITHERcheck_matVpat_hypo_allC.bed\")\n",
    "Col_mat_1_CHH_sumby_ros1ant=readindata(\"ColxC24_1_Col_spiked_CHH_sumby_ros1_only_NEITHERcheck_matVpat_hypo_allC.bed\")\n",
    "\n",
    "Col_mat_2_CG_sumby_ros1ant=readindata(\"ColxC24_2_Col_spiked_CG_sumby_ros1_only_NEITHERcheck_matVpat_hypo_allC.bed\")\n",
    "Col_mat_2_CHG_sumby_ros1ant=readindata(\"ColxC24_2_Col_spiked_CHG_sumby_ros1_only_NEITHERcheck_matVpat_hypo_allC.bed\")\n",
    "Col_mat_2_CHH_sumby_ros1ant=readindata(\"ColxC24_2_Col_spiked_CHH_sumby_ros1_only_NEITHERcheck_matVpat_hypo_allC.bed\")\n",
    "\n",
    "Col_mat_3_CG_sumby_ros1ant=readindata(\"ColxC24_3_Col_spiked_CG_sumby_ros1_only_NEITHERcheck_matVpat_hypo_allC.bed\")\n",
    "Col_mat_3_CHG_sumby_ros1ant=readindata(\"ColxC24_3_Col_spiked_CHG_sumby_ros1_only_NEITHERcheck_matVpat_hypo_allC.bed\")\n",
    "Col_mat_3_CHH_sumby_ros1ant=readindata(\"ColxC24_3_Col_spiked_CHH_sumby_ros1_only_NEITHERcheck_matVpat_hypo_allC.bed\")\n",
    "\n",
    "\n",
    "Col_pat_1_CG_sumby_ros1ant=readindata(\"C24xCol_1_Col_spiked_CG_sumby_ros1_only_NEITHERcheck_matVpat_hypo_allC.bed\")\n",
    "Col_pat_1_CHG_sumby_ros1ant=readindata(\"C24xCol_1_Col_spiked_CHG_sumby_ros1_only_NEITHERcheck_matVpat_hypo_allC.bed\")\n",
    "Col_pat_1_CHH_sumby_ros1ant=readindata(\"C24xCol_1_Col_spiked_CHH_sumby_ros1_only_NEITHERcheck_matVpat_hypo_allC.bed\")\n",
    "\n",
    "Col_pat_2_CG_sumby_ros1ant=readindata(\"C24xCol_2_Col_spiked_CG_sumby_ros1_only_NEITHERcheck_matVpat_hypo_allC.bed\")\n",
    "Col_pat_2_CHG_sumby_ros1ant=readindata(\"C24xCol_2_Col_spiked_CHG_sumby_ros1_only_NEITHERcheck_matVpat_hypo_allC.bed\")\n",
    "Col_pat_2_CHH_sumby_ros1ant=readindata(\"C24xCol_2_Col_spiked_CHH_sumby_ros1_only_NEITHERcheck_matVpat_hypo_allC.bed\")\n",
    "\n",
    "Col_pat_3_CG_sumby_ros1ant=readindata(\"C24xCol_3_Col_spiked_CG_sumby_ros1_only_NEITHERcheck_matVpat_hypo_allC.bed\")\n",
    "Col_pat_3_CHG_sumby_ros1ant=readindata(\"C24xCol_3_Col_spiked_CHG_sumby_ros1_only_NEITHERcheck_matVpat_hypo_allC.bed\")\n",
    "Col_pat_3_CHH_sumby_ros1ant=readindata(\"C24xCol_3_Col_spiked_CHH_sumby_ros1_only_NEITHERcheck_matVpat_hypo_allC.bed\")\n"
   ]
  },
  {
   "cell_type": "code",
   "execution_count": null,
   "id": "f2bcfb4a-9a20-4eca-bc45-d3754e3c623b",
   "metadata": {
    "tags": []
   },
   "outputs": [],
   "source": [
    "r3ant_POI_mCG=makedatadf(r3_pat_1_CG_sumby_ros1ant, r3_pat_2_CG_sumby_ros1ant, r3_pat_3_CG_sumby_ros1ant, \n",
    "                          C24_pat_1_CG_sumby_ros1ant, C24_pat_2_CG_sumby_ros1ant, C24_pat_3_CG_sumby_ros1ant,\n",
    "                          r3_mat_1_CG_sumby_ros1ant, r3_mat_2_CG_sumby_ros1ant, r3_mat_3_CG_sumby_ros1ant, \n",
    "                          C24_mat_1_CG_sumby_ros1ant, C24_mat_2_CG_sumby_ros1ant, C24_mat_3_CG_sumby_ros1ant).set_axis(poi_columns, axis='columns')\n",
    "\n",
    "r3ant_POI_mCG_avg=makeavgdf(r3ant_POI_mCG).set_axis(['chr','start','end','r3_pat','C24_pat','r3_mat','C24_mat'], axis=\"columns\")"
   ]
  },
  {
   "cell_type": "code",
   "execution_count": null,
   "id": "d9bdb2fa-abb9-455d-bfdb-12124532edaf",
   "metadata": {
    "tags": []
   },
   "outputs": [],
   "source": [
    "CG_f1_data_merge=r3ant_POI_mCG_avg.merge(mathypo_avgmCG.drop(labels=['DMR class'], axis=1), on= ['chr','start','end'])"
   ]
  },
  {
   "cell_type": "code",
   "execution_count": null,
   "id": "5954ed79-5eea-450b-890a-226c385f554a",
   "metadata": {
    "tags": []
   },
   "outputs": [],
   "source": [
    "r3ant_POI_mCHG=makedatadf(r3_pat_1_CHG_sumby_ros1ant, r3_pat_2_CHG_sumby_ros1ant, r3_pat_3_CHG_sumby_ros1ant, \n",
    "                          C24_pat_1_CHG_sumby_ros1ant, C24_pat_2_CHG_sumby_ros1ant, C24_pat_3_CHG_sumby_ros1ant,\n",
    "                          r3_mat_1_CHG_sumby_ros1ant, r3_mat_2_CHG_sumby_ros1ant, r3_mat_3_CHG_sumby_ros1ant, \n",
    "                          C24_mat_1_CHG_sumby_ros1ant, C24_mat_2_CHG_sumby_ros1ant, C24_mat_3_CHG_sumby_ros1ant).set_axis(poi_columns, axis='columns')\n",
    "\n",
    "r3ant_POI_mCHG_avg=makeavgdf(r3ant_POI_mCHG).set_axis(['chr','start','end','r3_pat','C24_pat','r3_mat','C24_mat'], axis=\"columns\")"
   ]
  },
  {
   "cell_type": "code",
   "execution_count": null,
   "id": "44026a78-e445-494d-8f7c-e716564abafb",
   "metadata": {
    "tags": []
   },
   "outputs": [],
   "source": [
    "CHG_f1_data_merge=r3ant_POI_mCHG_avg.merge(mathypo_avgmCHG.drop(labels=['DMR class'], axis=1), on= ['chr','start','end'])"
   ]
  },
  {
   "cell_type": "code",
   "execution_count": null,
   "id": "b32aa224-a4b3-4bbf-9743-44af220d9e3e",
   "metadata": {
    "tags": []
   },
   "outputs": [],
   "source": [
    "r3ant_POI_mCHH=makedatadf(r3_pat_1_CHH_sumby_ros1ant, r3_pat_2_CHH_sumby_ros1ant, r3_pat_3_CHH_sumby_ros1ant, \n",
    "                          C24_pat_1_CHH_sumby_ros1ant, C24_pat_2_CHH_sumby_ros1ant, C24_pat_3_CHH_sumby_ros1ant,\n",
    "                          r3_mat_1_CHH_sumby_ros1ant, r3_mat_2_CHH_sumby_ros1ant, r3_mat_3_CHH_sumby_ros1ant, \n",
    "                          C24_mat_1_CHH_sumby_ros1ant, C24_mat_2_CHH_sumby_ros1ant, C24_mat_3_CHH_sumby_ros1ant).set_axis(poi_columns, axis='columns')\n",
    "\n",
    "r3ant_POI_mCHH_avg=makeavgdf(r3ant_POI_mCHH).set_axis(['chr','start','end','r3_pat','C24_pat','r3_mat','C24_mat'], axis=\"columns\")"
   ]
  },
  {
   "cell_type": "code",
   "execution_count": null,
   "id": "d14ed041-788c-4d2c-a3fb-4926896cf254",
   "metadata": {
    "tags": []
   },
   "outputs": [],
   "source": [
    "CHH_f1_data_merge=r3ant_POI_mCHH_avg.merge(mathypo_avgmCHH.drop(labels=['DMR class'], axis=1), on= ['chr','start','end'])"
   ]
  },
  {
   "cell_type": "markdown",
   "id": "be288ff6-023d-4cbc-b6de-72e016b479ed",
   "metadata": {
    "tags": []
   },
   "source": [
    "### scatterplot figures"
   ]
  },
  {
   "cell_type": "code",
   "execution_count": null,
   "id": "e360f340-eef5-41ff-8ae3-eb1917701b3a",
   "metadata": {
    "tags": []
   },
   "outputs": [],
   "source": [
    "scatter_dmrmatpat(CG_f1_data_merge, x=\"C24xr3_mat\", y=\"C24_mat\", xlabel=\"C24xr3 maternal allele mCG\", ylabel=\"C24xCol maternal allele mCG\", hue=None,correlate=True, left_text=False, saveas=figurepath+\"C24mat_F1s_mCG_in_ros1ant_scatter.png\")\n"
   ]
  },
  {
   "cell_type": "code",
   "execution_count": null,
   "id": "91e27e30-e6e1-4041-b163-b8a195f3d9f1",
   "metadata": {
    "tags": []
   },
   "outputs": [],
   "source": [
    "scatter_dmrmatpat(CG_f1_data_merge, x=\"C24xr3_mat\", y=\"C24_mat\", xlabel=\"C24xr3 maternal allele mCG\", ylabel=\"C24xCol maternal allele mCG\", hue=None,correlate=True, left_text=False, saveas=figurepath+\"C24mat_F1s_mCG_in_ros1ant_scatter.png\")\n"
   ]
  },
  {
   "cell_type": "code",
   "execution_count": null,
   "id": "e426b44f-f68f-4190-98cd-a847a5b50ec4",
   "metadata": {
    "tags": []
   },
   "outputs": [],
   "source": [
    "scatter_dmrmatpat(CG_f1_data_merge, x=\"r3xC24_pat\", y=\"C24_pat\", xlabel=\"r3xC24 paternal allele mCG\", ylabel=\"ColxC24 paternal allele mCG\", hue=None,correlate=True, left_text=False, saveas=figurepath+\"C24pat_F1s_mCG_in_ros1ant_scatter.png\")\n"
   ]
  },
  {
   "cell_type": "code",
   "execution_count": null,
   "id": "46fa0815-93be-4911-a831-b88858c26901",
   "metadata": {
    "tags": []
   },
   "outputs": [],
   "source": [
    "scatter_dmrmatpat(CG_f1_data_merge, x=\"r3xC24_mat\", y=\"r3_mat\", xlabel=\"r3xC24 maternal allele mCG\", ylabel=\"r3xr1 maternal allele mCG\", hue=None,correlate=True, left_text=False, saveas=figurepath+\"r3mat_F1s_mCG_in_ros1ant_scatter.png\")\n"
   ]
  },
  {
   "cell_type": "code",
   "execution_count": null,
   "id": "279f492e-5157-49b8-ad9c-28351a2ab186",
   "metadata": {
    "tags": []
   },
   "outputs": [],
   "source": [
    "scatter_dmrmatpat(CG_f1_data_merge, x=\"C24xr3_pat\", y=\"r3_pat\", xlabel=\"C24xr3 paternal allele mCG\", ylabel=\"r1xr3 paternal allele mCG\", hue=None,correlate=True, left_text=False, saveas=figurepath+\"r3pat_F1s_mCG_in_ros1ant_scatter.png\")\n"
   ]
  },
  {
   "cell_type": "code",
   "execution_count": null,
   "id": "257e13b0-a258-4e87-8f79-d38fa62db291",
   "metadata": {
    "tags": []
   },
   "outputs": [],
   "source": [
    "#Filter regions of interest for browsing\n",
    "f1_data_merge_1pt5diffpat=f1_data_merge[(f1_data_merge[\"r3_pat\"]/f1_data_merge[\"C24xr3_pat\"])>1.5]\n",
    "\n",
    "f1_data_merge_1pt25diffpat=f1_data_merge[(f1_data_merge[\"r3_pat\"]/f1_data_merge[\"C24xr3_pat\"])>1.25]\n",
    "\n",
    "make_bed(f1_data_merge_1pt5diffpat, figurepath+\"f1_r1r3pat_greaterthan_C24r3pat_1pt5diff.bed\")\n",
    "make_bed(f1_data_merge_1pt25diffpat, figurepath+\"f1_r1r3pat_greaterthan_C24r3pat_1pt25diff.bed\")\n"
   ]
  },
  {
   "cell_type": "code",
   "execution_count": null,
   "id": "801024bb-8def-4057-92db-c1a7b67a22da",
   "metadata": {
    "tags": []
   },
   "outputs": [],
   "source": []
  },
  {
   "cell_type": "code",
   "execution_count": null,
   "id": "a263ac29-8931-4dcd-b7eb-c64fa93a2471",
   "metadata": {
    "tags": []
   },
   "outputs": [],
   "source": [
    "scatter_dmrmatpat(CHG_f1_data_merge, x=\"C24xr3_mat\", y=\"C24_mat\", xlabel=\"C24xr3 mat avg mCHG\", ylabel=\"C24xCol mat avg mCHG\", hue=None,correlate=True, left_text=False, saveas=figurepath+\"C24mat_F1s_mCHG_in_ros1ant_scatter.png\")\n"
   ]
  },
  {
   "cell_type": "code",
   "execution_count": null,
   "id": "d27e07dd-ec1a-4e64-9422-3ed98e1f0009",
   "metadata": {
    "tags": []
   },
   "outputs": [],
   "source": [
    "scatter_dmrmatpat(CHG_f1_data_merge, x=\"r3xC24_pat\", y=\"C24_pat\", xlabel=\"r3xC24 pat avg mCHG\", ylabel=\"ColxC24 pat avg mCHG\", hue=None,correlate=True, left_text=False, saveas=figurepath+\"C24pat_F1s_mCHG_in_ros1ant_scatter.png\")\n"
   ]
  },
  {
   "cell_type": "code",
   "execution_count": null,
   "id": "c212a8fe-ac35-444c-a306-01d945124dae",
   "metadata": {
    "tags": []
   },
   "outputs": [],
   "source": [
    "scatter_dmrmatpat(CHG_f1_data_merge, x=\"r3xC24_mat\", y=\"r3_mat\", xlabel=\"r3xC24 mat avg mCHG\", ylabel=\"r3xr1 mat avg mCHG\", hue=None,correlate=True, left_text=False, saveas=figurepath+\"r3mat_F1s_mCHG_in_ros1ant_scatter.png\")\n"
   ]
  },
  {
   "cell_type": "code",
   "execution_count": null,
   "id": "33c060ad-6ecb-4f6b-b6b3-724314978a27",
   "metadata": {
    "tags": []
   },
   "outputs": [],
   "source": [
    "scatter_dmrmatpat(CHG_f1_data_merge, x=\"C24xr3_pat\", y=\"r3_pat\", xlabel=\"C24xr3 pat avg mCHG\", ylabel=\"r1xr3 pat avg mCHG\", hue=None,correlate=True, left_text=False, saveas=figurepath+\"r3pat_F1s_mCHG_in_ros1ant_scatter.png\")\n"
   ]
  },
  {
   "cell_type": "code",
   "execution_count": null,
   "id": "65cb0cff-27dd-40fe-8e28-dcf99a800df2",
   "metadata": {
    "tags": []
   },
   "outputs": [],
   "source": [
    "scatter_dmrmatpat(CHH_f1_data_merge, x=\"C24xr3_mat\", y=\"C24_mat\", xlabel=\"C24xr3 mat avg mCHH\", ylabel=\"C24xCol mat avg mCHH\", hue=None,correlate=True, left_text=False, saveas=figurepath+\"C24mat_F1s_mCHH_in_ros1ant_scatter.png\")\n"
   ]
  },
  {
   "cell_type": "code",
   "execution_count": null,
   "id": "656698bd-43e4-4285-80a3-875a40b2269a",
   "metadata": {
    "tags": []
   },
   "outputs": [],
   "source": [
    "scatter_dmrmatpat(CHH_f1_data_merge, x=\"r3xC24_pat\", y=\"C24_pat\", xlabel=\"r3xC24 pat avg mCHH\", ylabel=\"ColxC24 pat avg mCHH\", hue=None,correlate=True, left_text=False, saveas=figurepath+\"C24pat_F1s_mCHH_in_ros1ant_scatter.png\")\n"
   ]
  },
  {
   "cell_type": "code",
   "execution_count": null,
   "id": "3a4d8f37-4e6c-40df-8f51-d0f18c2d4f98",
   "metadata": {
    "tags": []
   },
   "outputs": [],
   "source": [
    "scatter_dmrmatpat(CHH_f1_data_merge, x=\"r3xC24_mat\", y=\"r3_mat\", xlabel=\"r3xC24 mat avg mCHH\", ylabel=\"r3xr1 mat avg mCHH\", hue=None,correlate=True, left_text=False, saveas=figurepath+\"r3mat_F1s_mCHH_in_ros1ant_scatter.png\")\n"
   ]
  },
  {
   "cell_type": "code",
   "execution_count": null,
   "id": "6774318c-c5be-429d-8316-8ec959b0b8ed",
   "metadata": {
    "tags": []
   },
   "outputs": [],
   "source": [
    "scatter_dmrmatpat(CHH_f1_data_merge, x=\"C24xr3_pat\", y=\"r3_pat\", xlabel=\"C24xr3 pat avg mCHH\", ylabel=\"r1xr3 pat avg mCHH\", hue=None,correlate=True, left_text=False, saveas=figurepath+\"r3pat_F1s_mCHH_in_ros1ant_scatter.png\")\n"
   ]
  },
  {
   "cell_type": "markdown",
   "id": "5e9188ec-4cae-4629-9916-1a281a395d6a",
   "metadata": {
    "tags": []
   },
   "source": [
    "## summed mat-hypo DMRs"
   ]
  },
  {
   "cell_type": "code",
   "execution_count": null,
   "id": "07c6c8d2-25ab-48be-82c3-dd601f9616dc",
   "metadata": {
    "tags": []
   },
   "outputs": [],
   "source": [
    "colG_columns=['chr','start','end','r1xr3_1_pat','nC_r1xr3_1_pat','r1xr3_2_pat','nC_r1xr3_2_pat','r1xr3_3_pat','nC_r1xr3_3_pat',\n",
    "             'C24xCol_1_pat','nC_C24xCol_1_pat','C24xCol_2_pat','nC_C24xCol_2_pat','C24xCol_3_pat','nC_C24xCol_3_pat',\n",
    "             'ColxC24_1_mat','nC_ColxC24_1_mat','ColxC24_2_mat','nC_ColxC24_2_mat','ColxC24_3_mat','nC_ColxC24_3_mat',\n",
    "             'r3xr1_1_mat','nC_r3xr1_1_mat','r3xr1_2_mat','nC_r3xr1_2_mat','r3xr1_3_mat','nC_r3xr1_2_mat']"
   ]
  },
  {
   "cell_type": "code",
   "execution_count": null,
   "id": "d7e8e524-35c3-489f-94cf-0ee121f491ac",
   "metadata": {
    "tags": []
   },
   "outputs": [],
   "source": [
    "r3ant_colG_mCG=makedatadf(r3_pat_1_CG_sumby_ros1ant, r3_pat_2_CG_sumby_ros1ant, r3_pat_3_CG_sumby_ros1ant, \n",
    "                          Col_pat_1_CG_sumby_ros1ant, Col_pat_2_CG_sumby_ros1ant, Col_pat_3_CG_sumby_ros1ant,\n",
    "                          r3_mat_1_CG_sumby_ros1ant, r3_mat_2_CG_sumby_ros1ant, r3_mat_3_CG_sumby_ros1ant, \n",
    "                          Col_mat_1_CG_sumby_ros1ant, Col_mat_2_CG_sumby_ros1ant, Col_mat_3_CG_sumby_ros1ant).set_axis(colG_columns, axis='columns')\n",
    "\n",
    "r3ant_colG_mCHG=makedatadf(r3_pat_1_CHG_sumby_ros1ant, r3_pat_2_CHG_sumby_ros1ant, r3_pat_3_CHG_sumby_ros1ant, \n",
    "                          Col_pat_1_CHG_sumby_ros1ant, Col_pat_2_CHG_sumby_ros1ant, Col_pat_3_CHG_sumby_ros1ant,\n",
    "                          r3_mat_1_CHG_sumby_ros1ant, r3_mat_2_CHG_sumby_ros1ant, r3_mat_3_CHG_sumby_ros1ant, \n",
    "                          Col_mat_1_CHG_sumby_ros1ant, Col_mat_2_CHG_sumby_ros1ant, Col_mat_3_CHG_sumby_ros1ant).set_axis(colG_columns, axis='columns')\n",
    "\n",
    "r3ant_colG_mCHH=makedatadf(r3_pat_1_CHH_sumby_ros1ant, r3_pat_2_CHH_sumby_ros1ant, r3_pat_3_CHH_sumby_ros1ant, \n",
    "                          Col_pat_1_CHH_sumby_ros1ant, Col_pat_2_CHH_sumby_ros1ant, Col_pat_3_CHH_sumby_ros1ant,\n",
    "                          r3_mat_1_CHH_sumby_ros1ant, r3_mat_2_CHH_sumby_ros1ant, r3_mat_3_CHH_sumby_ros1ant, \n",
    "                          Col_mat_1_CHH_sumby_ros1ant, Col_mat_2_CHH_sumby_ros1ant, Col_mat_3_CHH_sumby_ros1ant).set_axis(colG_columns, axis='columns')"
   ]
  },
  {
   "cell_type": "code",
   "execution_count": null,
   "id": "960a894f-7861-4700-b3a9-374d69ecb00f",
   "metadata": {},
   "outputs": [],
   "source": [
    "sumpath=path+\"sumby_features/sperm_sumby_mathypo_dmrs/\""
   ]
  },
  {
   "cell_type": "code",
   "execution_count": null,
   "id": "933227fd-d00a-4a6f-a341-877e37e2b295",
   "metadata": {
    "tags": []
   },
   "outputs": [],
   "source": [
    "r3_sc_1_CG_sumby_ros1ant=readindata(\"ros1_sc_1_all_CpG_min5_CGcon_pass_fixed_sumby_ros1_only_NEITHERcheck_matVpat_hypo_allC.bed\")\n",
    "r3_sc_1_CHG_sumby_ros1ant=readindata(\"ros1_sc_1_all_CHG_min5_sumby_ros1_only_NEITHERcheck_matVpat_hypo_allC.bed\")\n",
    "r3_sc_1_CHH_sumby_ros1ant=readindata(\"ros1_sc_1_all_CHH_min5_sumby_ros1_only_NEITHERcheck_matVpat_hypo_allC.bed\")\n",
    "\n",
    "r3_sc_2_CG_sumby_ros1ant=readindata(\"ros1_sc_2_all_CpG_min5_CGcon_pass_fixed_sumby_ros1_only_NEITHERcheck_matVpat_hypo_allC.bed\")\n",
    "r3_sc_2_CHG_sumby_ros1ant=readindata(\"ros1_sc_2_all_CHG_min5_sumby_ros1_only_NEITHERcheck_matVpat_hypo_allC.bed\")\n",
    "r3_sc_2_CHH_sumby_ros1ant=readindata(\"ros1_sc_2_all_CHH_min5_sumby_ros1_only_NEITHERcheck_matVpat_hypo_allC.bed\")\n",
    "\n",
    "wt_sc_1_CG_sumby_ros1ant=readindata(\"wt_sc_1_all_CpG_min5_CGcon_pass_fixed_sumby_ros1_only_NEITHERcheck_matVpat_hypo_allC.bed\")\n",
    "wt_sc_1_CHG_sumby_ros1ant=readindata(\"wt_sc_1_all_CHG_min5_sumby_ros1_only_NEITHERcheck_matVpat_hypo_allC.bed\")\n",
    "wt_sc_1_CHH_sumby_ros1ant=readindata(\"wt_sc_1_all_CHH_min5_sumby_ros1_only_NEITHERcheck_matVpat_hypo_allC.bed\")\n",
    "\n",
    "wt_sc_2_CG_sumby_ros1ant=readindata(\"wt_sc_2_all_CpG_min5_CGcon_pass_fixed_sumby_ros1_only_NEITHERcheck_matVpat_hypo_allC.bed\")\n",
    "wt_sc_2_CHG_sumby_ros1ant=readindata(\"wt_sc_2_all_CHG_min5_sumby_ros1_only_NEITHERcheck_matVpat_hypo_allC.bed\")\n",
    "wt_sc_2_CHH_sumby_ros1ant=readindata(\"wt_sc_2_all_CHH_min5_sumby_ros1_only_NEITHERcheck_matVpat_hypo_allC.bed\")\n"
   ]
  },
  {
   "cell_type": "code",
   "execution_count": null,
   "id": "6e2acf07-0026-4242-b1cf-a1f02daa192a",
   "metadata": {
    "tags": []
   },
   "outputs": [],
   "source": [
    "def makedatadf_sperm(r3_sc1,r3_sc2,wt_sc1,wt_sc2):\n",
    "    out=pd.DataFrame()\n",
    "    \n",
    "    r3sc=r3_sc1.merge(r3_sc2, on=['chr','start','end'], how=\"outer\", suffixes=[\"_1\", \"_2\"])\n",
    "    wtsc=wt_sc1.merge(wt_sc2, on=['chr','start','end'], how=\"outer\", suffixes=[\"_1\", \"_2\"])\n",
    "    \n",
    "    out['chr']=r3sc['chr']\n",
    "    out['start']=r3sc['start']\n",
    "    out['end']=r3sc['end']\n",
    "    out['avg_methy_r3sc_1']=r3sc['avg_methy_1']\n",
    "    out['nC_r3sc_1']=r3sc['nC_1']\n",
    "    out['avg_methy_r3sc_2']=r3sc['avg_methy_2']\n",
    "    out['nC_r3sc_2']=r3sc['nC_2']\n",
    "\n",
    "    out=out.merge(wtsc, on=['chr','start','end'], how=\"outer\")\n",
    "    out=out.rename(columns={\"avg_methy_1\": \"avg_methy_wtsc_1\", \"nC_1\": \"nC_wtsc_1\", \"avg_methy_2\": \"avg_methy_wtsc_2\", \"nC_2\": \"nC_wtsc_2\"})\n",
    "\n",
    "    dropNA_data=out.dropna()\n",
    "    return(dropNA_data)\n",
    "    #return(out)\n",
    "    \n",
    "def makeavgdf_sperm(datadf):\n",
    "    bed=['chr','start','end']\n",
    "    avgdf = datadf[bed].copy()\n",
    "    avgdf['r3_sc']=((datadf['avg_methy_r3sc_1']+datadf['avg_methy_r3sc_2'])/2)\n",
    "    avgdf['r3_sc_totalnC']=(datadf['nC_r3sc_1']+datadf['nC_r3sc_2'])\n",
    "    avgdf['wt_sc']=((datadf['avg_methy_wtsc_1']+datadf['avg_methy_wtsc_2'])/2)\n",
    "    avgdf['wt_sc_totalnC']=(datadf['nC_wtsc_1']+datadf['nC_wtsc_2'])\n",
    "    return (avgdf)\n",
    "   "
   ]
  },
  {
   "cell_type": "code",
   "execution_count": null,
   "id": "0af886f7-f67a-41fd-bd28-28d7b4fd33f0",
   "metadata": {
    "tags": []
   },
   "outputs": [],
   "source": [
    "sperm_CG_ros1_ant=makedatadf_sperm(r3_sc_1_CG_sumby_ros1ant,r3_sc_2_CG_sumby_ros1ant,wt_sc_1_CG_sumby_ros1ant,wt_sc_2_CG_sumby_ros1ant)\n",
    "\n",
    "sperm_ColG_CG_ros1_ant=sperm_CG_ros1_ant.merge(r3ant_colG_mCG, on=['chr','start','end'], how=\"left\")"
   ]
  },
  {
   "cell_type": "code",
   "execution_count": null,
   "id": "b114135e-7b65-4021-8f7a-1aabc2887644",
   "metadata": {
    "tags": []
   },
   "outputs": [],
   "source": [
    "sperm_CHG_ros1_ant=makedatadf_sperm(r3_sc_1_CHG_sumby_ros1ant,r3_sc_2_CHG_sumby_ros1ant,wt_sc_1_CHG_sumby_ros1ant,wt_sc_2_CHG_sumby_ros1ant)\n",
    "\n",
    "sperm_ColG_CHG_ros1_ant=sperm_CHG_ros1_ant.merge(r3ant_colG_mCHG, on=['chr','start','end'], how=\"left\")"
   ]
  },
  {
   "cell_type": "code",
   "execution_count": null,
   "id": "a14ba143-bacf-441f-8f76-d1ea7abeb4be",
   "metadata": {
    "tags": []
   },
   "outputs": [],
   "source": [
    "sperm_CHH_ros1_ant=makedatadf_sperm(r3_sc_1_CHH_sumby_ros1ant,r3_sc_2_CHH_sumby_ros1ant,wt_sc_1_CHH_sumby_ros1ant,wt_sc_2_CHH_sumby_ros1ant)\n",
    "\n",
    "sperm_ColG_CHH_ros1_ant=sperm_CHH_ros1_ant.merge(r3ant_colG_mCHH, on=['chr','start','end'], how=\"left\")"
   ]
  },
  {
   "cell_type": "code",
   "execution_count": null,
   "id": "b8f3c4f3-56fe-40b4-b703-6e6e7664ce25",
   "metadata": {
    "tags": []
   },
   "outputs": [],
   "source": [
    "sperm_ColG_ros1_ant_dict={\"Col mat 1\":'ColxC24_1_mat',\"Col mat 2\":'ColxC24_2_mat',\"Col mat 3\":'ColxC24_3_mat',\n",
    "\"r3 mat 1\":'r3xr1_1_mat',\"r3 mat 2\":'r3xr1_2_mat',\"r3 mat 3\":'r3xr1_3_mat',\n",
    "\"Col pat 1\":'C24xCol_1_pat',\"Col pat 2\":'C24xCol_2_pat',\"Col pat 3\": 'C24xCol_3_pat',\n",
    "\"r3 pat 1\":'r1xr3_1_pat',\"r3 pat 2\":'r1xr3_2_pat',\"r3 pat 3\":'r1xr3_3_pat',\n",
    "'Col sperm 1':'avg_methy_wtsc_1','Col sperm 2':'avg_methy_wtsc_2','r3 sperm 1':'avg_methy_r3sc_1','r3 sperm 2':'avg_methy_r3sc_2' }\n",
    "\n",
    "sperm_ColG_ros1_ant_1rep_dict={\"Col mat 1\":'ColxC24_1_mat',\"r3 mat 1\":'r3xr1_1_mat',\"Col pat 1\":'C24xCol_1_pat',\"r3 pat 1\":'r1xr3_1_pat','Col sperm 1':'avg_methy_wtsc_1','r3 sperm 1':'avg_methy_r3sc_1'}"
   ]
  },
  {
   "cell_type": "code",
   "execution_count": null,
   "id": "748d2caf-3d8d-4cad-b658-4cf5045c318c",
   "metadata": {
    "tags": []
   },
   "outputs": [],
   "source": [
    "fig,ax=sumby_boxplot(sperm_ColG_CG_ros1_ant,sperm_ColG_ros1_ant_dict,\"CG\")\n",
    "ax.tick_params(axis='x', labelsize=15, labelrotation=35)\n",
    "fig.set_size_inches(10,6)\n",
    "plt.tight_layout()\n",
    "plt.savefig(figurepath+'ros1_ant_sumbymCG_sperm_ColG_allreps.pdf', dpi=350)\n"
   ]
  },
  {
   "cell_type": "code",
   "execution_count": null,
   "id": "e0afba84-afe4-4039-8285-fcca9d2b243f",
   "metadata": {
    "tags": []
   },
   "outputs": [],
   "source": [
    "fig,ax=sumby_boxplot(sperm_ColG_CG_ros1_ant,sperm_ColG_ros1_ant_1rep_dict,\"CG\")\n",
    "ax.tick_params(axis='x', labelsize=15, labelrotation=35)\n",
    "plt.savefig(figurepath+'ros1_ant_sumbymCG_sperm_ColG_1rep.pdf', dpi=350)\n"
   ]
  },
  {
   "cell_type": "code",
   "execution_count": null,
   "id": "030d9ea7-5c37-4dbe-a1ee-b5a4c706e3f1",
   "metadata": {
    "tags": []
   },
   "outputs": [],
   "source": [
    "fig,ax=sumby_boxplot(sperm_ColG_CHG_ros1_ant,sperm_ColG_ros1_ant_dict,\"CHG\")\n",
    "ax.tick_params(axis='x', labelsize=15, labelrotation=35)\n",
    "fig.set_size_inches(10,6)\n",
    "plt.tight_layout()\n",
    "plt.savefig(figurepath+'ros1_ant_sumbymCHG_sperm_ColG_allreps.pdf', dpi=350)\n"
   ]
  },
  {
   "cell_type": "code",
   "execution_count": null,
   "id": "4cdef0c9-ba30-4359-af80-a41cd3041892",
   "metadata": {
    "tags": []
   },
   "outputs": [],
   "source": [
    "fig,ax=sumby_boxplot(sperm_ColG_CHH_ros1_ant,sperm_ColG_ros1_ant_dict,\"CHH\")\n",
    "ax.tick_params(axis='x', labelsize=15, labelrotation=35)\n",
    "fig.set_size_inches(10,6)\n",
    "plt.tight_layout()\n",
    "plt.savefig(figurepath+'ros1_ant_sumbymCHH_sperm_ColG_allreps.pdf', dpi=350)\n"
   ]
  },
  {
   "cell_type": "markdown",
   "id": "c203b67d-9b36-48ab-9e61-eaf79ebd30c5",
   "metadata": {
    "jp-MarkdownHeadingCollapsed": true,
    "tags": []
   },
   "source": [
    "# Demethylase expression in Picard dataset\n",
    "\n",
    "\n"
   ]
  },
  {
   "cell_type": "code",
   "execution_count": null,
   "id": "389e71a9-40f5-4f3e-9641-9b64c0e0bf9d",
   "metadata": {
    "tags": []
   },
   "outputs": [],
   "source": [
    "sc=\"/lab/solexa_gehring/elizabeth/ros1_endo_code_and_underlying_data/expression_in_scdata/\"\n",
    "gene_exp_picard=pd.read_csv(sc+\"GSE157145_CPM_total_expression.txt\",\n",
    "            sep=tab, header=0, index_col=\"locus_name\")\n",
    "clusters=pd.read_csv(sc+\"nuclei_code.txt\", sep=tab, header=0)"
   ]
  },
  {
   "cell_type": "code",
   "execution_count": null,
   "id": "2c383766-85fd-4be5-9319-bc57e7b1527e",
   "metadata": {
    "tags": []
   },
   "outputs": [],
   "source": [
    "endoclusters=clusters[clusters['tissu']==\"endo\"]\n",
    "seedcoatclusters=clusters[clusters['tissu']==\"seedcoat\"]\n",
    "\n",
    "endodict=endoclusters.set_index('nuclei')['tissu'].to_dict()\n",
    "seedcoatdict=seedcoatclusters.set_index('nuclei')['tissu'].to_dict()"
   ]
  },
  {
   "cell_type": "code",
   "execution_count": null,
   "id": "4fddc566-c779-4184-95db-2b435dcd6cea",
   "metadata": {
    "tags": []
   },
   "outputs": [],
   "source": [
    "endo_data= gene_exp_picard[list(endodict.keys())]\n",
    "seedcoat_data= gene_exp_picard[list(seedcoatdict.keys())]\n"
   ]
  },
  {
   "cell_type": "code",
   "execution_count": null,
   "id": "30b40312-da9b-43fd-9b85-d2a039736de3",
   "metadata": {
    "tags": []
   },
   "outputs": [],
   "source": [
    "demethylases=['AT2G36490', 'AT3G10010', 'AT4G34060', 'AT5G04560']"
   ]
  },
  {
   "cell_type": "code",
   "execution_count": null,
   "id": "2f95b80e-6352-4821-91f0-47fb91bc2719",
   "metadata": {
    "tags": []
   },
   "outputs": [],
   "source": [
    "endo_sums=pd.DataFrame(endo_data.loc[demethylases].sum(axis=1), columns=['endo_sum'])"
   ]
  },
  {
   "cell_type": "code",
   "execution_count": null,
   "id": "60c46bdd-e1b8-423f-9e92-a04df42354f5",
   "metadata": {
    "tags": []
   },
   "outputs": [],
   "source": [
    "seedcoat_sums=pd.DataFrame(seedcoat_data.loc[demethylases].sum(axis=1), columns=['seedcoat_sum'])"
   ]
  },
  {
   "cell_type": "code",
   "execution_count": null,
   "id": "21305045-b85d-4fae-8966-b642bfcb0179",
   "metadata": {
    "tags": []
   },
   "outputs": [],
   "source": [
    "seed_sums=endo_sums.join(seedcoat_sums)"
   ]
  },
  {
   "cell_type": "code",
   "execution_count": null,
   "id": "df2ec65a-32e9-47ac-8b22-f7b7fbb521ec",
   "metadata": {
    "tags": []
   },
   "outputs": [],
   "source": [
    "seed_sums\n",
    "## plotting in prism"
   ]
  },
  {
   "cell_type": "code",
   "execution_count": null,
   "id": "73d4884f-de27-4d7a-854c-8f406cc08663",
   "metadata": {},
   "outputs": [],
   "source": []
  }
 ],
 "metadata": {
  "kernelspec": {
   "display_name": "Python 3",
   "language": "python",
   "name": "python3"
  },
  "language_info": {
   "codemirror_mode": {
    "name": "ipython",
    "version": 3
   },
   "file_extension": ".py",
   "mimetype": "text/x-python",
   "name": "python",
   "nbconvert_exporter": "python",
   "pygments_lexer": "ipython3",
   "version": "3.8.10"
  }
 },
 "nbformat": 4,
 "nbformat_minor": 5
}
